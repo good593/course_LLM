{
 "cells": [
  {
   "cell_type": "code",
   "execution_count": null,
   "metadata": {},
   "outputs": [],
   "source": [
    "playlist_urls = [\n",
    "  {\n",
    "    \"playlist_title\":\"성장\", \"url\":\"https://www.youtube.com/watch?v=YPDyVT40488&list=PLC6Msm1YCNw892FwF3SrlxsHt_rOvRGrK\"\n",
    "  }\n",
    "#   ,\n",
    "#   {\n",
    "#     \"playlist_title\":\"코로나\", \"url\":\"https://www.youtube.com/watch?v=XmZOO_u9Eto&list=PLC6Msm1YCNw9k5lYbOukDNw2GwQGtkO0D\"\n",
    "#   },\n",
    "#   {\n",
    "#     \"playlist_title\":\"임신\", \"url\":\"https://www.youtube.com/watch?v=1i5GuWLdciY&list=PLC6Msm1YCNw_jM0vlYaJ5F3PgTdTZClnk\"\n",
    "#   },\n",
    "#   {\n",
    "#     \"playlist_title\":\"훈육\", \"url\":\"https://www.youtube.com/watch?v=8Vn9JZgYy6Y&list=PLC6Msm1YCNw9DVDVvpnfIsI72QOPVaI95\"\n",
    "#   },\n",
    "#   {\n",
    "#     \"playlist_title\":\"영양\", \"url\":\"https://www.youtube.com/watch?v=-LqEr-PlCz0&list=PLC6Msm1YCNw8LtglWOviWSMVd-33S_WHM\"\n",
    "#   },\n",
    "#   {\n",
    "#     \"playlist_title\":\"이유식\", \"url\":\"https://www.youtube.com/watch?v=E0LJrRpRZaw&list=PLC6Msm1YCNw8jqPp_oNUXqDKCE-hcJ0bP\"\n",
    "#   },\n",
    "#   {\n",
    "#     \"playlist_title\":\"모유\", \"url\":\"https://www.youtube.com/watch?v=5pvEghEGy6k&list=PLC6Msm1YCNw9iwHvFgx6Ny9rUu3DAO_6W\"\n",
    "#   },\n",
    "#   {\n",
    "#     \"playlist_title\":\"수면\", \"url\":\"https://www.youtube.com/watch?v=JGoDoK1bZ0A&list=PLC6Msm1YCNw8qIw6d4eFopBkVR3onyrvk\"\n",
    "#   },\n",
    "#   {\n",
    "#     \"playlist_title\":\"질병\", \"url\":\"https://www.youtube.com/watch?v=8GwNlF44ntY&list=PLC6Msm1YCNw-NJBk4ajBkTeS2rJULiT1b\"\n",
    "#   },\n",
    "#   {\n",
    "#     \"playlist_title\":\"안전\", \"url\":\"https://www.youtube.com/watch?v=YXa2Z7xDbmc&list=PLC6Msm1YCNw8KoZf9hn8b8NQ2ZFz1vJCj\"\n",
    "#   },\n",
    "#   {\n",
    "#     \"playlist_title\":\"예방접종\", \"url\":\"https://www.youtube.com/watch?v=okGTkKCoci8&list=PLC6Msm1YCNw8NAb9-GZeH8pNcfvAM-BNT\"\n",
    "#   },\n",
    "#   {\n",
    "#     \"playlist_title\":\"신생아\", \"url\":\"https://www.youtube.com/watch?v=bs1XLiIi9lM&list=PLC6Msm1YCNw93tRvEsLZEWg4wR28dUKnY\"\n",
    "#   },\n",
    "#   {\n",
    "#     \"playlist_title\":\"육아\", \"url\":\"https://www.youtube.com/watch?v=GNqNeAA1SUM&list=PLC6Msm1YCNw9EVsOxjB988gf1-15qPoGp\"\n",
    "#   }\n",
    "]"
   ]
  },
  {
   "cell_type": "code",
   "execution_count": null,
   "metadata": {},
   "outputs": [],
   "source": [
    "from common.youtube.download import main"
   ]
  },
  {
   "cell_type": "code",
   "execution_count": null,
   "metadata": {},
   "outputs": [],
   "source": [
    "main(playlist_urls)"
   ]
  },
  {
   "cell_type": "code",
   "execution_count": null,
   "metadata": {},
   "outputs": [],
   "source": [
    "import pandas as pd "
   ]
  },
  {
   "cell_type": "code",
   "execution_count": null,
   "metadata": {},
   "outputs": [],
   "source": [
    "df = pd.read_csv(\"./download/성장.csv\")\n",
    "df.head()"
   ]
  },
  {
   "cell_type": "code",
   "execution_count": null,
   "metadata": {},
   "outputs": [],
   "source": [
    "df.iloc[0]['caption']"
   ]
  },
  {
   "cell_type": "code",
   "execution_count": null,
   "metadata": {},
   "outputs": [],
   "source": []
  }
 ],
 "metadata": {
  "kernelspec": {
   "display_name": ".venv",
   "language": "python",
   "name": "python3"
  },
  "language_info": {
   "codemirror_mode": {
    "name": "ipython",
    "version": 3
   },
   "file_extension": ".py",
   "mimetype": "text/x-python",
   "name": "python",
   "nbconvert_exporter": "python",
   "pygments_lexer": "ipython3",
   "version": "3.13.2"
  }
 },
 "nbformat": 4,
 "nbformat_minor": 2
}
