{
 "cells": [
  {
   "cell_type": "markdown",
   "metadata": {
    "id": "bLknZGTw_xdl"
   },
   "source": [
    "# [RAGAs를 이용한 데이터셋 생성](https://docs.ragas.io/en/stable/howtos/customizations/testgenerator/_language_adaptation/#generate)"
   ]
  },
  {
   "cell_type": "markdown",
   "metadata": {
    "id": "T387W0cbAj_b"
   },
   "source": [
    "## install"
   ]
  },
  {
   "cell_type": "code",
   "execution_count": 1,
   "metadata": {
    "colab": {
     "base_uri": "https://localhost:8080/"
    },
    "executionInfo": {
     "elapsed": 20837,
     "status": "ok",
     "timestamp": 1743743330645,
     "user": {
      "displayName": "조경원",
      "userId": "10205523497785796707"
     },
     "user_tz": -540
    },
    "id": "dRcOASqbymVR",
    "outputId": "fe09cda4-e33d-40ec-fbcf-9ec2568defa8"
   },
   "outputs": [],
   "source": [
    "# !pip install ragas==0.3.5 langchain-openai==0.3.8"
   ]
  },
  {
   "cell_type": "markdown",
   "metadata": {
    "id": "js114FOVAmgg"
   },
   "source": [
    "## dataset"
   ]
  },
  {
   "cell_type": "code",
   "execution_count": 2,
   "metadata": {
    "colab": {
     "base_uri": "https://localhost:8080/",
     "height": 379
    },
    "executionInfo": {
     "elapsed": 522,
     "status": "ok",
     "timestamp": 1743743693717,
     "user": {
      "displayName": "조경원",
      "userId": "10205523497785796707"
     },
     "user_tz": -540
    },
    "id": "KrdBUMYP0Bnm",
    "outputId": "87ba31a3-836e-48be-c363-5de70d4e39c5"
   },
   "outputs": [
    {
     "data": {
      "text/html": [
       "<div>\n",
       "<style scoped>\n",
       "    .dataframe tbody tr th:only-of-type {\n",
       "        vertical-align: middle;\n",
       "    }\n",
       "\n",
       "    .dataframe tbody tr th {\n",
       "        vertical-align: top;\n",
       "    }\n",
       "\n",
       "    .dataframe thead th {\n",
       "        text-align: right;\n",
       "    }\n",
       "</style>\n",
       "<table border=\"1\" class=\"dataframe\">\n",
       "  <thead>\n",
       "    <tr style=\"text-align: right;\">\n",
       "      <th></th>\n",
       "      <th>video_url</th>\n",
       "      <th>video_id</th>\n",
       "      <th>title</th>\n",
       "      <th>channel</th>\n",
       "      <th>caption</th>\n",
       "    </tr>\n",
       "  </thead>\n",
       "  <tbody>\n",
       "    <tr>\n",
       "      <th>0</th>\n",
       "      <td>https://www.youtube.com/watch?v=8GwNlF44ntY&amp;li...</td>\n",
       "      <td>8GwNlF44ntY</td>\n",
       "      <td>#164  식은땀! 이 정도는 알아두셔야 합니다. : 하정훈의 육아이야기</td>\n",
       "      <td>하정훈의 삐뽀삐뽀 119 소아과 (삐뽀삐뽀 119 소아과)</td>\n",
       "      <td>[음악] 안녕하세요 소아청소년과 전문의 가져옵니다 이제는 많이 줄긴 했지만 아직도 ...</td>\n",
       "    </tr>\n",
       "    <tr>\n",
       "      <th>1</th>\n",
       "      <td>https://www.youtube.com/watch?v=8GwNlF44ntY</td>\n",
       "      <td>8GwNlF44ntY</td>\n",
       "      <td>#164  식은땀! 이 정도는 알아두셔야 합니다. : 하정훈의 육아이야기</td>\n",
       "      <td>하정훈의 삐뽀삐뽀 119 소아과 (삐뽀삐뽀 119 소아과)</td>\n",
       "      <td>[음악] 안녕하세요 소아청소년과 전문의 가져옵니다 이제는 많이 줄긴 했지만 아직도 ...</td>\n",
       "    </tr>\n",
       "    <tr>\n",
       "      <th>2</th>\n",
       "      <td>https://www.youtube.com/watch?v=ZO1ffVTWsJc</td>\n",
       "      <td>ZO1ffVTWsJc</td>\n",
       "      <td>#158  식중독, 단순 배탈과 다릅니다. 주의사항 알아봅시다: 하정훈의 육아이야기</td>\n",
       "      <td>하정훈의 삐뽀삐뽀 119 소아과 (삐뽀삐뽀 119 소아과)</td>\n",
       "      <td>[음악] 안녕하세요 소아청소년과 전문의 과정 입니다 날이 더운 여름이 되면 집중 독...</td>\n",
       "    </tr>\n",
       "    <tr>\n",
       "      <th>3</th>\n",
       "      <td>https://www.youtube.com/watch?v=ZZkU79leibA</td>\n",
       "      <td>ZZkU79leibA</td>\n",
       "      <td>#157  햄버거병? 용혈성요독증후군 제대로 알아봅시다</td>\n",
       "      <td>하정훈의 삐뽀삐뽀 119 소아과 (삐뽀삐뽀 119 소아과)</td>\n",
       "      <td>[음악] 안녕하세요 서 청순과 전문의 가정입니다 최근 안산의 한 유치원에서 식중독 ...</td>\n",
       "    </tr>\n",
       "    <tr>\n",
       "      <th>4</th>\n",
       "      <td>https://www.youtube.com/watch?v=w8BucI0wZYE</td>\n",
       "      <td>w8BucI0wZYE</td>\n",
       "      <td>#139  설사하는 아이 제대로 먹여야 합니다: 하정훈의 육아이야기</td>\n",
       "      <td>하정훈의 삐뽀삐뽀 119 소아과 (삐뽀삐뽀 119 소아과)</td>\n",
       "      <td>으 안녕하세요 어화 중 성과 전문의 가져옵니다 예전보다는 많이 줄었지만 아직도 설 ...</td>\n",
       "    </tr>\n",
       "  </tbody>\n",
       "</table>\n",
       "</div>"
      ],
      "text/plain": [
       "                                           video_url     video_id  \\\n",
       "0  https://www.youtube.com/watch?v=8GwNlF44ntY&li...  8GwNlF44ntY   \n",
       "1        https://www.youtube.com/watch?v=8GwNlF44ntY  8GwNlF44ntY   \n",
       "2        https://www.youtube.com/watch?v=ZO1ffVTWsJc  ZO1ffVTWsJc   \n",
       "3        https://www.youtube.com/watch?v=ZZkU79leibA  ZZkU79leibA   \n",
       "4        https://www.youtube.com/watch?v=w8BucI0wZYE  w8BucI0wZYE   \n",
       "\n",
       "                                            title  \\\n",
       "0        #164  식은땀! 이 정도는 알아두셔야 합니다. : 하정훈의 육아이야기   \n",
       "1        #164  식은땀! 이 정도는 알아두셔야 합니다. : 하정훈의 육아이야기   \n",
       "2  #158  식중독, 단순 배탈과 다릅니다. 주의사항 알아봅시다: 하정훈의 육아이야기   \n",
       "3                  #157  햄버거병? 용혈성요독증후군 제대로 알아봅시다   \n",
       "4           #139  설사하는 아이 제대로 먹여야 합니다: 하정훈의 육아이야기   \n",
       "\n",
       "                            channel  \\\n",
       "0  하정훈의 삐뽀삐뽀 119 소아과 (삐뽀삐뽀 119 소아과)   \n",
       "1  하정훈의 삐뽀삐뽀 119 소아과 (삐뽀삐뽀 119 소아과)   \n",
       "2  하정훈의 삐뽀삐뽀 119 소아과 (삐뽀삐뽀 119 소아과)   \n",
       "3  하정훈의 삐뽀삐뽀 119 소아과 (삐뽀삐뽀 119 소아과)   \n",
       "4  하정훈의 삐뽀삐뽀 119 소아과 (삐뽀삐뽀 119 소아과)   \n",
       "\n",
       "                                             caption  \n",
       "0  [음악] 안녕하세요 소아청소년과 전문의 가져옵니다 이제는 많이 줄긴 했지만 아직도 ...  \n",
       "1  [음악] 안녕하세요 소아청소년과 전문의 가져옵니다 이제는 많이 줄긴 했지만 아직도 ...  \n",
       "2  [음악] 안녕하세요 소아청소년과 전문의 과정 입니다 날이 더운 여름이 되면 집중 독...  \n",
       "3  [음악] 안녕하세요 서 청순과 전문의 가정입니다 최근 안산의 한 유치원에서 식중독 ...  \n",
       "4  으 안녕하세요 어화 중 성과 전문의 가져옵니다 예전보다는 많이 줄었지만 아직도 설 ...  "
      ]
     },
     "execution_count": 2,
     "metadata": {},
     "output_type": "execute_result"
    }
   ],
   "source": [
    "import pandas as pd\n",
    "\n",
    "df = pd.read_csv(\"./download/질병.csv\")\n",
    "df.head()"
   ]
  },
  {
   "cell_type": "markdown",
   "metadata": {},
   "source": [
    "### Cleaning Caption"
   ]
  },
  {
   "cell_type": "code",
   "execution_count": 3,
   "metadata": {
    "executionInfo": {
     "elapsed": 4,
     "status": "ok",
     "timestamp": 1743746784839,
     "user": {
      "displayName": "조경원",
      "userId": "10205523497785796707"
     },
     "user_tz": -540
    },
    "id": "ksgsyTJQZNbw"
   },
   "outputs": [],
   "source": [
    "def cleaning_caption(data:str) -> str:\n",
    "  return data.replace(\"으 \", \"\").replace(\" 으\", \"\")\\\n",
    "    .replace(\"아 \", \"\").replace(\" 아\", \"\").replace(\"[음악]\", \"\").strip()\n"
   ]
  },
  {
   "cell_type": "code",
   "execution_count": 4,
   "metadata": {},
   "outputs": [],
   "source": [
    "df['caption'] = df['caption'].map(cleaning_caption)\n"
   ]
  },
  {
   "cell_type": "code",
   "execution_count": 5,
   "metadata": {
    "colab": {
     "base_uri": "https://localhost:8080/"
    },
    "executionInfo": {
     "elapsed": 21,
     "status": "ok",
     "timestamp": 1743746796231,
     "user": {
      "displayName": "조경원",
      "userId": "10205523497785796707"
     },
     "user_tz": -540
    },
    "id": "8PN6_2lKOfmW",
    "outputId": "f6e45776-7176-465f-a556-108ed021167c"
   },
   "outputs": [
    {
     "data": {
      "text/plain": [
       "array(['안녕하세요 소아청소년과 전문의 가져옵니다 이제는 많이 줄긴 했지만직도 우리기가 시간 다 나았는데 어디 약한거닌가 라는 이야기 하시는 분 종종 있습니다 감기 약이라도 먹고 있으면 약이 너무 센 것은닌가 라고 물어보기도 합니다 이번에는 많은 부모들이 고민하고 있는 식은 땀 이라는 것에 대해서 말씀을 드리겠습니다 사람들은 원래 몸에 담이 나게 되어 있죠 사람 몸에는 200만 개가 되는 땅 팀이 있어 땀을 흘리게 되는데 땀 이란 우리 몸 안의 노폐물을 배출하고 체온을 조절하는 역할을 하게 됩니다 적당히 땀을 흘리는 것은 정상입니다 사람마다 차이가 크지만이들은 어른의 피에서 남을 드 많이 걸립니다 게다가이들은 땀을 조절하는 기능이 어른들의 비해서 미숙하기 때문에 땅 세미나는 이 많았 인물이나 성 바닥 발바닥은 평소에도 식사를 하거나 조금 말 힘이 들어도 땀이 송골송골 맺히는 경우가 흔합니다 별다른 문제가 없어도 베개가 땀으로 젖는 경우도 있습니다 물론 감기에 걸리거나 다른 이상이 있는 경우에도 땅 조절하는 기능이 더 떨어져서 남을 과잉생산 하기도 합니다이들은 원래 땀이 많은 보입니다 그런데이가 땀을 많이 흘리면 몸이 허약하다 고 생각하는 부모들이 많은 것이 현실입니다기가 빔닌데도 땀을 많이 흘리니 까 몸이 허약하다 고 몸보신을 해줘야 한다고 말하는 부모도 있습니다 땀을 흘린다고 영양제 먹이는 부모도 많은 것이 현실입니다 부모들이 그렇게도 고민고민 하면서 운이 않은이들이 시킨 다음에 대해서 소청소에 가설은 별로 심각하게 생각하지 않습니다이가 땀을 많이 클리 더라도 열이 없고로 보기에 다른 이상이 없는 경우에는 대개 체계적인 경우라고 생각합니다 특히기가 어릴수록 땀을 많이 흘리게 되고 평소에 땀을 않으니 다가 갑자기 많이 흘리게 되는 경우도 많습니다이들 중에서도 특히 네이는 은니 식은땀을 많이 흘리는 법입니다 그런데 간혹 진짜 문제가 있는 경우도 있습니다 선천성 심장병이 있거나 갑상선 기능 항진증 처럼기의 체력을 소모시키는 병에 걸려도 땀을 많이 흘립니다 구루병 저혈당 수온 증도 핵 황달로 이란 4승 말이 내용 후에 점 같은 듣기만 해도 무시무시한 병들의 걸려도 땀을 많이 걸리지만 이름 병들은 원래 매우 드물고 요 다른 증상으로 병이 있는 것을 의심하지 땀을 많이 흘린다고 이름 병 대로의 심하지는 않습니다 예전에 영양이 부족하던 실 계획처럼 체력을 많이 소모시키는 병에 걸리면 땀을 많이 흘렸던 것은 사실입니다 하지만이들의 경우 결핵이 쉬운 땀이 오리니 되는 경우는 그 이 생각하기 힘듭니다 물론 남을 너무 많이 흘리거나 특정 부위에 땀이 지나치게 많은 경우는 한 번은 소아청소년과 의사 에게 보여서 다른 이상을 없는지 확인하는 것이 안전합니다 일반적으로는 담임니라도 다른 이상이 없다면 너무 걱정하지 말고 수분 충분히 섭취 시키고 잘 닦아주고 옷 자주 가입해서 채운 소실되지 않도록 신경 등 도 써주시면 된다는 거 알2시면 마음 편하실 겁니다 지금 땀 너무 걱정하지 마십시오'],\n",
       "      dtype=object)"
      ]
     },
     "execution_count": 5,
     "metadata": {},
     "output_type": "execute_result"
    }
   ],
   "source": [
    "df.loc[0,['caption']].values"
   ]
  },
  {
   "cell_type": "code",
   "execution_count": 7,
   "metadata": {},
   "outputs": [
    {
     "data": {
      "text/html": [
       "<div>\n",
       "<style scoped>\n",
       "    .dataframe tbody tr th:only-of-type {\n",
       "        vertical-align: middle;\n",
       "    }\n",
       "\n",
       "    .dataframe tbody tr th {\n",
       "        vertical-align: top;\n",
       "    }\n",
       "\n",
       "    .dataframe thead th {\n",
       "        text-align: right;\n",
       "    }\n",
       "</style>\n",
       "<table border=\"1\" class=\"dataframe\">\n",
       "  <thead>\n",
       "    <tr style=\"text-align: right;\">\n",
       "      <th></th>\n",
       "      <th>video_url</th>\n",
       "      <th>video_id</th>\n",
       "      <th>title</th>\n",
       "      <th>channel</th>\n",
       "      <th>caption</th>\n",
       "    </tr>\n",
       "  </thead>\n",
       "  <tbody>\n",
       "    <tr>\n",
       "      <th>0</th>\n",
       "      <td>https://www.youtube.com/watch?v=8GwNlF44ntY&amp;li...</td>\n",
       "      <td>8GwNlF44ntY</td>\n",
       "      <td>#164  식은땀! 이 정도는 알아두셔야 합니다. : 하정훈의 육아이야기</td>\n",
       "      <td>하정훈의 삐뽀삐뽀 119 소아과 (삐뽀삐뽀 119 소아과)</td>\n",
       "      <td>안녕하세요 소아청소년과 전문의 가져옵니다 이제는 많이 줄긴 했지만직도 우리기가 시간...</td>\n",
       "    </tr>\n",
       "    <tr>\n",
       "      <th>1</th>\n",
       "      <td>https://www.youtube.com/watch?v=8GwNlF44ntY</td>\n",
       "      <td>8GwNlF44ntY</td>\n",
       "      <td>#164  식은땀! 이 정도는 알아두셔야 합니다. : 하정훈의 육아이야기</td>\n",
       "      <td>하정훈의 삐뽀삐뽀 119 소아과 (삐뽀삐뽀 119 소아과)</td>\n",
       "      <td>안녕하세요 소아청소년과 전문의 가져옵니다 이제는 많이 줄긴 했지만직도 우리기가 시간...</td>\n",
       "    </tr>\n",
       "  </tbody>\n",
       "</table>\n",
       "</div>"
      ],
      "text/plain": [
       "                                           video_url     video_id  \\\n",
       "0  https://www.youtube.com/watch?v=8GwNlF44ntY&li...  8GwNlF44ntY   \n",
       "1        https://www.youtube.com/watch?v=8GwNlF44ntY  8GwNlF44ntY   \n",
       "\n",
       "                                      title                           channel  \\\n",
       "0  #164  식은땀! 이 정도는 알아두셔야 합니다. : 하정훈의 육아이야기  하정훈의 삐뽀삐뽀 119 소아과 (삐뽀삐뽀 119 소아과)   \n",
       "1  #164  식은땀! 이 정도는 알아두셔야 합니다. : 하정훈의 육아이야기  하정훈의 삐뽀삐뽀 119 소아과 (삐뽀삐뽀 119 소아과)   \n",
       "\n",
       "                                             caption  \n",
       "0  안녕하세요 소아청소년과 전문의 가져옵니다 이제는 많이 줄긴 했지만직도 우리기가 시간...  \n",
       "1  안녕하세요 소아청소년과 전문의 가져옵니다 이제는 많이 줄긴 했지만직도 우리기가 시간...  "
      ]
     },
     "execution_count": 7,
     "metadata": {},
     "output_type": "execute_result"
    }
   ],
   "source": [
    "df.head(2)"
   ]
  },
  {
   "cell_type": "markdown",
   "metadata": {},
   "source": [
    "### Cleaning Title"
   ]
  },
  {
   "cell_type": "code",
   "execution_count": 8,
   "metadata": {},
   "outputs": [
    {
     "data": {
      "text/plain": [
       "array(['#164  식은땀! 이 정도는 알아두셔야 합니다. : 하정훈의 육아이야기'], dtype=object)"
      ]
     },
     "execution_count": 8,
     "metadata": {},
     "output_type": "execute_result"
    }
   ],
   "source": [
    "df.loc[0,['title']].values"
   ]
  },
  {
   "cell_type": "code",
   "execution_count": 14,
   "metadata": {},
   "outputs": [],
   "source": [
    "def cleaning_title(data:str) -> str:\n",
    "  title = \" \".join(data.split(\" \")[1:])\n",
    "\n",
    "  return title.split(\":\")[0].strip()\n"
   ]
  },
  {
   "cell_type": "code",
   "execution_count": 15,
   "metadata": {},
   "outputs": [],
   "source": [
    "df['title'] = df['title'].map(cleaning_title)"
   ]
  },
  {
   "cell_type": "code",
   "execution_count": 16,
   "metadata": {},
   "outputs": [
    {
     "data": {
      "text/plain": [
       "array(['식은땀! 이 정도는 알아두셔야 합니다.'], dtype=object)"
      ]
     },
     "execution_count": 16,
     "metadata": {},
     "output_type": "execute_result"
    }
   ],
   "source": [
    "df.loc[0,['title']].values"
   ]
  },
  {
   "cell_type": "markdown",
   "metadata": {},
   "source": [
    "### 학습데이터셋 컬럼 생성 "
   ]
  },
  {
   "cell_type": "code",
   "execution_count": 17,
   "metadata": {},
   "outputs": [],
   "source": [
    "df['title_caption'] = df.apply(\n",
    "    lambda row: \"[title] \" + str(row['title']) \n",
    "                + \" [caption] \" + str(row['caption']), axis=1\n",
    ")"
   ]
  },
  {
   "cell_type": "code",
   "execution_count": 18,
   "metadata": {},
   "outputs": [
    {
     "data": {
      "text/html": [
       "<div>\n",
       "<style scoped>\n",
       "    .dataframe tbody tr th:only-of-type {\n",
       "        vertical-align: middle;\n",
       "    }\n",
       "\n",
       "    .dataframe tbody tr th {\n",
       "        vertical-align: top;\n",
       "    }\n",
       "\n",
       "    .dataframe thead th {\n",
       "        text-align: right;\n",
       "    }\n",
       "</style>\n",
       "<table border=\"1\" class=\"dataframe\">\n",
       "  <thead>\n",
       "    <tr style=\"text-align: right;\">\n",
       "      <th></th>\n",
       "      <th>title</th>\n",
       "      <th>caption</th>\n",
       "      <th>title_caption</th>\n",
       "    </tr>\n",
       "  </thead>\n",
       "  <tbody>\n",
       "    <tr>\n",
       "      <th>0</th>\n",
       "      <td>식은땀! 이 정도는 알아두셔야 합니다.</td>\n",
       "      <td>안녕하세요 소아청소년과 전문의 가져옵니다 이제는 많이 줄긴 했지만직도 우리기가 시간...</td>\n",
       "      <td>[title] 식은땀! 이 정도는 알아두셔야 합니다. [caption] 안녕하세요 ...</td>\n",
       "    </tr>\n",
       "    <tr>\n",
       "      <th>1</th>\n",
       "      <td>식은땀! 이 정도는 알아두셔야 합니다.</td>\n",
       "      <td>안녕하세요 소아청소년과 전문의 가져옵니다 이제는 많이 줄긴 했지만직도 우리기가 시간...</td>\n",
       "      <td>[title] 식은땀! 이 정도는 알아두셔야 합니다. [caption] 안녕하세요 ...</td>\n",
       "    </tr>\n",
       "  </tbody>\n",
       "</table>\n",
       "</div>"
      ],
      "text/plain": [
       "                   title                                            caption  \\\n",
       "0  식은땀! 이 정도는 알아두셔야 합니다.  안녕하세요 소아청소년과 전문의 가져옵니다 이제는 많이 줄긴 했지만직도 우리기가 시간...   \n",
       "1  식은땀! 이 정도는 알아두셔야 합니다.  안녕하세요 소아청소년과 전문의 가져옵니다 이제는 많이 줄긴 했지만직도 우리기가 시간...   \n",
       "\n",
       "                                       title_caption  \n",
       "0  [title] 식은땀! 이 정도는 알아두셔야 합니다. [caption] 안녕하세요 ...  \n",
       "1  [title] 식은땀! 이 정도는 알아두셔야 합니다. [caption] 안녕하세요 ...  "
      ]
     },
     "execution_count": 18,
     "metadata": {},
     "output_type": "execute_result"
    }
   ],
   "source": [
    "df[['title', 'caption', 'title_caption']].head(2)"
   ]
  },
  {
   "cell_type": "markdown",
   "metadata": {},
   "source": [
    "### 필요없는 컬럼 삭제 "
   ]
  },
  {
   "cell_type": "code",
   "execution_count": 19,
   "metadata": {
    "executionInfo": {
     "elapsed": 16,
     "status": "ok",
     "timestamp": 1743747032851,
     "user": {
      "displayName": "조경원",
      "userId": "10205523497785796707"
     },
     "user_tz": -540
    },
    "id": "YyOGGjeMa1mW"
   },
   "outputs": [],
   "source": [
    "df.drop(columns=[\"channel\", \"video_id\"], inplace=True)"
   ]
  },
  {
   "cell_type": "code",
   "execution_count": 20,
   "metadata": {
    "colab": {
     "base_uri": "https://localhost:8080/",
     "height": 146
    },
    "executionInfo": {
     "elapsed": 133,
     "status": "ok",
     "timestamp": 1743747049024,
     "user": {
      "displayName": "조경원",
      "userId": "10205523497785796707"
     },
     "user_tz": -540
    },
    "id": "fMqiHDgHbE3J",
    "outputId": "3ea2a2ed-0178-484e-ab49-2cf6a002581b"
   },
   "outputs": [
    {
     "data": {
      "text/html": [
       "<div>\n",
       "<style scoped>\n",
       "    .dataframe tbody tr th:only-of-type {\n",
       "        vertical-align: middle;\n",
       "    }\n",
       "\n",
       "    .dataframe tbody tr th {\n",
       "        vertical-align: top;\n",
       "    }\n",
       "\n",
       "    .dataframe thead th {\n",
       "        text-align: right;\n",
       "    }\n",
       "</style>\n",
       "<table border=\"1\" class=\"dataframe\">\n",
       "  <thead>\n",
       "    <tr style=\"text-align: right;\">\n",
       "      <th></th>\n",
       "      <th>video_url</th>\n",
       "      <th>title</th>\n",
       "      <th>caption</th>\n",
       "      <th>title_caption</th>\n",
       "    </tr>\n",
       "  </thead>\n",
       "  <tbody>\n",
       "    <tr>\n",
       "      <th>0</th>\n",
       "      <td>https://www.youtube.com/watch?v=8GwNlF44ntY&amp;li...</td>\n",
       "      <td>식은땀! 이 정도는 알아두셔야 합니다.</td>\n",
       "      <td>안녕하세요 소아청소년과 전문의 가져옵니다 이제는 많이 줄긴 했지만직도 우리기가 시간...</td>\n",
       "      <td>[title] 식은땀! 이 정도는 알아두셔야 합니다. [caption] 안녕하세요 ...</td>\n",
       "    </tr>\n",
       "    <tr>\n",
       "      <th>1</th>\n",
       "      <td>https://www.youtube.com/watch?v=8GwNlF44ntY</td>\n",
       "      <td>식은땀! 이 정도는 알아두셔야 합니다.</td>\n",
       "      <td>안녕하세요 소아청소년과 전문의 가져옵니다 이제는 많이 줄긴 했지만직도 우리기가 시간...</td>\n",
       "      <td>[title] 식은땀! 이 정도는 알아두셔야 합니다. [caption] 안녕하세요 ...</td>\n",
       "    </tr>\n",
       "  </tbody>\n",
       "</table>\n",
       "</div>"
      ],
      "text/plain": [
       "                                           video_url                  title  \\\n",
       "0  https://www.youtube.com/watch?v=8GwNlF44ntY&li...  식은땀! 이 정도는 알아두셔야 합니다.   \n",
       "1        https://www.youtube.com/watch?v=8GwNlF44ntY  식은땀! 이 정도는 알아두셔야 합니다.   \n",
       "\n",
       "                                             caption  \\\n",
       "0  안녕하세요 소아청소년과 전문의 가져옵니다 이제는 많이 줄긴 했지만직도 우리기가 시간...   \n",
       "1  안녕하세요 소아청소년과 전문의 가져옵니다 이제는 많이 줄긴 했지만직도 우리기가 시간...   \n",
       "\n",
       "                                       title_caption  \n",
       "0  [title] 식은땀! 이 정도는 알아두셔야 합니다. [caption] 안녕하세요 ...  \n",
       "1  [title] 식은땀! 이 정도는 알아두셔야 합니다. [caption] 안녕하세요 ...  "
      ]
     },
     "execution_count": 20,
     "metadata": {},
     "output_type": "execute_result"
    }
   ],
   "source": [
    "df.head(2)"
   ]
  },
  {
   "cell_type": "markdown",
   "metadata": {},
   "source": [
    "### 학습 데이터셋 저장 "
   ]
  },
  {
   "cell_type": "code",
   "execution_count": 21,
   "metadata": {
    "executionInfo": {
     "elapsed": 21,
     "status": "ok",
     "timestamp": 1743747053507,
     "user": {
      "displayName": "조경원",
      "userId": "10205523497785796707"
     },
     "user_tz": -540
    },
    "id": "1l04Os1uaSvQ"
   },
   "outputs": [],
   "source": [
    "df.to_csv(\"diseases.csv\", index=False, header=True)"
   ]
  },
  {
   "cell_type": "markdown",
   "metadata": {},
   "source": [
    "## Loader"
   ]
  },
  {
   "cell_type": "code",
   "execution_count": 23,
   "metadata": {
    "executionInfo": {
     "elapsed": 3,
     "status": "ok",
     "timestamp": 1743747056083,
     "user": {
      "displayName": "조경원",
      "userId": "10205523497785796707"
     },
     "user_tz": -540
    },
    "id": "C6UE81AXymYi"
   },
   "outputs": [],
   "source": [
    "from langchain_community.document_loaders import CSVLoader\n",
    "\n",
    "# diseases.csv -> caption만 로드 진행할 수 있는 객체\n",
    "loader = CSVLoader(\n",
    "    file_path='diseases.csv' # 파일명 \n",
    "    , source_column='video_url' # 소스 컬럼 \n",
    "    , content_columns=['title_caption'] # 컨텐츠(학습) 컬럼 \n",
    "    , encoding=\"utf-8\"\n",
    ")"
   ]
  },
  {
   "cell_type": "code",
   "execution_count": 24,
   "metadata": {
    "executionInfo": {
     "elapsed": 18,
     "status": "ok",
     "timestamp": 1743747057047,
     "user": {
      "displayName": "조경원",
      "userId": "10205523497785796707"
     },
     "user_tz": -540
    },
    "id": "-3srGz91ymbx"
   },
   "outputs": [],
   "source": [
    "docs = loader.load() # load()를 이용해서 데이터 로드 진행.."
   ]
  },
  {
   "cell_type": "code",
   "execution_count": null,
   "metadata": {
    "colab": {
     "base_uri": "https://localhost:8080/"
    },
    "executionInfo": {
     "elapsed": 42,
     "status": "ok",
     "timestamp": 1743747057872,
     "user": {
      "displayName": "조경원",
      "userId": "10205523497785796707"
     },
     "user_tz": -540
    },
    "id": "uc6oX4YIymfF",
    "outputId": "c415966b-f727-4445-e4b2-cb085c2bd8fe"
   },
   "outputs": [
    {
     "data": {
      "text/plain": [
       "(130, (130, 4))"
      ]
     },
     "execution_count": 25,
     "metadata": {},
     "output_type": "execute_result"
    }
   ],
   "source": [
    "# df.shape -> (데이터의 수(=유튜브 영상의 수), 컬럼의 수)\n",
    "len(docs), df.shape"
   ]
  },
  {
   "cell_type": "code",
   "execution_count": 26,
   "metadata": {
    "colab": {
     "base_uri": "https://localhost:8080/",
     "height": 35
    },
    "executionInfo": {
     "elapsed": 6,
     "status": "ok",
     "timestamp": 1743747058748,
     "user": {
      "displayName": "조경원",
      "userId": "10205523497785796707"
     },
     "user_tz": -540
    },
    "id": "IxJn_QonPyKw",
    "outputId": "6da0f649-08f7-4617-af6d-1fd942fbdda7"
   },
   "outputs": [
    {
     "data": {
      "text/plain": [
       "'https://www.youtube.com/watch?v=8GwNlF44ntY&list=PLC6Msm1YCNw-NJBk4ajBkTeS2rJULiT1b'"
      ]
     },
     "execution_count": 26,
     "metadata": {},
     "output_type": "execute_result"
    }
   ],
   "source": [
    "docs[0].metadata['source']"
   ]
  },
  {
   "cell_type": "code",
   "execution_count": 27,
   "metadata": {
    "colab": {
     "base_uri": "https://localhost:8080/",
     "height": 233
    },
    "executionInfo": {
     "elapsed": 4,
     "status": "ok",
     "timestamp": 1743747060495,
     "user": {
      "displayName": "조경원",
      "userId": "10205523497785796707"
     },
     "user_tz": -540
    },
    "id": "EmjbrDsqQL-i",
    "outputId": "adedd0c7-356f-4301-fe27-85005be8b281"
   },
   "outputs": [
    {
     "data": {
      "text/plain": [
       "'title_caption: [title] 식은땀! 이 정도는 알아두셔야 합니다. [caption] 안녕하세요 소아청소년과 전문의 가져옵니다 이제는 많이 줄긴 했지만직도 우리기가 시간 다 나았는데 어디 약한거닌가 라는 이야기 하시는 분 종종 있습니다 감기 약이라도 먹고 있으면 약이 너무 센 것은닌가 라고 물어보기도 합니다 이번에는 많은 부모들이 고민하고 있는 식은 땀 이라는 것에 대해서 말씀을 드리겠습니다 사람들은 원래 몸에 담이 나게 되어 있죠 사람 몸에는 200만 개가 되는 땅 팀이 있어 땀을 흘리게 되는데 땀 이란 우리 몸 안의 노폐물을 배출하고 체온을 조절하는 역할을 하게 됩니다 적당히 땀을 흘리는 것은 정상입니다 사람마다 차이가 크지만이들은 어른의 피에서 남을 드 많이 걸립니다 게다가이들은 땀을 조절하는 기능이 어른들의 비해서 미숙하기 때문에 땅 세미나는 이 많았 인물이나 성 바닥 발바닥은 평소에도 식사를 하거나 조금 말 힘이 들어도 땀이 송골송골 맺히는 경우가 흔합니다 별다른 문제가 없어도 베개가 땀으로 젖는 경우도 있습니다 물론 감기에 걸리거나 다른 이상이 있는 경우에도 땅 조절하는 기능이 더 떨어져서 남을 과잉생산 하기도 합니다이들은 원래 땀이 많은 보입니다 그런데이가 땀을 많이 흘리면 몸이 허약하다 고 생각하는 부모들이 많은 것이 현실입니다기가 빔닌데도 땀을 많이 흘리니 까 몸이 허약하다 고 몸보신을 해줘야 한다고 말하는 부모도 있습니다 땀을 흘린다고 영양제 먹이는 부모도 많은 것이 현실입니다 부모들이 그렇게도 고민고민 하면서 운이 않은이들이 시킨 다음에 대해서 소청소에 가설은 별로 심각하게 생각하지 않습니다이가 땀을 많이 클리 더라도 열이 없고로 보기에 다른 이상이 없는 경우에는 대개 체계적인 경우라고 생각합니다 특히기가 어릴수록 땀을 많이 흘리게 되고 평소에 땀을 않으니 다가 갑자기 많이 흘리게 되는 경우도 많습니다이들 중에서도 특히 네이는 은니 식은땀을 많이 흘리는 법입니다 그런데 간혹 진짜 문제가 있는 경우도 있습니다 선천성 심장병이 있거나 갑상선 기능 항진증 처럼기의 체력을 소모시키는 병에 걸려도 땀을 많이 흘립니다 구루병 저혈당 수온 증도 핵 황달로 이란 4승 말이 내용 후에 점 같은 듣기만 해도 무시무시한 병들의 걸려도 땀을 많이 걸리지만 이름 병들은 원래 매우 드물고 요 다른 증상으로 병이 있는 것을 의심하지 땀을 많이 흘린다고 이름 병 대로의 심하지는 않습니다 예전에 영양이 부족하던 실 계획처럼 체력을 많이 소모시키는 병에 걸리면 땀을 많이 흘렸던 것은 사실입니다 하지만이들의 경우 결핵이 쉬운 땀이 오리니 되는 경우는 그 이 생각하기 힘듭니다 물론 남을 너무 많이 흘리거나 특정 부위에 땀이 지나치게 많은 경우는 한 번은 소아청소년과 의사 에게 보여서 다른 이상을 없는지 확인하는 것이 안전합니다 일반적으로는 담임니라도 다른 이상이 없다면 너무 걱정하지 말고 수분 충분히 섭취 시키고 잘 닦아주고 옷 자주 가입해서 채운 소실되지 않도록 신경 등 도 써주시면 된다는 거 알2시면 마음 편하실 겁니다 지금 땀 너무 걱정하지 마십시오'"
      ]
     },
     "execution_count": 27,
     "metadata": {},
     "output_type": "execute_result"
    }
   ],
   "source": [
    "docs[0].page_content"
   ]
  },
  {
   "cell_type": "markdown",
   "metadata": {
    "id": "NIkGi7iLAptY"
   },
   "source": [
    "## Model"
   ]
  },
  {
   "cell_type": "markdown",
   "metadata": {},
   "source": [
    "### [OpenAI API Key](https://platform.openai.com/settings/organization/api-keys)"
   ]
  },
  {
   "cell_type": "code",
   "execution_count": null,
   "metadata": {
    "executionInfo": {
     "elapsed": 2,
     "status": "ok",
     "timestamp": 1743747077047,
     "user": {
      "displayName": "조경원",
      "userId": "10205523497785796707"
     },
     "user_tz": -540
    },
    "id": "krMCnDKb0zzP"
   },
   "outputs": [],
   "source": [
    "import os\n",
    "\n",
    "# os.environ['OPENAI_API_KEY'] = 'sk-'\n"
   ]
  },
  {
   "cell_type": "code",
   "execution_count": 28,
   "metadata": {},
   "outputs": [
    {
     "data": {
      "text/plain": [
       "True"
      ]
     },
     "execution_count": 28,
     "metadata": {},
     "output_type": "execute_result"
    }
   ],
   "source": [
    "from dotenv import load_dotenv \n",
    "\n",
    "# .env 파일에 있는 데이터를 환경변수에 등록해주는 함수 \n",
    "load_dotenv()"
   ]
  },
  {
   "cell_type": "code",
   "execution_count": 29,
   "metadata": {},
   "outputs": [
    {
     "name": "stdout",
     "output_type": "stream",
     "text": [
      "OpenAI API 키가 설정되었습니다.\n"
     ]
    }
   ],
   "source": [
    "import os \n",
    "\n",
    "api_key = os.getenv(\"OPENAI_API_KEY\")\n",
    "\n",
    "if api_key:\n",
    "    print(\"OpenAI API 키가 설정되었습니다.\")\n",
    "else:\n",
    "    print(\"OpenAI API 키가 없어요.\")"
   ]
  },
  {
   "cell_type": "markdown",
   "metadata": {},
   "source": [
    "## 학습 데이터셋"
   ]
  },
  {
   "cell_type": "code",
   "execution_count": 30,
   "metadata": {
    "executionInfo": {
     "elapsed": 2,
     "status": "ok",
     "timestamp": 1743747139359,
     "user": {
      "displayName": "조경원",
      "userId": "10205523497785796707"
     },
     "user_tz": -540
    },
    "id": "N-CtrkL5zdRm"
   },
   "outputs": [],
   "source": [
    "# Langchain LLM 객체를 ragas가 인식할 수 있게 변형\n",
    "# Wrapper -> 감싸다. 또는 형변환 된다...\n",
    "from ragas.llms import LangchainLLMWrapper\n",
    "# Langchain Embedding model를 ragas가 인식할 수 있게 변형\n",
    "from ragas.embeddings import LangchainEmbeddingsWrapper\n",
    "# Langchain에서 인식할 수 있는 OpenaAI LLM 객체\n",
    "from langchain_openai import ChatOpenAI\n",
    "# Langchain에서 인식할 수 있는 OpenaAI Embedding model 객체\n",
    "from langchain_openai import OpenAIEmbeddings"
   ]
  },
  {
   "cell_type": "markdown",
   "metadata": {},
   "source": [
    "### [문장을 생성하는 LLM](https://platform.openai.com/docs/models)"
   ]
  },
  {
   "cell_type": "code",
   "execution_count": 38,
   "metadata": {
    "executionInfo": {
     "elapsed": 127,
     "status": "ok",
     "timestamp": 1743747139884,
     "user": {
      "displayName": "조경원",
      "userId": "10205523497785796707"
     },
     "user_tz": -540
    },
    "id": "QKRZabniSGtZ"
   },
   "outputs": [],
   "source": [
    "# 문장을 생성하는 LLM -> 질문 & 답변 생성을 목적으로...\n",
    "generator_llm = LangchainLLMWrapper(ChatOpenAI(model=\"gpt-4o-mini\"))"
   ]
  },
  {
   "cell_type": "markdown",
   "metadata": {},
   "source": [
    "### [Embedding model](https://platform.openai.com/docs/guides/embeddings/embedding-models#embedding-models)"
   ]
  },
  {
   "cell_type": "code",
   "execution_count": 32,
   "metadata": {
    "executionInfo": {
     "elapsed": 130,
     "status": "ok",
     "timestamp": 1743747140274,
     "user": {
      "displayName": "조경원",
      "userId": "10205523497785796707"
     },
     "user_tz": -540
    },
    "id": "883CJHnNSfcO"
   },
   "outputs": [
    {
     "name": "stderr",
     "output_type": "stream",
     "text": [
      "C:\\Users\\Playdata\\AppData\\Local\\Temp\\ipykernel_3432\\1077764151.py:2: DeprecationWarning: LangchainEmbeddingsWrapper is deprecated and will be removed in a future version. Use the modern embedding providers instead: embedding_factory('openai', model='text-embedding-3-small', client=openai_client) or from ragas.embeddings import OpenAIEmbeddings, GoogleEmbeddings, HuggingFaceEmbeddings\n",
      "  generator_embeddings = LangchainEmbeddingsWrapper(\n"
     ]
    }
   ],
   "source": [
    "# Embedding model -> 문장을 벡터로 변환하는 모델...\n",
    "generator_embeddings = LangchainEmbeddingsWrapper(\n",
    "    OpenAIEmbeddings(model=\"text-embedding-3-small\"))"
   ]
  },
  {
   "cell_type": "markdown",
   "metadata": {},
   "source": [
    "### 페르소나 정의(중요)\n",
    "> 어떤 질문/답변 쌍을 만들지 정의함 "
   ]
  },
  {
   "cell_type": "code",
   "execution_count": 39,
   "metadata": {
    "executionInfo": {
     "elapsed": 54,
     "status": "ok",
     "timestamp": 1743747140542,
     "user": {
      "displayName": "조경원",
      "userId": "10205523497785796707"
     },
     "user_tz": -540
    },
    "id": "1CHNOpor070B"
   },
   "outputs": [],
   "source": [
    "from ragas.testset.persona import Persona\n",
    "\n",
    "personas = [\n",
    "    Persona(\n",
    "        name=\"pediatrician doctor\", # 소아과 의사 선생님\n",
    "        # 어떤 질문을 생성해야 하는지에 대한 설명\n",
    "        role_description=\"\"\"\"\n",
    "        A doctor who explains diseases in an easy-to-understand manner to the general public.\n",
    "        \"\"\",\n",
    "    ),\n",
    "]"
   ]
  },
  {
   "cell_type": "markdown",
   "metadata": {},
   "source": [
    "### 학습용 데이터를 만드는 객체"
   ]
  },
  {
   "cell_type": "code",
   "execution_count": null,
   "metadata": {},
   "outputs": [],
   "source": [
    "from ragas.testset import TestsetGenerator\n",
    "\n",
    "# 학습용 데이터를 만드는 객체\n",
    "generator = TestsetGenerator(\n",
    "    llm=generator_llm, embedding_model=generator_embeddings, persona_list=personas\n",
    ")"
   ]
  },
  {
   "cell_type": "code",
   "execution_count": 40,
   "metadata": {
    "executionInfo": {
     "elapsed": 166,
     "status": "ok",
     "timestamp": 1743747141068,
     "user": {
      "displayName": "조경원",
      "userId": "10205523497785796707"
     },
     "user_tz": -540
    },
    "id": "BWTsKOGZ1s0q"
   },
   "outputs": [],
   "source": [
    "from ragas.testset.transforms.extractors.llm_based import NERExtractor, SummaryExtractor, TitleExtractor\n",
    "\n",
    "# transforms = [SummaryExtractor(), NERExtractor(), TitleExtractor()]\n",
    "transforms = [NERExtractor()]"
   ]
  },
  {
   "cell_type": "code",
   "execution_count": 42,
   "metadata": {
    "executionInfo": {
     "elapsed": 7333,
     "status": "ok",
     "timestamp": 1743747149109,
     "user": {
      "displayName": "조경원",
      "userId": "10205523497785796707"
     },
     "user_tz": -540
    },
    "id": "8Ql-YDKJ1y0d"
   },
   "outputs": [],
   "source": [
    "from ragas.testset.synthesizers.single_hop.specific import (\n",
    "    SingleHopSpecificQuerySynthesizer\n",
    ")\n",
    "\n",
    "distribution = [\n",
    "    (SingleHopSpecificQuerySynthesizer(llm=generator_llm), 1.0),\n",
    "]\n",
    "\n",
    "for query, _ in distribution:\n",
    "    prompts = await query.adapt_prompts(\"korean\", llm=generator_llm)\n",
    "    query.set_prompts(**prompts)"
   ]
  },
  {
   "cell_type": "markdown",
   "metadata": {},
   "source": [
    "### 학습용 데이터셋 생성"
   ]
  },
  {
   "cell_type": "code",
   "execution_count": 43,
   "metadata": {
    "colab": {
     "base_uri": "https://localhost:8080/",
     "height": 81,
     "referenced_widgets": [
      "f57ea26178af41d88eeabf5cffadca3c",
      "e86350146a4c4c09ad9ef67a38c44c3d",
      "6dd805c080ef45a5a4811fbf16311a12",
      "b39b9c8c47fe447c866fb4f310703ee8",
      "9c4734e0fa80407eb0fd7bd3a54952b0",
      "145fcc64c1fc44308c77a1dd1a420a0d",
      "b3d60e8520984a288c8a87d13264bcc8",
      "3962d9e5dfcd41cca46cd97fbaf95bba",
      "d4b260de3d824965956e14aebc32590a",
      "1df06502774645d48cddd98ca37c5dc7",
      "306c468639db42d68c37ec6a77762e57",
      "db4de07e922145d9b22ea2e6f7d179ad",
      "d8032aa9a5c547dbbb98ec1cd01f39e8",
      "f0c3fb1b9a404607be80e4880fc12664",
      "da4a74b32fa8469dad04c4ba2e394164",
      "7d98439dbe4c4f759c5b2b86817a9187",
      "93f3ace72db64976994470b26bbeefa5",
      "38bea7f837064db6b3eebed916764869",
      "a3319f4186ad42aea87da5bcf76e63dd",
      "256f3fb3f40340229cf45be02eac4b37",
      "70351ebab84d48a9a817025e538fcc4f",
      "c531069d468646d48f34a7c785a9fea4",
      "5071f9dbbbd44d8ea0a3b629bf21c820",
      "a56e86af9abe4317902a26e755491d28",
      "38d0f732d7c047d2b933de0823f115dc",
      "419038265a09491ebe23fc5b15e7b96a",
      "9540f214dfe245fabd6e35e31515f05c",
      "f0ef7255807d4df296bc83dc625ed23b",
      "9aecb1013c374086a6b20a4f086601bb",
      "e1423321d588482282e2e2b906b55ced",
      "0f53952009a34f6fae6469243d3af4ef",
      "ed484a5746b04be4b0f818019d1d4ac3",
      "a44de607bff54e07aa71e368416d6763"
     ]
    },
    "executionInfo": {
     "elapsed": 84552,
     "status": "ok",
     "timestamp": 1743747233657,
     "user": {
      "displayName": "조경원",
      "userId": "10205523497785796707"
     },
     "user_tz": -540
    },
    "id": "VhDRvpE6118d",
    "outputId": "aa036328-cfa2-4d14-e362-edcf5a67f922"
   },
   "outputs": [
    {
     "data": {
      "application/vnd.jupyter.widget-view+json": {
       "model_id": "34f93e6db69744449e49b738cfad9f37",
       "version_major": 2,
       "version_minor": 0
      },
      "text/plain": [
       "Applying NERExtractor:   0%|          | 0/130 [00:00<?, ?it/s]"
      ]
     },
     "metadata": {},
     "output_type": "display_data"
    },
    {
     "data": {
      "application/vnd.jupyter.widget-view+json": {
       "model_id": "d78e75c363bb4c8ab42e5fe237fdd5e7",
       "version_major": 2,
       "version_minor": 0
      },
      "text/plain": [
       "Generating Scenarios:   0%|          | 0/1 [00:00<?, ?it/s]"
      ]
     },
     "metadata": {},
     "output_type": "display_data"
    },
    {
     "data": {
      "application/vnd.jupyter.widget-view+json": {
       "model_id": "2a32c12a5b2346819ccf5350017cc867",
       "version_major": 2,
       "version_minor": 0
      },
      "text/plain": [
       "Generating Samples:   0%|          | 0/50 [00:00<?, ?it/s]"
      ]
     },
     "metadata": {},
     "output_type": "display_data"
    }
   ],
   "source": [
    "dataset = generator.generate_with_langchain_docs(\n",
    "    docs[:],\n",
    "    testset_size=50, # 총 몇개의 질문/답변 쌍을 만들지\n",
    "    transforms=transforms,\n",
    "    query_distribution=distribution,\n",
    ")"
   ]
  },
  {
   "cell_type": "markdown",
   "metadata": {
    "id": "DOZQb33hCyaX"
   },
   "source": [
    "## 생성된 데이터셋 확인"
   ]
  },
  {
   "cell_type": "code",
   "execution_count": 67,
   "metadata": {
    "executionInfo": {
     "elapsed": 42,
     "status": "ok",
     "timestamp": 1743747238689,
     "user": {
      "displayName": "조경원",
      "userId": "10205523497785796707"
     },
     "user_tz": -540
    },
    "id": "kbG7iyWi2T8F"
   },
   "outputs": [],
   "source": [
    "eval_dataset = dataset.to_evaluation_dataset()"
   ]
  },
  {
   "cell_type": "code",
   "execution_count": 68,
   "metadata": {
    "colab": {
     "base_uri": "https://localhost:8080/"
    },
    "executionInfo": {
     "elapsed": 6,
     "status": "ok",
     "timestamp": 1743747239651,
     "user": {
      "displayName": "조경원",
      "userId": "10205523497785796707"
     },
     "user_tz": -540
    },
    "id": "Su07SeMx2lVw",
    "outputId": "cd0a4a1e-81bc-42a0-dc31-0acf257b87a1"
   },
   "outputs": [
    {
     "name": "stdout",
     "output_type": "stream",
     "text": [
      "Query: 갑상선 기능 항진증이 어린이에게 미치는 영향은 무엇인가요?\n",
      "Reference: 갑상선 기능 항진증은 어린이가 체력을 소모시키는 병으로, 이로 인해 땀을 많이 흘릴 수 있습니다. 그러나 땀을 많이 흘린다고 해서 반드시 심각한 문제가 있는 것은 아니며, 다른 이상이 없는 경우에는 대개 체계적인 경우로 생각할 수 있습니다.\n"
     ]
    }
   ],
   "source": [
    "print(\"Query:\", eval_dataset[0].user_input)\n",
    "print(\"Reference:\", eval_dataset[0].reference)"
   ]
  },
  {
   "cell_type": "code",
   "execution_count": 69,
   "metadata": {
    "colab": {
     "base_uri": "https://localhost:8080/"
    },
    "executionInfo": {
     "elapsed": 53,
     "status": "ok",
     "timestamp": 1743747260334,
     "user": {
      "displayName": "조경원",
      "userId": "10205523497785796707"
     },
     "user_tz": -540
    },
    "id": "T2oSd3yd2sL-",
    "outputId": "af0ce0e7-8eb3-4fc8-86a8-63e732712756"
   },
   "outputs": [
    {
     "data": {
      "text/plain": [
       "(50, 3)"
      ]
     },
     "execution_count": 69,
     "metadata": {},
     "output_type": "execute_result"
    }
   ],
   "source": [
    "# 생성된 테스트셋을 pandas DataFrame으로 변환\n",
    "test_df = eval_dataset.to_pandas()\n",
    "test_df.shape"
   ]
  },
  {
   "cell_type": "code",
   "execution_count": 70,
   "metadata": {
    "colab": {
     "base_uri": "https://localhost:8080/",
     "height": 292
    },
    "executionInfo": {
     "elapsed": 82,
     "status": "ok",
     "timestamp": 1743747277645,
     "user": {
      "displayName": "조경원",
      "userId": "10205523497785796707"
     },
     "user_tz": -540
    },
    "id": "8u6jX6cxCjSm",
    "outputId": "1045fd6b-db5e-4a92-c189-454069b940a6"
   },
   "outputs": [
    {
     "data": {
      "text/html": [
       "<div>\n",
       "<style scoped>\n",
       "    .dataframe tbody tr th:only-of-type {\n",
       "        vertical-align: middle;\n",
       "    }\n",
       "\n",
       "    .dataframe tbody tr th {\n",
       "        vertical-align: top;\n",
       "    }\n",
       "\n",
       "    .dataframe thead th {\n",
       "        text-align: right;\n",
       "    }\n",
       "</style>\n",
       "<table border=\"1\" class=\"dataframe\">\n",
       "  <thead>\n",
       "    <tr style=\"text-align: right;\">\n",
       "      <th></th>\n",
       "      <th>user_input</th>\n",
       "      <th>reference_contexts</th>\n",
       "      <th>reference</th>\n",
       "    </tr>\n",
       "  </thead>\n",
       "  <tbody>\n",
       "    <tr>\n",
       "      <th>0</th>\n",
       "      <td>갑상선 기능 항진증이 어린이에게 미치는 영향은 무엇인가요?</td>\n",
       "      <td>[title_caption: [title] 식은땀! 이 정도는 알아두셔야 합니다. ...</td>\n",
       "      <td>갑상선 기능 항진증은 어린이가 체력을 소모시키는 병으로, 이로 인해 땀을 많이 흘릴...</td>\n",
       "    </tr>\n",
       "    <tr>\n",
       "      <th>1</th>\n",
       "      <td>구루병이 땀을 많이 흘리는 것과 어떤 관계가 있나요?</td>\n",
       "      <td>[title_caption: [title] 식은땀! 이 정도는 알아두셔야 합니다. ...</td>\n",
       "      <td>구루병은 땀을 많이 흘리는 원인 중 하나일 수 있습니다. 그러나 구루병은 매우 드물...</td>\n",
       "    </tr>\n",
       "  </tbody>\n",
       "</table>\n",
       "</div>"
      ],
      "text/plain": [
       "                         user_input  \\\n",
       "0  갑상선 기능 항진증이 어린이에게 미치는 영향은 무엇인가요?   \n",
       "1     구루병이 땀을 많이 흘리는 것과 어떤 관계가 있나요?   \n",
       "\n",
       "                                  reference_contexts  \\\n",
       "0  [title_caption: [title] 식은땀! 이 정도는 알아두셔야 합니다. ...   \n",
       "1  [title_caption: [title] 식은땀! 이 정도는 알아두셔야 합니다. ...   \n",
       "\n",
       "                                           reference  \n",
       "0  갑상선 기능 항진증은 어린이가 체력을 소모시키는 병으로, 이로 인해 땀을 많이 흘릴...  \n",
       "1  구루병은 땀을 많이 흘리는 원인 중 하나일 수 있습니다. 그러나 구루병은 매우 드물...  "
      ]
     },
     "execution_count": 70,
     "metadata": {},
     "output_type": "execute_result"
    }
   ],
   "source": [
    "test_df.head(2)"
   ]
  },
  {
   "cell_type": "markdown",
   "metadata": {},
   "source": [
    "### reference_video_url 추가하기 "
   ]
  },
  {
   "cell_type": "code",
   "execution_count": 71,
   "metadata": {},
   "outputs": [
    {
     "data": {
      "text/plain": [
       "'[title] 식은땀! 이 정도는 알아두셔야 합니다. [caption] 안녕하세요 소아청소년과 전문의 가져옵니다 이제는 많이 줄긴 했지만직도 우리기가 시간 다 나았는데 어디 약한거닌가 라는 이야기 하시는 분 종종 있습니다 감기 약이라도 먹고 있으면 약이 너무 센 것은닌가 라고 물어보기도 합니다 이번에는 많은 부모들이 고민하고 있는 식은 땀 이라는 것에 대해서 말씀을 드리겠습니다 사람들은 원래 몸에 담이 나게 되어 있죠 사람 몸에는 200만 개가 되는 땅 팀이 있어 땀을 흘리게 되는데 땀 이란 우리 몸 안의 노폐물을 배출하고 체온을 조절하는 역할을 하게 됩니다 적당히 땀을 흘리는 것은 정상입니다 사람마다 차이가 크지만이들은 어른의 피에서 남을 드 많이 걸립니다 게다가이들은 땀을 조절하는 기능이 어른들의 비해서 미숙하기 때문에 땅 세미나는 이 많았 인물이나 성 바닥 발바닥은 평소에도 식사를 하거나 조금 말 힘이 들어도 땀이 송골송골 맺히는 경우가 흔합니다 별다른 문제가 없어도 베개가 땀으로 젖는 경우도 있습니다 물론 감기에 걸리거나 다른 이상이 있는 경우에도 땅 조절하는 기능이 더 떨어져서 남을 과잉생산 하기도 합니다이들은 원래 땀이 많은 보입니다 그런데이가 땀을 많이 흘리면 몸이 허약하다 고 생각하는 부모들이 많은 것이 현실입니다기가 빔닌데도 땀을 많이 흘리니 까 몸이 허약하다 고 몸보신을 해줘야 한다고 말하는 부모도 있습니다 땀을 흘린다고 영양제 먹이는 부모도 많은 것이 현실입니다 부모들이 그렇게도 고민고민 하면서 운이 않은이들이 시킨 다음에 대해서 소청소에 가설은 별로 심각하게 생각하지 않습니다이가 땀을 많이 클리 더라도 열이 없고로 보기에 다른 이상이 없는 경우에는 대개 체계적인 경우라고 생각합니다 특히기가 어릴수록 땀을 많이 흘리게 되고 평소에 땀을 않으니 다가 갑자기 많이 흘리게 되는 경우도 많습니다이들 중에서도 특히 네이는 은니 식은땀을 많이 흘리는 법입니다 그런데 간혹 진짜 문제가 있는 경우도 있습니다 선천성 심장병이 있거나 갑상선 기능 항진증 처럼기의 체력을 소모시키는 병에 걸려도 땀을 많이 흘립니다 구루병 저혈당 수온 증도 핵 황달로 이란 4승 말이 내용 후에 점 같은 듣기만 해도 무시무시한 병들의 걸려도 땀을 많이 걸리지만 이름 병들은 원래 매우 드물고 요 다른 증상으로 병이 있는 것을 의심하지 땀을 많이 흘린다고 이름 병 대로의 심하지는 않습니다 예전에 영양이 부족하던 실 계획처럼 체력을 많이 소모시키는 병에 걸리면 땀을 많이 흘렸던 것은 사실입니다 하지만이들의 경우 결핵이 쉬운 땀이 오리니 되는 경우는 그 이 생각하기 힘듭니다 물론 남을 너무 많이 흘리거나 특정 부위에 땀이 지나치게 많은 경우는 한 번은 소아청소년과 의사 에게 보여서 다른 이상을 없는지 확인하는 것이 안전합니다 일반적으로는 담임니라도 다른 이상이 없다면 너무 걱정하지 말고 수분 충분히 섭취 시키고 잘 닦아주고 옷 자주 가입해서 채운 소실되지 않도록 신경 등 도 써주시면 된다는 거 알2시면 마음 편하실 겁니다 지금 땀 너무 걱정하지 마십시오'"
      ]
     },
     "execution_count": 71,
     "metadata": {},
     "output_type": "execute_result"
    }
   ],
   "source": [
    "test_df.loc[0,['reference_contexts']].values[0][0].replace(\"title_caption: \", \"\")"
   ]
  },
  {
   "cell_type": "code",
   "execution_count": 72,
   "metadata": {},
   "outputs": [
    {
     "data": {
      "text/plain": [
       "'[title] 식은땀! 이 정도는 알아두셔야 합니다. [caption] 안녕하세요 소아청소년과 전문의 가져옵니다 이제는 많이 줄긴 했지만직도 우리기가 시간 다 나았는데 어디 약한거닌가 라는 이야기 하시는 분 종종 있습니다 감기 약이라도 먹고 있으면 약이 너무 센 것은닌가 라고 물어보기도 합니다 이번에는 많은 부모들이 고민하고 있는 식은 땀 이라는 것에 대해서 말씀을 드리겠습니다 사람들은 원래 몸에 담이 나게 되어 있죠 사람 몸에는 200만 개가 되는 땅 팀이 있어 땀을 흘리게 되는데 땀 이란 우리 몸 안의 노폐물을 배출하고 체온을 조절하는 역할을 하게 됩니다 적당히 땀을 흘리는 것은 정상입니다 사람마다 차이가 크지만이들은 어른의 피에서 남을 드 많이 걸립니다 게다가이들은 땀을 조절하는 기능이 어른들의 비해서 미숙하기 때문에 땅 세미나는 이 많았 인물이나 성 바닥 발바닥은 평소에도 식사를 하거나 조금 말 힘이 들어도 땀이 송골송골 맺히는 경우가 흔합니다 별다른 문제가 없어도 베개가 땀으로 젖는 경우도 있습니다 물론 감기에 걸리거나 다른 이상이 있는 경우에도 땅 조절하는 기능이 더 떨어져서 남을 과잉생산 하기도 합니다이들은 원래 땀이 많은 보입니다 그런데이가 땀을 많이 흘리면 몸이 허약하다 고 생각하는 부모들이 많은 것이 현실입니다기가 빔닌데도 땀을 많이 흘리니 까 몸이 허약하다 고 몸보신을 해줘야 한다고 말하는 부모도 있습니다 땀을 흘린다고 영양제 먹이는 부모도 많은 것이 현실입니다 부모들이 그렇게도 고민고민 하면서 운이 않은이들이 시킨 다음에 대해서 소청소에 가설은 별로 심각하게 생각하지 않습니다이가 땀을 많이 클리 더라도 열이 없고로 보기에 다른 이상이 없는 경우에는 대개 체계적인 경우라고 생각합니다 특히기가 어릴수록 땀을 많이 흘리게 되고 평소에 땀을 않으니 다가 갑자기 많이 흘리게 되는 경우도 많습니다이들 중에서도 특히 네이는 은니 식은땀을 많이 흘리는 법입니다 그런데 간혹 진짜 문제가 있는 경우도 있습니다 선천성 심장병이 있거나 갑상선 기능 항진증 처럼기의 체력을 소모시키는 병에 걸려도 땀을 많이 흘립니다 구루병 저혈당 수온 증도 핵 황달로 이란 4승 말이 내용 후에 점 같은 듣기만 해도 무시무시한 병들의 걸려도 땀을 많이 걸리지만 이름 병들은 원래 매우 드물고 요 다른 증상으로 병이 있는 것을 의심하지 땀을 많이 흘린다고 이름 병 대로의 심하지는 않습니다 예전에 영양이 부족하던 실 계획처럼 체력을 많이 소모시키는 병에 걸리면 땀을 많이 흘렸던 것은 사실입니다 하지만이들의 경우 결핵이 쉬운 땀이 오리니 되는 경우는 그 이 생각하기 힘듭니다 물론 남을 너무 많이 흘리거나 특정 부위에 땀이 지나치게 많은 경우는 한 번은 소아청소년과 의사 에게 보여서 다른 이상을 없는지 확인하는 것이 안전합니다 일반적으로는 담임니라도 다른 이상이 없다면 너무 걱정하지 말고 수분 충분히 섭취 시키고 잘 닦아주고 옷 자주 가입해서 채운 소실되지 않도록 신경 등 도 써주시면 된다는 거 알2시면 마음 편하실 겁니다 지금 땀 너무 걱정하지 마십시오'"
      ]
     },
     "execution_count": 72,
     "metadata": {},
     "output_type": "execute_result"
    }
   ],
   "source": [
    "# df[['video_url', 'title_caption']].head(2)\n",
    "df.loc[0,['title_caption']].values[0]"
   ]
  },
  {
   "cell_type": "code",
   "execution_count": 73,
   "metadata": {},
   "outputs": [
    {
     "data": {
      "text/html": [
       "<div>\n",
       "<style scoped>\n",
       "    .dataframe tbody tr th:only-of-type {\n",
       "        vertical-align: middle;\n",
       "    }\n",
       "\n",
       "    .dataframe tbody tr th {\n",
       "        vertical-align: top;\n",
       "    }\n",
       "\n",
       "    .dataframe thead th {\n",
       "        text-align: right;\n",
       "    }\n",
       "</style>\n",
       "<table border=\"1\" class=\"dataframe\">\n",
       "  <thead>\n",
       "    <tr style=\"text-align: right;\">\n",
       "      <th></th>\n",
       "      <th>reference_title_caption</th>\n",
       "      <th>reference_contexts</th>\n",
       "    </tr>\n",
       "  </thead>\n",
       "  <tbody>\n",
       "    <tr>\n",
       "      <th>0</th>\n",
       "      <td>[title] 식은땀! 이 정도는 알아두셔야 합니다. [caption] 안녕하세요 ...</td>\n",
       "      <td>[title_caption: [title] 식은땀! 이 정도는 알아두셔야 합니다. ...</td>\n",
       "    </tr>\n",
       "    <tr>\n",
       "      <th>1</th>\n",
       "      <td>[title] 식은땀! 이 정도는 알아두셔야 합니다. [caption] 안녕하세요 ...</td>\n",
       "      <td>[title_caption: [title] 식은땀! 이 정도는 알아두셔야 합니다. ...</td>\n",
       "    </tr>\n",
       "  </tbody>\n",
       "</table>\n",
       "</div>"
      ],
      "text/plain": [
       "                             reference_title_caption  \\\n",
       "0  [title] 식은땀! 이 정도는 알아두셔야 합니다. [caption] 안녕하세요 ...   \n",
       "1  [title] 식은땀! 이 정도는 알아두셔야 합니다. [caption] 안녕하세요 ...   \n",
       "\n",
       "                                  reference_contexts  \n",
       "0  [title_caption: [title] 식은땀! 이 정도는 알아두셔야 합니다. ...  \n",
       "1  [title_caption: [title] 식은땀! 이 정도는 알아두셔야 합니다. ...  "
      ]
     },
     "execution_count": 73,
     "metadata": {},
     "output_type": "execute_result"
    }
   ],
   "source": [
    "test_df['reference_title_caption'] = test_df['reference_contexts'].map(\n",
    "    lambda x: x[0].replace(\"title_caption: \", \"\").strip()\n",
    ")\n",
    "\n",
    "test_df[['reference_title_caption', 'reference_contexts']].head(2)"
   ]
  },
  {
   "cell_type": "code",
   "execution_count": 74,
   "metadata": {},
   "outputs": [],
   "source": [
    "test_df = test_df.merge(\n",
    "    right=df[['video_url', 'title_caption']], how='inner',\n",
    "    left_on=\"reference_title_caption\", right_on=\"title_caption\"\n",
    ")"
   ]
  },
  {
   "cell_type": "code",
   "execution_count": 77,
   "metadata": {},
   "outputs": [],
   "source": [
    "test_df.rename(\n",
    "    columns={\n",
    "        \"video_url\": \"reference_video_url\"\n",
    "    }, inplace= True\n",
    ")"
   ]
  },
  {
   "cell_type": "code",
   "execution_count": 78,
   "metadata": {},
   "outputs": [
    {
     "data": {
      "text/html": [
       "<div>\n",
       "<style scoped>\n",
       "    .dataframe tbody tr th:only-of-type {\n",
       "        vertical-align: middle;\n",
       "    }\n",
       "\n",
       "    .dataframe tbody tr th {\n",
       "        vertical-align: top;\n",
       "    }\n",
       "\n",
       "    .dataframe thead th {\n",
       "        text-align: right;\n",
       "    }\n",
       "</style>\n",
       "<table border=\"1\" class=\"dataframe\">\n",
       "  <thead>\n",
       "    <tr style=\"text-align: right;\">\n",
       "      <th></th>\n",
       "      <th>user_input</th>\n",
       "      <th>reference</th>\n",
       "      <th>reference_video_url</th>\n",
       "    </tr>\n",
       "  </thead>\n",
       "  <tbody>\n",
       "    <tr>\n",
       "      <th>0</th>\n",
       "      <td>갑상선 기능 항진증이 어린이에게 미치는 영향은 무엇인가요?</td>\n",
       "      <td>갑상선 기능 항진증은 어린이가 체력을 소모시키는 병으로, 이로 인해 땀을 많이 흘릴...</td>\n",
       "      <td>https://www.youtube.com/watch?v=8GwNlF44ntY&amp;li...</td>\n",
       "    </tr>\n",
       "    <tr>\n",
       "      <th>1</th>\n",
       "      <td>갑상선 기능 항진증이 어린이에게 미치는 영향은 무엇인가요?</td>\n",
       "      <td>갑상선 기능 항진증은 어린이가 체력을 소모시키는 병으로, 이로 인해 땀을 많이 흘릴...</td>\n",
       "      <td>https://www.youtube.com/watch?v=8GwNlF44ntY</td>\n",
       "    </tr>\n",
       "    <tr>\n",
       "      <th>2</th>\n",
       "      <td>구루병이 땀을 많이 흘리는 것과 어떤 관계가 있나요?</td>\n",
       "      <td>구루병은 땀을 많이 흘리는 원인 중 하나일 수 있습니다. 그러나 구루병은 매우 드물...</td>\n",
       "      <td>https://www.youtube.com/watch?v=8GwNlF44ntY&amp;li...</td>\n",
       "    </tr>\n",
       "    <tr>\n",
       "      <th>3</th>\n",
       "      <td>구루병이 땀을 많이 흘리는 것과 어떤 관계가 있나요?</td>\n",
       "      <td>구루병은 땀을 많이 흘리는 원인 중 하나일 수 있습니다. 그러나 구루병은 매우 드물...</td>\n",
       "      <td>https://www.youtube.com/watch?v=8GwNlF44ntY</td>\n",
       "    </tr>\n",
       "    <tr>\n",
       "      <th>4</th>\n",
       "      <td>허니 햄버거 병이란 무엇인가요?</td>\n",
       "      <td>허니 햄버거 병은 연결성 여덕 저온 같은 심각한 합병증이 동반되는 식중독의 일종입니...</td>\n",
       "      <td>https://www.youtube.com/watch?v=ZO1ffVTWsJc</td>\n",
       "    </tr>\n",
       "  </tbody>\n",
       "</table>\n",
       "</div>"
      ],
      "text/plain": [
       "                         user_input  \\\n",
       "0  갑상선 기능 항진증이 어린이에게 미치는 영향은 무엇인가요?   \n",
       "1  갑상선 기능 항진증이 어린이에게 미치는 영향은 무엇인가요?   \n",
       "2     구루병이 땀을 많이 흘리는 것과 어떤 관계가 있나요?   \n",
       "3     구루병이 땀을 많이 흘리는 것과 어떤 관계가 있나요?   \n",
       "4                 허니 햄버거 병이란 무엇인가요?   \n",
       "\n",
       "                                           reference  \\\n",
       "0  갑상선 기능 항진증은 어린이가 체력을 소모시키는 병으로, 이로 인해 땀을 많이 흘릴...   \n",
       "1  갑상선 기능 항진증은 어린이가 체력을 소모시키는 병으로, 이로 인해 땀을 많이 흘릴...   \n",
       "2  구루병은 땀을 많이 흘리는 원인 중 하나일 수 있습니다. 그러나 구루병은 매우 드물...   \n",
       "3  구루병은 땀을 많이 흘리는 원인 중 하나일 수 있습니다. 그러나 구루병은 매우 드물...   \n",
       "4  허니 햄버거 병은 연결성 여덕 저온 같은 심각한 합병증이 동반되는 식중독의 일종입니...   \n",
       "\n",
       "                                 reference_video_url  \n",
       "0  https://www.youtube.com/watch?v=8GwNlF44ntY&li...  \n",
       "1        https://www.youtube.com/watch?v=8GwNlF44ntY  \n",
       "2  https://www.youtube.com/watch?v=8GwNlF44ntY&li...  \n",
       "3        https://www.youtube.com/watch?v=8GwNlF44ntY  \n",
       "4        https://www.youtube.com/watch?v=ZO1ffVTWsJc  "
      ]
     },
     "execution_count": 78,
     "metadata": {},
     "output_type": "execute_result"
    }
   ],
   "source": [
    "test_df[['user_input', 'reference', 'reference_video_url']].head()"
   ]
  },
  {
   "cell_type": "markdown",
   "metadata": {},
   "source": [
    "### 저장하기 "
   ]
  },
  {
   "cell_type": "code",
   "execution_count": 79,
   "metadata": {
    "executionInfo": {
     "elapsed": 7,
     "status": "ok",
     "timestamp": 1743747581632,
     "user": {
      "displayName": "조경원",
      "userId": "10205523497785796707"
     },
     "user_tz": -540
    },
    "id": "73hmCODa26KO"
   },
   "outputs": [],
   "source": [
    "test_df[['user_input', 'reference', 'reference_video_url']].to_csv(\"df_train.csv\", index=False, header=True)"
   ]
  },
  {
   "cell_type": "code",
   "execution_count": null,
   "metadata": {
    "id": "bo14kkzDdIWc"
   },
   "outputs": [],
   "source": []
  }
 ],
 "metadata": {
  "colab": {
   "authorship_tag": "ABX9TyMdg8qyQjOkMPoZkup0f7ON",
   "provenance": []
  },
  "kernelspec": {
   "display_name": ".venv",
   "language": "python",
   "name": "python3"
  },
  "language_info": {
   "codemirror_mode": {
    "name": "ipython",
    "version": 3
   },
   "file_extension": ".py",
   "mimetype": "text/x-python",
   "name": "python",
   "nbconvert_exporter": "python",
   "pygments_lexer": "ipython3",
   "version": "3.10.18"
  },
  "widgets": {
   "application/vnd.jupyter.widget-state+json": {
    "0f53952009a34f6fae6469243d3af4ef": {
     "model_module": "@jupyter-widgets/controls",
     "model_module_version": "1.5.0",
     "model_name": "ProgressStyleModel",
     "state": {
      "_model_module": "@jupyter-widgets/controls",
      "_model_module_version": "1.5.0",
      "_model_name": "ProgressStyleModel",
      "_view_count": null,
      "_view_module": "@jupyter-widgets/base",
      "_view_module_version": "1.2.0",
      "_view_name": "StyleView",
      "bar_color": null,
      "description_width": ""
     }
    },
    "145fcc64c1fc44308c77a1dd1a420a0d": {
     "model_module": "@jupyter-widgets/base",
     "model_module_version": "1.2.0",
     "model_name": "LayoutModel",
     "state": {
      "_model_module": "@jupyter-widgets/base",
      "_model_module_version": "1.2.0",
      "_model_name": "LayoutModel",
      "_view_count": null,
      "_view_module": "@jupyter-widgets/base",
      "_view_module_version": "1.2.0",
      "_view_name": "LayoutView",
      "align_content": null,
      "align_items": null,
      "align_self": null,
      "border": null,
      "bottom": null,
      "display": null,
      "flex": null,
      "flex_flow": null,
      "grid_area": null,
      "grid_auto_columns": null,
      "grid_auto_flow": null,
      "grid_auto_rows": null,
      "grid_column": null,
      "grid_gap": null,
      "grid_row": null,
      "grid_template_areas": null,
      "grid_template_columns": null,
      "grid_template_rows": null,
      "height": null,
      "justify_content": null,
      "justify_items": null,
      "left": null,
      "margin": null,
      "max_height": null,
      "max_width": null,
      "min_height": null,
      "min_width": null,
      "object_fit": null,
      "object_position": null,
      "order": null,
      "overflow": null,
      "overflow_x": null,
      "overflow_y": null,
      "padding": null,
      "right": null,
      "top": null,
      "visibility": null,
      "width": null
     }
    },
    "1df06502774645d48cddd98ca37c5dc7": {
     "model_module": "@jupyter-widgets/base",
     "model_module_version": "1.2.0",
     "model_name": "LayoutModel",
     "state": {
      "_model_module": "@jupyter-widgets/base",
      "_model_module_version": "1.2.0",
      "_model_name": "LayoutModel",
      "_view_count": null,
      "_view_module": "@jupyter-widgets/base",
      "_view_module_version": "1.2.0",
      "_view_name": "LayoutView",
      "align_content": null,
      "align_items": null,
      "align_self": null,
      "border": null,
      "bottom": null,
      "display": null,
      "flex": null,
      "flex_flow": null,
      "grid_area": null,
      "grid_auto_columns": null,
      "grid_auto_flow": null,
      "grid_auto_rows": null,
      "grid_column": null,
      "grid_gap": null,
      "grid_row": null,
      "grid_template_areas": null,
      "grid_template_columns": null,
      "grid_template_rows": null,
      "height": null,
      "justify_content": null,
      "justify_items": null,
      "left": null,
      "margin": null,
      "max_height": null,
      "max_width": null,
      "min_height": null,
      "min_width": null,
      "object_fit": null,
      "object_position": null,
      "order": null,
      "overflow": null,
      "overflow_x": null,
      "overflow_y": null,
      "padding": null,
      "right": null,
      "top": null,
      "visibility": null,
      "width": null
     }
    },
    "256f3fb3f40340229cf45be02eac4b37": {
     "model_module": "@jupyter-widgets/controls",
     "model_module_version": "1.5.0",
     "model_name": "ProgressStyleModel",
     "state": {
      "_model_module": "@jupyter-widgets/controls",
      "_model_module_version": "1.5.0",
      "_model_name": "ProgressStyleModel",
      "_view_count": null,
      "_view_module": "@jupyter-widgets/base",
      "_view_module_version": "1.2.0",
      "_view_name": "StyleView",
      "bar_color": null,
      "description_width": ""
     }
    },
    "306c468639db42d68c37ec6a77762e57": {
     "model_module": "@jupyter-widgets/controls",
     "model_module_version": "1.5.0",
     "model_name": "DescriptionStyleModel",
     "state": {
      "_model_module": "@jupyter-widgets/controls",
      "_model_module_version": "1.5.0",
      "_model_name": "DescriptionStyleModel",
      "_view_count": null,
      "_view_module": "@jupyter-widgets/base",
      "_view_module_version": "1.2.0",
      "_view_name": "StyleView",
      "description_width": ""
     }
    },
    "38bea7f837064db6b3eebed916764869": {
     "model_module": "@jupyter-widgets/controls",
     "model_module_version": "1.5.0",
     "model_name": "DescriptionStyleModel",
     "state": {
      "_model_module": "@jupyter-widgets/controls",
      "_model_module_version": "1.5.0",
      "_model_name": "DescriptionStyleModel",
      "_view_count": null,
      "_view_module": "@jupyter-widgets/base",
      "_view_module_version": "1.2.0",
      "_view_name": "StyleView",
      "description_width": ""
     }
    },
    "38d0f732d7c047d2b933de0823f115dc": {
     "model_module": "@jupyter-widgets/controls",
     "model_module_version": "1.5.0",
     "model_name": "FloatProgressModel",
     "state": {
      "_dom_classes": [],
      "_model_module": "@jupyter-widgets/controls",
      "_model_module_version": "1.5.0",
      "_model_name": "FloatProgressModel",
      "_view_count": null,
      "_view_module": "@jupyter-widgets/controls",
      "_view_module_version": "1.5.0",
      "_view_name": "ProgressView",
      "bar_style": "success",
      "description": "",
      "description_tooltip": null,
      "layout": "IPY_MODEL_e1423321d588482282e2e2b906b55ced",
      "max": 50,
      "min": 0,
      "orientation": "horizontal",
      "style": "IPY_MODEL_0f53952009a34f6fae6469243d3af4ef",
      "value": 50
     }
    },
    "3962d9e5dfcd41cca46cd97fbaf95bba": {
     "model_module": "@jupyter-widgets/base",
     "model_module_version": "1.2.0",
     "model_name": "LayoutModel",
     "state": {
      "_model_module": "@jupyter-widgets/base",
      "_model_module_version": "1.2.0",
      "_model_name": "LayoutModel",
      "_view_count": null,
      "_view_module": "@jupyter-widgets/base",
      "_view_module_version": "1.2.0",
      "_view_name": "LayoutView",
      "align_content": null,
      "align_items": null,
      "align_self": null,
      "border": null,
      "bottom": null,
      "display": null,
      "flex": null,
      "flex_flow": null,
      "grid_area": null,
      "grid_auto_columns": null,
      "grid_auto_flow": null,
      "grid_auto_rows": null,
      "grid_column": null,
      "grid_gap": null,
      "grid_row": null,
      "grid_template_areas": null,
      "grid_template_columns": null,
      "grid_template_rows": null,
      "height": null,
      "justify_content": null,
      "justify_items": null,
      "left": null,
      "margin": null,
      "max_height": null,
      "max_width": null,
      "min_height": null,
      "min_width": null,
      "object_fit": null,
      "object_position": null,
      "order": null,
      "overflow": null,
      "overflow_x": null,
      "overflow_y": null,
      "padding": null,
      "right": null,
      "top": null,
      "visibility": null,
      "width": null
     }
    },
    "419038265a09491ebe23fc5b15e7b96a": {
     "model_module": "@jupyter-widgets/controls",
     "model_module_version": "1.5.0",
     "model_name": "HTMLModel",
     "state": {
      "_dom_classes": [],
      "_model_module": "@jupyter-widgets/controls",
      "_model_module_version": "1.5.0",
      "_model_name": "HTMLModel",
      "_view_count": null,
      "_view_module": "@jupyter-widgets/controls",
      "_view_module_version": "1.5.0",
      "_view_name": "HTMLView",
      "description": "",
      "description_tooltip": null,
      "layout": "IPY_MODEL_ed484a5746b04be4b0f818019d1d4ac3",
      "placeholder": "​",
      "style": "IPY_MODEL_a44de607bff54e07aa71e368416d6763",
      "value": " 50/50 [00:09&lt;00:00,  3.55it/s]"
     }
    },
    "5071f9dbbbd44d8ea0a3b629bf21c820": {
     "model_module": "@jupyter-widgets/controls",
     "model_module_version": "1.5.0",
     "model_name": "HBoxModel",
     "state": {
      "_dom_classes": [],
      "_model_module": "@jupyter-widgets/controls",
      "_model_module_version": "1.5.0",
      "_model_name": "HBoxModel",
      "_view_count": null,
      "_view_module": "@jupyter-widgets/controls",
      "_view_module_version": "1.5.0",
      "_view_name": "HBoxView",
      "box_style": "",
      "children": [
       "IPY_MODEL_a56e86af9abe4317902a26e755491d28",
       "IPY_MODEL_38d0f732d7c047d2b933de0823f115dc",
       "IPY_MODEL_419038265a09491ebe23fc5b15e7b96a"
      ],
      "layout": "IPY_MODEL_9540f214dfe245fabd6e35e31515f05c"
     }
    },
    "6dd805c080ef45a5a4811fbf16311a12": {
     "model_module": "@jupyter-widgets/controls",
     "model_module_version": "1.5.0",
     "model_name": "FloatProgressModel",
     "state": {
      "_dom_classes": [],
      "_model_module": "@jupyter-widgets/controls",
      "_model_module_version": "1.5.0",
      "_model_name": "FloatProgressModel",
      "_view_count": null,
      "_view_module": "@jupyter-widgets/controls",
      "_view_module_version": "1.5.0",
      "_view_name": "ProgressView",
      "bar_style": "",
      "description": "",
      "description_tooltip": null,
      "layout": "IPY_MODEL_3962d9e5dfcd41cca46cd97fbaf95bba",
      "max": 130,
      "min": 0,
      "orientation": "horizontal",
      "style": "IPY_MODEL_d4b260de3d824965956e14aebc32590a",
      "value": 130
     }
    },
    "70351ebab84d48a9a817025e538fcc4f": {
     "model_module": "@jupyter-widgets/base",
     "model_module_version": "1.2.0",
     "model_name": "LayoutModel",
     "state": {
      "_model_module": "@jupyter-widgets/base",
      "_model_module_version": "1.2.0",
      "_model_name": "LayoutModel",
      "_view_count": null,
      "_view_module": "@jupyter-widgets/base",
      "_view_module_version": "1.2.0",
      "_view_name": "LayoutView",
      "align_content": null,
      "align_items": null,
      "align_self": null,
      "border": null,
      "bottom": null,
      "display": null,
      "flex": null,
      "flex_flow": null,
      "grid_area": null,
      "grid_auto_columns": null,
      "grid_auto_flow": null,
      "grid_auto_rows": null,
      "grid_column": null,
      "grid_gap": null,
      "grid_row": null,
      "grid_template_areas": null,
      "grid_template_columns": null,
      "grid_template_rows": null,
      "height": null,
      "justify_content": null,
      "justify_items": null,
      "left": null,
      "margin": null,
      "max_height": null,
      "max_width": null,
      "min_height": null,
      "min_width": null,
      "object_fit": null,
      "object_position": null,
      "order": null,
      "overflow": null,
      "overflow_x": null,
      "overflow_y": null,
      "padding": null,
      "right": null,
      "top": null,
      "visibility": null,
      "width": null
     }
    },
    "7d98439dbe4c4f759c5b2b86817a9187": {
     "model_module": "@jupyter-widgets/base",
     "model_module_version": "1.2.0",
     "model_name": "LayoutModel",
     "state": {
      "_model_module": "@jupyter-widgets/base",
      "_model_module_version": "1.2.0",
      "_model_name": "LayoutModel",
      "_view_count": null,
      "_view_module": "@jupyter-widgets/base",
      "_view_module_version": "1.2.0",
      "_view_name": "LayoutView",
      "align_content": null,
      "align_items": null,
      "align_self": null,
      "border": null,
      "bottom": null,
      "display": null,
      "flex": null,
      "flex_flow": null,
      "grid_area": null,
      "grid_auto_columns": null,
      "grid_auto_flow": null,
      "grid_auto_rows": null,
      "grid_column": null,
      "grid_gap": null,
      "grid_row": null,
      "grid_template_areas": null,
      "grid_template_columns": null,
      "grid_template_rows": null,
      "height": null,
      "justify_content": null,
      "justify_items": null,
      "left": null,
      "margin": null,
      "max_height": null,
      "max_width": null,
      "min_height": null,
      "min_width": null,
      "object_fit": null,
      "object_position": null,
      "order": null,
      "overflow": null,
      "overflow_x": null,
      "overflow_y": null,
      "padding": null,
      "right": null,
      "top": null,
      "visibility": null,
      "width": null
     }
    },
    "93f3ace72db64976994470b26bbeefa5": {
     "model_module": "@jupyter-widgets/base",
     "model_module_version": "1.2.0",
     "model_name": "LayoutModel",
     "state": {
      "_model_module": "@jupyter-widgets/base",
      "_model_module_version": "1.2.0",
      "_model_name": "LayoutModel",
      "_view_count": null,
      "_view_module": "@jupyter-widgets/base",
      "_view_module_version": "1.2.0",
      "_view_name": "LayoutView",
      "align_content": null,
      "align_items": null,
      "align_self": null,
      "border": null,
      "bottom": null,
      "display": null,
      "flex": null,
      "flex_flow": null,
      "grid_area": null,
      "grid_auto_columns": null,
      "grid_auto_flow": null,
      "grid_auto_rows": null,
      "grid_column": null,
      "grid_gap": null,
      "grid_row": null,
      "grid_template_areas": null,
      "grid_template_columns": null,
      "grid_template_rows": null,
      "height": null,
      "justify_content": null,
      "justify_items": null,
      "left": null,
      "margin": null,
      "max_height": null,
      "max_width": null,
      "min_height": null,
      "min_width": null,
      "object_fit": null,
      "object_position": null,
      "order": null,
      "overflow": null,
      "overflow_x": null,
      "overflow_y": null,
      "padding": null,
      "right": null,
      "top": null,
      "visibility": null,
      "width": null
     }
    },
    "9540f214dfe245fabd6e35e31515f05c": {
     "model_module": "@jupyter-widgets/base",
     "model_module_version": "1.2.0",
     "model_name": "LayoutModel",
     "state": {
      "_model_module": "@jupyter-widgets/base",
      "_model_module_version": "1.2.0",
      "_model_name": "LayoutModel",
      "_view_count": null,
      "_view_module": "@jupyter-widgets/base",
      "_view_module_version": "1.2.0",
      "_view_name": "LayoutView",
      "align_content": null,
      "align_items": null,
      "align_self": null,
      "border": null,
      "bottom": null,
      "display": null,
      "flex": null,
      "flex_flow": null,
      "grid_area": null,
      "grid_auto_columns": null,
      "grid_auto_flow": null,
      "grid_auto_rows": null,
      "grid_column": null,
      "grid_gap": null,
      "grid_row": null,
      "grid_template_areas": null,
      "grid_template_columns": null,
      "grid_template_rows": null,
      "height": null,
      "justify_content": null,
      "justify_items": null,
      "left": null,
      "margin": null,
      "max_height": null,
      "max_width": null,
      "min_height": null,
      "min_width": null,
      "object_fit": null,
      "object_position": null,
      "order": null,
      "overflow": null,
      "overflow_x": null,
      "overflow_y": null,
      "padding": null,
      "right": null,
      "top": null,
      "visibility": null,
      "width": null
     }
    },
    "9aecb1013c374086a6b20a4f086601bb": {
     "model_module": "@jupyter-widgets/controls",
     "model_module_version": "1.5.0",
     "model_name": "DescriptionStyleModel",
     "state": {
      "_model_module": "@jupyter-widgets/controls",
      "_model_module_version": "1.5.0",
      "_model_name": "DescriptionStyleModel",
      "_view_count": null,
      "_view_module": "@jupyter-widgets/base",
      "_view_module_version": "1.2.0",
      "_view_name": "StyleView",
      "description_width": ""
     }
    },
    "9c4734e0fa80407eb0fd7bd3a54952b0": {
     "model_module": "@jupyter-widgets/base",
     "model_module_version": "1.2.0",
     "model_name": "LayoutModel",
     "state": {
      "_model_module": "@jupyter-widgets/base",
      "_model_module_version": "1.2.0",
      "_model_name": "LayoutModel",
      "_view_count": null,
      "_view_module": "@jupyter-widgets/base",
      "_view_module_version": "1.2.0",
      "_view_name": "LayoutView",
      "align_content": null,
      "align_items": null,
      "align_self": null,
      "border": null,
      "bottom": null,
      "display": null,
      "flex": null,
      "flex_flow": null,
      "grid_area": null,
      "grid_auto_columns": null,
      "grid_auto_flow": null,
      "grid_auto_rows": null,
      "grid_column": null,
      "grid_gap": null,
      "grid_row": null,
      "grid_template_areas": null,
      "grid_template_columns": null,
      "grid_template_rows": null,
      "height": null,
      "justify_content": null,
      "justify_items": null,
      "left": null,
      "margin": null,
      "max_height": null,
      "max_width": null,
      "min_height": null,
      "min_width": null,
      "object_fit": null,
      "object_position": null,
      "order": null,
      "overflow": null,
      "overflow_x": null,
      "overflow_y": null,
      "padding": null,
      "right": null,
      "top": null,
      "visibility": "hidden",
      "width": null
     }
    },
    "a3319f4186ad42aea87da5bcf76e63dd": {
     "model_module": "@jupyter-widgets/base",
     "model_module_version": "1.2.0",
     "model_name": "LayoutModel",
     "state": {
      "_model_module": "@jupyter-widgets/base",
      "_model_module_version": "1.2.0",
      "_model_name": "LayoutModel",
      "_view_count": null,
      "_view_module": "@jupyter-widgets/base",
      "_view_module_version": "1.2.0",
      "_view_name": "LayoutView",
      "align_content": null,
      "align_items": null,
      "align_self": null,
      "border": null,
      "bottom": null,
      "display": null,
      "flex": null,
      "flex_flow": null,
      "grid_area": null,
      "grid_auto_columns": null,
      "grid_auto_flow": null,
      "grid_auto_rows": null,
      "grid_column": null,
      "grid_gap": null,
      "grid_row": null,
      "grid_template_areas": null,
      "grid_template_columns": null,
      "grid_template_rows": null,
      "height": null,
      "justify_content": null,
      "justify_items": null,
      "left": null,
      "margin": null,
      "max_height": null,
      "max_width": null,
      "min_height": null,
      "min_width": null,
      "object_fit": null,
      "object_position": null,
      "order": null,
      "overflow": null,
      "overflow_x": null,
      "overflow_y": null,
      "padding": null,
      "right": null,
      "top": null,
      "visibility": null,
      "width": null
     }
    },
    "a44de607bff54e07aa71e368416d6763": {
     "model_module": "@jupyter-widgets/controls",
     "model_module_version": "1.5.0",
     "model_name": "DescriptionStyleModel",
     "state": {
      "_model_module": "@jupyter-widgets/controls",
      "_model_module_version": "1.5.0",
      "_model_name": "DescriptionStyleModel",
      "_view_count": null,
      "_view_module": "@jupyter-widgets/base",
      "_view_module_version": "1.2.0",
      "_view_name": "StyleView",
      "description_width": ""
     }
    },
    "a56e86af9abe4317902a26e755491d28": {
     "model_module": "@jupyter-widgets/controls",
     "model_module_version": "1.5.0",
     "model_name": "HTMLModel",
     "state": {
      "_dom_classes": [],
      "_model_module": "@jupyter-widgets/controls",
      "_model_module_version": "1.5.0",
      "_model_name": "HTMLModel",
      "_view_count": null,
      "_view_module": "@jupyter-widgets/controls",
      "_view_module_version": "1.5.0",
      "_view_name": "HTMLView",
      "description": "",
      "description_tooltip": null,
      "layout": "IPY_MODEL_f0ef7255807d4df296bc83dc625ed23b",
      "placeholder": "​",
      "style": "IPY_MODEL_9aecb1013c374086a6b20a4f086601bb",
      "value": "Generating Samples: 100%"
     }
    },
    "b39b9c8c47fe447c866fb4f310703ee8": {
     "model_module": "@jupyter-widgets/controls",
     "model_module_version": "1.5.0",
     "model_name": "HTMLModel",
     "state": {
      "_dom_classes": [],
      "_model_module": "@jupyter-widgets/controls",
      "_model_module_version": "1.5.0",
      "_model_name": "HTMLModel",
      "_view_count": null,
      "_view_module": "@jupyter-widgets/controls",
      "_view_module_version": "1.5.0",
      "_view_name": "HTMLView",
      "description": "",
      "description_tooltip": null,
      "layout": "IPY_MODEL_1df06502774645d48cddd98ca37c5dc7",
      "placeholder": "​",
      "style": "IPY_MODEL_306c468639db42d68c37ec6a77762e57",
      "value": " 130/130 [00:14&lt;00:00,  2.81it/s]"
     }
    },
    "b3d60e8520984a288c8a87d13264bcc8": {
     "model_module": "@jupyter-widgets/controls",
     "model_module_version": "1.5.0",
     "model_name": "DescriptionStyleModel",
     "state": {
      "_model_module": "@jupyter-widgets/controls",
      "_model_module_version": "1.5.0",
      "_model_name": "DescriptionStyleModel",
      "_view_count": null,
      "_view_module": "@jupyter-widgets/base",
      "_view_module_version": "1.2.0",
      "_view_name": "StyleView",
      "description_width": ""
     }
    },
    "c531069d468646d48f34a7c785a9fea4": {
     "model_module": "@jupyter-widgets/controls",
     "model_module_version": "1.5.0",
     "model_name": "DescriptionStyleModel",
     "state": {
      "_model_module": "@jupyter-widgets/controls",
      "_model_module_version": "1.5.0",
      "_model_name": "DescriptionStyleModel",
      "_view_count": null,
      "_view_module": "@jupyter-widgets/base",
      "_view_module_version": "1.2.0",
      "_view_name": "StyleView",
      "description_width": ""
     }
    },
    "d4b260de3d824965956e14aebc32590a": {
     "model_module": "@jupyter-widgets/controls",
     "model_module_version": "1.5.0",
     "model_name": "ProgressStyleModel",
     "state": {
      "_model_module": "@jupyter-widgets/controls",
      "_model_module_version": "1.5.0",
      "_model_name": "ProgressStyleModel",
      "_view_count": null,
      "_view_module": "@jupyter-widgets/base",
      "_view_module_version": "1.2.0",
      "_view_name": "StyleView",
      "bar_color": null,
      "description_width": ""
     }
    },
    "d8032aa9a5c547dbbb98ec1cd01f39e8": {
     "model_module": "@jupyter-widgets/controls",
     "model_module_version": "1.5.0",
     "model_name": "HTMLModel",
     "state": {
      "_dom_classes": [],
      "_model_module": "@jupyter-widgets/controls",
      "_model_module_version": "1.5.0",
      "_model_name": "HTMLModel",
      "_view_count": null,
      "_view_module": "@jupyter-widgets/controls",
      "_view_module_version": "1.5.0",
      "_view_name": "HTMLView",
      "description": "",
      "description_tooltip": null,
      "layout": "IPY_MODEL_93f3ace72db64976994470b26bbeefa5",
      "placeholder": "​",
      "style": "IPY_MODEL_38bea7f837064db6b3eebed916764869",
      "value": "Generating Scenarios: 100%"
     }
    },
    "da4a74b32fa8469dad04c4ba2e394164": {
     "model_module": "@jupyter-widgets/controls",
     "model_module_version": "1.5.0",
     "model_name": "HTMLModel",
     "state": {
      "_dom_classes": [],
      "_model_module": "@jupyter-widgets/controls",
      "_model_module_version": "1.5.0",
      "_model_name": "HTMLModel",
      "_view_count": null,
      "_view_module": "@jupyter-widgets/controls",
      "_view_module_version": "1.5.0",
      "_view_name": "HTMLView",
      "description": "",
      "description_tooltip": null,
      "layout": "IPY_MODEL_70351ebab84d48a9a817025e538fcc4f",
      "placeholder": "​",
      "style": "IPY_MODEL_c531069d468646d48f34a7c785a9fea4",
      "value": " 1/1 [01:00&lt;00:00, 60.46s/it]"
     }
    },
    "db4de07e922145d9b22ea2e6f7d179ad": {
     "model_module": "@jupyter-widgets/controls",
     "model_module_version": "1.5.0",
     "model_name": "HBoxModel",
     "state": {
      "_dom_classes": [],
      "_model_module": "@jupyter-widgets/controls",
      "_model_module_version": "1.5.0",
      "_model_name": "HBoxModel",
      "_view_count": null,
      "_view_module": "@jupyter-widgets/controls",
      "_view_module_version": "1.5.0",
      "_view_name": "HBoxView",
      "box_style": "",
      "children": [
       "IPY_MODEL_d8032aa9a5c547dbbb98ec1cd01f39e8",
       "IPY_MODEL_f0c3fb1b9a404607be80e4880fc12664",
       "IPY_MODEL_da4a74b32fa8469dad04c4ba2e394164"
      ],
      "layout": "IPY_MODEL_7d98439dbe4c4f759c5b2b86817a9187"
     }
    },
    "e1423321d588482282e2e2b906b55ced": {
     "model_module": "@jupyter-widgets/base",
     "model_module_version": "1.2.0",
     "model_name": "LayoutModel",
     "state": {
      "_model_module": "@jupyter-widgets/base",
      "_model_module_version": "1.2.0",
      "_model_name": "LayoutModel",
      "_view_count": null,
      "_view_module": "@jupyter-widgets/base",
      "_view_module_version": "1.2.0",
      "_view_name": "LayoutView",
      "align_content": null,
      "align_items": null,
      "align_self": null,
      "border": null,
      "bottom": null,
      "display": null,
      "flex": null,
      "flex_flow": null,
      "grid_area": null,
      "grid_auto_columns": null,
      "grid_auto_flow": null,
      "grid_auto_rows": null,
      "grid_column": null,
      "grid_gap": null,
      "grid_row": null,
      "grid_template_areas": null,
      "grid_template_columns": null,
      "grid_template_rows": null,
      "height": null,
      "justify_content": null,
      "justify_items": null,
      "left": null,
      "margin": null,
      "max_height": null,
      "max_width": null,
      "min_height": null,
      "min_width": null,
      "object_fit": null,
      "object_position": null,
      "order": null,
      "overflow": null,
      "overflow_x": null,
      "overflow_y": null,
      "padding": null,
      "right": null,
      "top": null,
      "visibility": null,
      "width": null
     }
    },
    "e86350146a4c4c09ad9ef67a38c44c3d": {
     "model_module": "@jupyter-widgets/controls",
     "model_module_version": "1.5.0",
     "model_name": "HTMLModel",
     "state": {
      "_dom_classes": [],
      "_model_module": "@jupyter-widgets/controls",
      "_model_module_version": "1.5.0",
      "_model_name": "HTMLModel",
      "_view_count": null,
      "_view_module": "@jupyter-widgets/controls",
      "_view_module_version": "1.5.0",
      "_view_name": "HTMLView",
      "description": "",
      "description_tooltip": null,
      "layout": "IPY_MODEL_145fcc64c1fc44308c77a1dd1a420a0d",
      "placeholder": "​",
      "style": "IPY_MODEL_b3d60e8520984a288c8a87d13264bcc8",
      "value": "Applying NERExtractor: 100%"
     }
    },
    "ed484a5746b04be4b0f818019d1d4ac3": {
     "model_module": "@jupyter-widgets/base",
     "model_module_version": "1.2.0",
     "model_name": "LayoutModel",
     "state": {
      "_model_module": "@jupyter-widgets/base",
      "_model_module_version": "1.2.0",
      "_model_name": "LayoutModel",
      "_view_count": null,
      "_view_module": "@jupyter-widgets/base",
      "_view_module_version": "1.2.0",
      "_view_name": "LayoutView",
      "align_content": null,
      "align_items": null,
      "align_self": null,
      "border": null,
      "bottom": null,
      "display": null,
      "flex": null,
      "flex_flow": null,
      "grid_area": null,
      "grid_auto_columns": null,
      "grid_auto_flow": null,
      "grid_auto_rows": null,
      "grid_column": null,
      "grid_gap": null,
      "grid_row": null,
      "grid_template_areas": null,
      "grid_template_columns": null,
      "grid_template_rows": null,
      "height": null,
      "justify_content": null,
      "justify_items": null,
      "left": null,
      "margin": null,
      "max_height": null,
      "max_width": null,
      "min_height": null,
      "min_width": null,
      "object_fit": null,
      "object_position": null,
      "order": null,
      "overflow": null,
      "overflow_x": null,
      "overflow_y": null,
      "padding": null,
      "right": null,
      "top": null,
      "visibility": null,
      "width": null
     }
    },
    "f0c3fb1b9a404607be80e4880fc12664": {
     "model_module": "@jupyter-widgets/controls",
     "model_module_version": "1.5.0",
     "model_name": "FloatProgressModel",
     "state": {
      "_dom_classes": [],
      "_model_module": "@jupyter-widgets/controls",
      "_model_module_version": "1.5.0",
      "_model_name": "FloatProgressModel",
      "_view_count": null,
      "_view_module": "@jupyter-widgets/controls",
      "_view_module_version": "1.5.0",
      "_view_name": "ProgressView",
      "bar_style": "success",
      "description": "",
      "description_tooltip": null,
      "layout": "IPY_MODEL_a3319f4186ad42aea87da5bcf76e63dd",
      "max": 1,
      "min": 0,
      "orientation": "horizontal",
      "style": "IPY_MODEL_256f3fb3f40340229cf45be02eac4b37",
      "value": 1
     }
    },
    "f0ef7255807d4df296bc83dc625ed23b": {
     "model_module": "@jupyter-widgets/base",
     "model_module_version": "1.2.0",
     "model_name": "LayoutModel",
     "state": {
      "_model_module": "@jupyter-widgets/base",
      "_model_module_version": "1.2.0",
      "_model_name": "LayoutModel",
      "_view_count": null,
      "_view_module": "@jupyter-widgets/base",
      "_view_module_version": "1.2.0",
      "_view_name": "LayoutView",
      "align_content": null,
      "align_items": null,
      "align_self": null,
      "border": null,
      "bottom": null,
      "display": null,
      "flex": null,
      "flex_flow": null,
      "grid_area": null,
      "grid_auto_columns": null,
      "grid_auto_flow": null,
      "grid_auto_rows": null,
      "grid_column": null,
      "grid_gap": null,
      "grid_row": null,
      "grid_template_areas": null,
      "grid_template_columns": null,
      "grid_template_rows": null,
      "height": null,
      "justify_content": null,
      "justify_items": null,
      "left": null,
      "margin": null,
      "max_height": null,
      "max_width": null,
      "min_height": null,
      "min_width": null,
      "object_fit": null,
      "object_position": null,
      "order": null,
      "overflow": null,
      "overflow_x": null,
      "overflow_y": null,
      "padding": null,
      "right": null,
      "top": null,
      "visibility": null,
      "width": null
     }
    },
    "f57ea26178af41d88eeabf5cffadca3c": {
     "model_module": "@jupyter-widgets/controls",
     "model_module_version": "1.5.0",
     "model_name": "HBoxModel",
     "state": {
      "_dom_classes": [],
      "_model_module": "@jupyter-widgets/controls",
      "_model_module_version": "1.5.0",
      "_model_name": "HBoxModel",
      "_view_count": null,
      "_view_module": "@jupyter-widgets/controls",
      "_view_module_version": "1.5.0",
      "_view_name": "HBoxView",
      "box_style": "",
      "children": [
       "IPY_MODEL_e86350146a4c4c09ad9ef67a38c44c3d",
       "IPY_MODEL_6dd805c080ef45a5a4811fbf16311a12",
       "IPY_MODEL_b39b9c8c47fe447c866fb4f310703ee8"
      ],
      "layout": "IPY_MODEL_9c4734e0fa80407eb0fd7bd3a54952b0"
     }
    }
   }
  }
 },
 "nbformat": 4,
 "nbformat_minor": 0
}
