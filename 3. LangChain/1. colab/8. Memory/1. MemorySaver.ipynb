{
 "cells": [
  {
   "cell_type": "markdown",
   "id": "a3a04101",
   "metadata": {},
   "source": [
    "# [Memory](https://langchain-ai.github.io/langgraph/concepts/memory/)\n",
    "- LangGraph의 Memory는 AI가 대화 내용을 기억할 수 있게 해주는 기능입니다. \n",
    "- 사람이 대화할 때 이전에 말한 내용을 기억하는 것처럼, AI도 과거 대화를 기억해서 더 자연스러운 대화를 할 수 있게 해줍니다.\n"
   ]
  },
  {
   "cell_type": "markdown",
   "id": "7436e108",
   "metadata": {},
   "source": [
    "## 왜 Memory가 필요한가요?\n",
    "> Memory가 없다면:\n",
    "```text\n",
    "    사용자: \"내 이름은 김철수야\"\n",
    "    AI: \"안녕하세요!\"\n",
    "\n",
    "    사용자: \"내 이름이 뭐였지?\"\n",
    "    AI: \"죄송해요, 모르겠습니다\"\n",
    "```\n",
    "> Memory가 있다면:\n",
    "```text\n",
    "    사용자: \"내 이름은 김철수야\"\n",
    "    AI: \"안녕하세요 김철수님!\"\n",
    "\n",
    "    사용자: \"내 이름이 뭐였지?\"\n",
    "    AI: \"김철수님이라고 하셨어요!\"\n",
    "```\n"
   ]
  },
  {
   "cell_type": "markdown",
   "id": "89f60611",
   "metadata": {},
   "source": [
    "# LangGraph Memory 예시들\n",
    "\n",
    "처음 배우는 학생들을 위한 단계별 예시를 준비했습니다!\n"
   ]
  },
  {
   "cell_type": "code",
   "execution_count": 1,
   "id": "8ff92028",
   "metadata": {},
   "outputs": [
    {
     "data": {
      "text/plain": [
       "True"
      ]
     },
     "execution_count": 1,
     "metadata": {},
     "output_type": "execute_result"
    }
   ],
   "source": [
    "# 필요한 라이브러리 import\n",
    "from dotenv import load_dotenv\n",
    "\n",
    "# 환경변수 로드\n",
    "load_dotenv()"
   ]
  },
  {
   "cell_type": "markdown",
   "id": "d632bb52",
   "metadata": {},
   "source": [
    "## 1. Memory가 적용되지 않은 LangGraph 예시\n",
    "**이름을 기억하지 못하는 챗봇**"
   ]
  },
  {
   "cell_type": "markdown",
   "id": "41dfa069",
   "metadata": {},
   "source": [
    "### 1. AI 모델 설정"
   ]
  },
  {
   "cell_type": "code",
   "execution_count": 2,
   "id": "dbc6aa36",
   "metadata": {},
   "outputs": [],
   "source": [
    "from langchain_openai import ChatOpenAI\n",
    "\n",
    "llm = ChatOpenAI(model=\"gpt-4o-mini\", temperature=0)"
   ]
  },
  {
   "cell_type": "markdown",
   "id": "6dbd65ba",
   "metadata": {},
   "source": [
    "### 2. 그래프 노드 정의 (Memory 없음)"
   ]
  },
  {
   "cell_type": "code",
   "execution_count": 3,
   "id": "a273f313",
   "metadata": {},
   "outputs": [],
   "source": [
    "from langgraph.graph import MessagesState\n",
    "\n",
    "def chat_node(state: MessagesState):\n",
    "    # 현재 메시지만 처리 (이전 대화 기억 안함)\n",
    "    response = llm.invoke(state[\"messages\"])\n",
    "    return {\"messages\": [response]}"
   ]
  },
  {
   "cell_type": "markdown",
   "id": "e97c5c9c",
   "metadata": {},
   "source": [
    "### 3. 그래프 생성"
   ]
  },
  {
   "cell_type": "code",
   "execution_count": 4,
   "id": "ab21e2ca",
   "metadata": {},
   "outputs": [
    {
     "data": {
      "text/plain": [
       "<langgraph.graph.state.StateGraph at 0x114d230e0>"
      ]
     },
     "execution_count": 4,
     "metadata": {},
     "output_type": "execute_result"
    }
   ],
   "source": [
    "from langgraph.graph import StateGraph, MessagesState, START, END\n",
    "\n",
    "graph = StateGraph(MessagesState)\n",
    "graph.add_node(\"chat\", chat_node)\n",
    "graph.add_edge(START, \"chat\")\n",
    "graph.add_edge(\"chat\", END)"
   ]
  },
  {
   "cell_type": "markdown",
   "id": "37237f74",
   "metadata": {},
   "source": [
    "### 4. 그래프 컴파일 (Memory 없음)"
   ]
  },
  {
   "cell_type": "code",
   "execution_count": 5,
   "id": "ec0747b6",
   "metadata": {},
   "outputs": [
    {
     "name": "stdout",
     "output_type": "stream",
     "text": [
      "Memory 없는 챗봇이 준비되었습니다!\n"
     ]
    }
   ],
   "source": [
    "app_without_memory = graph.compile()\n",
    "\n",
    "print(\"Memory 없는 챗봇이 준비되었습니다!\")"
   ]
  },
  {
   "cell_type": "markdown",
   "id": "f8bb3aa0",
   "metadata": {},
   "source": [
    "### 5. 테스트 "
   ]
  },
  {
   "cell_type": "code",
   "execution_count": 6,
   "id": "e1a4a8eb",
   "metadata": {},
   "outputs": [
    {
     "name": "stdout",
     "output_type": "stream",
     "text": [
      "사용자: '내 이름은 김철수야'\n",
      "AI: 안녕하세요, 김철수님! 어떻게 도와드릴까요?\n"
     ]
    }
   ],
   "source": [
    "from langchain_core.messages import HumanMessage\n",
    "\n",
    "# 첫 번째 대화\n",
    "print(\"사용자: '내 이름은 김철수야'\")\n",
    "result1 = app_without_memory.invoke({\"messages\": [HumanMessage(content=\"내 이름은 김철수야\")]})\n",
    "print(f\"AI: {result1['messages'][-1].content}\")\n"
   ]
  },
  {
   "cell_type": "code",
   "execution_count": 7,
   "id": "f5c4bf3e",
   "metadata": {},
   "outputs": [
    {
     "name": "stdout",
     "output_type": "stream",
     "text": [
      "사용자: '내 이름이 뭐였지?'\n",
      "AI: 죄송하지만, 당신의 이름을 알 수 있는 정보가 없습니다. 당신의 이름을 알려주시면 그에 맞춰 대화할 수 있습니다!\n",
      "\n",
      "결과: AI가 이전 대화를 기억하지 못해요!\n"
     ]
    }
   ],
   "source": [
    "# 두 번째 대화 (새로운 대화)\n",
    "print(\"사용자: '내 이름이 뭐였지?'\")\n",
    "result2 = app_without_memory.invoke({\"messages\": [HumanMessage(content=\"내 이름이 뭐였지?\")]})\n",
    "print(f\"AI: {result2['messages'][-1].content}\")\n",
    "\n",
    "print(\"\\n결과: AI가 이전 대화를 기억하지 못해요!\")"
   ]
  },
  {
   "cell_type": "markdown",
   "id": "095c2304",
   "metadata": {},
   "source": [
    "## 2. Memory가 적용된 LangGraph 예시 (MemorySaver)\n",
    "**이름을 기억하는 똑똑한 챗봇**\n"
   ]
  },
  {
   "cell_type": "markdown",
   "id": "204cea38",
   "metadata": {},
   "source": [
    "### 1. AI 모델 설정"
   ]
  },
  {
   "cell_type": "code",
   "execution_count": 8,
   "id": "577748c1",
   "metadata": {},
   "outputs": [],
   "source": [
    "from langchain_openai import ChatOpenAI\n",
    "\n",
    "llm = ChatOpenAI(model=\"gpt-4o-mini\", temperature=0)"
   ]
  },
  {
   "cell_type": "markdown",
   "id": "7226cb6a",
   "metadata": {},
   "source": [
    "### 2. 그래프 노드 정의 (Memory 적용)"
   ]
  },
  {
   "cell_type": "code",
   "execution_count": 9,
   "id": "9344d7f1",
   "metadata": {},
   "outputs": [],
   "source": [
    "from langgraph.graph import MessagesState\n",
    "\n",
    "def chat_node_with_memory(state: MessagesState):\n",
    "    # 모든 이전 메시지들과 함께 처리 (Memory가 자동으로 관리)\n",
    "    response = llm.invoke(state[\"messages\"])\n",
    "    return {\"messages\": [response]}"
   ]
  },
  {
   "cell_type": "markdown",
   "id": "5af439ee",
   "metadata": {},
   "source": [
    "### 3. 그래프 생성"
   ]
  },
  {
   "cell_type": "code",
   "execution_count": 10,
   "id": "6377a14c",
   "metadata": {},
   "outputs": [
    {
     "data": {
      "text/plain": [
       "<langgraph.graph.state.StateGraph at 0x1154bb390>"
      ]
     },
     "execution_count": 10,
     "metadata": {},
     "output_type": "execute_result"
    }
   ],
   "source": [
    "from langgraph.graph import StateGraph, MessagesState, START, END\n",
    "from langgraph.checkpoint.memory import MemorySaver\n",
    "\n",
    "graph_with_memory = StateGraph(MessagesState)\n",
    "graph_with_memory.add_node(\"chat\", chat_node_with_memory)\n",
    "graph_with_memory.add_edge(START, \"chat\")\n",
    "graph_with_memory.add_edge(\"chat\", END)"
   ]
  },
  {
   "cell_type": "markdown",
   "id": "a95f145d",
   "metadata": {},
   "source": [
    "### 4. Memory 저장소 설정 (여기가 핵심!)"
   ]
  },
  {
   "cell_type": "code",
   "execution_count": 11,
   "id": "62dc4264",
   "metadata": {},
   "outputs": [
    {
     "name": "stdout",
     "output_type": "stream",
     "text": [
      "Memory가 적용된 챗봇이 준비되었습니다!\n"
     ]
    }
   ],
   "source": [
    "memory = MemorySaver()\n",
    "\n",
    "app_with_memory = graph_with_memory.compile(checkpointer=memory)\n",
    "\n",
    "print(\"Memory가 적용된 챗봇이 준비되었습니다!\")"
   ]
  },
  {
   "cell_type": "markdown",
   "id": "9866d9b7",
   "metadata": {},
   "source": [
    "### 5. 테스트 "
   ]
  },
  {
   "cell_type": "code",
   "execution_count": 12,
   "id": "84e8be12",
   "metadata": {},
   "outputs": [
    {
     "name": "stdout",
     "output_type": "stream",
     "text": [
      "=== Memory가 적용된 챗봇 테스트 ===\n",
      "config: {'configurable': {'thread_id': 'dfb15440-6dc3-48f5-9f93-5bd2b492205e'}}\n"
     ]
    }
   ],
   "source": [
    "from langchain_core.messages import HumanMessage\n",
    "import uuid\n",
    "\n",
    "# 중요: 같은 thread_id를 사용해야 대화가 연결됩니다!\n",
    "memory_id = str(uuid.uuid4())\n",
    "config = {\"configurable\": {\"thread_id\": memory_id}}\n",
    "\n",
    "print(\"=== Memory가 적용된 챗봇 테스트 ===\")\n",
    "print(f\"config: {config}\")"
   ]
  },
  {
   "cell_type": "code",
   "execution_count": 13,
   "id": "6ec6d7c9",
   "metadata": {},
   "outputs": [
    {
     "name": "stdout",
     "output_type": "stream",
     "text": [
      "사용자: '내 이름은 김철수야'\n",
      "AI: 안녕하세요, 김철수님! 어떻게 도와드릴까요?\n"
     ]
    }
   ],
   "source": [
    "# 첫 번째 대화\n",
    "print(\"사용자: '내 이름은 김철수야'\")\n",
    "result1 = app_with_memory.invoke(\n",
    "    {\"messages\": [HumanMessage(content=\"내 이름은 김철수야\")]}, \n",
    "    config=config  # 여기가 중요!\n",
    ")\n",
    "print(f\"AI: {result1['messages'][-1].content}\")"
   ]
  },
  {
   "cell_type": "code",
   "execution_count": 14,
   "id": "89cbb129",
   "metadata": {},
   "outputs": [
    {
     "name": "stdout",
     "output_type": "stream",
     "text": [
      "사용자: '내 이름이 뭐였지?'\n",
      "AI: 당신의 이름은 김철수입니다. 다른 질문이 있으신가요?\n",
      "\n",
      "결과: AI가 이전 대화를 기억합니다!\n"
     ]
    }
   ],
   "source": [
    "# 두 번째 대화 (같은 thread_id 사용)\n",
    "print(\"사용자: '내 이름이 뭐였지?'\")\n",
    "result2 = app_with_memory.invoke(\n",
    "    {\"messages\": [HumanMessage(content=\"내 이름이 뭐였지?\")]}, \n",
    "    config=config  # 같은 config 사용!\n",
    ")\n",
    "print(f\"AI: {result2['messages'][-1].content}\")\n",
    "\n",
    "print(\"\\n결과: AI가 이전 대화를 기억합니다!\")"
   ]
  },
  {
   "cell_type": "code",
   "execution_count": null,
   "id": "2b77d03b",
   "metadata": {},
   "outputs": [],
   "source": []
  }
 ],
 "metadata": {
  "kernelspec": {
   "display_name": ".venv",
   "language": "python",
   "name": "python3"
  },
  "language_info": {
   "codemirror_mode": {
    "name": "ipython",
    "version": 3
   },
   "file_extension": ".py",
   "mimetype": "text/x-python",
   "name": "python",
   "nbconvert_exporter": "python",
   "pygments_lexer": "ipython3",
   "version": "3.13.2"
  }
 },
 "nbformat": 4,
 "nbformat_minor": 5
}
