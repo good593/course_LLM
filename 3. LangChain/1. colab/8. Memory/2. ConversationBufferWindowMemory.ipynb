{
 "cells": [
  {
   "cell_type": "markdown",
   "id": "a3a04101",
   "metadata": {},
   "source": [
    "# [Memory](https://langchain-ai.github.io/langgraph/concepts/memory/)\n",
    "- LangGraph의 Memory는 AI가 대화 내용을 기억할 수 있게 해주는 기능입니다. \n",
    "- 사람이 대화할 때 이전에 말한 내용을 기억하는 것처럼, AI도 과거 대화를 기억해서 더 자연스러운 대화를 할 수 있게 해줍니다.\n"
   ]
  },
  {
   "cell_type": "markdown",
   "id": "7436e108",
   "metadata": {},
   "source": [
    "## 왜 Memory가 필요한가요?\n",
    "> Memory가 없다면:\n",
    "```text\n",
    "    사용자: \"내 이름은 김철수야\"\n",
    "    AI: \"안녕하세요!\"\n",
    "\n",
    "    사용자: \"내 이름이 뭐였지?\"\n",
    "    AI: \"죄송해요, 모르겠습니다\"\n",
    "```\n",
    "> Memory가 있다면:\n",
    "```text\n",
    "    사용자: \"내 이름은 김철수야\"\n",
    "    AI: \"안녕하세요 김철수님!\"\n",
    "\n",
    "    사용자: \"내 이름이 뭐였지?\"\n",
    "    AI: \"김철수님이라고 하셨어요!\"\n",
    "```\n"
   ]
  },
  {
   "cell_type": "markdown",
   "id": "eca88fbc",
   "metadata": {},
   "source": [
    "# ConversationBufferWindowMemory 예시\n",
    "**최근 N개 메시지만 기억하는 효율적인 챗봇**\n",
    "\n",
    "긴 대화에서는 모든 내용을 기억하면 메모리가 부족할 수 있어요. 그래서 최근 몇 개의 메시지만 기억하는 방법을 사용합니다!\n"
   ]
  },
  {
   "cell_type": "code",
   "execution_count": null,
   "id": "f35b2626",
   "metadata": {},
   "outputs": [],
   "source": [
    "# 필요한 라이브러리 import\n",
    "from dotenv import load_dotenv\n",
    "\n",
    "# 환경변수 로드\n",
    "load_dotenv()"
   ]
  },
  {
   "cell_type": "markdown",
   "id": "fac64197",
   "metadata": {},
   "source": [
    "### 1. AI 모델 설정"
   ]
  },
  {
   "cell_type": "code",
   "execution_count": 15,
   "id": "ab44e5f8",
   "metadata": {},
   "outputs": [],
   "source": [
    "from langchain_openai import ChatOpenAI\n",
    "\n",
    "llm = ChatOpenAI(model=\"gpt-4o-mini\", temperature=0)"
   ]
  },
  {
   "cell_type": "markdown",
   "id": "fede5998",
   "metadata": {},
   "source": [
    "### 2. 윈도우 메모리 노드 정의"
   ]
  },
  {
   "cell_type": "code",
   "execution_count": 16,
   "id": "a74e607b",
   "metadata": {},
   "outputs": [],
   "source": [
    "from langgraph.graph import MessagesState\n",
    "\n",
    "def chat_node_with_window(state: MessagesState, window_size=4):\n",
    "    \"\"\"최근 window_size 개의 메시지만 유지하는 함수\"\"\"\n",
    "    messages = state[\"messages\"]\n",
    "    \n",
    "    # 메시지가 너무 많으면 최근 것만 선택\n",
    "    if len(messages) > window_size:\n",
    "        # 시스템 메시지는 항상 유지하고, 나머지는 최근 것만\n",
    "        system_messages = [msg for msg in messages if msg.type == \"system\"]\n",
    "        other_messages = [msg for msg in messages if msg.type != \"system\"]\n",
    "        \n",
    "        # 최근 메시지만 선택\n",
    "        recent_messages = other_messages[-window_size:]\n",
    "        windowed_messages = system_messages + recent_messages\n",
    "    else:\n",
    "        windowed_messages = messages\n",
    "    \n",
    "    response = llm.invoke(windowed_messages)\n",
    "    return {\"messages\": [response]}"
   ]
  },
  {
   "cell_type": "markdown",
   "id": "d0807996",
   "metadata": {},
   "source": [
    "### 3. 그래프 생성"
   ]
  },
  {
   "cell_type": "code",
   "execution_count": 17,
   "id": "e529ca94",
   "metadata": {},
   "outputs": [
    {
     "data": {
      "text/plain": [
       "<langgraph.graph.state.StateGraph at 0x1154ba990>"
      ]
     },
     "execution_count": 17,
     "metadata": {},
     "output_type": "execute_result"
    }
   ],
   "source": [
    "from langgraph.graph import StateGraph, MessagesState, START, END\n",
    "\n",
    "graph_window = StateGraph(MessagesState)\n",
    "graph_window.add_node(\"chat\", chat_node_with_window)\n",
    "graph_window.add_edge(START, \"chat\")\n",
    "graph_window.add_edge(\"chat\", END)"
   ]
  },
  {
   "cell_type": "markdown",
   "id": "e4e7bf37",
   "metadata": {},
   "source": [
    "### 4. 컴파일"
   ]
  },
  {
   "cell_type": "code",
   "execution_count": 18,
   "id": "67b3b2d6",
   "metadata": {},
   "outputs": [
    {
     "name": "stdout",
     "output_type": "stream",
     "text": [
      "Window Memory 챗봇이 준비되었습니다! (최근 4개 메시지만 기억)\n"
     ]
    }
   ],
   "source": [
    "from langgraph.checkpoint.memory import MemorySaver \n",
    "\n",
    "memory_window = MemorySaver()\n",
    "app_with_window = graph_window.compile(checkpointer=memory_window)\n",
    "\n",
    "print(\"Window Memory 챗봇이 준비되었습니다! (최근 4개 메시지만 기억)\")"
   ]
  },
  {
   "cell_type": "markdown",
   "id": "18022770",
   "metadata": {},
   "source": [
    "### 5. 테스트 "
   ]
  },
  {
   "cell_type": "code",
   "execution_count": 19,
   "id": "aeafba67",
   "metadata": {},
   "outputs": [
    {
     "name": "stdout",
     "output_type": "stream",
     "text": [
      "=== Window Memory 챗봇 테스트 ===\n",
      "많은 정보를 말해보고, 나중에 오래된 정보를 기억하는지 확인해보겠습니다!\n",
      "\n"
     ]
    }
   ],
   "source": [
    "from langchain_core.messages import HumanMessage\n",
    "import uuid\n",
    "\n",
    "# 중요: 같은 thread_id를 사용해야 대화가 연결됩니다!\n",
    "memory_id = str(uuid.uuid4())\n",
    "# Window Memory 테스트: 오래된 정보를 기억할까요?\n",
    "config_window = {\"configurable\": {\"thread_id\": memory_id}}\n",
    "\n",
    "print(\"=== Window Memory 챗봇 테스트 ===\")\n",
    "print(\"많은 정보를 말해보고, 나중에 오래된 정보를 기억하는지 확인해보겠습니다!\\n\")"
   ]
  },
  {
   "cell_type": "code",
   "execution_count": 20,
   "id": "14dfb86f",
   "metadata": {},
   "outputs": [
    {
     "name": "stdout",
     "output_type": "stream",
     "text": [
      "1번째 대화: '내 이름은 김철수야'\n",
      "AI: 안녕하세요, 김철수님! 어떻게 도와드릴까요?\n",
      "----------------------------------------\n",
      "2번째 대화: '나는 30살이야'\n",
      "AI: 30살이시군요! 이 나이에 특별히 하고 싶은 목표나 계획이 있으신가요?\n",
      "----------------------------------------\n",
      "3번째 대화: '내 이름이 뭐였지?'\n",
      "AI: 당신의 이름은 김철수입니다. 다른 질문이나 도움이 필요하신 부분이 있으면 말씀해 주세요!\n",
      "----------------------------------------\n",
      "4번째 대화: '서울에 살고 있어'\n",
      "AI: 서울에 살고 계시군요! 서울은 다양한 문화와 맛있는 음식, 멋진 경치가 있는 도시죠. 서울에서 좋아하는 장소나 활동이 있으신가요?\n",
      "----------------------------------------\n",
      "5번째 대화: '취미는 축구야'\n",
      "AI: 축구를 좋아하시군요! 축구는 정말 재미있고 팀워크를 중요시하는 스포츠죠. 어떤 팀을 응원하시나요? 또는 축구를 하시는 것도 좋아하시나요?\n",
      "----------------------------------------\n",
      "6번째 대화: '좋아하는 색깔은 파란색이야'\n",
      "AI: 파란색은 정말 멋진 색깔이죠! 시원하고 안정감을 주는 느낌이 있어요. 파란색과 관련된 특별한 이유가 있나요? 아니면 파란색을 좋아하는 다른 이유가 있으신가요?\n",
      "----------------------------------------\n",
      "7번째 대화: '어제 영화를 봤어'\n",
      "AI: 어떤 영화를 보셨나요? 영화의 장르나 내용이 궁금해요! 재미있었나요?\n",
      "----------------------------------------\n",
      "8번째 대화: '오늘은 운동을 했어'\n",
      "AI: 운동을 하셨군요! 어떤 운동을 하셨나요? 운동 후 기분이 어떠셨나요?\n",
      "----------------------------------------\n",
      "9번째 대화: '내 이름이 뭐였지?'\n",
      "AI: 죄송하지만, 이전 대화에서 이름을 언급하지 않으셨기 때문에 알 수 없습니다. 이름을 알려주시면 기억하겠습니다!\n",
      "----------------------------------------\n",
      "10번째 대화: '어제 뭐했다고 했지?'\n",
      "AI: 죄송하지만, 이전 대화 내용을 기억할 수는 없습니다. 하지만 어제 어떤 일을 하셨는지 말씀해 주시면 그에 대해 이야기할 수 있습니다!\n",
      "----------------------------------------\n",
      "\n",
      "결과: 최근 4개 메시지만 기억해서 메모리가 효율적!\n",
      "오래된 정보(이름)는 잊어버릴 수 있지만, 최근 정보(어제 한 일)는 기억해요!\n"
     ]
    }
   ],
   "source": [
    "# 여러 정보 입력\n",
    "messages_to_test = [\n",
    "    \"내 이름은 김철수야\",\n",
    "    \"나는 30살이야\", \n",
    "    \"내 이름이 뭐였지?\", # 기억함 \n",
    "    \"서울에 살고 있어\",\n",
    "    \"취미는 축구야\",\n",
    "    \"좋아하는 색깔은 파란색이야\",\n",
    "    \"어제 영화를 봤어\",\n",
    "    \"오늘은 운동을 했어\",\n",
    "    \"내 이름이 뭐였지?\",  # 오래전 정보 (기억 못할 수도 있음)\n",
    "    \"어제 뭐했다고 했지?\"  # 최근 정보 (기억해야 함)\n",
    "]\n",
    "\n",
    "for i, msg in enumerate(messages_to_test, 1):\n",
    "    print(f\"{i}번째 대화: '{msg}'\")\n",
    "    result = app_with_window.invoke(\n",
    "        {\"messages\": [HumanMessage(content=msg)]}, \n",
    "        config=config_window\n",
    "    )\n",
    "    print(f\"AI: {result['messages'][-1].content}\")\n",
    "    print(\"-\" * 40)\n",
    "\n",
    "print(\"\\n결과: 최근 4개 메시지만 기억해서 메모리가 효율적!\")\n",
    "print(\"오래된 정보(이름)는 잊어버릴 수 있지만, 최근 정보(어제 한 일)는 기억해요!\")"
   ]
  }
 ],
 "metadata": {
  "kernelspec": {
   "display_name": ".venv",
   "language": "python",
   "name": "python3"
  },
  "language_info": {
   "codemirror_mode": {
    "name": "ipython",
    "version": 3
   },
   "file_extension": ".py",
   "mimetype": "text/x-python",
   "name": "python",
   "nbconvert_exporter": "python",
   "pygments_lexer": "ipython3",
   "version": "3.13.2"
  }
 },
 "nbformat": 4,
 "nbformat_minor": 5
}
