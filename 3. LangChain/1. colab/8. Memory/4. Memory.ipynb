{
 "cells": [
  {
   "cell_type": "markdown",
   "id": "a3a04101",
   "metadata": {},
   "source": [
    "# [Memory](https://langchain-ai.github.io/langgraph/concepts/memory/)\n",
    "- LangGraph의 Memory는 AI가 대화 내용을 기억할 수 있게 해주는 기능입니다. \n",
    "- 사람이 대화할 때 이전에 말한 내용을 기억하는 것처럼, AI도 과거 대화를 기억해서 더 자연스러운 대화를 할 수 있게 해줍니다.\n"
   ]
  },
  {
   "cell_type": "markdown",
   "id": "7436e108",
   "metadata": {},
   "source": [
    "## 왜 Memory가 필요한가요?\n",
    "> Memory가 없다면:\n",
    "```text\n",
    "    사용자: \"내 이름은 김철수야\"\n",
    "    AI: \"안녕하세요!\"\n",
    "\n",
    "    사용자: \"내 이름이 뭐였지?\"\n",
    "    AI: \"죄송해요, 모르겠습니다\"\n",
    "```\n",
    "> Memory가 있다면:\n",
    "```text\n",
    "    사용자: \"내 이름은 김철수야\"\n",
    "    AI: \"안녕하세요 김철수님!\"\n",
    "\n",
    "    사용자: \"내 이름이 뭐였지?\"\n",
    "    AI: \"김철수님이라고 하셨어요!\"\n",
    "```\n"
   ]
  },
  {
   "cell_type": "markdown",
   "id": "89f60611",
   "metadata": {},
   "source": [
    "# LangGraph Memory 예시들\n",
    "\n",
    "처음 배우는 학생들을 위한 단계별 예시를 준비했습니다!\n"
   ]
  },
  {
   "cell_type": "code",
   "execution_count": 1,
   "id": "8ff92028",
   "metadata": {},
   "outputs": [
    {
     "data": {
      "text/plain": [
       "True"
      ]
     },
     "execution_count": 1,
     "metadata": {},
     "output_type": "execute_result"
    }
   ],
   "source": [
    "# 필요한 라이브러리 import\n",
    "from dotenv import load_dotenv\n",
    "\n",
    "# 환경변수 로드\n",
    "load_dotenv()"
   ]
  },
  {
   "cell_type": "markdown",
   "id": "d632bb52",
   "metadata": {},
   "source": [
    "## 1. Memory가 적용되지 않은 LangGraph 예시\n",
    "**이름을 기억하지 못하는 챗봇**"
   ]
  },
  {
   "cell_type": "markdown",
   "id": "41dfa069",
   "metadata": {},
   "source": [
    "### 1. AI 모델 설정"
   ]
  },
  {
   "cell_type": "code",
   "execution_count": 2,
   "id": "dbc6aa36",
   "metadata": {},
   "outputs": [],
   "source": [
    "from langchain_openai import ChatOpenAI\n",
    "\n",
    "llm = ChatOpenAI(model=\"gpt-4o-mini\", temperature=0)"
   ]
  },
  {
   "cell_type": "markdown",
   "id": "6dbd65ba",
   "metadata": {},
   "source": [
    "### 2. 그래프 노드 정의 (Memory 없음)"
   ]
  },
  {
   "cell_type": "code",
   "execution_count": 3,
   "id": "a273f313",
   "metadata": {},
   "outputs": [],
   "source": [
    "from langgraph.graph import MessagesState\n",
    "\n",
    "def chat_node(state: MessagesState):\n",
    "    # 현재 메시지만 처리 (이전 대화 기억 안함)\n",
    "    response = llm.invoke(state[\"messages\"])\n",
    "    return {\"messages\": [response]}"
   ]
  },
  {
   "cell_type": "markdown",
   "id": "e97c5c9c",
   "metadata": {},
   "source": [
    "### 3. 그래프 생성"
   ]
  },
  {
   "cell_type": "code",
   "execution_count": 4,
   "id": "ab21e2ca",
   "metadata": {},
   "outputs": [
    {
     "data": {
      "text/plain": [
       "<langgraph.graph.state.StateGraph at 0x114d230e0>"
      ]
     },
     "execution_count": 4,
     "metadata": {},
     "output_type": "execute_result"
    }
   ],
   "source": [
    "from langgraph.graph import StateGraph, MessagesState, START, END\n",
    "\n",
    "graph = StateGraph(MessagesState)\n",
    "graph.add_node(\"chat\", chat_node)\n",
    "graph.add_edge(START, \"chat\")\n",
    "graph.add_edge(\"chat\", END)"
   ]
  },
  {
   "cell_type": "markdown",
   "id": "37237f74",
   "metadata": {},
   "source": [
    "### 4. 그래프 컴파일 (Memory 없음)"
   ]
  },
  {
   "cell_type": "code",
   "execution_count": 5,
   "id": "ec0747b6",
   "metadata": {},
   "outputs": [
    {
     "name": "stdout",
     "output_type": "stream",
     "text": [
      "Memory 없는 챗봇이 준비되었습니다!\n"
     ]
    }
   ],
   "source": [
    "app_without_memory = graph.compile()\n",
    "\n",
    "print(\"Memory 없는 챗봇이 준비되었습니다!\")"
   ]
  },
  {
   "cell_type": "markdown",
   "id": "f8bb3aa0",
   "metadata": {},
   "source": [
    "### 5. 테스트 "
   ]
  },
  {
   "cell_type": "code",
   "execution_count": 6,
   "id": "e1a4a8eb",
   "metadata": {},
   "outputs": [
    {
     "name": "stdout",
     "output_type": "stream",
     "text": [
      "사용자: '내 이름은 김철수야'\n",
      "AI: 안녕하세요, 김철수님! 어떻게 도와드릴까요?\n"
     ]
    }
   ],
   "source": [
    "from langchain_core.messages import HumanMessage\n",
    "\n",
    "# 첫 번째 대화\n",
    "print(\"사용자: '내 이름은 김철수야'\")\n",
    "result1 = app_without_memory.invoke({\"messages\": [HumanMessage(content=\"내 이름은 김철수야\")]})\n",
    "print(f\"AI: {result1['messages'][-1].content}\")\n"
   ]
  },
  {
   "cell_type": "code",
   "execution_count": 7,
   "id": "f5c4bf3e",
   "metadata": {},
   "outputs": [
    {
     "name": "stdout",
     "output_type": "stream",
     "text": [
      "사용자: '내 이름이 뭐였지?'\n",
      "AI: 죄송하지만, 당신의 이름을 알 수 있는 정보가 없습니다. 당신의 이름을 알려주시면 그에 맞춰 대화할 수 있습니다!\n",
      "\n",
      "결과: AI가 이전 대화를 기억하지 못해요!\n"
     ]
    }
   ],
   "source": [
    "# 두 번째 대화 (새로운 대화)\n",
    "print(\"사용자: '내 이름이 뭐였지?'\")\n",
    "result2 = app_without_memory.invoke({\"messages\": [HumanMessage(content=\"내 이름이 뭐였지?\")]})\n",
    "print(f\"AI: {result2['messages'][-1].content}\")\n",
    "\n",
    "print(\"\\n결과: AI가 이전 대화를 기억하지 못해요!\")"
   ]
  },
  {
   "cell_type": "markdown",
   "id": "095c2304",
   "metadata": {},
   "source": [
    "## 2. Memory가 적용된 LangGraph 예시 (MemorySaver)\n",
    "**이름을 기억하는 똑똑한 챗봇**\n"
   ]
  },
  {
   "cell_type": "markdown",
   "id": "204cea38",
   "metadata": {},
   "source": [
    "### 1. AI 모델 설정"
   ]
  },
  {
   "cell_type": "code",
   "execution_count": 8,
   "id": "577748c1",
   "metadata": {},
   "outputs": [],
   "source": [
    "from langchain_openai import ChatOpenAI\n",
    "\n",
    "llm = ChatOpenAI(model=\"gpt-4o-mini\", temperature=0)"
   ]
  },
  {
   "cell_type": "markdown",
   "id": "7226cb6a",
   "metadata": {},
   "source": [
    "### 2. 그래프 노드 정의 (Memory 적용)"
   ]
  },
  {
   "cell_type": "code",
   "execution_count": 9,
   "id": "9344d7f1",
   "metadata": {},
   "outputs": [],
   "source": [
    "from langgraph.graph import MessagesState\n",
    "\n",
    "def chat_node_with_memory(state: MessagesState):\n",
    "    # 모든 이전 메시지들과 함께 처리 (Memory가 자동으로 관리)\n",
    "    response = llm.invoke(state[\"messages\"])\n",
    "    return {\"messages\": [response]}"
   ]
  },
  {
   "cell_type": "markdown",
   "id": "5af439ee",
   "metadata": {},
   "source": [
    "### 3. 그래프 생성"
   ]
  },
  {
   "cell_type": "code",
   "execution_count": 10,
   "id": "6377a14c",
   "metadata": {},
   "outputs": [
    {
     "data": {
      "text/plain": [
       "<langgraph.graph.state.StateGraph at 0x1154bb390>"
      ]
     },
     "execution_count": 10,
     "metadata": {},
     "output_type": "execute_result"
    }
   ],
   "source": [
    "from langgraph.graph import StateGraph, MessagesState, START, END\n",
    "from langgraph.checkpoint.memory import MemorySaver\n",
    "\n",
    "graph_with_memory = StateGraph(MessagesState)\n",
    "graph_with_memory.add_node(\"chat\", chat_node_with_memory)\n",
    "graph_with_memory.add_edge(START, \"chat\")\n",
    "graph_with_memory.add_edge(\"chat\", END)"
   ]
  },
  {
   "cell_type": "markdown",
   "id": "a95f145d",
   "metadata": {},
   "source": [
    "### 4. Memory 저장소 설정 (여기가 핵심!)"
   ]
  },
  {
   "cell_type": "code",
   "execution_count": 11,
   "id": "62dc4264",
   "metadata": {},
   "outputs": [
    {
     "name": "stdout",
     "output_type": "stream",
     "text": [
      "Memory가 적용된 챗봇이 준비되었습니다!\n"
     ]
    }
   ],
   "source": [
    "memory = MemorySaver()\n",
    "\n",
    "app_with_memory = graph_with_memory.compile(checkpointer=memory)\n",
    "\n",
    "print(\"Memory가 적용된 챗봇이 준비되었습니다!\")"
   ]
  },
  {
   "cell_type": "markdown",
   "id": "9866d9b7",
   "metadata": {},
   "source": [
    "### 5. 테스트 "
   ]
  },
  {
   "cell_type": "code",
   "execution_count": 12,
   "id": "84e8be12",
   "metadata": {},
   "outputs": [
    {
     "name": "stdout",
     "output_type": "stream",
     "text": [
      "=== Memory가 적용된 챗봇 테스트 ===\n",
      "config: {'configurable': {'thread_id': 'dfb15440-6dc3-48f5-9f93-5bd2b492205e'}}\n"
     ]
    }
   ],
   "source": [
    "from langchain_core.messages import HumanMessage\n",
    "import uuid\n",
    "\n",
    "# 중요: 같은 thread_id를 사용해야 대화가 연결됩니다!\n",
    "memory_id = str(uuid.uuid4())\n",
    "config = {\"configurable\": {\"thread_id\": memory_id}}\n",
    "\n",
    "print(\"=== Memory가 적용된 챗봇 테스트 ===\")\n",
    "print(f\"config: {config}\")"
   ]
  },
  {
   "cell_type": "code",
   "execution_count": 13,
   "id": "6ec6d7c9",
   "metadata": {},
   "outputs": [
    {
     "name": "stdout",
     "output_type": "stream",
     "text": [
      "사용자: '내 이름은 김철수야'\n",
      "AI: 안녕하세요, 김철수님! 어떻게 도와드릴까요?\n"
     ]
    }
   ],
   "source": [
    "# 첫 번째 대화\n",
    "print(\"사용자: '내 이름은 김철수야'\")\n",
    "result1 = app_with_memory.invoke(\n",
    "    {\"messages\": [HumanMessage(content=\"내 이름은 김철수야\")]}, \n",
    "    config=config  # 여기가 중요!\n",
    ")\n",
    "print(f\"AI: {result1['messages'][-1].content}\")"
   ]
  },
  {
   "cell_type": "code",
   "execution_count": 14,
   "id": "89cbb129",
   "metadata": {},
   "outputs": [
    {
     "name": "stdout",
     "output_type": "stream",
     "text": [
      "사용자: '내 이름이 뭐였지?'\n",
      "AI: 당신의 이름은 김철수입니다. 다른 질문이 있으신가요?\n",
      "\n",
      "결과: AI가 이전 대화를 기억합니다!\n"
     ]
    }
   ],
   "source": [
    "# 두 번째 대화 (같은 thread_id 사용)\n",
    "print(\"사용자: '내 이름이 뭐였지?'\")\n",
    "result2 = app_with_memory.invoke(\n",
    "    {\"messages\": [HumanMessage(content=\"내 이름이 뭐였지?\")]}, \n",
    "    config=config  # 같은 config 사용!\n",
    ")\n",
    "print(f\"AI: {result2['messages'][-1].content}\")\n",
    "\n",
    "print(\"\\n결과: AI가 이전 대화를 기억합니다!\")"
   ]
  },
  {
   "cell_type": "markdown",
   "id": "eca88fbc",
   "metadata": {},
   "source": [
    "## 3. ConversationBufferWindowMemory 예시\n",
    "**최근 N개 메시지만 기억하는 효율적인 챗봇**\n",
    "\n",
    "긴 대화에서는 모든 내용을 기억하면 메모리가 부족할 수 있어요. 그래서 최근 몇 개의 메시지만 기억하는 방법을 사용합니다!\n"
   ]
  },
  {
   "cell_type": "markdown",
   "id": "fac64197",
   "metadata": {},
   "source": [
    "### 1. AI 모델 설정"
   ]
  },
  {
   "cell_type": "code",
   "execution_count": 15,
   "id": "ab44e5f8",
   "metadata": {},
   "outputs": [],
   "source": [
    "from langchain_openai import ChatOpenAI\n",
    "\n",
    "llm = ChatOpenAI(model=\"gpt-4o-mini\", temperature=0)"
   ]
  },
  {
   "cell_type": "markdown",
   "id": "fede5998",
   "metadata": {},
   "source": [
    "### 2. 윈도우 메모리 노드 정의"
   ]
  },
  {
   "cell_type": "code",
   "execution_count": 16,
   "id": "a74e607b",
   "metadata": {},
   "outputs": [],
   "source": [
    "from langgraph.graph import MessagesState\n",
    "\n",
    "def chat_node_with_window(state: MessagesState, window_size=4):\n",
    "    \"\"\"최근 window_size 개의 메시지만 유지하는 함수\"\"\"\n",
    "    messages = state[\"messages\"]\n",
    "    \n",
    "    # 메시지가 너무 많으면 최근 것만 선택\n",
    "    if len(messages) > window_size:\n",
    "        # 시스템 메시지는 항상 유지하고, 나머지는 최근 것만\n",
    "        system_messages = [msg for msg in messages if msg.type == \"system\"]\n",
    "        other_messages = [msg for msg in messages if msg.type != \"system\"]\n",
    "        \n",
    "        # 최근 메시지만 선택\n",
    "        recent_messages = other_messages[-window_size:]\n",
    "        windowed_messages = system_messages + recent_messages\n",
    "    else:\n",
    "        windowed_messages = messages\n",
    "    \n",
    "    response = llm.invoke(windowed_messages)\n",
    "    return {\"messages\": [response]}"
   ]
  },
  {
   "cell_type": "markdown",
   "id": "d0807996",
   "metadata": {},
   "source": [
    "### 3. 그래프 생성"
   ]
  },
  {
   "cell_type": "code",
   "execution_count": 17,
   "id": "e529ca94",
   "metadata": {},
   "outputs": [
    {
     "data": {
      "text/plain": [
       "<langgraph.graph.state.StateGraph at 0x1154ba990>"
      ]
     },
     "execution_count": 17,
     "metadata": {},
     "output_type": "execute_result"
    }
   ],
   "source": [
    "from langgraph.graph import StateGraph, MessagesState, START, END\n",
    "\n",
    "graph_window = StateGraph(MessagesState)\n",
    "graph_window.add_node(\"chat\", chat_node_with_window)\n",
    "graph_window.add_edge(START, \"chat\")\n",
    "graph_window.add_edge(\"chat\", END)"
   ]
  },
  {
   "cell_type": "markdown",
   "id": "e4e7bf37",
   "metadata": {},
   "source": [
    "### 4. 컴파일"
   ]
  },
  {
   "cell_type": "code",
   "execution_count": 18,
   "id": "67b3b2d6",
   "metadata": {},
   "outputs": [
    {
     "name": "stdout",
     "output_type": "stream",
     "text": [
      "Window Memory 챗봇이 준비되었습니다! (최근 4개 메시지만 기억)\n"
     ]
    }
   ],
   "source": [
    "from langgraph.checkpoint.memory import MemorySaver \n",
    "\n",
    "memory_window = MemorySaver()\n",
    "app_with_window = graph_window.compile(checkpointer=memory_window)\n",
    "\n",
    "print(\"Window Memory 챗봇이 준비되었습니다! (최근 4개 메시지만 기억)\")"
   ]
  },
  {
   "cell_type": "markdown",
   "id": "18022770",
   "metadata": {},
   "source": [
    "### 5. 테스트 "
   ]
  },
  {
   "cell_type": "code",
   "execution_count": 19,
   "id": "aeafba67",
   "metadata": {},
   "outputs": [
    {
     "name": "stdout",
     "output_type": "stream",
     "text": [
      "=== Window Memory 챗봇 테스트 ===\n",
      "많은 정보를 말해보고, 나중에 오래된 정보를 기억하는지 확인해보겠습니다!\n",
      "\n"
     ]
    }
   ],
   "source": [
    "from langchain_core.messages import HumanMessage\n",
    "import uuid\n",
    "\n",
    "# 중요: 같은 thread_id를 사용해야 대화가 연결됩니다!\n",
    "memory_id = str(uuid.uuid4())\n",
    "# Window Memory 테스트: 오래된 정보를 기억할까요?\n",
    "config_window = {\"configurable\": {\"thread_id\": memory_id}}\n",
    "\n",
    "print(\"=== Window Memory 챗봇 테스트 ===\")\n",
    "print(\"많은 정보를 말해보고, 나중에 오래된 정보를 기억하는지 확인해보겠습니다!\\n\")"
   ]
  },
  {
   "cell_type": "code",
   "execution_count": 20,
   "id": "14dfb86f",
   "metadata": {},
   "outputs": [
    {
     "name": "stdout",
     "output_type": "stream",
     "text": [
      "1번째 대화: '내 이름은 김철수야'\n",
      "AI: 안녕하세요, 김철수님! 어떻게 도와드릴까요?\n",
      "----------------------------------------\n",
      "2번째 대화: '나는 30살이야'\n",
      "AI: 30살이시군요! 이 나이에 특별히 하고 싶은 목표나 계획이 있으신가요?\n",
      "----------------------------------------\n",
      "3번째 대화: '내 이름이 뭐였지?'\n",
      "AI: 당신의 이름은 김철수입니다. 다른 질문이나 도움이 필요하신 부분이 있으면 말씀해 주세요!\n",
      "----------------------------------------\n",
      "4번째 대화: '서울에 살고 있어'\n",
      "AI: 서울에 살고 계시군요! 서울은 다양한 문화와 맛있는 음식, 멋진 경치가 있는 도시죠. 서울에서 좋아하는 장소나 활동이 있으신가요?\n",
      "----------------------------------------\n",
      "5번째 대화: '취미는 축구야'\n",
      "AI: 축구를 좋아하시군요! 축구는 정말 재미있고 팀워크를 중요시하는 스포츠죠. 어떤 팀을 응원하시나요? 또는 축구를 하시는 것도 좋아하시나요?\n",
      "----------------------------------------\n",
      "6번째 대화: '좋아하는 색깔은 파란색이야'\n",
      "AI: 파란색은 정말 멋진 색깔이죠! 시원하고 안정감을 주는 느낌이 있어요. 파란색과 관련된 특별한 이유가 있나요? 아니면 파란색을 좋아하는 다른 이유가 있으신가요?\n",
      "----------------------------------------\n",
      "7번째 대화: '어제 영화를 봤어'\n",
      "AI: 어떤 영화를 보셨나요? 영화의 장르나 내용이 궁금해요! 재미있었나요?\n",
      "----------------------------------------\n",
      "8번째 대화: '오늘은 운동을 했어'\n",
      "AI: 운동을 하셨군요! 어떤 운동을 하셨나요? 운동 후 기분이 어떠셨나요?\n",
      "----------------------------------------\n",
      "9번째 대화: '내 이름이 뭐였지?'\n",
      "AI: 죄송하지만, 이전 대화에서 이름을 언급하지 않으셨기 때문에 알 수 없습니다. 이름을 알려주시면 기억하겠습니다!\n",
      "----------------------------------------\n",
      "10번째 대화: '어제 뭐했다고 했지?'\n",
      "AI: 죄송하지만, 이전 대화 내용을 기억할 수는 없습니다. 하지만 어제 어떤 일을 하셨는지 말씀해 주시면 그에 대해 이야기할 수 있습니다!\n",
      "----------------------------------------\n",
      "\n",
      "결과: 최근 4개 메시지만 기억해서 메모리가 효율적!\n",
      "오래된 정보(이름)는 잊어버릴 수 있지만, 최근 정보(어제 한 일)는 기억해요!\n"
     ]
    }
   ],
   "source": [
    "# 여러 정보 입력\n",
    "messages_to_test = [\n",
    "    \"내 이름은 김철수야\",\n",
    "    \"나는 30살이야\", \n",
    "    \"내 이름이 뭐였지?\", # 기억함 \n",
    "    \"서울에 살고 있어\",\n",
    "    \"취미는 축구야\",\n",
    "    \"좋아하는 색깔은 파란색이야\",\n",
    "    \"어제 영화를 봤어\",\n",
    "    \"오늘은 운동을 했어\",\n",
    "    \"내 이름이 뭐였지?\",  # 오래전 정보 (기억 못할 수도 있음)\n",
    "    \"어제 뭐했다고 했지?\"  # 최근 정보 (기억해야 함)\n",
    "]\n",
    "\n",
    "for i, msg in enumerate(messages_to_test, 1):\n",
    "    print(f\"{i}번째 대화: '{msg}'\")\n",
    "    result = app_with_window.invoke(\n",
    "        {\"messages\": [HumanMessage(content=msg)]}, \n",
    "        config=config_window\n",
    "    )\n",
    "    print(f\"AI: {result['messages'][-1].content}\")\n",
    "    print(\"-\" * 40)\n",
    "\n",
    "print(\"\\n결과: 최근 4개 메시지만 기억해서 메모리가 효율적!\")\n",
    "print(\"오래된 정보(이름)는 잊어버릴 수 있지만, 최근 정보(어제 한 일)는 기억해요!\")"
   ]
  },
  {
   "cell_type": "markdown",
   "id": "bf30e362",
   "metadata": {},
   "source": [
    "## 4. ConversationSummaryMemory 예시\n",
    "**오래된 대화를 요약해서 기억하는 똑똑한 챗봇**\n",
    "\n",
    "모든 대화를 기억하되, 오래된 내용은 요약해서 저장하는 방법입니다!\n"
   ]
  },
  {
   "cell_type": "markdown",
   "id": "a29d0e99",
   "metadata": {},
   "source": [
    "### 1. AI 모델 설정"
   ]
  },
  {
   "cell_type": "code",
   "execution_count": 21,
   "id": "3213aad8",
   "metadata": {},
   "outputs": [],
   "source": [
    "from langchain_openai import ChatOpenAI\n",
    "\n",
    "llm = ChatOpenAI(model=\"gpt-4o-mini\", temperature=0)"
   ]
  },
  {
   "cell_type": "markdown",
   "id": "ea765aaa",
   "metadata": {},
   "source": [
    "### 2. 요약 기능이 포함된 노드 정의"
   ]
  },
  {
   "cell_type": "code",
   "execution_count": 22,
   "id": "2f1395ff",
   "metadata": {},
   "outputs": [],
   "source": [
    "from langchain_core.messages import SystemMessage\n",
    "\n",
    "def summarize_old_messages(messages, max_messages=4):\n",
    "    \"\"\"오래된 메시지들을 요약하는 함수\"\"\"\n",
    "    if len(messages) <= max_messages:\n",
    "        return messages\n",
    "    \n",
    "    # 오래된 메시지와 최근 메시지 분리\n",
    "    old_messages = messages[:-max_messages]\n",
    "    recent_messages = messages[-max_messages:]\n",
    "    \n",
    "    # 요약 만들기\n",
    "    summary_text = \"이전 대화 요약:\\\\n\"\n",
    "    for msg in old_messages:\n",
    "        if msg.type == \"human\":\n",
    "            summary_text += f\"- 사용자: {msg.content}\\\\n\"\n",
    "        elif msg.type == \"ai\":\n",
    "            summary_text += f\"- AI: {msg.content}\\\\n\"\n",
    "    \n",
    "    # 요약을 시스템 메시지로 만들기\n",
    "    summary_message = SystemMessage(content=summary_text)\n",
    "    \n",
    "    return [summary_message] + recent_messages"
   ]
  },
  {
   "cell_type": "code",
   "execution_count": 23,
   "id": "a4a5afc7",
   "metadata": {},
   "outputs": [],
   "source": [
    "from langgraph.graph import MessagesState\n",
    "\n",
    "def chat_node_with_summary(state: MessagesState):\n",
    "    # 메시지가 너무 많으면 요약\n",
    "    summarized_messages = summarize_old_messages(state[\"messages\"])\n",
    "    \n",
    "    response = llm.invoke(summarized_messages)\n",
    "    return {\"messages\": [response]}"
   ]
  },
  {
   "cell_type": "markdown",
   "id": "fdf5ef2d",
   "metadata": {},
   "source": [
    "### 3. 그래프 생성"
   ]
  },
  {
   "cell_type": "code",
   "execution_count": 24,
   "id": "d982a61a",
   "metadata": {},
   "outputs": [
    {
     "data": {
      "text/plain": [
       "<langgraph.graph.state.StateGraph at 0x11549eea0>"
      ]
     },
     "execution_count": 24,
     "metadata": {},
     "output_type": "execute_result"
    }
   ],
   "source": [
    "from langgraph.graph import StateGraph, MessagesState, START, END \n",
    "\n",
    "graph_summary = StateGraph(MessagesState)\n",
    "graph_summary.add_node(\"chat\", chat_node_with_summary)\n",
    "graph_summary.add_edge(START, \"chat\")\n",
    "graph_summary.add_edge(\"chat\", END)"
   ]
  },
  {
   "cell_type": "markdown",
   "id": "f9be058b",
   "metadata": {},
   "source": [
    "### 4. 컴파일"
   ]
  },
  {
   "cell_type": "code",
   "execution_count": 25,
   "id": "48971994",
   "metadata": {},
   "outputs": [
    {
     "name": "stdout",
     "output_type": "stream",
     "text": [
      "Summary Memory 챗봇이 준비되었습니다! (오래된 대화는 요약해서 기억)\n"
     ]
    }
   ],
   "source": [
    "from langgraph.checkpoint.memory import MemorySaver\n",
    "\n",
    "memory_summary = MemorySaver()\n",
    "app_with_summary = graph_summary.compile(checkpointer=memory_summary)\n",
    "\n",
    "print(\"Summary Memory 챗봇이 준비되었습니다! (오래된 대화는 요약해서 기억)\")"
   ]
  },
  {
   "cell_type": "markdown",
   "id": "fcb5259f",
   "metadata": {},
   "source": [
    "### 5. 테스트"
   ]
  },
  {
   "cell_type": "code",
   "execution_count": 26,
   "id": "c014747e",
   "metadata": {},
   "outputs": [
    {
     "name": "stdout",
     "output_type": "stream",
     "text": [
      "=== Summary Memory 챗봇 테스트 ===\n",
      "많은 정보를 말해보고, 나중에 요약된 정보로 기억하는지 확인해보겠습니다!\\n\n"
     ]
    }
   ],
   "source": [
    "from langchain_core.messages import HumanMessage\n",
    "import uuid\n",
    "\n",
    "# 중요: 같은 thread_id를 사용해야 대화가 연결됩니다!\n",
    "memory_id = str(uuid.uuid4())\n",
    "# Summary Memory 테스트\n",
    "config_summary = {\"configurable\": {\"thread_id\": memory_id}}\n",
    "\n",
    "print(\"=== Summary Memory 챗봇 테스트 ===\")\n",
    "print(\"많은 정보를 말해보고, 나중에 요약된 정보로 기억하는지 확인해보겠습니다!\\\\n\")"
   ]
  },
  {
   "cell_type": "code",
   "execution_count": 27,
   "id": "900b15a8",
   "metadata": {},
   "outputs": [
    {
     "name": "stdout",
     "output_type": "stream",
     "text": [
      "1번째 대화: '내 이름은 김철수야'\n",
      "AI: 안녕하세요, 김철수님! 어떻게 도와드릴까요?\n",
      "----------------------------------------\n",
      "2번째 대화: '나는 서울에 살아'\n",
      "AI: 서울에 사시는군요! 서울은 정말 다양한 문화와 매력이 있는 도시죠. 서울에서 좋아하는 장소나 활동이 있으신가요?\n",
      "----------------------------------------\n",
      "3번째 대화: '취미는 축구야'\n",
      "AI: 축구를 좋아하시군요! 축구는 정말 재미있고 팀워크도 중요한 스포츠죠. 어떤 팀을 응원하시나요? 또는 자주 축구를 하시나요?\n",
      "----------------------------------------\n",
      "4번째 대화: '좋아하는 음식은 피자야'\n",
      "AI: 피자를 좋아하시군요! 피자는 다양한 토핑과 스타일로 즐길 수 있어서 정말 매력적인 음식이죠. 어떤 종류의 피자를 가장 좋아하시나요? 마르게리타, 페퍼로니, 아니면 다른 특별한 토핑이 있나요?\n",
      "----------------------------------------\n",
      "5번째 대화: '오늘 날씨가 좋네'\n",
      "AI: 날씨가 좋다니 기분이 좋으시겠어요! 이렇게 좋은 날에는 밖에 나가서 활동하기 좋은 것 같아요. 혹시 오늘 특별한 계획이 있으신가요?\n",
      "----------------------------------------\n",
      "6번째 대화: '좋아하는 과일은 수박,복숭아야'\n",
      "AI: 수박과 복숭아를 좋아하시군요! 여름철에 특히 맛있는 과일들이죠. 수박은 시원하고 상큼해서 더위를 식히기에 좋고, 복숭아는 달콤하고 부드러워서 정말 맛있죠. 두 과일을 함께 먹으면 더 맛있을 것 같아요! 과일을 자주 드시나요?\n",
      "----------------------------------------\n",
      "7번째 대화: '내 이름과 사는 곳이 뭐였지?'\n",
      "AI: 당신의 이름은 김철수님이고, 서울에 사신다고 하셨습니다!\n",
      "----------------------------------------\n",
      "\\n결과: 오래된 대화는 요약되지만 중요한 정보는 기억합니다!\n",
      "메모리 효율적이면서도 핵심 정보를 유지해요!\n"
     ]
    }
   ],
   "source": [
    "# 테스트할 메시지들\n",
    "test_messages = [\n",
    "    \"내 이름은 김철수야\",\n",
    "    \"나는 서울에 살아\", \n",
    "    \"취미는 축구야\",\n",
    "    \"좋아하는 음식은 피자야\",\n",
    "    \"오늘 날씨가 좋네\",\n",
    "    \"좋아하는 과일은 수박,복숭아야\",\n",
    "    \"내 이름과 사는 곳이 뭐였지?\"  # 오래된 정보가 요약되어 기억되는지 테스트\n",
    "]\n",
    "\n",
    "for i, msg in enumerate(test_messages, 1):\n",
    "    print(f\"{i}번째 대화: '{msg}'\")\n",
    "    result = app_with_summary.invoke(\n",
    "        {\"messages\": [HumanMessage(content=msg)]}, \n",
    "        config=config_summary\n",
    "    )\n",
    "    print(f\"AI: {result['messages'][-1].content}\")\n",
    "    print(\"-\" * 40)\n",
    "\n",
    "print(\"\\\\n결과: 오래된 대화는 요약되지만 중요한 정보는 기억합니다!\")\n",
    "print(\"메모리 효율적이면서도 핵심 정보를 유지해요!\")"
   ]
  },
  {
   "cell_type": "markdown",
   "id": "3d8dca87",
   "metadata": {},
   "source": [
    "## 5. 암호화된 SQLite Memory 예시 (EncryptedSerializer)\n",
    "**보안이 중요한 대화를 암호화해서 저장하는 챗봇**\n",
    "\n",
    "실제 서비스에서는 대화 내용을 안전하게 보관해야 해요. SQLite 데이터베이스에 암호화해서 저장하는 방법입니다!\n"
   ]
  },
  {
   "cell_type": "markdown",
   "id": "2839a652",
   "metadata": {},
   "source": [
    "### 1. AI 모델 설정"
   ]
  },
  {
   "cell_type": "code",
   "execution_count": 28,
   "id": "b2688ae8",
   "metadata": {},
   "outputs": [],
   "source": [
    "from langchain_openai import ChatOpenAI\n",
    "\n",
    "llm = ChatOpenAI(model=\"gpt-4o-mini\", temperature=0)"
   ]
  },
  {
   "cell_type": "markdown",
   "id": "dbc3905c",
   "metadata": {},
   "source": [
    "### 2. 챗봇 노드 정의"
   ]
  },
  {
   "cell_type": "code",
   "execution_count": 29,
   "id": "5415fbe7",
   "metadata": {},
   "outputs": [],
   "source": [
    "from langgraph.graph import MessagesState\n",
    "\n",
    "def secure_chat_node(state: MessagesState):\n",
    "    \"\"\"보안이 적용된 챗봇 노드\"\"\"\n",
    "    response = llm.invoke(state[\"messages\"])\n",
    "    return {\"messages\": [response]}"
   ]
  },
  {
   "cell_type": "markdown",
   "id": "223fb629",
   "metadata": {},
   "source": [
    "### 4. 그래프 생성"
   ]
  },
  {
   "cell_type": "code",
   "execution_count": 30,
   "id": "39e5a796",
   "metadata": {},
   "outputs": [
    {
     "data": {
      "text/plain": [
       "<langgraph.graph.state.StateGraph at 0x114d97950>"
      ]
     },
     "execution_count": 30,
     "metadata": {},
     "output_type": "execute_result"
    }
   ],
   "source": [
    "from langgraph.graph import StateGraph, MessagesState, START, END\n",
    "\n",
    "secure_graph = StateGraph(MessagesState)\n",
    "secure_graph.add_node(\"chat\", secure_chat_node)\n",
    "secure_graph.add_edge(START, \"chat\")\n",
    "secure_graph.add_edge(\"chat\", END)"
   ]
  },
  {
   "cell_type": "markdown",
   "id": "ee8f255f",
   "metadata": {},
   "source": [
    "### 5. 암호화 키 설정 (실제 운영에서는 환경변수로 관리!)"
   ]
  },
  {
   "cell_type": "code",
   "execution_count": 31,
   "id": "4f1293f4",
   "metadata": {},
   "outputs": [
    {
     "name": "stdout",
     "output_type": "stream",
     "text": [
      "암호화 키가 설정되었습니다!\n",
      "실제 운영에서는 환경변수나 보안 저장소에서 키를 가져오세요!\n"
     ]
    }
   ],
   "source": [
    "import hashlib \n",
    "import os\n",
    "\n",
    "def aes_key(seed_string:str):\n",
    "    return hashlib.sha256(str(seed_string).encode()).hexdigest()[:32]\n",
    "\n",
    "seed = \"Development\" # 개발인 경우 \n",
    "# 운영인 경우 \n",
    "if os.getenv(\"ENV\") == \"Production\":\n",
    "    seed = os.getenv(\"SECRET_SEED\", \"your-secret-seed-here\")\n",
    "\n",
    "os.environ[\"LANGGRAPH_AES_KEY\"] = aes_key(seed)\n",
    "print(\"암호화 키가 설정되었습니다!\")\n",
    "print(\"실제 운영에서는 환경변수나 보안 저장소에서 키를 가져오세요!\")"
   ]
  },
  {
   "cell_type": "markdown",
   "id": "f32daa2d",
   "metadata": {},
   "source": [
    "### 6. 암호화된 SQLite 저장소 설정"
   ]
  },
  {
   "cell_type": "code",
   "execution_count": 32,
   "id": "ba3f0c7f",
   "metadata": {},
   "outputs": [],
   "source": [
    "import sqlite3\n",
    "from langgraph.checkpoint.serde.encrypted import EncryptedSerializer\n",
    "from langgraph.checkpoint.sqlite import SqliteSaver\n",
    "\n",
    "# check_same_thread=False 옵션으로 멀티스레드 환경에서 사용 가능하게 설정\n",
    "def get_db_connection():\n",
    "    return sqlite3.connect(\"secure_memory.db\", check_same_thread=False)  # SQLite 데이터베이스\n",
    "\n",
    "serde = EncryptedSerializer.from_pycryptodome_aes()  # 암호화 직렬화기\n",
    "checkpointer = SqliteSaver(get_db_connection(), serde=serde)  # 암호화된 저장소"
   ]
  },
  {
   "cell_type": "markdown",
   "id": "de3a08ac",
   "metadata": {},
   "source": [
    "### 7. 암호화된 Memory와 함께 컴파일"
   ]
  },
  {
   "cell_type": "code",
   "execution_count": 33,
   "id": "2f99b209",
   "metadata": {},
   "outputs": [
    {
     "name": "stdout",
     "output_type": "stream",
     "text": [
      "암호화된 SQLite Memory 챗봇이 준비되었습니다!\n",
      "대화 내용이 'secure_memory.db' 파일에 암호화되어 저장됩니다!\n"
     ]
    }
   ],
   "source": [
    "secure_app = secure_graph.compile(checkpointer=checkpointer)\n",
    "\n",
    "print(\"암호화된 SQLite Memory 챗봇이 준비되었습니다!\")\n",
    "print(\"대화 내용이 'secure_memory.db' 파일에 암호화되어 저장됩니다!\")"
   ]
  },
  {
   "cell_type": "markdown",
   "id": "6023d8f9",
   "metadata": {},
   "source": [
    "### 8. 테스트 "
   ]
  },
  {
   "cell_type": "code",
   "execution_count": 34,
   "id": "085b3ef5",
   "metadata": {},
   "outputs": [
    {
     "name": "stdout",
     "output_type": "stream",
     "text": [
      "=== 암호화된 SQLite Memory 챗봇 테스트 ===\n",
      "중요한 개인정보를 포함한 대화를 테스트해보겠습니다!\\n\n",
      "config_secure: {'configurable': {'thread_id': 'ef751c5c-ea70-4afc-a79b-8cbbf40605c3'}}\n"
     ]
    }
   ],
   "source": [
    "import uuid\n",
    "\n",
    "# 중요: 같은 thread_id를 사용해야 대화가 연결됩니다!\n",
    "memory_id = str(uuid.uuid4())\n",
    "# 암호화된 Memory 테스트\n",
    "config_secure = {\"configurable\": {\"thread_id\": memory_id}}\n",
    "\n",
    "print(\"=== 암호화된 SQLite Memory 챗봇 테스트 ===\")\n",
    "print(\"중요한 개인정보를 포함한 대화를 테스트해보겠습니다!\\\\n\")\n",
    "print(f\"config_secure: {config_secure}\")"
   ]
  },
  {
   "cell_type": "code",
   "execution_count": 35,
   "id": "25629aeb",
   "metadata": {},
   "outputs": [
    {
     "name": "stdout",
     "output_type": "stream",
     "text": [
      "1번째 대화: '내 이름은 김철수이고, 주민번호는 800101-1234567이야'\n",
      "AI: 죄송하지만, 개인 정보를 요청하거나 저장할 수 없습니다. 다른 질문이나 도움이 필요하신 부분이 있다면 말씀해 주세요!\n",
      "--------------------------------------------------\n",
      "2번째 대화: '내 계좌번호는 123-456-789012야'\n",
      "AI: 죄송하지만, 개인적인 금융 정보나 민감한 정보를 공유하실 수 없습니다. 다른 질문이나 도움이 필요하신 부분이 있다면 말씀해 주세요!\n",
      "--------------------------------------------------\n",
      "3번째 대화: '비밀번호는 mySecret123!이야'\n",
      "AI: 죄송하지만, 비밀번호와 같은 민감한 정보를 공유하실 수 없습니다. 보안을 위해 개인 정보를 안전하게 보호하는 것이 중요합니다. 다른 질문이나 도움이 필요하신 부분이 있다면 말씀해 주세요!\n",
      "--------------------------------------------------\n",
      "4번째 대화: '내 개인정보가 뭐였지?'\n",
      "AI: 죄송하지만, 저는 개인 정보를 저장하거나 기억할 수 없습니다. 또한, 개인정보 보호를 위해 그러한 정보를 요청하거나 처리하지 않습니다. 다른 질문이나 도움이 필요하신 부분이 있다면 말씀해 주세요!\n",
      "--------------------------------------------------\n",
      "5번째 대화: '계좌번호를 다시 알려줘'\n",
      "AI: 죄송하지만, 개인적인 정보나 계좌번호와 같은 민감한 정보를 저장하거나 제공할 수 없습니다. 보안과 개인정보 보호를 위해 이러한 정보를 안전하게 관리하는 것이 중요합니다. 다른 질문이나 도움이 필요하신 부분이 있다면 말씀해 주세요!\n",
      "--------------------------------------------------\n",
      "\\n결과: 모든 대화가 암호화되어 안전하게 저장되었습니다!\n",
      "데이터베이스를 직접 열어봐도 암호화된 내용만 보입니다!\n"
     ]
    }
   ],
   "source": [
    "from langchain_core.messages import HumanMessage\n",
    "\n",
    "# 민감한 정보를 포함한 대화 테스트\n",
    "sensitive_messages = [\n",
    "    \"내 이름은 김철수이고, 주민번호는 800101-1234567이야\",\n",
    "    \"내 계좌번호는 123-456-789012야\", \n",
    "    \"비밀번호는 mySecret123!이야\",\n",
    "    \"내 개인정보가 뭐였지?\",\n",
    "    \"계좌번호를 다시 알려줘\"\n",
    "]\n",
    "\n",
    "for i, msg in enumerate(sensitive_messages, 1):\n",
    "    print(f\"{i}번째 대화: '{msg}'\")\n",
    "    result = secure_app.invoke(\n",
    "        {\"messages\": [HumanMessage(content=msg)]}, \n",
    "        config=config_secure\n",
    "    )\n",
    "    print(f\"AI: {result['messages'][-1].content}\")\n",
    "    print(\"-\" * 50)\n",
    "\n",
    "print(\"\\\\n결과: 모든 대화가 암호화되어 안전하게 저장되었습니다!\")\n",
    "print(\"데이터베이스를 직접 열어봐도 암호화된 내용만 보입니다!\")"
   ]
  },
  {
   "cell_type": "markdown",
   "id": "e8ad00a3",
   "metadata": {},
   "source": [
    "### 9. 데이터베이스 내용 확인 (암호화 확인)"
   ]
  },
  {
   "cell_type": "markdown",
   "id": "8a30f53b",
   "metadata": {},
   "source": [
    "#### 보안 장점 \n",
    "- 대화 내용이 암호화되어 저장 \n",
    "- 키 없이는 데이터 복호화 불가능 \n",
    "- SQLite 파일을 직접 열어도 내용 확인 불가 \n",
    "- 실제 서비스에 적합한 보안 수준 "
   ]
  },
  {
   "cell_type": "code",
   "execution_count": null,
   "id": "782ec663",
   "metadata": {},
   "outputs": [
    {
     "name": "stdout",
     "output_type": "stream",
     "text": [
      "\\n=== 데이터베이스 암호화 확인 ===\n",
      "생성된 테이블들: [('checkpoints',), ('writes',)]\n",
      "\\n데이터베이스에 저장된 실제 데이터 (일부):\n",
      "Thread ID: ef751c5c-ea70-4afc-a79b-8cbbf40605c3\n",
      "암호화된 데이터 (처음 100자): ('ef751c5c-ea70-4afc-a79b-8cbbf40605c3', '', '1f07e6bc-e171-6088-bfff-5452d229018d', None, 'msgpack+...\n",
      "\\n보시다시피 실제 대화 내용은 암호화되어 읽을 수 없습니다!\n",
      "\\n보안 장점:\n",
      "1. 대화 내용이 암호화되어 저장\n",
      "2. 키 없이는 데이터 복호화 불가능\n",
      "3. SQLite 파일을 직접 열어도 내용 확인 불가\n",
      "4. 실제 서비스에 적합한 보안 수준\n"
     ]
    }
   ],
   "source": [
    "print(\"\\\\n=== 데이터베이스 암호화 확인 ===\")\n",
    "\n",
    "# SQLite 데이터베이스에서 실제 저장된 데이터 확인\n",
    "cursor = get_db_connection().cursor()\n",
    "\n",
    "try:\n",
    "    # 테이블 구조 확인\n",
    "    cursor.execute(\"SELECT name FROM sqlite_master WHERE type='table'\")\n",
    "    tables = cursor.fetchall()\n",
    "    print(f\"생성된 테이블들: {tables}\")\n",
    "    \n",
    "    # 실제 데이터 일부 확인 (암호화된 상태)\n",
    "    cursor.execute(\"SELECT * FROM checkpoints LIMIT 1\")\n",
    "    encrypted_data = cursor.fetchone()\n",
    "    \n",
    "    if encrypted_data:\n",
    "        print(\"\\\\n데이터베이스에 저장된 실제 데이터 (일부):\")\n",
    "        print(f\"Thread ID: {encrypted_data[0] if encrypted_data[0] else 'N/A'}\")\n",
    "        print(f\"암호화된 데이터 (처음 100자): {str(encrypted_data)[:100]}...\")\n",
    "        print(\"\\\\n보시다시피 실제 대화 내용은 암호화되어 읽을 수 없습니다!\")\n",
    "    else:\n",
    "        print(\"아직 저장된 데이터가 없습니다.\")\n",
    "        \n",
    "except Exception as e:\n",
    "    print(f\"데이터베이스 확인 중 오류: {e}\")\n"
   ]
  },
  {
   "cell_type": "markdown",
   "id": "2105d581",
   "metadata": {},
   "source": [
    "### EncryptedSerializer 사용 시 주의사항\n",
    "\n",
    "#### 필수 설치 패키지\n",
    "```bash\n",
    "pip install pycryptodome  # 암호화를 위해 필요\n",
    "```\n",
    "\n",
    "#### 암호화 키 관리\n",
    "```python\n",
    "# 나쁜 예시 - 코드에 직접 하드코딩\n",
    "os.environ[\"LANGGRAPH_AES_KEY\"] = \"hardcoded-key\"\n",
    "\n",
    "# 좋은 예시 - 환경변수나 보안 저장소 사용\n",
    "import os\n",
    "key = os.getenv(\"LANGGRAPH_AES_KEY\")  # 환경변수에서 가져오기\n",
    "```\n",
    "\n",
    "#### 실제 운영 환경에서의 권장사항\n",
    "1. **환경변수로 키 관리**: 코드에 키를 하드코딩하지 말 것\n",
    "2. **키 회전 정책**: 정기적으로 암호화 키 변경\n",
    "3. **백업 정책**: 암호화된 데이터베이스 백업 계획\n",
    "4. **접근 권한**: 데이터베이스 파일 접근 권한 제한\n"
   ]
  },
  {
   "cell_type": "markdown",
   "id": "653f20f2",
   "metadata": {},
   "source": [
    "# 업데이트된 Memory 종류별 정리\n",
    "\n",
    "| Memory 종류 | 장점 | 단점 | 언제 사용할까? | 보안 수준 |\n",
    "|------------|------|------|----------------|-----------|\n",
    "| **Memory 없음** | 빠름, 단순함 | 대화 기억 안함 | 일회성 질문답변 | 보통 |\n",
    "| **MemorySaver** | 모든 대화 기억 | 메모리 많이 사용 | 짧은 대화, 모든 내용 중요 | 보통 |\n",
    "| **WindowMemory** | 적당한 메모리 사용 | 오래된 내용 잊음 | 긴 대화, 최근 내용만 중요 | 보통 |\n",
    "| **SummaryMemory** | 효율적, 핵심 유지 | 요약 과정 필요 | 긴 대화, 핵심 정보 유지 | 보통 |\n",
    "| **EncryptedSQLite** | 영구저장, 보안 | 설정 복잡, 성능 오버헤드 | 운영 서비스, 개인정보 포함 | **높음** |\n",
    "\n",
    "### 실제 사용 시나리오별 추천\n",
    "\n",
    "#### 개발/테스트 환경\n",
    "- **MemorySaver**: 간단한 테스트용\n",
    "- **WindowMemory**: 성능 테스트용\n",
    "\n",
    "#### 운영 환경  \n",
    "- **EncryptedSQLite**: 개인정보/민감정보 포함 서비스\n",
    "- **SummaryMemory + SQLite**: 일반 서비스\n",
    "\n",
    "#### 모바일/임베디드\n",
    "- **WindowMemory**: 메모리 제약 환경\n",
    "- **InMemory**: 일시적 사용\n"
   ]
  },
  {
   "cell_type": "markdown",
   "id": "d94d83af",
   "metadata": {},
   "source": []
  }
 ],
 "metadata": {
  "kernelspec": {
   "display_name": ".venv",
   "language": "python",
   "name": "python3"
  },
  "language_info": {
   "codemirror_mode": {
    "name": "ipython",
    "version": 3
   },
   "file_extension": ".py",
   "mimetype": "text/x-python",
   "name": "python",
   "nbconvert_exporter": "python",
   "pygments_lexer": "ipython3",
   "version": "3.13.2"
  }
 },
 "nbformat": 4,
 "nbformat_minor": 5
}
