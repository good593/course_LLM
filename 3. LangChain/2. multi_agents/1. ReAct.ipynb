{
 "cells": [
  {
   "cell_type": "markdown",
   "id": "tyH47yoLPt-H",
   "metadata": {
    "id": "tyH47yoLPt-H"
   },
   "source": [
    "# ReAct Agent 만들기\n",
    "- ReAct(Reasoning + Acting)는 대화형 AI가 복잡한 문제를 해결할 때 사용하는 프롬프팅 기법입니다."
   ]
  },
  {
   "cell_type": "markdown",
   "id": "Nr6rubEDRnUE",
   "metadata": {
    "id": "Nr6rubEDRnUE"
   },
   "source": [
    "## ReAct Agent란?\n",
    "\n",
    "**ReAct = Reasoning + Acting**\n",
    "- **Reasoning (추론)**: 문제를 분석하고 다음 단계를 계획\n",
    "- **Acting (행동)**: 실제로 도구를 사용하여 정보 수집이나 작업 수행\n",
    "- **Observation (관찰)**: 행동의 결과를 확인하고 다음 추론에 활용\n",
    "\n",
    "이 과정을 반복하여 최종 답안에 도달합니다."
   ]
  },
  {
   "cell_type": "code",
   "execution_count": 1,
   "id": "78c83807",
   "metadata": {
    "id": "78c83807",
    "outputId": "42ae713e-69fa-4f73-9d45-6f66052671ec"
   },
   "outputs": [
    {
     "name": "stdout",
     "output_type": "stream",
     "text": [
      "라이브러리 임포트 완료!\n"
     ]
    }
   ],
   "source": [
    "# 필요한 라이브러리 설치 및 import\n",
    "import os\n",
    "from dotenv import load_dotenv\n",
    "from langchain import hub\n",
    "from langchain.agents import create_react_agent, AgentExecutor\n",
    "from langchain_openai import ChatOpenAI\n",
    "from langchain.tools import tool\n",
    "from langchain_community.tools import TavilySearchResults\n",
    "import json\n",
    "\n",
    "# 환경 변수 로드\n",
    "load_dotenv()\n",
    "\n",
    "# API 키 설정 확인\n",
    "if not os.getenv(\"OPENAI_API_KEY\"):\n",
    "    print(\"OPENAI_API_KEY를 .env 파일에 설정해주세요.\")\n",
    "\n",
    "if not os.getenv(\"TAVILY_API_KEY\"):\n",
    "    print(\"TAVILY_API_KEY를 .env 파일에 설정해주세요. (웹 검색용)\")\n",
    "\n",
    "print(\"라이브러리 임포트 완료!\")\n"
   ]
  },
  {
   "cell_type": "markdown",
   "id": "39a62957",
   "metadata": {
    "id": "39a62957"
   },
   "source": [
    "## 1. 기본 ReAct Agent 설정\n",
    "\n",
    "먼저 기본적인 수학 계산 도구를 만들어 ReAct 패턴을 이해해보겠습니다.\n"
   ]
  },
  {
   "cell_type": "markdown",
   "id": "RETy0qPoP-fg",
   "metadata": {
    "id": "RETy0qPoP-fg"
   },
   "source": [
    "### 커스텀 도구 정의"
   ]
  },
  {
   "cell_type": "code",
   "execution_count": 2,
   "id": "cb122ecf",
   "metadata": {
    "id": "cb122ecf",
    "outputId": "20684061-eeb5-4d69-fb02-a028850cde0f"
   },
   "outputs": [
    {
     "name": "stdout",
     "output_type": "stream",
     "text": [
      "커스텀 도구 생성 완료!\n",
      "사용 가능한 도구:\n",
      "- calculator: 수학 계산을 수행합니다.\n",
      "expression: 계산할 수학 표현식 (예: \"2 + 3 * 4\")\n",
      "- get_length: 텍스트의 길이를 반환합니다.\n",
      "text: 길이를 측정할 텍스트\n"
     ]
    }
   ],
   "source": [
    "@tool\n",
    "def calculator(expression: str) -> str:\n",
    "    \"\"\"\n",
    "    수학 계산을 수행합니다.\n",
    "    expression: 계산할 수학 표현식 (예: \"2 + 3 * 4\")\n",
    "    \"\"\"\n",
    "    try:\n",
    "        # 안전한 계산을 위해 eval 대신 간단한 계산만 허용\n",
    "        allowed_chars = set('0123456789+-*/.() ')\n",
    "        if not all(c in allowed_chars for c in expression):\n",
    "            return \"오류: 허용되지 않는 문자가 포함되어 있습니다.\"\n",
    "\n",
    "        result = eval(expression)\n",
    "        return f\"계산 결과: {expression} = {result}\"\n",
    "    except Exception as e:\n",
    "        return f\"계산 오류: {str(e)}\"\n",
    "\n",
    "@tool\n",
    "def get_length(text: str) -> str:\n",
    "    \"\"\"\n",
    "    텍스트의 길이를 반환합니다.\n",
    "    text: 길이를 측정할 텍스트\n",
    "    \"\"\"\n",
    "    return f\"텍스트 '{text}'의 길이: {len(text)}글자\"\n",
    "\n",
    "# 도구 리스트 생성\n",
    "tools = [calculator, get_length]\n",
    "\n",
    "print(\"커스텀 도구 생성 완료!\")\n",
    "print(\"사용 가능한 도구:\")\n",
    "for tool in tools:\n",
    "    print(f\"- {tool.name}: {tool.description}\")\n"
   ]
  },
  {
   "cell_type": "markdown",
   "id": "J-xcVFfmQDVw",
   "metadata": {
    "id": "J-xcVFfmQDVw"
   },
   "source": [
    "### ReAct Agent 생성"
   ]
  },
  {
   "cell_type": "code",
   "execution_count": 3,
   "id": "64065dcc",
   "metadata": {
    "id": "64065dcc",
    "outputId": "f0ef0da0-e3d1-461a-ddc5-41006f520051"
   },
   "outputs": [
    {
     "name": "stdout",
     "output_type": "stream",
     "text": [
      "ReAct Agent 설정 완료!\n"
     ]
    }
   ],
   "source": [
    "# LangChain Hub에서 ReAct 프롬프트 가져오기\n",
    "react_prompt = hub.pull(\"hwchase17/react\")\n",
    "\n",
    "# LLM 초기화\n",
    "llm = ChatOpenAI(\n",
    "    model=\"gpt-3.5-turbo\",\n",
    "    temperature=0,\n",
    "    api_key=os.getenv(\"OPENAI_API_KEY\")\n",
    ")\n",
    "\n",
    "# ReAct Agent 생성\n",
    "agent = create_react_agent(\n",
    "    llm=llm,\n",
    "    tools=tools,\n",
    "    prompt=react_prompt\n",
    ")\n",
    "\n",
    "# Agent Executor 생성\n",
    "agent_executor = AgentExecutor(\n",
    "    agent=agent,\n",
    "    tools=tools,\n",
    "    verbose=True,  # 추론 과정을 자세히 출력\n",
    "    handle_parsing_errors=True,\n",
    "    max_iterations=5\n",
    ")\n",
    "\n",
    "print(\"ReAct Agent 설정 완료!\")\n"
   ]
  },
  {
   "cell_type": "markdown",
   "id": "3x9Vf4kiQHCK",
   "metadata": {
    "id": "3x9Vf4kiQHCK"
   },
   "source": [
    "### 기본 ReAct 예시 실행"
   ]
  },
  {
   "cell_type": "code",
   "execution_count": 4,
   "id": "3436606e",
   "metadata": {
    "id": "3436606e",
    "outputId": "6adfe32e-a237-4db5-f440-d6aaec4e4167"
   },
   "outputs": [
    {
     "name": "stdout",
     "output_type": "stream",
     "text": [
      "============================================================\n",
      "예시 1: 기본 수학 계산과 텍스트 분석\n",
      "============================================================\n",
      "\n",
      "\n",
      "\u001b[1m> Entering new AgentExecutor chain...\u001b[0m\n",
      "\u001b[32;1m\u001b[1;3m우선 수학 계산을 하고, 그 결과를 문자열로 변환한 후에 길이를 측정해야 합니다.\n",
      "Action: calculator\n",
      "Action Input: \"25 * 4 + 10\"\u001b[0m\u001b[36;1m\u001b[1;3m계산 결과: 25 * 4 + 10 = 110\u001b[0m\u001b[32;1m\u001b[1;3m이제 계산 결과를 문자열로 변환하고, 그 길이를 측정해야 합니다.\n",
      "Action: get_length\n",
      "Action Input: \"110\"\u001b[0m\u001b[33;1m\u001b[1;3m텍스트 '110'의 길이: 3글자\u001b[0m\u001b[32;1m\u001b[1;3m계산 결과인 '110'의 길이는 3글자입니다.\n",
      "Final Answer: 3\u001b[0m\n",
      "\n",
      "\u001b[1m> Finished chain.\u001b[0m\n",
      "\n",
      "최종 답변: 3\n"
     ]
    }
   ],
   "source": [
    "print(\"=\" * 60)\n",
    "print(\"예시 1: 기본 수학 계산과 텍스트 분석\")\n",
    "print(\"=\" * 60)\n",
    "\n",
    "question1 = \"25 * 4 + 10을 계산하고, 그 결과를 문자열로 변환했을 때의 길이를 알려주세요.\"\n",
    "\n",
    "try:\n",
    "    result1 = agent_executor.invoke({\"input\": question1})\n",
    "    print(f\"\\n최종 답변: {result1['output']}\")\n",
    "except Exception as e:\n",
    "    print(f\"오류 발생: {str(e)}\")\n"
   ]
  },
  {
   "cell_type": "markdown",
   "id": "6bd9f8dd",
   "metadata": {
    "id": "6bd9f8dd"
   },
   "source": [
    "## 2. 웹 검색 도구를 활용한 실제 사용 예시\n",
    "\n",
    "실시간 정보 검색이 필요한 복잡한 질문을 ReAct Agent로 해결해보겠습니다.\n"
   ]
  },
  {
   "cell_type": "markdown",
   "id": "DNHmpcUBQUo0",
   "metadata": {
    "id": "DNHmpcUBQUo0"
   },
   "source": [
    "### 웹 검색 도구 추가"
   ]
  },
  {
   "cell_type": "code",
   "execution_count": 5,
   "id": "iplnnRbIQSkG",
   "metadata": {
    "id": "iplnnRbIQSkG"
   },
   "outputs": [
    {
     "name": "stderr",
     "output_type": "stream",
     "text": [
      "/var/folders/tv/05qbcb8954z9x1yvqv_kr2t80000gn/T/ipykernel_81746/206651437.py:1: LangChainDeprecationWarning: The class `TavilySearchResults` was deprecated in LangChain 0.3.25 and will be removed in 1.0. An updated version of the class exists in the :class:`~langchain-tavily package and should be used instead. To use it run `pip install -U :class:`~langchain-tavily` and import as `from :class:`~langchain_tavily import TavilySearch``.\n",
      "  search_tool = TavilySearchResults(\n"
     ]
    }
   ],
   "source": [
    "search_tool = TavilySearchResults(\n",
    "    max_results=3,\n",
    "    search_depth=\"advanced\",\n",
    "    api_key=os.getenv(\"TAVILY_API_KEY\")\n",
    ")\n",
    "\n",
    "# 웹 검색이 포함된 도구 리스트\n",
    "web_tools = [calculator, get_length, search_tool]"
   ]
  },
  {
   "cell_type": "markdown",
   "id": "8qbS9s6HQgW6",
   "metadata": {
    "id": "8qbS9s6HQgW6"
   },
   "source": [
    "### 웹 검색 Agent 생성"
   ]
  },
  {
   "cell_type": "code",
   "execution_count": 6,
   "id": "e86c88e4",
   "metadata": {
    "id": "e86c88e4",
    "outputId": "fe3ec9f4-7e20-4820-e7ce-bc0f6e15d806"
   },
   "outputs": [
    {
     "name": "stdout",
     "output_type": "stream",
     "text": [
      "웹 검색 기능이 포함된 ReAct Agent 설정 완료!\n"
     ]
    }
   ],
   "source": [
    "web_agent = create_react_agent(\n",
    "    llm=llm,\n",
    "    tools=web_tools,\n",
    "    prompt=react_prompt\n",
    ")\n",
    "\n",
    "web_agent_executor = AgentExecutor(\n",
    "    agent=web_agent,\n",
    "    tools=web_tools,\n",
    "    verbose=True,\n",
    "    handle_parsing_errors=True,\n",
    "    max_iterations=10  # 웹 검색을 위해 더 많은 반복 허용\n",
    ")\n",
    "\n",
    "print(\"웹 검색 기능이 포함된 ReAct Agent 설정 완료!\")\n"
   ]
  },
  {
   "cell_type": "markdown",
   "id": "d5b_xFcpQj8d",
   "metadata": {
    "id": "d5b_xFcpQj8d"
   },
   "source": [
    "### 웹 검색을 활용한 복잡한 질문 해결"
   ]
  },
  {
   "cell_type": "code",
   "execution_count": 7,
   "id": "86893442",
   "metadata": {
    "id": "86893442",
    "outputId": "e0f6fc11-9068-4623-c8d7-6fa2dc65e7fa"
   },
   "outputs": [
    {
     "name": "stdout",
     "output_type": "stream",
     "text": [
      "============================================================\n",
      "예시 2: 웹 검색을 활용한 실시간 정보 분석\n",
      "============================================================\n",
      "\n",
      "\n",
      "\u001b[1m> Entering new AgentExecutor chain...\u001b[0m\n",
      "\u001b[32;1m\u001b[1;3m비트코인 가격을 검색하고, 그 값을 10으로 나누어 문자열로 변환한 후 길이를 측정해야 합니다.\n",
      "\n",
      "Action: tavily_search_results_json\n",
      "Action Input: \"current bitcoin price\"\u001b[0m\u001b[38;5;200m\u001b[1;3m[{'title': 'Bitcoin price today, BTC to USD live ...', 'url': 'https://coinmarketcap.com/currencies/bitcoin/', 'content': 'The live Bitcoin price today is $113,985 USD with a 24-hour trading volume of $66,653,065,646 USD. We update our BTC to USD price in real-time. Bitcoin is up 0.43% in the last 24 hours. The current CoinMarketCap ranking is #1, with a live market cap of $2,269,364,317,070 USD. It has a circulating supply of 19,909,343 BTC coins and a max. supply of 21,000,000 BTC coins. [...] Thanks to its pioneering nature, BTC remains at the top of this energetic market after over a decade of existence. Even after Bitcoin has lost its undisputed dominance, it remains the largest cryptocurrency, with a market capitalization that surpassed the $1 trillion mark in 2021, after Bitcoin price hit an all-time high of $64,863.10 on April 14, 2021. This is owing in large part to growing institutional interest in Bitcoin, and the ubiquitousness of platforms that provide use-cases for BTC: [...] price today in mid-September 2021, those pizzas would be worth an astonishing $478 million. This event is now known as “Bitcoin Pizza Day.” In July 2010, Bitcoin first started trading, with the Bitcoin price ranging from $0.0008 to $0.08 at that time.', 'score': 0.8889231}, {'title': 'Bitcoin,Ethereum, XRP Price,Kanye West YZY Meme Coin - Coinpedia', 'url': 'https://coinpedia.org/news/crypto-market-live-updates-aug-21-2025-bitcoinethereum-xrp-pricekanye-west-yzy-meme-coin/', 'content': 'Hong Kong-based Ming Shing Group Holdings (NASDAQ: MSW) will acquire 4,250 Bitcoin worth $483 million, averaging $113,638 per BTC. The purchase will be funded through convertible notes and warrants, with the deal set to close by December 31, 2025. CEO Wenjin Li highlighted Bitcoin’s liquidity and growth potential. Following the announcement, Ming Shing’s stock surged 29%, underscoring rising institutional confidence in Bitcoin as a treasury asset despite global economic uncertainty. [...] August 21, 2025 06:56:15 UTC\\n\\n## Memecoins and Altcoins Post Volatile Gains\\n\\nMemecoins and altcoins are driving activity with sharp swings. Dogecoin jumped back to $0.22 on whale accumulation, while OKB led altcoin performance with double-digit gains. These moves highlight the speculative and unpredictable nature of smaller crypto assets.\\n\\nAugust 21, 2025 06:56:15 UTC\\n\\n## Crypto Insiders Step Up Stock Sales in 2025 [...] Insiders at crypto companies have sold nearly $1.7 billion worth of stock in 2025. While some sales reflect diversification, the scale signals caution and liquidity needs. Investors see this trend as an indicator of executive confidence in the sector’s near-term outlook.\\n\\nAugust 21, 2025 06:56:15 UTC\\n\\n## Eric Trump Claims Mystery Nation Bought 200,000 Bitcoin Worth $22B', 'score': 0.52612424}, {'title': 'Bitcoin (BTC) Price | BTC to USD Price and Live Chart', 'url': 'https://www.coindesk.com/price/bitcoin', 'content': '| BBITBTC |  | BB | 0xF5e11df1ebCf78b6b6D26E04FF19cD786a1e81dC | 2025-08-21 | [...] | Trading As | Token Standard | Built On | Smart Contract Address | Launch Date |\\n| --- | --- | --- | --- | --- |\\n| 1WBTC | HRC20 | ONE | 0x3095c7557bcb296ccc6e363de01b760ba031f2d9 | 2020-10-16 |\\n| ABWBTC | ERC20 | ARB | 0x2f2a2543B76A4166549F7aaB2e75Bef0aefC5B0f | 2021-06-16 |\\n| BBITBTC | ERC20 | ETH | 0xF5e11df1ebCf78b6b6D26E04FF19cD786a1e81dC | 2024-04-16 |\\n| BBITBTC | BEP20 | BNB | 0xf5e11df1ebcf78b6b6d26e04ff19cd786a1e81dc | 2024-04-16 | [...] other digital currencies.', 'score': 0.4892356}]\u001b[0m\u001b[32;1m\u001b[1;3m비트코인의 현재 가격을 찾았습니다. 이제 이 값을 10으로 나누고, 그 결과를 문자열로 변환한 후 길이를 측정해야 합니다.\n",
      "\n",
      "Action: calculator\n",
      "Action Input: \"113985 / 10\"\u001b[0m\u001b[36;1m\u001b[1;3m계산 결과: 113985 / 10 = 11398.5\u001b[0m\u001b[32;1m\u001b[1;3m나눗셈 결과를 문자열로 변환한 후 길이를 측정해야 합니다.\n",
      "\n",
      "Action: get_length\n",
      "Action Input: \"11398.5\"\u001b[0m\u001b[33;1m\u001b[1;3m텍스트 '11398.5'의 길이: 7글자\u001b[0m\u001b[32;1m\u001b[1;3m모든 단계를 완료했으므로 최종 답변을 제공할 수 있습니다.\n",
      "\n",
      "Final Answer: 7글자\u001b[0m\n",
      "\n",
      "\u001b[1m> Finished chain.\u001b[0m\n",
      "\n",
      "최종 답변: 7글자\n"
     ]
    }
   ],
   "source": [
    "print(\"=\" * 60)\n",
    "print(\"예시 2: 웹 검색을 활용한 실시간 정보 분석\")\n",
    "print(\"=\" * 60)\n",
    "\n",
    "question2 = \"\"\"\n",
    "오늘 비트코인 가격을 검색하고, 그 가격을 10으로 나눈 후,\n",
    "결과값을 문자열로 변환했을 때의 길이를 알려주세요.\n",
    "\"\"\"\n",
    "\n",
    "try:\n",
    "    result2 = web_agent_executor.invoke({\"input\": question2})\n",
    "    print(f\"\\n최종 답변: {result2['output']}\")\n",
    "except Exception as e:\n",
    "    print(f\"오류 발생: {str(e)}\")\n",
    "    print(\"참고: TAVILY_API_KEY가 설정되어 있는지 확인해주세요.\")\n"
   ]
  },
  {
   "cell_type": "markdown",
   "id": "68102f0f",
   "metadata": {
    "id": "68102f0f"
   },
   "source": [
    "## 3. 고급 예시: 커스텀 도구를 활용한 복합 작업\n",
    "\n",
    "더 복잡한 도구들을 추가하여 실제 업무에서 활용할 수 있는 ReAct Agent를 만들어보겠습니다.\n"
   ]
  },
  {
   "cell_type": "markdown",
   "id": "fPN8qLlqQxZs",
   "metadata": {
    "id": "fPN8qLlqQxZs"
   },
   "source": [
    "### 고급 커스텀 도구들 정의"
   ]
  },
  {
   "cell_type": "code",
   "execution_count": 8,
   "id": "7a622dcc",
   "metadata": {
    "id": "7a622dcc",
    "outputId": "4c73d99c-2f4f-4753-f899-13f5f599633a"
   },
   "outputs": [
    {
     "name": "stdout",
     "output_type": "stream",
     "text": [
      "고급 커스텀 도구들 생성 완료!\n",
      "\n",
      "사용 가능한 고급 도구들:\n",
      "- calculator: 수학 계산을 수행합니다.\n",
      "expression: 계산할 수학 표현식 (예: \"2 + 3 * 4\")\n",
      "- get_length: 텍스트의 길이를 반환합니다.\n",
      "text: 길이를 측정할 텍스트\n",
      "- tavily_search_results_json: A search engine optimized for comprehensive, accurate, and trusted results. Useful for when you need to answer questions about current events. Input should be a search query.\n",
      "- get_current_time: 현재 날짜와 시간을 반환합니다.\n",
      "- generate_random_number: 지정된 범위에서 무작위 숫자를 생성합니다.\n",
      "min_val: 최소값\n",
      "max_val: 최대값\n",
      "- analyze_text: 텍스트를 분석하여 다양한 정보를 제공합니다.\n",
      "text: 분석할 텍스트\n",
      "- save_to_memory: 키-값 쌍을 메모리에 저장합니다.\n",
      "key: 저장할 키\n",
      "value: 저장할 값\n",
      "- get_from_memory: 메모리에서 값을 조회합니다.\n",
      "key: 조회할 키\n"
     ]
    }
   ],
   "source": [
    "import datetime\n",
    "import random\n",
    "from langchain.tools import tool\n",
    "\n",
    "@tool\n",
    "def get_current_time() -> str:\n",
    "    \"\"\"현재 날짜와 시간을 반환합니다.\"\"\"\n",
    "    now = datetime.datetime.now()\n",
    "    return f\"현재 시간: {now.strftime('%Y년 %m월 %d일 %H시 %M분 %S초')}\"\n",
    "\n",
    "@tool\n",
    "def generate_random_number(min_val: int, max_val: int) -> str:\n",
    "    \"\"\"\n",
    "    지정된 범위에서 무작위 숫자를 생성합니다.\n",
    "    min_val: 최소값\n",
    "    max_val: 최대값\n",
    "    \"\"\"\n",
    "    if min_val > max_val:\n",
    "        return \"오류: 최소값이 최대값보다 클 수 없습니다.\"\n",
    "\n",
    "    random_num = random.randint(min_val, max_val)\n",
    "    return f\"{min_val}과 {max_val} 사이의 무작위 숫자: {random_num}\"\n",
    "\n",
    "@tool\n",
    "def analyze_text(text: str) -> str:\n",
    "    \"\"\"\n",
    "    텍스트를 분석하여 다양한 정보를 제공합니다.\n",
    "    text: 분석할 텍스트\n",
    "    \"\"\"\n",
    "    word_count = len(text.split())\n",
    "    char_count = len(text)\n",
    "    char_count_no_spaces = len(text.replace(' ', ''))\n",
    "\n",
    "    analysis = f\"\"\"\n",
    "        텍스트 분석 결과:\n",
    "        - 전체 글자 수: {char_count}\n",
    "        - 공백 제외 글자 수: {char_count_no_spaces}\n",
    "        - 단어 수: {word_count}\n",
    "        - 평균 단어 길이: {char_count_no_spaces/word_count if word_count > 0 else 0:.2f}\n",
    "    \"\"\"\n",
    "    return analysis\n",
    "\n",
    "@tool\n",
    "def save_to_memory(key: str, value: str) -> str:\n",
    "    \"\"\"\n",
    "    키-값 쌍을 메모리에 저장합니다.\n",
    "    key: 저장할 키\n",
    "    value: 저장할 값\n",
    "    \"\"\"\n",
    "    if not hasattr(save_to_memory, 'memory'):\n",
    "        save_to_memory.memory = {}\n",
    "\n",
    "    save_to_memory.memory[key] = value\n",
    "    return f\"'{key}': '{value}' 저장 완료\"\n",
    "\n",
    "@tool\n",
    "def get_from_memory(key: str) -> str:\n",
    "    \"\"\"\n",
    "    메모리에서 값을 조회합니다.\n",
    "    key: 조회할 키\n",
    "    \"\"\"\n",
    "    if not hasattr(save_to_memory, 'memory'):\n",
    "        return \"메모리가 비어있습니다.\"\n",
    "\n",
    "    if key in save_to_memory.memory:\n",
    "        return f\"'{key}': '{save_to_memory.memory[key]}'\"\n",
    "    else:\n",
    "        return f\"'{key}' 키를 찾을 수 없습니다.\"\n",
    "\n",
    "# 고급 도구 리스트\n",
    "advanced_tools = [\n",
    "    calculator,\n",
    "    get_length,\n",
    "    search_tool,\n",
    "    get_current_time,\n",
    "    generate_random_number,\n",
    "    analyze_text,\n",
    "    save_to_memory,\n",
    "    get_from_memory\n",
    "]\n",
    "\n",
    "print(\"고급 커스텀 도구들 생성 완료!\")\n",
    "print(\"\\n사용 가능한 고급 도구들:\")\n",
    "for tool in advanced_tools:\n",
    "    print(f\"- {tool.name}: {tool.description}\")\n"
   ]
  },
  {
   "cell_type": "markdown",
   "id": "kII3_3QkQ21B",
   "metadata": {
    "id": "kII3_3QkQ21B"
   },
   "source": [
    "### 고급 ReAct Agent 생성"
   ]
  },
  {
   "cell_type": "code",
   "execution_count": 9,
   "id": "646b3093",
   "metadata": {
    "id": "646b3093",
    "outputId": "88df5039-26b9-41f6-9a30-4194652534ce"
   },
   "outputs": [
    {
     "name": "stdout",
     "output_type": "stream",
     "text": [
      "고급 ReAct Agent 설정 완료!\n"
     ]
    }
   ],
   "source": [
    "advanced_agent = create_react_agent(\n",
    "    llm=llm,\n",
    "    tools=advanced_tools,\n",
    "    prompt=react_prompt\n",
    ")\n",
    "\n",
    "advanced_agent_executor = AgentExecutor(\n",
    "    agent=advanced_agent,\n",
    "    tools=advanced_tools,\n",
    "    verbose=True,\n",
    "    handle_parsing_errors=True,\n",
    "    max_iterations=15  # 복잡한 작업을 위해 더 많은 반복 허용\n",
    ")\n",
    "\n",
    "print(\"고급 ReAct Agent 설정 완료!\")\n"
   ]
  },
  {
   "cell_type": "markdown",
   "id": "Z195BxKOQ6Lm",
   "metadata": {
    "id": "Z195BxKOQ6Lm"
   },
   "source": [
    "### 복합적인 작업 수행"
   ]
  },
  {
   "cell_type": "code",
   "execution_count": 10,
   "id": "ca9f3393",
   "metadata": {
    "id": "ca9f3393",
    "outputId": "1fc6621b-5737-46d6-b4c6-fdf523ca86d8"
   },
   "outputs": [
    {
     "name": "stdout",
     "output_type": "stream",
     "text": [
      "============================================================\n",
      "예시 3: 복합적인 작업 시나리오\n",
      "============================================================\n",
      "\n",
      "\n",
      "\u001b[1m> Entering new AgentExecutor chain...\u001b[0m\n",
      "\u001b[32;1m\u001b[1;3m각 단계를 차례로 수행하고 결과를 메모리에 저장하고 나중에 모든 결과를 종합해야 합니다.\n",
      "\n",
      "Action: get_current_time\n",
      "Action Input: None\u001b[0m\u001b[36;1m\u001b[1;3m현재 시간: 2025년 08월 21일 17시 12분 59초\u001b[0m\u001b[32;1m\u001b[1;3m현재 시간을 확인했습니다. 이제 메모리에 저장해야 합니다.\n",
      "\n",
      "Action: save_to_memory\n",
      "Action Input: key: 'current_time', value: '2025년 08월 21일 17시 12분 59초'\u001b[0m오류 발생: 1 validation error for save_to_memory\n",
      "value\n",
      "  Field required [type=missing, input_value={'key': \"key: 'current_ti...일 17시 12분 59초'\"}, input_type=dict]\n",
      "    For further information visit https://errors.pydantic.dev/2.11/v/missing\n"
     ]
    }
   ],
   "source": [
    "print(\"=\" * 60)\n",
    "print(\"예시 3: 복합적인 작업 시나리오\")\n",
    "print(\"=\" * 60)\n",
    "\n",
    "complex_question = \"\"\"\n",
    "다음 작업들을 순서대로 수행해주세요:\n",
    "\n",
    "1. 현재 시간을 확인하고 'current_time'이라는 키로 메모리에 저장하세요.\n",
    "2. 1부터 100 사이의 무작위 숫자를 생성하세요.\n",
    "3. 그 숫자를 5로 나눈 결과를 계산하세요.\n",
    "4. \"ReAct Agent는 정말 똑똑합니다!\"라는 텍스트를 분석하세요.\n",
    "5. 메모리에서 저장된 시간을 다시 조회하세요.\n",
    "6. 모든 결과를 종합하여 요약해주세요.\n",
    "\"\"\"\n",
    "\n",
    "try:\n",
    "    result3 = advanced_agent_executor.invoke({\"input\": complex_question})\n",
    "    print(f\"\\n최종 답변: {result3['output']}\")\n",
    "except Exception as e:\n",
    "    print(f\"오류 발생: {str(e)}\")\n"
   ]
  },
  {
   "cell_type": "markdown",
   "id": "aaf9e368",
   "metadata": {
    "id": "aaf9e368"
   },
   "source": [
    "## 4. ReAct 패턴 분석 및 시각화\n",
    "\n",
    "ReAct Agent의 추론 과정을 더 자세히 분석해보겠습니다.\n"
   ]
  },
  {
   "cell_type": "markdown",
   "id": "ZGC9gaFKRBKU",
   "metadata": {
    "id": "ZGC9gaFKRBKU"
   },
   "source": [
    "### ReAct 패턴을 단계별로 보여주는 함수"
   ]
  },
  {
   "cell_type": "code",
   "execution_count": 11,
   "id": "a782d7da",
   "metadata": {
    "id": "a782d7da",
    "outputId": "d41ea9e5-7441-4fbe-b4e4-7a3dd4ca5fdb"
   },
   "outputs": [
    {
     "name": "stdout",
     "output_type": "stream",
     "text": [
      "ReAct 패턴의 구조:\n",
      "\n",
      "1. Thought (생각): 문제를 분석하고 다음 단계를 계획\n",
      "2. Action (행동): 도구를 사용하여 정보를 수집하거나 작업을 수행\n",
      "3. Observation (관찰): 행동의 결과를 확인\n",
      "4. 반복: 목표에 도달할 때까지 1-3 단계를 반복\n",
      "\n",
      "==================================================\n",
      "질문: 15 * 3의 결과가 짝수인지 홀수인지 알려주세요.\n",
      "\n",
      "ReAct 과정 시뮬레이션:\n",
      "\n",
      "Thought: 15 * 3을 계산하고, 그 결과가 짝수인지 홀수인지 판단해야 합니다.\n",
      "Action: calculator 도구를 사용하여 15 * 3을 계산합니다.\n",
      "Observation: 계산 결과는 45입니다.\n",
      "Thought: 45이 짝수인지 홀수인지 판단해야 합니다.\n",
      "Action: 수학적 규칙을 적용합니다 (숫자를 2로 나눈 나머지가 0이면 짝수)\n",
      "Observation: 45 ÷ 2의 나머지는 1입니다.\n",
      "Thought: 나머지가 1이므로, 45는 홀수입니다.\n",
      "Final Answer: 45는 홀수입니다.\n"
     ]
    }
   ],
   "source": [
    "def demonstrate_react_pattern():\n",
    "    \"\"\"ReAct 패턴의 각 단계를 설명하는 함수\"\"\"\n",
    "\n",
    "    print(\"ReAct 패턴의 구조:\")\n",
    "    print(\"\\n1. Thought (생각): 문제를 분석하고 다음 단계를 계획\")\n",
    "    print(\"2. Action (행동): 도구를 사용하여 정보를 수집하거나 작업을 수행\")\n",
    "    print(\"3. Observation (관찰): 행동의 결과를 확인\")\n",
    "    print(\"4. 반복: 목표에 도달할 때까지 1-3 단계를 반복\")\n",
    "    print(\"\\n\" + \"=\"*50)\n",
    "\n",
    "    # 간단한 예시로 패턴 시연\n",
    "    question = \"15 * 3의 결과가 짝수인지 홀수인지 알려주세요.\"\n",
    "\n",
    "    print(f\"질문: {question}\")\n",
    "    print(\"\\nReAct 과정 시뮬레이션:\")\n",
    "\n",
    "    print(\"\\nThought: 15 * 3을 계산하고, 그 결과가 짝수인지 홀수인지 판단해야 합니다.\")\n",
    "    print(\"Action: calculator 도구를 사용하여 15 * 3을 계산합니다.\")\n",
    "\n",
    "    # 실제 계산\n",
    "    result = 15 * 3\n",
    "    print(f\"Observation: 계산 결과는 {result}입니다.\")\n",
    "\n",
    "    print(f\"Thought: {result}이 짝수인지 홀수인지 판단해야 합니다.\")\n",
    "    print(\"Action: 수학적 규칙을 적용합니다 (숫자를 2로 나눈 나머지가 0이면 짝수)\")\n",
    "\n",
    "    is_even = result % 2 == 0\n",
    "    print(f\"Observation: {result} ÷ 2의 나머지는 {result % 2}입니다.\")\n",
    "\n",
    "    print(f\"Thought: 나머지가 {result % 2}이므로, {result}는 {'짝수' if is_even else '홀수'}입니다.\")\n",
    "    print(f\"Final Answer: {result}는 {'짝수' if is_even else '홀수'}입니다.\")\n",
    "\n",
    "# 패턴 시연 실행\n",
    "demonstrate_react_pattern()\n"
   ]
  },
  {
   "cell_type": "markdown",
   "id": "9Nr5c6y6REFz",
   "metadata": {
    "id": "9Nr5c6y6REFz"
   },
   "source": [
    "### 실제 Agent와 비교해보기"
   ]
  },
  {
   "cell_type": "code",
   "execution_count": 12,
   "id": "73ce4ef4",
   "metadata": {
    "id": "73ce4ef4",
    "outputId": "12ec9f77-7d41-4b42-feec-6edd9474f470"
   },
   "outputs": [
    {
     "name": "stdout",
     "output_type": "stream",
     "text": [
      "\n",
      "============================================================\n",
      "실제 Agent로 같은 문제 해결하기\n",
      "============================================================\n",
      "\n",
      "\n",
      "\u001b[1m> Entering new AgentExecutor chain...\u001b[0m\n",
      "\u001b[32;1m\u001b[1;3mWe need to calculate the result of 15 * 3 and determine if it is even or odd.\n",
      "Action: calculator\n",
      "Action Input: \"15 * 3\"\u001b[0m\u001b[36;1m\u001b[1;3m계산 결과: 15 * 3 = 45\u001b[0m\u001b[32;1m\u001b[1;3mNow we need to check if 45 is even or odd.\n",
      "Action: calculator\n",
      "Action Input: \"45 % 2\"\u001b[0m\u001b[36;1m\u001b[1;3m오류: 허용되지 않는 문자가 포함되어 있습니다.\u001b[0m\u001b[32;1m\u001b[1;3mWe can't use the modulo operator directly with the calculator function. Let's try a different approach.\n",
      "Action: calculator\n",
      "Action Input: \"45 / 2\"\u001b[0m\u001b[36;1m\u001b[1;3m계산 결과: 45 / 2 = 22.5\u001b[0m\u001b[32;1m\u001b[1;3mSince 22.5 is not a whole number, we know that 45 is an odd number.\n",
      "Final Answer: 홀수 (Odd)\u001b[0m\n",
      "\n",
      "\u001b[1m> Finished chain.\u001b[0m\n",
      "\n",
      "Agent의 답변: 홀수 (Odd)\n"
     ]
    }
   ],
   "source": [
    "print(\"\\n\" + \"=\"*60)\n",
    "print(\"실제 Agent로 같은 문제 해결하기\")\n",
    "print(\"=\"*60)\n",
    "\n",
    "comparison_question = \"15 * 3의 결과가 짝수인지 홀수인지 알려주세요.\"\n",
    "\n",
    "try:\n",
    "    comparison_result = agent_executor.invoke({\"input\": comparison_question})\n",
    "    print(f\"\\nAgent의 답변: {comparison_result['output']}\")\n",
    "except Exception as e:\n",
    "    print(f\"오류 발생: {str(e)}\")\n"
   ]
  },
  {
   "cell_type": "markdown",
   "id": "fbd5fd63",
   "metadata": {
    "id": "fbd5fd63"
   },
   "source": [
    "## 5. ReAct Agent 활용 팁과 모범 사례\n"
   ]
  },
  {
   "cell_type": "markdown",
   "id": "8fBUUYeURQBC",
   "metadata": {
    "id": "8fBUUYeURQBC"
   },
   "source": [
    "### ReAct Agent 활용 팁\n",
    "\n",
    "1. **명확한 질문 작성**: 구체적이고 명확한 질문을 작성하면 더 정확한 결과를 얻을 수 있습니다.\n",
    "\n",
    "2. **도구 선택**: 문제 해결에 필요한 적절한 도구들을 선택하는 것이 중요합니다.\n",
    "\n",
    "3. **반복 횟수 조절**: `max_iterations`를 적절히 설정하여 무한 루프를 방지하면서도 충분한 추론 시간을 확보합니다.\n",
    "\n",
    "4. **오류 처리**: `handle_parsing_errors=True`로 설정하여 파싱 오류에 대한 복원력을 높입니다."
   ]
  },
  {
   "cell_type": "markdown",
   "id": "hSoinjupRV2O",
   "metadata": {
    "id": "hSoinjupRV2O"
   },
   "source": [
    "### 도구 설계 원칙\n",
    "\n",
    "1. **단일 책임**: 각 도구는 하나의 명확한 기능을 수행해야 합니다.\n",
    "2. **명확한 문서화**: 도구의 목적과 사용법을 명확히 문서화합니다.\n",
    "3. **오류 처리**: 예상 가능한 오류 상황에 대한 적절한 처리를 포함합니다.\n",
    "4. **타입 힌트**: 입력 매개변수의 타입을 명확히 지정합니다."
   ]
  },
  {
   "cell_type": "markdown",
   "id": "sZ_z6IX5RY3U",
   "metadata": {
    "id": "sZ_z6IX5RY3U"
   },
   "source": [
    "### 실제 활용 사례\n",
    "\n",
    "- **데이터 분석**: 웹 검색 + 계산 + 텍스트 분석\n",
    "- **콘텐츠 생성**: 검색 + 요약 + 저장\n",
    "- **업무 자동화**: 스케줄링 + 알림 + 데이터 처리\n",
    "- **학습 보조**: 질문 + 검색 + 설명 생성"
   ]
  },
  {
   "cell_type": "markdown",
   "id": "052280b4",
   "metadata": {
    "id": "052280b4"
   },
   "source": [
    "# LangGraph를 활용한 ReAct Agent 만들기\n",
    "\n",
    "이 노트북에서는 [LangGraph 공식 문서](https://langchain-ai.github.io/langgraph/how-tos/react-agent-from-scratch/#define-graph-state)를 참고하여 처음부터 ReAct Agent를 만드는 방법을 학습합니다."
   ]
  },
  {
   "cell_type": "markdown",
   "id": "86a898d1",
   "metadata": {
    "id": "86a898d1"
   },
   "source": [
    "## 1. 환경 설정 및 필수 라이브러리 설치\n",
    "\n",
    "먼저 LangGraph와 관련 라이브러리들을 설치하고 환경을 설정합니다.\n"
   ]
  },
  {
   "cell_type": "code",
   "execution_count": 13,
   "id": "3c16f6bb",
   "metadata": {
    "id": "3c16f6bb"
   },
   "outputs": [
    {
     "name": "stdout",
     "output_type": "stream",
     "text": [
      "OPENAI_API_KEY 설정 확인!\n",
      "모든 라이브러리 임포트 완료!\n"
     ]
    }
   ],
   "source": [
    "# 필요한 라이브러리 import\n",
    "import os\n",
    "import json\n",
    "from typing import Annotated, Sequence, TypedDict\n",
    "from dotenv import load_dotenv\n",
    "\n",
    "# LangChain 관련 라이브러리\n",
    "from langchain_openai import ChatOpenAI\n",
    "from langchain_core.tools import tool\n",
    "from langchain_core.messages import BaseMessage, ToolMessage, SystemMessage\n",
    "from langchain_core.runnables import RunnableConfig\n",
    "\n",
    "# LangGraph 라이브러리\n",
    "from langgraph.graph import StateGraph, END\n",
    "from langgraph.graph.message import add_messages\n",
    "\n",
    "# 환경 변수 로드\n",
    "load_dotenv()\n",
    "\n",
    "# API 키 확인\n",
    "if not os.getenv(\"OPENAI_API_KEY\"):\n",
    "    print(\"OPENAI_API_KEY를 .env 파일에 설정해주세요.\")\n",
    "else:\n",
    "    print(\"OPENAI_API_KEY 설정 확인!\")\n",
    "\n",
    "print(\"모든 라이브러리 임포트 완료!\")\n"
   ]
  },
  {
   "cell_type": "markdown",
   "id": "36e6eb52",
   "metadata": {
    "id": "36e6eb52"
   },
   "source": [
    "## 2. 그래프 상태 정의하기\n",
    "\n",
    "LangGraph에서는 에이전트의 상태를 정의해야 합니다. 상태는 그래프 실행 중에 노드들 간에 공유되는 데이터입니다.\n",
    "\n",
    "### 상태(State)란?\n",
    "- 에이전트가 실행되는 동안 **메모리 역할**을 하는 데이터 구조\n",
    "- 각 노드에서 **읽고 쓸 수 있는** 공통 저장소\n",
    "- **메시지 기록, 계산 결과, 중간 상태** 등을 저장\n"
   ]
  },
  {
   "cell_type": "code",
   "execution_count": 14,
   "id": "8ba16e7a",
   "metadata": {
    "id": "8ba16e7a"
   },
   "outputs": [
    {
     "name": "stdout",
     "output_type": "stream",
     "text": [
      "AgentState 클래스 정의 완료!\n",
      "\n",
      "상태 구조:\n",
      "- messages: 사용자와 AI 간의 대화 기록을 저장\n",
      "- add_messages: 새 메시지를 자동으로 리스트에 추가하는 기능\n",
      "\n",
      "add_messages 리듀서의 역할:\n",
      "1. 기존 메시지 리스트 유지\n",
      "2. 새로운 메시지들을 끝에 추가\n",
      "3. 중복 메시지 자동 제거\n",
      "4. 메시지 순서 보장\n"
     ]
    }
   ],
   "source": [
    "# 에이전트 상태 정의\n",
    "class AgentState(TypedDict):\n",
    "    \"\"\"\n",
    "    ReAct 에이전트의 상태를 정의합니다.\n",
    "\n",
    "    Attributes:\n",
    "        messages: 대화 메시지들의 시퀀스\n",
    "                 add_messages는 새로운 메시지를 기존 리스트에 추가하는 리듀서 함수입니다.\n",
    "    \"\"\"\n",
    "    # add_messages는 리듀서(reducer) 함수입니다\n",
    "    # 이는 새로운 메시지들을 기존 메시지 리스트에 자동으로 추가해줍니다\n",
    "    messages: Annotated[Sequence[BaseMessage], add_messages]\n",
    "\n",
    "print(\"AgentState 클래스 정의 완료!\")\n",
    "print(\"\\n상태 구조:\")\n",
    "print(\"- messages: 사용자와 AI 간의 대화 기록을 저장\")\n",
    "print(\"- add_messages: 새 메시지를 자동으로 리스트에 추가하는 기능\")\n",
    "\n",
    "# 리듀서(Reducer) 설명\n",
    "print(\"\\nadd_messages 리듀서의 역할:\")\n",
    "print(\"1. 기존 메시지 리스트 유지\")\n",
    "print(\"2. 새로운 메시지들을 끝에 추가\")\n",
    "print(\"3. 중복 메시지 자동 제거\")\n",
    "print(\"4. 메시지 순서 보장\")\n"
   ]
  },
  {
   "cell_type": "markdown",
   "id": "c90b6c3f",
   "metadata": {
    "id": "c90b6c3f"
   },
   "source": [
    "## 3. 모델과 도구 정의하기\n",
    "\n",
    "이제 ReAct Agent가 사용할 AI 모델과 도구들을 정의합니다.\n",
    "\n",
    "### 모델이란?\n",
    "- GPT, Claude 등 **언어 모델**\n",
    "- 추론과 응답 생성을 담당\n",
    "\n",
    "### 도구(Tools)란?\n",
    "- Agent가 **외부 정보에 접근**하거나 **특정 작업을 수행**할 수 있게 해주는 함수\n",
    "- 예: 날씨 조회, 계산기, 웹 검색, 데이터베이스 조회 등\n"
   ]
  },
  {
   "cell_type": "code",
   "execution_count": 15,
   "id": "1024067f",
   "metadata": {
    "id": "1024067f"
   },
   "outputs": [
    {
     "name": "stdout",
     "output_type": "stream",
     "text": [
      "AI 모델 설정 완료!\n",
      "사용 모델: gpt-4o-mini\n",
      "Temperature: 0.0 (더 일관된 응답)\n"
     ]
    }
   ],
   "source": [
    "# AI 모델 설정\n",
    "model = ChatOpenAI(\n",
    "    model=\"gpt-4o-mini\",  # 비용 효율적인 모델 사용\n",
    "    temperature=0,         # 일관된 응답을 위해 temperature를 0으로 설정\n",
    "    api_key=os.getenv(\"OPENAI_API_KEY\")\n",
    ")\n",
    "\n",
    "print(\"AI 모델 설정 완료!\")\n",
    "print(f\"사용 모델: {model.model_name}\")\n",
    "print(f\"Temperature: {model.temperature} (더 일관된 응답)\")\n"
   ]
  },
  {
   "cell_type": "code",
   "execution_count": 16,
   "id": "52a81ccd",
   "metadata": {
    "id": "52a81ccd"
   },
   "outputs": [
    {
     "name": "stdout",
     "output_type": "stream",
     "text": [
      "도구 정의 및 바인딩 완료!\n",
      "\n",
      "사용 가능한 도구들:\n",
      "- get_weather: 특정 지역의 날씨 정보를 조회합니다.\n",
      "\n",
      "Args:\n",
      "    location: 날씨를 조회할 지역명\n",
      "\n",
      "Returns:\n",
      "    해당 지역의 날씨 정보\n",
      "- calculator: 수학 계산을 수행합니다.\n",
      "\n",
      "Args:\n",
      "    expression: 계산할 수학 표현식 (예: \"2 + 3 * 4\")\n",
      "\n",
      "Returns:\n",
      "    계산 결과\n",
      "- get_current_time: 현재 시간을 조회합니다.\n",
      "\n",
      "Returns:\n",
      "    현재 날짜와 시간\n",
      "\n",
      "총 3개의 도구가 모델에 바인딩되었습니다.\n"
     ]
    }
   ],
   "source": [
    "# 학습용 도구들 정의\n",
    "@tool\n",
    "def get_weather(location: str) -> str:\n",
    "    \"\"\"\n",
    "    특정 지역의 날씨 정보를 조회합니다.\n",
    "\n",
    "    Args:\n",
    "        location: 날씨를 조회할 지역명\n",
    "\n",
    "    Returns:\n",
    "        해당 지역의 날씨 정보\n",
    "    \"\"\"\n",
    "    # 실제로는 날씨 API를 호출하지만, 학습용으로 가상의 데이터를 반환합니다\n",
    "    location_lower = location.lower()\n",
    "\n",
    "    if any(city in location_lower for city in [\"seoul\", \"서울\"]):\n",
    "        return \"서울의 날씨: 맑음, 기온 20°C, 습도 60%\"\n",
    "    elif any(city in location_lower for city in [\"busan\", \"부산\"]):\n",
    "        return \"부산의 날씨: 흐림, 기온 18°C, 습도 75%\"\n",
    "    elif any(city in location_lower for city in [\"sf\", \"san francisco\", \"샌프란시스코\"]):\n",
    "        return \"샌프란시스코의 날씨: 해가 나고 있지만 쌍둥이자리라면 조심하세요!\"\n",
    "    else:\n",
    "        return f\"{location}의 날씨 정보를 찾을 수 없습니다. 죄송합니다.\"\n",
    "\n",
    "@tool\n",
    "def calculator(expression: str) -> str:\n",
    "    \"\"\"\n",
    "    수학 계산을 수행합니다.\n",
    "\n",
    "    Args:\n",
    "        expression: 계산할 수학 표현식 (예: \"2 + 3 * 4\")\n",
    "\n",
    "    Returns:\n",
    "        계산 결과\n",
    "    \"\"\"\n",
    "    try:\n",
    "        # 보안을 위해 허용된 문자만 사용\n",
    "        allowed_chars = set('0123456789+-*/.() ')\n",
    "        if not all(c in allowed_chars for c in expression):\n",
    "            return \"오류: 허용되지 않는 문자가 포함되어 있습니다.\"\n",
    "\n",
    "        result = eval(expression)\n",
    "        return f\"계산 결과: {expression} = {result}\"\n",
    "    except Exception as e:\n",
    "        return f\"계산 오류: {str(e)}\"\n",
    "\n",
    "@tool\n",
    "def get_current_time() -> str:\n",
    "    \"\"\"\n",
    "    현재 시간을 조회합니다.\n",
    "\n",
    "    Returns:\n",
    "        현재 날짜와 시간\n",
    "    \"\"\"\n",
    "    import datetime\n",
    "    now = datetime.datetime.now()\n",
    "    return f\"현재 시간: {now.strftime('%Y년 %m월 %d일 %H시 %M분')}\"\n",
    "\n",
    "# 도구 리스트 생성\n",
    "tools = [get_weather, calculator, get_current_time]\n",
    "\n",
    "# 모델에 도구 바인딩 (모델이 도구를 사용할 수 있도록 연결)\n",
    "model = model.bind_tools(tools)\n",
    "\n",
    "print(\"도구 정의 및 바인딩 완료!\")\n",
    "print(\"\\n사용 가능한 도구들:\")\n",
    "for tool in tools:\n",
    "    print(f\"- {tool.name}: {tool.description}\")\n",
    "\n",
    "print(f\"\\n총 {len(tools)}개의 도구가 모델에 바인딩되었습니다.\")\n"
   ]
  },
  {
   "cell_type": "markdown",
   "id": "3f6479d6",
   "metadata": {
    "id": "3f6479d6"
   },
   "source": [
    "## 4. 노드(Node)와 엣지(Edge) 구현하기\n",
    "\n",
    "LangGraph에서는 에이전트의 동작을 **노드**와 **엣지**로 표현합니다.\n",
    "\n",
    "### 노드(Node)란?\n",
    "- 그래프의 **각 단계**를 나타내는 함수\n",
    "- 예: `call_model`, `tool_node`, `decision_node` 등\n",
    "- 상태를 받아서 **처리 후 업데이트된 상태를 반환**\n",
    "\n",
    "### 엣지(Edge)란?\n",
    "- 노드와 노드를 **연결하는 경로**\n",
    "- **조건부 엣지**: 상황에 따라 다른 노드로 이동\n",
    "- **일반 엣지**: 항상 특정 노드로 이동\n"
   ]
  },
  {
   "cell_type": "code",
   "execution_count": 17,
   "id": "74cadc2e",
   "metadata": {
    "id": "74cadc2e"
   },
   "outputs": [
    {
     "name": "stdout",
     "output_type": "stream",
     "text": [
      "도구 딕셔너리 생성:\n",
      "  'get_weather' -> 특정 지역의 날씨 정보를 조회합니다\n",
      "  'calculator' -> 수학 계산을 수행합니다\n",
      "  'get_current_time' -> 현재 시간을 조회합니다\n"
     ]
    }
   ],
   "source": [
    "# 도구별로 쉽게 찾을 수 있도록 딕셔너리 생성\n",
    "tools_by_name = {tool.name: tool for tool in tools}\n",
    "\n",
    "print(\"도구 딕셔너리 생성:\")\n",
    "for name, tool in tools_by_name.items():\n",
    "    print(f\"  '{name}' -> {tool.description.split('.')[0]}\")\n"
   ]
  },
  {
   "cell_type": "code",
   "execution_count": null,
   "id": "f149cb10",
   "metadata": {
    "id": "f149cb10"
   },
   "outputs": [
    {
     "name": "stdout",
     "output_type": "stream",
     "text": [
      "도구 노드 정의 완료!\n"
     ]
    }
   ],
   "source": [
    "# 도구 실행 노드 정의\n",
    "def tool_node(state: AgentState):\n",
    "    \"\"\"\n",
    "    AI가 요청한 도구들을 실행하는 노드입니다.\n",
    "\n",
    "    Args:\n",
    "        state: 현재 그래프 상태\n",
    "\n",
    "    Returns:\n",
    "        도구 실행 결과가 포함된 업데이트된 상태\n",
    "    \"\"\"\n",
    "    print(\"도구 노드 실행 중...\")\n",
    "\n",
    "    outputs = []\n",
    "    # 마지막 메시지에서 도구 호출 정보를 가져옵니다\n",
    "    last_message = state[\"messages\"][-1]\n",
    "\n",
    "    # 각 도구 호출에 대해 실행\n",
    "    for tool_call in last_message.tool_calls:\n",
    "        tool_name = tool_call[\"name\"]\n",
    "        tool_args = tool_call[\"args\"]\n",
    "\n",
    "        print(f\"  {tool_name} 도구 호출: {tool_args}\")\n",
    "\n",
    "        # 해당 도구 실행\n",
    "        tool_result = tools_by_name[tool_name].invoke(tool_args)\n",
    "\n",
    "        print(f\"  결과: {tool_result}\")\n",
    "\n",
    "        # 도구 결과를 ToolMessage로 변환\n",
    "        outputs.append(\n",
    "            ToolMessage(\n",
    "                content=json.dumps(tool_result),\n",
    "                name=tool_name,\n",
    "                tool_call_id=tool_call[\"id\"],\n",
    "            )\n",
    "        )\n",
    "\n",
    "    return {\"messages\": outputs}\n",
    "\n",
    "print(\"도구 노드 정의 완료!\")\n"
   ]
  },
  {
   "cell_type": "code",
   "execution_count": null,
   "id": "c1fbf32f",
   "metadata": {
    "id": "c1fbf32f"
   },
   "outputs": [
    {
     "name": "stdout",
     "output_type": "stream",
     "text": [
      "AI 모델 노드 정의 완료!\n"
     ]
    }
   ],
   "source": [
    "# AI 모델 호출 노드 정의\n",
    "def call_model(state: AgentState, config: RunnableConfig):\n",
    "    \"\"\"\n",
    "    AI 모델을 호출하여 응답을 생성하는 노드입니다.\n",
    "\n",
    "    Args:\n",
    "        state: 현재 그래프 상태\n",
    "        config: 실행 설정\n",
    "\n",
    "    Returns:\n",
    "        AI 응답이 포함된 업데이트된 상태\n",
    "    \"\"\"\n",
    "    print(\"AI 모델 노드 실행 중...\")\n",
    "\n",
    "    # 시스템 프롬프트 설정\n",
    "    system_prompt = SystemMessage(\n",
    "        content=\"\"\"당신은 도움이 되는 AI 어시스턴트입니다.\n",
    "        사용자의 질문에 최선을 다해 답변해주세요!\n",
    "\n",
    "        주어진 도구들을 적절히 활용하여 정확한 정보를 제공하세요.\n",
    "        - 날씨 정보가 필요하면 get_weather 도구를 사용하세요\n",
    "        - 계산이 필요하면 calculator 도구를 사용하세요\n",
    "        - 현재 시간이 필요하면 get_current_time 도구를 사용하세요\n",
    "\n",
    "        모든 답변은 한국어로 해주세요.\"\"\"\n",
    "    )\n",
    "\n",
    "    # 시스템 프롬프트 + 기존 메시지들을 함께 모델에 전달\n",
    "    messages = [system_prompt] + state[\"messages\"]\n",
    "\n",
    "    print(f\"  총 {len(messages)}개의 메시지를 모델에 전달\")\n",
    "\n",
    "    # AI 모델 호출\n",
    "    response = model.invoke(messages, config)\n",
    "\n",
    "    print(f\"  AI 응답 생성 완료 (도구 호출: {len(response.tool_calls) if response.tool_calls else 0}개)\")\n",
    "\n",
    "    # 응답을 리스트로 반환 (기존 메시지 리스트에 추가되도록)\n",
    "    return {\"messages\": [response]}\n",
    "\n",
    "print(\"AI 모델 노드 정의 완료!\")\n"
   ]
  },
  {
   "cell_type": "code",
   "execution_count": null,
   "id": "615a3a54",
   "metadata": {
    "id": "615a3a54"
   },
   "outputs": [
    {
     "name": "stdout",
     "output_type": "stream",
     "text": [
      "조건부 엣지 함수 정의 완료!\n",
      "\n",
      "흐름 제어 로직:\n",
      "- AI가 도구를 호출하면 → 'continue' → 도구 노드로 이동\n",
      "- AI가 최종 답변을 하면 → 'end' → 대화 종료\n"
     ]
    }
   ],
   "source": [
    "# 조건부 엣지 함수 정의\n",
    "def should_continue(state: AgentState):\n",
    "    \"\"\"\n",
    "    다음에 어떤 노드로 이동할지 결정하는 조건부 엣지 함수입니다.\n",
    "\n",
    "    Args:\n",
    "        state: 현재 그래프 상태\n",
    "\n",
    "    Returns:\n",
    "        \"continue\": 도구를 사용해야 하는 경우\n",
    "        \"end\": 응답이 완료된 경우\n",
    "    \"\"\"\n",
    "    messages = state[\"messages\"]\n",
    "    last_message = messages[-1]\n",
    "\n",
    "    # 마지막 메시지에 도구 호출이 있는지 확인\n",
    "    if not last_message.tool_calls:\n",
    "        print(\"  도구 호출이 없으므로 대화를 종료합니다\")\n",
    "        return \"end\"\n",
    "    else:\n",
    "        print(f\"  {len(last_message.tool_calls)}개의 도구 호출이 있으므로 계속 진행합니다\")\n",
    "        return \"continue\"\n",
    "\n",
    "print(\"조건부 엣지 함수 정의 완료!\")\n",
    "print(\"\\n흐름 제어 로직:\")\n",
    "print(\"- AI가 도구를 호출하면 → 'continue' → 도구 노드로 이동\")\n",
    "print(\"- AI가 최종 답변을 하면 → 'end' → 대화 종료\")\n"
   ]
  },
  {
   "cell_type": "markdown",
   "id": "6586af0b",
   "metadata": {
    "id": "6586af0b"
   },
   "source": [
    "## 5. 그래프 생성 및 컴파일\n",
    "\n",
    "이제 정의한 노드들과 엣지들을 연결하여 실제 그래프를 만들어봅시다.\n",
    "\n",
    "### 그래프 구조\n",
    "```\n",
    "시작 → [AI 모델] → 도구 호출 있음?\n",
    "                     ├─ 예 → [도구 실행] → [AI 모델]\n",
    "                     └─ 아니오 → 종료\n",
    "```\n"
   ]
  },
  {
   "cell_type": "code",
   "execution_count": 21,
   "id": "49dabef4",
   "metadata": {
    "id": "49dabef4"
   },
   "outputs": [
    {
     "name": "stdout",
     "output_type": "stream",
     "text": [
      "ReAct Agent 그래프 생성 중...\n",
      "노드 추가 완료:\n",
      "  - 'agent': AI 모델 호출 노드\n",
      "  - 'tools': 도구 실행 노드\n",
      "시작점 설정: 'agent' 노드부터 시작\n",
      "조건부 엣지 추가: agent → (조건에 따라) tools 또는 END\n",
      "일반 엣지 추가: tools → agent\n",
      "\n",
      "그래프 구조 완성!\n",
      "흐름: 시작 → agent → (도구 호출시) tools → agent → ... → 종료\n"
     ]
    }
   ],
   "source": [
    "# 그래프 생성 및 구성\n",
    "print(\"ReAct Agent 그래프 생성 중...\")\n",
    "\n",
    "# 1. StateGraph 인스턴스 생성\n",
    "workflow = StateGraph(AgentState)\n",
    "\n",
    "# 2. 노드 추가\n",
    "workflow.add_node(\"agent\", call_model)      # AI 모델 노드\n",
    "workflow.add_node(\"tools\", tool_node)      # 도구 실행 노드\n",
    "\n",
    "print(\"노드 추가 완료:\")\n",
    "print(\"  - 'agent': AI 모델 호출 노드\")\n",
    "print(\"  - 'tools': 도구 실행 노드\")\n",
    "\n",
    "# 3. 시작점 설정 (첫 번째로 실행될 노드)\n",
    "workflow.set_entry_point(\"agent\")\n",
    "print(\"시작점 설정: 'agent' 노드부터 시작\")\n",
    "\n",
    "# 4. 조건부 엣지 추가\n",
    "workflow.add_conditional_edges(\n",
    "    # 시작 노드: agent 노드 실행 후 조건 확인\n",
    "    \"agent\",\n",
    "    # 조건 함수: should_continue 함수로 다음 노드 결정\n",
    "    should_continue,\n",
    "    # 조건에 따른 경로 매핑\n",
    "    {\n",
    "        \"continue\": \"tools\",  # 도구 호출이 있으면 tools 노드로\n",
    "        \"end\": END,          # 도구 호출이 없으면 종료\n",
    "    },\n",
    ")\n",
    "print(\"조건부 엣지 추가: agent → (조건에 따라) tools 또는 END\")\n",
    "\n",
    "# 5. 일반 엣지 추가\n",
    "workflow.add_edge(\"tools\", \"agent\")\n",
    "print(\"일반 엣지 추가: tools → agent\")\n",
    "\n",
    "print(\"\\n그래프 구조 완성!\")\n",
    "print(\"흐름: 시작 → agent → (도구 호출시) tools → agent → ... → 종료\")\n"
   ]
  },
  {
   "cell_type": "code",
   "execution_count": 30,
   "id": "43b8c0da",
   "metadata": {
    "id": "43b8c0da"
   },
   "outputs": [
    {
     "name": "stdout",
     "output_type": "stream",
     "text": [
      "그래프 컴파일 중...\n",
      "ReAct Agent 그래프 컴파일 완료!\n",
      "이제 에이전트를 사용할 준비가 되었습니다!\n"
     ]
    }
   ],
   "source": [
    "# 그래프 컴파일\n",
    "print(\"그래프 컴파일 중...\")\n",
    "\n",
    "graph = workflow.compile()\n",
    "\n",
    "print(\"ReAct Agent 그래프 컴파일 완료!\")\n",
    "print(\"이제 에이전트를 사용할 준비가 되었습니다!\")\n"
   ]
  },
  {
   "cell_type": "markdown",
   "id": "289d3170",
   "metadata": {
    "id": "289d3170"
   },
   "source": [
    "## 6. ReAct Agent 사용해보기\n",
    "\n",
    "이제 완성된 ReAct Agent를 실제로 사용해봅시다!\n",
    "\n",
    "### 사용 방법\n",
    "1. **입력**: 사용자 질문을 메시지 형태로 제공\n",
    "2. **실행**: `graph.stream()`으로 단계별 실행\n",
    "3. **출력**: 각 단계별 결과 확인\n"
   ]
  },
  {
   "cell_type": "code",
   "execution_count": 23,
   "id": "7e9916e2",
   "metadata": {
    "id": "7e9916e2"
   },
   "outputs": [
    {
     "name": "stdout",
     "output_type": "stream",
     "text": [
      "스트림 출력 함수 준비 완료!\n"
     ]
    }
   ],
   "source": [
    "# 스트림을 예쁘게 출력하는 헬퍼 함수\n",
    "def print_stream(stream):\n",
    "    \"\"\"\n",
    "    그래프 실행 스트림을 보기 좋게 출력하는 함수\n",
    "    \"\"\"\n",
    "    for step_output in stream:\n",
    "        # 각 단계의 메시지 출력\n",
    "        message = step_output[\"messages\"][-1]\n",
    "\n",
    "        if isinstance(message, tuple):\n",
    "            print(message)\n",
    "        else:\n",
    "            # 메시지 타입에 따라 다르게 출력\n",
    "            message.pretty_print()\n",
    "\n",
    "print(\"스트림 출력 함수 준비 완료!\")\n"
   ]
  },
  {
   "cell_type": "code",
   "execution_count": 24,
   "id": "f974d383",
   "metadata": {
    "id": "f974d383"
   },
   "outputs": [
    {
     "name": "stdout",
     "output_type": "stream",
     "text": [
      "============================================================\n",
      "예시 1: 날씨 정보 조회\n",
      "============================================================\n",
      "ReAct Agent 실행 시작!\n",
      "\n",
      "================================\u001b[1m Human Message \u001b[0m=================================\n",
      "\n",
      "서울의 날씨가 어떤가요?\n",
      "AI 모델 노드 실행 중...\n",
      "  총 2개의 메시지를 모델에 전달\n",
      "  AI 응답 생성 완료 (도구 호출: 1개)\n",
      "  1개의 도구 호출이 있으므로 계속 진행합니다\n",
      "==================================\u001b[1m Ai Message \u001b[0m==================================\n",
      "Tool Calls:\n",
      "  get_weather (call_RqLqJyEaNKM5f0P1Y52vBdSv)\n",
      " Call ID: call_RqLqJyEaNKM5f0P1Y52vBdSv\n",
      "  Args:\n",
      "    location: 서울\n",
      "도구 노드 실행 중...\n",
      "  get_weather 도구 호출: {'location': '서울'}\n",
      "  결과: 서울의 날씨: 맑음, 기온 20°C, 습도 60%\n",
      "=================================\u001b[1m Tool Message \u001b[0m=================================\n",
      "Name: get_weather\n",
      "\n",
      "\"\\uc11c\\uc6b8\\uc758 \\ub0a0\\uc528: \\ub9d1\\uc74c, \\uae30\\uc628 20\\u00b0C, \\uc2b5\\ub3c4 60%\"\n",
      "AI 모델 노드 실행 중...\n",
      "  총 4개의 메시지를 모델에 전달\n",
      "  AI 응답 생성 완료 (도구 호출: 0개)\n",
      "  도구 호출이 없으므로 대화를 종료합니다\n",
      "==================================\u001b[1m Ai Message \u001b[0m==================================\n",
      "\n",
      "서울의 현재 날씨는 흐림이며, 기온은 20도 섭씨입니다. 습도는 60%입니다.\n",
      "\n",
      "첫 번째 예시 완료!\n"
     ]
    }
   ],
   "source": [
    "# 예시 1: 날씨 조회\n",
    "print(\"=\" * 60)\n",
    "print(\"예시 1: 날씨 정보 조회\")\n",
    "print(\"=\" * 60)\n",
    "\n",
    "# 입력 메시지 설정\n",
    "inputs = {\"messages\": [(\"user\", \"서울의 날씨가 어떤가요?\")]}\n",
    "\n",
    "print(\"ReAct Agent 실행 시작!\\n\")\n",
    "\n",
    "try:\n",
    "    # 그래프 실행 (스트림 모드로 단계별 확인)\n",
    "    stream = graph.stream(inputs, stream_mode=\"values\")\n",
    "    print_stream(stream)\n",
    "\n",
    "    print(\"\\n첫 번째 예시 완료!\")\n",
    "\n",
    "except Exception as e:\n",
    "    print(f\"오류 발생: {str(e)}\")\n",
    "    print(\"API 키가 올바르게 설정되었는지 확인해주세요.\")\n"
   ]
  },
  {
   "cell_type": "code",
   "execution_count": 25,
   "id": "65e4ae99",
   "metadata": {
    "id": "65e4ae99"
   },
   "outputs": [
    {
     "name": "stdout",
     "output_type": "stream",
     "text": [
      "\n",
      "============================================================\n",
      "예시 2: 복합 질문 - 시간 조회 및 계산\n",
      "============================================================\n",
      "복합 질문 처리 시작!\n",
      "\n",
      "================================\u001b[1m Human Message \u001b[0m=================================\n",
      "\n",
      "현재 시간을 알려주고, 25 * 4 + 10을 계산해주세요.\n",
      "AI 모델 노드 실행 중...\n",
      "  총 2개의 메시지를 모델에 전달\n",
      "  AI 응답 생성 완료 (도구 호출: 2개)\n",
      "  2개의 도구 호출이 있으므로 계속 진행합니다\n",
      "==================================\u001b[1m Ai Message \u001b[0m==================================\n",
      "Tool Calls:\n",
      "  get_current_time (call_9jAJSBXSeZiMqUESBdssrmhu)\n",
      " Call ID: call_9jAJSBXSeZiMqUESBdssrmhu\n",
      "  Args:\n",
      "  calculator (call_mSpkxN7qLEDsVtqYrg2hXDwq)\n",
      " Call ID: call_mSpkxN7qLEDsVtqYrg2hXDwq\n",
      "  Args:\n",
      "    expression: 25 * 4 + 10\n",
      "도구 노드 실행 중...\n",
      "  get_current_time 도구 호출: {}\n",
      "  결과: 현재 시간: 2025년 08월 21일 17시 13분\n",
      "  calculator 도구 호출: {'expression': '25 * 4 + 10'}\n",
      "  결과: 계산 결과: 25 * 4 + 10 = 110\n",
      "=================================\u001b[1m Tool Message \u001b[0m=================================\n",
      "Name: calculator\n",
      "\n",
      "\"\\uacc4\\uc0b0 \\uacb0\\uacfc: 25 * 4 + 10 = 110\"\n",
      "AI 모델 노드 실행 중...\n",
      "  총 5개의 메시지를 모델에 전달\n",
      "  AI 응답 생성 완료 (도구 호출: 0개)\n",
      "  도구 호출이 없으므로 대화를 종료합니다\n",
      "==================================\u001b[1m Ai Message \u001b[0m==================================\n",
      "\n",
      "현재 시간은 2025년 08월 21일 17시 13분입니다.  \n",
      "계산 결과는 25 * 4 + 10 = 110입니다.\n",
      "\n",
      "두 번째 예시 완료!\n"
     ]
    }
   ],
   "source": [
    "# 예시 2: 복합 질문 (시간 + 계산)\n",
    "print(\"\\n\" + \"=\" * 60)\n",
    "print(\"예시 2: 복합 질문 - 시간 조회 및 계산\")\n",
    "print(\"=\" * 60)\n",
    "\n",
    "inputs2 = {\n",
    "    \"messages\": [\n",
    "        (\"user\", \"현재 시간을 알려주고, 25 * 4 + 10을 계산해주세요.\")\n",
    "    ]\n",
    "}\n",
    "\n",
    "print(\"복합 질문 처리 시작!\\n\")\n",
    "\n",
    "try:\n",
    "    stream2 = graph.stream(inputs2, stream_mode=\"values\")\n",
    "    print_stream(stream2)\n",
    "\n",
    "    print(\"\\n두 번째 예시 완료!\")\n",
    "\n",
    "except Exception as e:\n",
    "    print(f\"오류 발생: {str(e)}\")\n"
   ]
  },
  {
   "cell_type": "code",
   "execution_count": 26,
   "id": "267cfe4c",
   "metadata": {
    "id": "267cfe4c"
   },
   "outputs": [
    {
     "name": "stdout",
     "output_type": "stream",
     "text": [
      "\n",
      "============================================================\n",
      "예시 3: 일반 대화 - 도구 없이 답변\n",
      "============================================================\n",
      "일반 대화 처리 시작!\n",
      "\n",
      "================================\u001b[1m Human Message \u001b[0m=================================\n",
      "\n",
      "안녕하세요! LangGraph에 대해 간단히 설명해주세요.\n",
      "AI 모델 노드 실행 중...\n",
      "  총 2개의 메시지를 모델에 전달\n",
      "  AI 응답 생성 완료 (도구 호출: 0개)\n",
      "  도구 호출이 없으므로 대화를 종료합니다\n",
      "==================================\u001b[1m Ai Message \u001b[0m==================================\n",
      "\n",
      "LangGraph는 자연어 처리(NLP)와 그래프 데이터베이스를 결합한 기술로, 언어 데이터를 그래프 형태로 모델링하여 다양한 언어 관련 작업을 수행할 수 있도록 돕습니다. 이 기술은 언어의 의미와 관계를 시각적으로 표현하고, 이를 통해 정보 검색, 추천 시스템, 지식 그래프 구축 등 다양한 응용 분야에서 활용됩니다.\n",
      "\n",
      "LangGraph는 언어의 구조와 의미를 더 잘 이해할 수 있게 해주며, 복잡한 언어적 관계를 탐색하고 분석하는 데 유용합니다. 이를 통해 사용자에게 더 나은 정보 제공과 의사결정을 지원할 수 있습니다.\n",
      "\n",
      "세 번째 예시 완료!\n"
     ]
    }
   ],
   "source": [
    "# 예시 3: 일반 대화 (도구 사용 없음)\n",
    "print(\"\\n\" + \"=\" * 60)\n",
    "print(\"예시 3: 일반 대화 - 도구 없이 답변\")\n",
    "print(\"=\" * 60)\n",
    "\n",
    "inputs3 = {\n",
    "    \"messages\": [\n",
    "        (\"user\", \"안녕하세요! LangGraph에 대해 간단히 설명해주세요.\")\n",
    "    ]\n",
    "}\n",
    "\n",
    "print(\"일반 대화 처리 시작!\\n\")\n",
    "\n",
    "try:\n",
    "    stream3 = graph.stream(inputs3, stream_mode=\"values\")\n",
    "    print_stream(stream3)\n",
    "\n",
    "    print(\"\\n세 번째 예시 완료!\")\n",
    "\n",
    "except Exception as e:\n",
    "    print(f\"오류 발생: {str(e)}\")\n"
   ]
  },
  {
   "cell_type": "markdown",
   "id": "1492d598",
   "metadata": {
    "id": "1492d598"
   },
   "source": [
    "## 7. 그래프 시각화 및 디버깅\n",
    "\n",
    "LangGraph는 그래프를 시각화하여 에이전트의 동작을 쉽게 이해할 수 있도록 도와줍니다.\n"
   ]
  },
  {
   "cell_type": "markdown",
   "id": "09e2ce2b",
   "metadata": {},
   "source": [
    "```\n",
    "                    시작\n",
    "                     |\n",
    "                     v\n",
    "         +---------agent---------+\n",
    "         |           |           |\n",
    "     continue        ^           |\n",
    "         |           |           |\n",
    "         v           |           |\n",
    "         +---tools---+           v\n",
    "                                종료\n",
    "```"
   ]
  },
  {
   "cell_type": "code",
   "execution_count": 27,
   "id": "0640bfc7",
   "metadata": {
    "id": "0640bfc7"
   },
   "outputs": [
    {
     "name": "stdout",
     "output_type": "stream",
     "text": [
      "그래프 시각화 시도 중...\n"
     ]
    },
    {
     "data": {
      "image/png": "[encoded data removed]",
      "text/plain": [
       "<IPython.core.display.Image object>"
      ]
     },
     "metadata": {},
     "output_type": "display_data"
    },
    {
     "name": "stdout",
     "output_type": "stream",
     "text": [
      "그래프 시각화 성공!\n"
     ]
    }
   ],
   "source": [
    "# 그래프 시각화 시도\n",
    "print(\"그래프 시각화 시도 중...\")\n",
    "\n",
    "try:\n",
    "    # IPython 환경에서 이미지 표시를 위한 import\n",
    "    from IPython.display import Image, display\n",
    "\n",
    "    # Mermaid 다이어그램으로 그래프 시각화\n",
    "    display(Image(graph.get_graph().draw_mermaid_png()))\n",
    "    print(\"그래프 시각화 성공!\")\n",
    "\n",
    "except Exception as e:\n",
    "    print(f\"그래프 시각화 실패: {str(e)}\")\n",
    "    print(\"이는 추가 의존성(graphviz, pillow 등)이 필요할 수 있습니다.\")\n",
    "    print(\"하지만 기능적으로는 정상 작동합니다!\")\n"
   ]
  },
  {
   "cell_type": "code",
   "execution_count": 28,
   "id": "a46738e5",
   "metadata": {
    "id": "a46738e5"
   },
   "outputs": [
    {
     "name": "stdout",
     "output_type": "stream",
     "text": [
      "\n",
      "그래프 구조 (텍스트 형태):\n",
      "========================================\n",
      "노드들:\n",
      "  - __start__\n",
      "  - agent\n",
      "  - tools\n",
      "  - __end__\n",
      "\n",
      "엣지들:\n",
      "  - __start__ → agent\n",
      "  - tools → agent\n",
      "  - agent → tools\n",
      "  - agent → __end__\n",
      "\n",
      "시작점: agent\n",
      "상태 타입: AgentState\n",
      "\n",
      "========================================\n"
     ]
    }
   ],
   "source": [
    "# 그래프 구조 텍스트로 출력\n",
    "print(\"\\n그래프 구조 (텍스트 형태):\")\n",
    "print(\"=\" * 40)\n",
    "\n",
    "try:\n",
    "    # 그래프의 기본 정보 출력\n",
    "    graph_info = graph.get_graph()\n",
    "\n",
    "    print(\"노드들:\")\n",
    "    for node_id in graph_info.nodes:\n",
    "        print(f\"  - {node_id}\")\n",
    "\n",
    "    print(\"\\n엣지들:\")\n",
    "    for edge in graph_info.edges:\n",
    "        print(f\"  - {edge.source} → {edge.target}\")\n",
    "\n",
    "    print(f\"\\n시작점: agent\")\n",
    "    print(f\"상태 타입: AgentState\")\n",
    "\n",
    "except Exception as e:\n",
    "    print(f\"그래프 정보 출력 중 오류: {e}\")\n",
    "\n",
    "print(\"\\n\" + \"=\" * 40)\n"
   ]
  }
 ],
 "metadata": {
  "colab": {
   "provenance": [],
   "toc_visible": true
  },
  "kernelspec": {
   "display_name": ".venv",
   "language": "python",
   "name": "python3"
  },
  "language_info": {
   "codemirror_mode": {
    "name": "ipython",
    "version": 3
   },
   "file_extension": ".py",
   "mimetype": "text/x-python",
   "name": "python",
   "nbconvert_exporter": "python",
   "pygments_lexer": "ipython3",
   "version": "3.13.2"
  }
 },
 "nbformat": 4,
 "nbformat_minor": 5
}
