{
 "cells": [
  {
   "cell_type": "markdown",
   "id": "040ec0c9",
   "metadata": {},
   "source": [
    "# Multi Agents - 고객 지원 챗봇 (초급)\n",
    "\n",
    "## 개요\n",
    "LangGraph를 활용하여 여러 에이전트가 협력하는 고객 지원 챗봇을 구현합니다.\n",
    "\n",
    "## 구성\n",
    "1. **분류 에이전트**: 고객 문의 유형을 판단 (기술/결제/일반)\n",
    "2. **기술 지원 에이전트**: 기술 문제 해결\n",
    "3. **결제 지원 에이전트**: 결제 관련 처리\n",
    "4. **일반 상담 에이전트**: 일반 문의 응답\n",
    "\n",
    "## 학습 목표\n",
    "- 조건부 라우팅 (conditional routing)\n",
    "- 상태 관리 (state management)\n",
    "- 여러 에이전트 중 선택적 실행\n"
   ]
  },
  {
   "cell_type": "markdown",
   "id": "2fb9be70",
   "metadata": {},
   "source": [
    "## 1. 환경 설정 및 라이브러리 임포트\n"
   ]
  },
  {
   "cell_type": "code",
   "execution_count": 1,
   "id": "4cf7af9a",
   "metadata": {},
   "outputs": [],
   "source": [
    "import os\n",
    "from typing import TypedDict, Literal, Annotated\n",
    "from langgraph.graph import StateGraph, END\n",
    "from langchain_openai import ChatOpenAI\n",
    "from langchain_core.messages import HumanMessage, SystemMessage\n"
   ]
  },
  {
   "cell_type": "markdown",
   "id": "8e8032c2",
   "metadata": {},
   "source": [
    "### API 키 설정\n",
    "- [OpenAI API 키](https://platform.openai.com/api-keys)"
   ]
  },
  {
   "cell_type": "code",
   "execution_count": null,
   "id": "76604cf3",
   "metadata": {},
   "outputs": [
    {
     "name": "stdout",
     "output_type": "stream",
     "text": [
      "OpenAI API 키가 설정되었습니다. (GPT 모델 사용)\n"
     ]
    }
   ],
   "source": [
    "import os\n",
    "\n",
    "# API 키 설정\n",
    "os.environ[\"OPENAI_API_KEY\"] = \"sk-proj-\"\n",
    "\n",
    "# API 키 확인\n",
    "openai_key = os.getenv(\"OPENAI_API_KEY\")\n",
    "\n",
    "if openai_key:\n",
    "    print(\"OpenAI API 키가 설정되었습니다. (GPT 모델 사용)\")\n",
    "else:\n",
    "    print(\"OpenAI API 키가 없습니다.\")"
   ]
  },
  {
   "cell_type": "markdown",
   "id": "34b717a7",
   "metadata": {},
   "source": [
    "### LLM 초기화"
   ]
  },
  {
   "cell_type": "code",
   "execution_count": 3,
   "id": "52b93152",
   "metadata": {},
   "outputs": [],
   "source": [
    "# LLM 초기화\n",
    "llm = ChatOpenAI(model=\"gpt-5-nano\")"
   ]
  },
  {
   "cell_type": "markdown",
   "id": "b48bf061",
   "metadata": {},
   "source": [
    "## 2. 상태 정의 (State Management)\n",
    "\n",
    "그래프에서 사용할 상태 구조를 정의합니다. 상태는 모든 노드 간에 공유되며, 각 에이전트가 정보를 추가하거나 수정할 수 있습니다.\n"
   ]
  },
  {
   "cell_type": "code",
   "execution_count": 4,
   "id": "d6881abd",
   "metadata": {},
   "outputs": [
    {
     "name": "stdout",
     "output_type": "stream",
     "text": [
      "상태 구조가 정의되었습니다.\n"
     ]
    }
   ],
   "source": [
    "class SupportState(TypedDict):\n",
    "    \"\"\"\n",
    "    고객 지원 챗봇의 상태를 정의하는 클래스\n",
    "    \n",
    "    Attributes:\n",
    "        question: 고객의 원본 문의 내용\n",
    "        category: 문의 유형 (\"technical\", \"billing\", \"general\")\n",
    "        response: 최종 응답 메시지\n",
    "    \"\"\"\n",
    "    question: str\n",
    "    category: str\n",
    "    response: str\n",
    "\n",
    "print(\"상태 구조가 정의되었습니다.\")\n"
   ]
  },
  {
   "cell_type": "markdown",
   "id": "1ba3eeec",
   "metadata": {},
   "source": [
    "## 3. 에이전트 노드 정의\n",
    "\n",
    "각 에이전트의 역할과 기능을 정의합니다.\n"
   ]
  },
  {
   "cell_type": "markdown",
   "id": "07abf828",
   "metadata": {},
   "source": [
    "### 3.1 분류 에이전트 (Classifier Agent)\n",
    "\n",
    "고객의 문의 내용을 분석하여 적절한 지원 유형으로 분류합니다.\n"
   ]
  },
  {
   "cell_type": "code",
   "execution_count": 5,
   "id": "e1d7df59",
   "metadata": {},
   "outputs": [],
   "source": [
    "def classifier_agent(state: SupportState) -> SupportState:\n",
    "    \"\"\"\n",
    "    고객 문의를 분석하여 적절한 카테고리로 분류하는 에이전트\n",
    "    \n",
    "    Returns:\n",
    "        - \"technical\": 기술 지원이 필요한 경우\n",
    "        - \"billing\": 결제 관련 문의인 경우\n",
    "        - \"general\": 일반적인 문의인 경우\n",
    "    \"\"\"\n",
    "    question = state[\"question\"]\n",
    "    \n",
    "    # LLM을 사용하여 문의 유형 분류\n",
    "    messages = [\n",
    "        SystemMessage(content=\"\"\"\n",
    "            당신은 고객 문의를 분류하는 전문가입니다.\n",
    "            고객의 문의를 다음 세 가지 카테고리 중 하나로 분류하세요:\n",
    "\n",
    "            1. technical - 기술적 문제, 오류, 버그, 기능 작동 문제 등\n",
    "            2. billing - 결제, 환불, 요금제, 구독 관련 문제\n",
    "            3. general - 일반 문의, 제품 정보, 사용 방법 등\n",
    "\n",
    "            반드시 'technical', 'billing', 'general' 중 하나의 단어만 응답하세요.\"\"\"),\n",
    "        HumanMessage(content=f\"다음 문의를 분류하세요: {question}\")\n",
    "    ]\n",
    "    \n",
    "    response = llm.invoke(messages)\n",
    "    category = response.content.strip().lower()\n",
    "    \n",
    "    print(f\"[분류 에이전트] 문의 유형: {category}\")\n",
    "    \n",
    "    return {\n",
    "        \"question\": question,\n",
    "        \"category\": category,\n",
    "        \"response\": \"\"\n",
    "    }\n"
   ]
  },
  {
   "cell_type": "code",
   "execution_count": 6,
   "id": "49ee721d",
   "metadata": {},
   "outputs": [
    {
     "name": "stderr",
     "output_type": "stream",
     "text": [
      "Failed to multipart ingest runs: langsmith.utils.LangSmithError: Failed to POST https://api.smith.langchain.com/runs/multipart in LangSmith API. HTTPError('403 Client Error: Forbidden for url: https://api.smith.langchain.com/runs/multipart', '{\"error\":\"Forbidden\"}\\n')\n"
     ]
    },
    {
     "name": "stdout",
     "output_type": "stream",
     "text": [
      "[분류 에이전트] 문의 유형: technical\n",
      "분류 결과: technical\n"
     ]
    },
    {
     "name": "stderr",
     "output_type": "stream",
     "text": [
      "Failed to send compressed multipart ingest: langsmith.utils.LangSmithError: Failed to POST https://api.smith.langchain.com/runs/multipart in LangSmith API. HTTPError('403 Client Error: Forbidden for url: https://api.smith.langchain.com/runs/multipart', '{\"error\":\"Forbidden\"}\\n')\n",
      "Failed to send compressed multipart ingest: langsmith.utils.LangSmithError: Failed to POST https://api.smith.langchain.com/runs/multipart in LangSmith API. HTTPError('403 Client Error: Forbidden for url: https://api.smith.langchain.com/runs/multipart', '{\"error\":\"Forbidden\"}\\n')\n",
      "Failed to send compressed multipart ingest: langsmith.utils.LangSmithError: Failed to POST https://api.smith.langchain.com/runs/multipart in LangSmith API. HTTPError('403 Client Error: Forbidden for url: https://api.smith.langchain.com/runs/multipart', '{\"error\":\"Forbidden\"}\\n')\n",
      "Failed to send compressed multipart ingest: langsmith.utils.LangSmithError: Failed to POST https://api.smith.langchain.com/runs/multipart in LangSmith API. HTTPError('403 Client Error: Forbidden for url: https://api.smith.langchain.com/runs/multipart', '{\"error\":\"Forbidden\"}\\n')\n",
      "Failed to send compressed multipart ingest: langsmith.utils.LangSmithError: Failed to POST https://api.smith.langchain.com/runs/multipart in LangSmith API. HTTPError('403 Client Error: Forbidden for url: https://api.smith.langchain.com/runs/multipart', '{\"error\":\"Forbidden\"}\\n')\n",
      "Failed to send compressed multipart ingest: langsmith.utils.LangSmithError: Failed to POST https://api.smith.langchain.com/runs/multipart in LangSmith API. HTTPError('403 Client Error: Forbidden for url: https://api.smith.langchain.com/runs/multipart', '{\"error\":\"Forbidden\"}\\n')\n",
      "Failed to send compressed multipart ingest: langsmith.utils.LangSmithError: Failed to POST https://api.smith.langchain.com/runs/multipart in LangSmith API. HTTPError('403 Client Error: Forbidden for url: https://api.smith.langchain.com/runs/multipart', '{\"error\":\"Forbidden\"}\\n')\n",
      "Failed to send compressed multipart ingest: langsmith.utils.LangSmithError: Failed to POST https://api.smith.langchain.com/runs/multipart in LangSmith API. HTTPError('403 Client Error: Forbidden for url: https://api.smith.langchain.com/runs/multipart', '{\"error\":\"Forbidden\"}\\n')\n"
     ]
    }
   ],
   "source": [
    "# 테스트\n",
    "test_state = {\"question\": \"로그인이 안됩니다\", \"category\": \"\", \"response\": \"\"}\n",
    "result = classifier_agent(test_state)\n",
    "print(f\"분류 결과: {result['category']}\")"
   ]
  },
  {
   "cell_type": "markdown",
   "id": "52e8cc48",
   "metadata": {},
   "source": [
    "### 3.2 기술 지원 에이전트\n",
    "\n",
    "기술적인 문제를 해결하는 전문 에이전트입니다.\n"
   ]
  },
  {
   "cell_type": "code",
   "execution_count": 7,
   "id": "c00f1c03",
   "metadata": {},
   "outputs": [],
   "source": [
    "def technical_support_agent(state: SupportState) -> SupportState:\n",
    "    \"\"\"\n",
    "    기술적 문제를 해결하는 에이전트\n",
    "    \"\"\"\n",
    "    question = state[\"question\"]\n",
    "    \n",
    "    messages = [\n",
    "        SystemMessage(content=\"\"\"\n",
    "            당신은 기술 지원 전문가입니다.\n",
    "            고객의 기술적 문제를 친절하고 명확하게 해결해주세요.\n",
    "            단계별 해결 방법을 제시하고, 가능한 원인을 설명하세요.\"\"\"),\n",
    "        HumanMessage(content=question)\n",
    "    ]\n",
    "    \n",
    "    response = llm.invoke(messages)\n",
    "    answer = response.content\n",
    "    \n",
    "    print(f\"[기술 지원 에이전트] 응답 생성 완료\")\n",
    "    \n",
    "    return {\n",
    "        \"question\": question,\n",
    "        \"category\": state[\"category\"],\n",
    "        \"response\": answer\n",
    "    }\n"
   ]
  },
  {
   "cell_type": "markdown",
   "id": "bb0345f6",
   "metadata": {},
   "source": [
    "### 3.3 결제 지원 에이전트\n",
    "\n",
    "결제 및 청구 관련 문제를 처리하는 에이전트입니다.\n"
   ]
  },
  {
   "cell_type": "code",
   "execution_count": 8,
   "id": "f5f1c6bb",
   "metadata": {},
   "outputs": [],
   "source": [
    "def billing_support_agent(state: SupportState) -> SupportState:\n",
    "    \"\"\"\n",
    "    결제 및 청구 관련 문제를 처리하는 에이전트\n",
    "    \"\"\"\n",
    "    question = state[\"question\"]\n",
    "    \n",
    "    messages = [\n",
    "        SystemMessage(content=\"\"\"\n",
    "            당신은 결제 및 청구 관련 전문 상담원입니다.\n",
    "            고객의 결제, 환불, 요금제 관련 문의에 정확하고 친절하게 답변하세요.\n",
    "            필요한 경우 정책과 절차를 안내하세요.\"\"\"),\n",
    "        HumanMessage(content=question)\n",
    "    ]\n",
    "    \n",
    "    response = llm.invoke(messages)\n",
    "    answer = response.content\n",
    "    \n",
    "    print(f\"[결제 지원 에이전트] 응답 생성 완료\")\n",
    "    \n",
    "    return {\n",
    "        \"question\": question,\n",
    "        \"category\": state[\"category\"],\n",
    "        \"response\": answer\n",
    "    }\n"
   ]
  },
  {
   "cell_type": "markdown",
   "id": "2578aec4",
   "metadata": {},
   "source": [
    "### 3.4 일반 상담 에이전트\n",
    "\n",
    "일반적인 문의사항을 처리하는 에이전트입니다.\n"
   ]
  },
  {
   "cell_type": "code",
   "execution_count": 9,
   "id": "d4303a08",
   "metadata": {},
   "outputs": [],
   "source": [
    "def general_support_agent(state: SupportState) -> SupportState:\n",
    "    \"\"\"\n",
    "    일반적인 문의사항을 처리하는 에이전트\n",
    "    \"\"\"\n",
    "    question = state[\"question\"]\n",
    "    \n",
    "    messages = [\n",
    "        SystemMessage(content=\"\"\"\n",
    "            당신은 친절한 고객 상담원입니다.\n",
    "            고객의 일반적인 문의에 친절하고 유용한 정보를 제공하세요.\n",
    "            제품이나 서비스에 대한 설명을 명확하게 전달하세요.\"\"\"),\n",
    "        HumanMessage(content=question)\n",
    "    ]\n",
    "    \n",
    "    response = llm.invoke(messages)\n",
    "    answer = response.content\n",
    "    \n",
    "    print(f\"[일반 상담 에이전트] 응답 생성 완료\")\n",
    "    \n",
    "    return {\n",
    "        \"question\": question,\n",
    "        \"category\": state[\"category\"],\n",
    "        \"response\": answer\n",
    "    }\n"
   ]
  },
  {
   "cell_type": "markdown",
   "id": "261f942a",
   "metadata": {},
   "source": [
    "## 4. 조건부 라우팅 (Conditional Routing)\n",
    "\n",
    "분류 결과에 따라 적절한 에이전트로 라우팅하는 함수를 정의합니다.\n"
   ]
  },
  {
   "cell_type": "code",
   "execution_count": 10,
   "id": "6cb9daa4",
   "metadata": {},
   "outputs": [
    {
     "name": "stdout",
     "output_type": "stream",
     "text": [
      "라우팅 함수가 정의되었습니다.\n"
     ]
    }
   ],
   "source": [
    "def route_question(state: SupportState) -> Literal[\"technical\", \"billing\", \"general\"]:\n",
    "    \"\"\"\n",
    "    분류된 카테고리에 따라 적절한 에이전트로 라우팅하는 함수\n",
    "    \"\"\"\n",
    "    category = state[\"category\"]\n",
    "    \n",
    "    print(f\"[라우터] '{category}' 카테고리로 라우팅\")\n",
    "    \n",
    "    # 카테고리에 따라 다음 노드 결정\n",
    "    if category == \"technical\":\n",
    "        return \"technical\"\n",
    "    elif category == \"billing\":\n",
    "        return \"billing\"\n",
    "    else:\n",
    "        return \"general\"\n",
    "\n",
    "print(\"라우팅 함수가 정의되었습니다.\")\n"
   ]
  },
  {
   "cell_type": "markdown",
   "id": "bad09631",
   "metadata": {},
   "source": [
    "## 5. 그래프 구성\n",
    "\n",
    "LangGraph를 사용하여 전체 워크플로우를 구성합니다."
   ]
  },
  {
   "cell_type": "code",
   "execution_count": 11,
   "id": "b14691b2",
   "metadata": {},
   "outputs": [
    {
     "name": "stdout",
     "output_type": "stream",
     "text": [
      "그래프가 성공적으로 구성되었습니다!\n"
     ]
    }
   ],
   "source": [
    "# StateGraph 생성\n",
    "workflow = StateGraph(SupportState)\n",
    "\n",
    "# 노드 추가\n",
    "workflow.add_node(\"classifier\", classifier_agent)\n",
    "workflow.add_node(\"technical\", technical_support_agent)\n",
    "workflow.add_node(\"billing\", billing_support_agent)\n",
    "workflow.add_node(\"general\", general_support_agent)\n",
    "\n",
    "# 시작점 설정\n",
    "workflow.set_entry_point(\"classifier\")\n",
    "\n",
    "# 조건부 엣지 추가 (분류 에이전트 -> 라우팅)\n",
    "workflow.add_conditional_edges(\n",
    "    \"classifier\",  # 출발 노드\n",
    "    route_question,  # 라우팅 함수\n",
    "    {\n",
    "        \"technical\": \"technical\",  # 기술 지원으로\n",
    "        \"billing\": \"billing\",      # 결제 지원으로\n",
    "        \"general\": \"general\"       # 일반 상담으로\n",
    "    }\n",
    ")\n",
    "\n",
    "# 각 전문 에이전트에서 END로 연결\n",
    "workflow.add_edge(\"technical\", END)\n",
    "workflow.add_edge(\"billing\", END)\n",
    "workflow.add_edge(\"general\", END)\n",
    "\n",
    "# 그래프 컴파일\n",
    "app = workflow.compile()\n",
    "\n",
    "print(\"그래프가 성공적으로 구성되었습니다!\")\n"
   ]
  },
  {
   "cell_type": "markdown",
   "id": "4ff8dc4b",
   "metadata": {},
   "source": [
    "## 6. 그래프 시각화 (선택사항)\n",
    "\n",
    "그래프의 구조를 시각적으로 확인할 수 있습니다.\n"
   ]
  },
  {
   "cell_type": "markdown",
   "id": "d6997fff",
   "metadata": {},
   "source": [
    "```\n",
    "시작\n",
    "  |\n",
    "  v\n",
    "분류 에이전트\n",
    "  |\n",
    "  v\n",
    "조건부 라우팅\n",
    "  |\n",
    "  +-- technical --> 기술 지원 에이전트 --> 종료\n",
    "  |\n",
    "  +-- billing --> 결제 지원 에이전트 --> 종료\n",
    "  |\n",
    "  +-- general --> 일반 상담 에이전트 --> 종료\n",
    "```\n"
   ]
  },
  {
   "cell_type": "code",
   "execution_count": 12,
   "id": "671ede78",
   "metadata": {},
   "outputs": [
    {
     "data": {
      "image/png": "[encoded data removed]",
      "text/plain": [
       "<IPython.core.display.Image object>"
      ]
     },
     "metadata": {},
     "output_type": "display_data"
    }
   ],
   "source": [
    "try:\n",
    "    from IPython.display import Image, display\n",
    "    display(Image(app.get_graph().draw_mermaid_png()))\n",
    "except Exception as e:\n",
    "    print(f\"그래프 시각화를 위해서는 graphviz가 필요합니다: {e}\")\n",
    "    print(\"텍스트로 그래프 구조를 확인하세요:\")\n",
    "    print(app.get_graph())\n"
   ]
  },
  {
   "cell_type": "markdown",
   "id": "003523d9",
   "metadata": {},
   "source": [
    "## 7. 테스트 예제\n",
    "\n",
    "다양한 문의 유형으로 챗봇을 테스트해봅니다.\n"
   ]
  },
  {
   "cell_type": "markdown",
   "id": "a8429d12",
   "metadata": {},
   "source": [
    "### 7.1 테스트 케이스 1: 기술 지원 문의\n"
   ]
  },
  {
   "cell_type": "code",
   "execution_count": 13,
   "id": "9e2e7e1d",
   "metadata": {},
   "outputs": [
    {
     "name": "stdout",
     "output_type": "stream",
     "text": [
      "============================================================\n",
      "테스트 1: 기술 지원 문의\n",
      "============================================================\n",
      "[분류 에이전트] 문의 유형: technical\n",
      "[라우터] 'technical' 카테고리로 라우팅\n",
      "[기술 지원 에이전트] 응답 생성 완료\n",
      "\n",
      "질문: 앱이 자꾸 강제 종료됩니다. 어떻게 해야 하나요?\n",
      "분류: technical\n",
      "\n",
      "응답:\n",
      "앱이 자꾸 강제 종료되는 문제, 차근차근 해결해볼게요. 아래 순서대로 시도해 보시고, 각 단계 후에 문제가 해결되었는지 알려주세요.\n",
      "\n",
      "먼저 준비할 정보(가능하면 알려주시면 더 정확히 도와드릴 수 있습니다)\n",
      "- 어떤 기기(OS 및 모델): 예) Android 13/ Galaxy S23, iPhone iOS 17 등\n",
      "- 문제의 앱 이름과 버전\n",
      "- 강제 종료가 언제 발생하나요? 시작/이용 중/특정 화면에서만 등\n",
      "- 네트워크 연결 여부(와이파이/모바일 데이터)나 VPN 사용 여부\n",
      "- 최근에 앱이나 OS 업데이트가 있었나요?\n",
      "\n",
      "1) 기기 재시작\n",
      "- 간단하지만 효과가 큰 경우가 많습니다. 기기를 완전히 재시작해 보세요.\n",
      "\n",
      "2) 앱 재시작 및 강제 종료 재현 여부 확인\n",
      "- 앱을 완전히 종료하고(필요하면 메모리에서 강제 종료) 다시 열어 동일한 상황에서 재현되는지 확인합니다.\n",
      "\n",
      "3) 업데이트 확인\n",
      "- 앱: 앱 스토어/플레이스토어에서 최신 버전으로 업데이트.\n",
      "- OS: 기기의 운영체제도 최신 상태인지 확인하고 필요하면 업데이트.\n",
      "\n",
      "4) 저장 공간 및 메모리 확인\n",
      "- 기기에 충분한 저장공간이 있는지 확인(여유 공간 부족은 앱 강제 종료를 유발할 수 있음).\n",
      "- 백그라운드에서 많은 앱이 동작 중인지 확인하고 필요없는 앱 종료.\n",
      "\n",
      "Android일 때 추가 팁\n",
      "- 앱별 저장 데이터 초기화\n",
      "  Settings > Apps > [앱 이름] > Storage > Clear Cache(캐시 삭제), Clear Data(데이터 초기화) — 주의: 로그인 정보가 제거될 수 있습니다.\n",
      "- 강제 종료 방지 설정 확인\n",
      "  Settings > Battery > Battery optimization(배터리 최적화) > [앱 이름] 제외(또는 최적화 해제)로 설정합니다.\n",
      "- 강제 종료 원인 후보\n",
      "  업데이트 문제, 캐시 손상, 데이터 손상, 과도한 메모리 사용 등\n",
      "- 네트워크/권한\n",
      "  앱에 필요한 권한이 모두 허용되어 있는지 확인합니다.\n",
      "\n",
      "iOS일 때 추가 팁\n",
      "- 앱 삭제 후 재설치\n",
      "  문제의 앱 삭제 → App Store에서 다시 설치.\n",
      "- 네트워크 설정 리셋(필요할 때)\n",
      "  Settings > General > Reset > Reset Network Settings를 시도해 볼 수 있습니다. 단, Wi-Fi 비밀번호 재입력이 필요합니다.\n",
      "- 백그라운드 데이터 및 권한 확인\n",
      "  설정에서 해당 앱의 위치, 카메라, 알림 등 필요한 권한이 허용되어 있는지 확인합니다.\n",
      "\n",
      "5) 네트워크 관련 문제 점검\n",
      "- Wi-Fi와 모바일 데이터 중 어느 쪽에서 문제가 지속되는지 확인합니다.\n",
      "- VPN 사용 중이라면 VPN을 끄고 시도해 봅니다.\n",
      "- 동일 네트워크에서 다른 기기에서도 같은 문제가 발생하는지 확인합니다.\n",
      "\n",
      "6) 안전 모드/다중 앱과의 충돌 확인(Android)\n",
      "- 가능하면 안전 모드로 부팅해(다른 서드파티 앱이 없는 상태) 문제가 재현되나 확인합니다.\n",
      "- 최근 설치한 앱이나 업데이트된 앱이 문제를 일으킬 수 있습니다. 의심되면 해당 앱을 임시로 제거해 봅니다.\n",
      "\n",
      "7) 로그와 재현 정보 수집\n",
      "- 오류 메시지, 크래시 다이얼로그의 내용을 기록합니다.\n",
      "- 가능하면 화면 캡처나 영상으로 재현 단계를 남깁니다.\n",
      "- 개발사 측에 문의 시: 기기 모델/OS 버전, 앱 버전, 재현 단계, 발생 시각, 에러 메시지, 최근 업데이트 여부를 함께 제공합니다.\n",
      "\n",
      "8) 재설치 시도\n",
      "- 위 방법으로도 해결되지 않는다면 앱을 완전히 제거한 뒤 재설치합니다.\n",
      "- 로그인이 필요한 앱은 재로그인 정보를 준비합니다.\n",
      "\n",
      "9) 문제 지속 시 다음 단계\n",
      "- 제조사/앱 개발자에 문의: 위에서 수집한 재현 정보와 함께 문제를 보고합니다.\n",
      "- 가능하면 crash 로그(안드로이드의 경우 로그캣, iOS의 경우 크래시 로그)나 앱의 버그 리포트를 제출합니다.\n",
      "\n",
      "도움이 되었나요? 지금 바로 시도해 보고, 어떤 단계에서 문제가 해결되었는지 알려주시면 그 상태를 기준으로 다음 조치를 더 구체적으로 안내해 드리겠습니다. 필요하다면 앱 이름, 기기 모델, OS 버전 등 정보를 알려주세요.\n",
      "============================================================\n"
     ]
    }
   ],
   "source": [
    "print(\"=\" * 60)\n",
    "print(\"테스트 1: 기술 지원 문의\")\n",
    "print(\"=\" * 60)\n",
    "\n",
    "question1 = \"앱이 자꾸 강제 종료됩니다. 어떻게 해야 하나요?\"\n",
    "\n",
    "# 초기 상태 생성\n",
    "initial_state = {\n",
    "    \"question\": question1,\n",
    "    \"category\": \"\",\n",
    "    \"response\": \"\"\n",
    "}\n",
    "\n",
    "# 그래프 실행\n",
    "result = app.invoke(initial_state)\n",
    "\n",
    "print(f\"\\n질문: {result['question']}\")\n",
    "print(f\"분류: {result['category']}\")\n",
    "print(f\"\\n응답:\\n{result['response']}\")\n",
    "print(\"=\" * 60)\n"
   ]
  },
  {
   "cell_type": "markdown",
   "id": "e929a345",
   "metadata": {},
   "source": [
    "### 7.2 테스트 케이스 2: 결제 지원 문의\n"
   ]
  },
  {
   "cell_type": "code",
   "execution_count": 14,
   "id": "dd6fd3e2",
   "metadata": {},
   "outputs": [
    {
     "name": "stdout",
     "output_type": "stream",
     "text": [
      "============================================================\n",
      "테스트 2: 결제 지원 문의\n",
      "============================================================\n",
      "[분류 에이전트] 문의 유형: billing\n",
      "[라우터] 'billing' 카테고리로 라우팅\n",
      "[결제 지원 에이전트] 응답 생성 완료\n",
      "\n",
      "질문: 구독을 취소하고 환불받고 싶습니다.\n",
      "분류: billing\n",
      "\n",
      "응답:\n",
      "도와드리겠습니다. 구독 취소와 환불은 이용하신 결제 경로에 따라 처리 방식이 다릅니다. 먼저 몇 가지 확인과 필요한 정보만 알려주시면 신속하게 안내드리겠습니다.\n",
      "\n",
      "필요한 정보\n",
      "- 가입 계정의 이메일 또는 사용자 ID\n",
      "- 구독 이름/플랜(예: 기본/프리미엄 등)과 last 결제일\n",
      "- 결제 수단(예: 카드의 끝 4자리)과 결제 플랫폼(당사 웹/Apple App Store/Google Play 등)\n",
      "- 주문 번호가 있다면 함께 알려주시면 더 빠르게 진행됩니다\n",
      "- 환불 요청 사유(선택적)\n",
      "\n",
      "구독 취소 방법(플랫폼별 안내)\n",
      "- 당사 웹/앱에서 직접 결제한 경우\n",
      "  - 계정 메뉴로 이동 → 구독 관리 → 자동 갱신 해지\n",
      "  - 즉시 해지되며 남은 기간 동안은 서비스 이용 여부가 정책에 따라 달라질 수 있습니다. 환불 가능 여부는 결제일, 사용 기간 등에 따라 다릅니다.\n",
      "- Apple App Store에서 결제한 경우\n",
      "  - Apple에 환불 요청이 필요합니다. 방법: 설정 > [본인 이름] > iTunes 및 App Store > Apple ID > 구독에서 해당 구독 취소, 필요 시 Apple의 환불 요청 절차 페이지를 이용\n",
      "- Google Play에서 결제한 경우\n",
      "  - Google Play 스토어에서 환불 요청이 필요합니다. 방법: Google Play 스토어 > 주문 내역 > 환불 요청 또는 문제 제기\n",
      "\n",
      "다음 단계 제안\n",
      "- 원하시면 제가 먼저 구독 취소 여부와 환불 가능성에 대해 확인해 보고, 필요 시 고객센터로 환불 심사를 요청해 드리겠습니다. 정보를 주시면 바로 처리 방향을 안내해 드리겠습니다.\n",
      "- 플랫폼별로 다른 정책이 적용되므로, 가능하면 주문 번호나 결제 플랫폼 정보를 함께 알려주시면 정확히 안내해 드립니다.\n",
      "\n",
      "질문에 답해 주시거나 정보를 보내주시면 바로 진행 방법을 안내하겠습니다. 필요하신 경우 지금 바로 구독 취소를 시작해 드릴 수도 있습니다.\n",
      "============================================================\n"
     ]
    }
   ],
   "source": [
    "print(\"=\" * 60)\n",
    "print(\"테스트 2: 결제 지원 문의\")\n",
    "print(\"=\" * 60)\n",
    "\n",
    "question2 = \"구독을 취소하고 환불받고 싶습니다.\"\n",
    "\n",
    "initial_state = {\n",
    "    \"question\": question2,\n",
    "    \"category\": \"\",\n",
    "    \"response\": \"\"\n",
    "}\n",
    "\n",
    "result = app.invoke(initial_state)\n",
    "\n",
    "print(f\"\\n질문: {result['question']}\")\n",
    "print(f\"분류: {result['category']}\")\n",
    "print(f\"\\n응답:\\n{result['response']}\")\n",
    "print(\"=\" * 60)\n"
   ]
  },
  {
   "cell_type": "markdown",
   "id": "27b38b77",
   "metadata": {},
   "source": [
    "### 7.3 테스트 케이스 3: 일반 상담 문의\n"
   ]
  },
  {
   "cell_type": "code",
   "execution_count": 15,
   "id": "50914232",
   "metadata": {},
   "outputs": [
    {
     "name": "stdout",
     "output_type": "stream",
     "text": [
      "============================================================\n",
      "테스트 3: 일반 상담 문의\n",
      "============================================================\n",
      "[분류 에이전트] 문의 유형: general\n",
      "[라우터] 'general' 카테고리로 라우팅\n",
      "[일반 상담 에이전트] 응답 생성 완료\n",
      "\n",
      "질문: 프리미엄 플랜에는 어떤 기능들이 포함되나요?\n",
      "분류: general\n",
      "\n",
      "응답:\n",
      "좋습니다! 프리미엄 플랜에 포함된 일반적인 혜택은 서비스마다 조금씩 다르지만, 보통 아래와 같은 기능들이 제공됩니다.\n",
      "\n",
      "일반적으로 프리미엄 플랜에 포함된 기능(서비스에 따라 다를 수 있음)\n",
      "- 더 높은 사용 한도: 저장 공간, 요청/쿼리 수, 데이터 처리 용량 증가\n",
      "- 광고 제거: 앱이나 웹에서 광고가 표시되지 않음\n",
      "- 우선 지원: 빠른 응답 시간의 고객 지원(24/7 또는 우선 접속)\n",
      "- 다중 기기 동기화 및 오프라인 사용: 여러 디바이스에서 데이터 동기화, 오프라인 기능\n",
      "- 고급 분석/리포트: 상세 대시보드, 맞춤형 보고서, 데이터 시각화\n",
      "- API 접근 및 개발 도구: API 사용 권한, 웹후크, 개발자 도구\n",
      "- 고급 보안 기능: 이중 인증, SSO, 데이터 암호화 등\n",
      "- 팀 관리 기능: 역할 기반 접근 제어, 사용자 관리, 공동 작업 도구\n",
      "- 백업/복구 옵션: 자동 백업, 롤백 가능성\n",
      "- 커스터마이징: UI 테마, 워크플로우, 알림 설정 등의 고급 커스터마이징\n",
      "- 가격/결제 옵션: 연간 결제 할인, 번들 패키지 할인 등\n",
      "\n",
      "다만 실제 혜택은 서비스마다 조금씩 다릅니다. 정확한 목록을 원하시면 아래 중 하나를 알려주세요.\n",
      "- 어떤 서비스의 프리미엄 플랜을 문의하시는지(서비스명 또는 제품명)\n",
      "- 또는 해당 플랜의 가격 페이지 링크를 공유해 주시기\n",
      "\n",
      "확인해 드리겠습니다. 또한 원하시면 제가 해당 서비스의 실제 혜택을 요약해 드리겠습니다.\n",
      "============================================================\n"
     ]
    }
   ],
   "source": [
    "print(\"=\" * 60)\n",
    "print(\"테스트 3: 일반 상담 문의\")\n",
    "print(\"=\" * 60)\n",
    "\n",
    "question3 = \"프리미엄 플랜에는 어떤 기능들이 포함되나요?\"\n",
    "\n",
    "initial_state = {\n",
    "    \"question\": question3,\n",
    "    \"category\": \"\",\n",
    "    \"response\": \"\"\n",
    "}\n",
    "\n",
    "result = app.invoke(initial_state)\n",
    "\n",
    "print(f\"\\n질문: {result['question']}\")\n",
    "print(f\"분류: {result['category']}\")\n",
    "print(f\"\\n응답:\\n{result['response']}\")\n",
    "print(\"=\" * 60)\n"
   ]
  },
  {
   "cell_type": "markdown",
   "id": "b65957f8",
   "metadata": {},
   "source": []
  }
 ],
 "metadata": {
  "kernelspec": {
   "display_name": ".venv",
   "language": "python",
   "name": "python3"
  },
  "language_info": {
   "codemirror_mode": {
    "name": "ipython",
    "version": 3
   },
   "file_extension": ".py",
   "mimetype": "text/x-python",
   "name": "python",
   "nbconvert_exporter": "python",
   "pygments_lexer": "ipython3",
   "version": "3.13.2"
  }
 },
 "nbformat": 4,
 "nbformat_minor": 5
}
