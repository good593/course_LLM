{
 "cells": [
  {
   "cell_type": "markdown",
   "id": "e718c14f",
   "metadata": {},
   "source": [
    "# [JSONLoader](https://python.langchain.com/docs/integrations/document_loaders/json/)"
   ]
  },
  {
   "cell_type": "markdown",
   "id": "d12340fd",
   "metadata": {},
   "source": [
    "## Json"
   ]
  },
  {
   "cell_type": "code",
   "execution_count": 1,
   "id": "df995173",
   "metadata": {},
   "outputs": [],
   "source": [
    "import json\n",
    "from pathlib import Path \n",
    "from pprint import pprint "
   ]
  },
  {
   "cell_type": "code",
   "execution_count": 2,
   "id": "0af925d1",
   "metadata": {},
   "outputs": [],
   "source": [
    "file_path = \"./data/sokcho_travel_guide.json\"\n",
    "data = json.load(open(file_path, \"r\", encoding=\"utf-8\"))"
   ]
  },
  {
   "cell_type": "code",
   "execution_count": 3,
   "id": "a7ae8d3e",
   "metadata": {},
   "outputs": [
    {
     "name": "stdout",
     "output_type": "stream",
     "text": [
      "{'date': '2025-07-15',\n",
      " 'local_cuisine': [{'description': '속초의 명물! 달콤하고 바삭한 맛이 특징', 'dish': '닭강정'},\n",
      "                   {'description': '오징어 안에 찹쌀과 채소를 넣어 찐 전통 음식',\n",
      "                    'dish': '오징어순대'}],\n",
      " 'location': '강원특별자치도 속초시',\n",
      " 'tourist_attractions': [{'description': '아름다운 해변과 시원한 바닷바람이 매력적인 명소',\n",
      "                          'name': '속초해수욕장',\n",
      "                          'tip': '여름철 피서지로 인기 많음'},\n",
      "                         {'description': '울산바위, 권금성 등 다양한 명소가 있는 국립공원',\n",
      "                          'name': '설악산 국립공원',\n",
      "                          'tip': '트레킹과 자연 풍경 감상에 최적'},\n",
      "                         {'description': '6.25 전쟁 당시 피난민이 정착한 전통 마을',\n",
      "                          'name': '아바이마을',\n",
      "                          'tip': '갯배 체험과 향토 음식 즐기기 가능'}],\n",
      " 'travel_tips': ['해수욕장과 산을 함께 즐길 수 있는 복합형 여행지',\n",
      "                 '중앙시장 등지에서 지역 음식을 현지 스타일로 맛볼 수 있음',\n",
      "                 '아바이마을 갯배 체험은 필수 코스'],\n",
      " 'weather': {'condition': '맑음', 'humidity': '60%', 'temperature': '25°C'}}\n"
     ]
    }
   ],
   "source": [
    "pprint(data)"
   ]
  },
  {
   "cell_type": "markdown",
   "id": "63fc9280",
   "metadata": {},
   "source": [
    "## [Loader 생성하기](https://python.langchain.com/docs/how_to/document_loader_json/)"
   ]
  },
  {
   "cell_type": "code",
   "execution_count": 4,
   "id": "13e45766",
   "metadata": {},
   "outputs": [],
   "source": [
    "from langchain_community.document_loaders import JSONLoader"
   ]
  },
  {
   "cell_type": "markdown",
   "id": "95918574",
   "metadata": {},
   "source": [
    "### 예제1"
   ]
  },
  {
   "cell_type": "code",
   "execution_count": 5,
   "id": "d5608eb4",
   "metadata": {},
   "outputs": [
    {
     "name": "stderr",
     "output_type": "stream",
     "text": [
      "<>:3: SyntaxWarning: invalid escape sequence '\\('\n",
      "<>:3: SyntaxWarning: invalid escape sequence '\\('\n",
      "C:\\Users\\good593\\AppData\\Local\\Temp\\ipykernel_8576\\854698927.py:3: SyntaxWarning: invalid escape sequence '\\('\n",
      "  jq_schema='.tourist_attractions[] | \"\\(.name): \\(.description) (팁: \\(.tip))\"',\n"
     ]
    }
   ],
   "source": [
    "loader = JSONLoader(\n",
    "    file_path=file_path,\n",
    "    jq_schema='.tourist_attractions[] | \"\\(.name): \\(.description) (팁: \\(.tip))\"',\n",
    "    text_content=False)\n",
    "\n",
    "documents = loader.load()\n"
   ]
  },
  {
   "cell_type": "code",
   "execution_count": 6,
   "id": "f6047e98",
   "metadata": {},
   "outputs": [
    {
     "name": "stdout",
     "output_type": "stream",
     "text": [
      "Document 1:\n",
      "   - 타입: <class 'langchain_core.documents.base.Document'>\n",
      "   - page_content 타입: <class 'str'>\n",
      "   - metadata 타입: <class 'dict'>\n",
      "   - metadata 내용: {'source': 'C:\\\\develop\\\\github\\\\inflearn_LLM\\\\2. RAG\\\\jupyter\\\\data\\\\sokcho_travel_guide.json', 'seq_num': 1}\n",
      "   - 내용 길이: 54 문자\n",
      "   - 내용: 속초해수욕장: 아름다운 해변과 시원한 바닷바람이 매력적인 명소 (팁: 여름철 피서지로 인기 많음)\n",
      "Document 2:\n",
      "   - 타입: <class 'langchain_core.documents.base.Document'>\n",
      "   - page_content 타입: <class 'str'>\n",
      "   - metadata 타입: <class 'dict'>\n",
      "   - metadata 내용: {'source': 'C:\\\\develop\\\\github\\\\inflearn_LLM\\\\2. RAG\\\\jupyter\\\\data\\\\sokcho_travel_guide.json', 'seq_num': 2}\n",
      "   - 내용 길이: 60 문자\n",
      "   - 내용: 설악산 국립공원: 울산바위, 권금성 등 다양한 명소가 있는 국립공원 (팁: 트레킹과 자연 풍경 감상에 최적)\n",
      "Document 3:\n",
      "   - 타입: <class 'langchain_core.documents.base.Document'>\n",
      "   - page_content 타입: <class 'str'>\n",
      "   - metadata 타입: <class 'dict'>\n",
      "   - metadata 내용: {'source': 'C:\\\\develop\\\\github\\\\inflearn_LLM\\\\2. RAG\\\\jupyter\\\\data\\\\sokcho_travel_guide.json', 'seq_num': 3}\n",
      "   - 내용 길이: 57 문자\n",
      "   - 내용: 아바이마을: 6.25 전쟁 당시 피난민이 정착한 전통 마을 (팁: 갯배 체험과 향토 음식 즐기기 가능)\n"
     ]
    }
   ],
   "source": [
    "for i, doc in enumerate(documents):\n",
    "    print(f\"Document {i+1}:\")\n",
    "    print(f\"   - 타입: {type(doc)}\")\n",
    "    print(f\"   - page_content 타입: {type(doc.page_content)}\")\n",
    "    print(f\"   - metadata 타입: {type(doc.metadata)}\")\n",
    "    print(f\"   - metadata 내용: {doc.metadata}\")\n",
    "    print(f\"   - 내용 길이: {len(doc.page_content)} 문자\")\n",
    "    print(f\"   - 내용: {doc.page_content}\")\n"
   ]
  },
  {
   "cell_type": "markdown",
   "id": "d6dfcbb9",
   "metadata": {},
   "source": [
    "### 예제2"
   ]
  },
  {
   "cell_type": "code",
   "execution_count": 7,
   "id": "22bf859e",
   "metadata": {},
   "outputs": [],
   "source": [
    "loader_name = JSONLoader(\n",
    "    file_path=file_path,\n",
    "    jq_schema='.tourist_attractions[].name',\n",
    "    text_content=False)\n",
    "\n",
    "loader_desc = JSONLoader(\n",
    "    file_path=file_path,\n",
    "    jq_schema='.tourist_attractions[].description',\n",
    "    text_content=False)\n",
    "\n",
    "name_docs = loader_name.load()\n",
    "desc_docs = loader_desc.load()\n"
   ]
  },
  {
   "cell_type": "code",
   "execution_count": 8,
   "id": "5664fcc6",
   "metadata": {},
   "outputs": [
    {
     "name": "stdout",
     "output_type": "stream",
     "text": [
      "=== 관광지 이름 ===\n",
      "1. 속초해수욕장\n",
      "2. 설악산 국립공원\n",
      "3. 아바이마을\n",
      "\n",
      "=== 관광지 설명 ===\n",
      "1. 아름다운 해변과 시원한 바닷바람이 매력적인 명소\n",
      "2. 울산바위, 권금성 등 다양한 명소가 있는 국립공원\n",
      "3. 6.25 전쟁 당시 피난민이 정착한 전통 마을\n"
     ]
    }
   ],
   "source": [
    "# 개별 필드 결과 확인\n",
    "print(\"=== 관광지 이름 ===\")\n",
    "for i, doc in enumerate(name_docs):\n",
    "    print(f\"{i+1}. {doc.page_content}\")\n",
    "\n",
    "print(\"\\n=== 관광지 설명 ===\")\n",
    "for i, doc in enumerate(desc_docs):\n",
    "    print(f\"{i+1}. {doc.page_content}\")\n"
   ]
  },
  {
   "cell_type": "markdown",
   "id": "143ab3ef",
   "metadata": {},
   "source": [
    "### 예제3"
   ]
  },
  {
   "cell_type": "code",
   "execution_count": 9,
   "id": "e5c4b97f",
   "metadata": {},
   "outputs": [
    {
     "name": "stdout",
     "output_type": "stream",
     "text": [
      "{'image': {'creation_timestamp': 1675549016, 'uri': 'image_of_the_chat.jpg'},\n",
      " 'is_still_participant': True,\n",
      " 'joinable_mode': {'link': '', 'mode': 1},\n",
      " 'magic_words': [],\n",
      " 'messages': [{'content': 'Bye!',\n",
      "               'sender_name': 'User 2',\n",
      "               'timestamp_ms': 1675597571851},\n",
      "              {'content': 'Oh no worries! Bye',\n",
      "               'sender_name': 'User 1',\n",
      "               'timestamp_ms': 1675597435669},\n",
      "              {'content': 'No Im sorry it was my mistake, the blue one is not '\n",
      "                          'for sale',\n",
      "               'sender_name': 'User 2',\n",
      "               'timestamp_ms': 1675596277579},\n",
      "              {'content': 'I thought you were selling the blue one!',\n",
      "               'sender_name': 'User 1',\n",
      "               'timestamp_ms': 1675595140251},\n",
      "              {'content': 'Im not interested in this bag. Im interested in the '\n",
      "                          'blue one!',\n",
      "               'sender_name': 'User 1',\n",
      "               'timestamp_ms': 1675595109305},\n",
      "              {'content': 'Here is $129',\n",
      "               'sender_name': 'User 2',\n",
      "               'timestamp_ms': 1675595068468},\n",
      "              {'photos': [{'creation_timestamp': 1675595059,\n",
      "                           'uri': 'url_of_some_picture.jpg'}],\n",
      "               'sender_name': 'User 2',\n",
      "               'timestamp_ms': 1675595060730},\n",
      "              {'content': 'Online is at least $100',\n",
      "               'sender_name': 'User 2',\n",
      "               'timestamp_ms': 1675595045152},\n",
      "              {'content': 'How much do you want?',\n",
      "               'sender_name': 'User 1',\n",
      "               'timestamp_ms': 1675594799696},\n",
      "              {'content': 'Goodmorning! $50 is too low.',\n",
      "               'sender_name': 'User 2',\n",
      "               'timestamp_ms': 1675577876645},\n",
      "              {'content': 'Hi! Im interested in your bag. Im offering $50. Let '\n",
      "                          'me know if you are interested. Thanks!',\n",
      "               'sender_name': 'User 1',\n",
      "               'timestamp_ms': 1675549022673}],\n",
      " 'participants': [{'name': 'User 1'}, {'name': 'User 2'}],\n",
      " 'thread_path': 'inbox/User 1 and User 2 chat',\n",
      " 'title': 'User 1 and User 2 chat'}\n"
     ]
    }
   ],
   "source": [
    "file_path = \"./data/facebook_chat.json\"\n",
    "data = json.load(open(file_path, \"r\", encoding=\"utf-8\"))\n",
    "\n",
    "pprint(data)"
   ]
  },
  {
   "cell_type": "code",
   "execution_count": 10,
   "id": "5b4c1ac2",
   "metadata": {},
   "outputs": [],
   "source": [
    "def metadata_func(record: dict, metadata: dict) -> dict:\n",
    "  metadata[\"title\"] = record.get(\"title\", \"\")\n",
    "  metadata[\"thread_path\"] = record.get(\"thread_path\", \"\")\n",
    "  metadata[\"participants\"] = [attraction[\"name\"] for attraction in record.get(\"participants\", [])]\n",
    "  return metadata"
   ]
  },
  {
   "cell_type": "code",
   "execution_count": null,
   "id": "c64a0608",
   "metadata": {},
   "outputs": [],
   "source": [
    "loader_desc = JSONLoader(\n",
    "    file_path=file_path,\n",
    "    jq_schema='.',\n",
    "    text_content=False,\n",
    "    metadata_func=metadata_func)\n",
    "\n",
    "docs = loader_desc.load()"
   ]
  },
  {
   "cell_type": "code",
   "execution_count": 14,
   "id": "722c5872",
   "metadata": {},
   "outputs": [
    {
     "data": {
      "text/plain": [
       "{'source': 'C:\\\\develop\\\\github\\\\inflearn_LLM\\\\2. RAG\\\\jupyter\\\\data\\\\facebook_chat.json',\n",
       " 'seq_num': 1,\n",
       " 'title': 'User 1 and User 2 chat',\n",
       " 'thread_path': 'inbox/User 1 and User 2 chat',\n",
       " 'participants': ['User 1', 'User 2']}"
      ]
     },
     "execution_count": 14,
     "metadata": {},
     "output_type": "execute_result"
    }
   ],
   "source": [
    "docs[0].metadata"
   ]
  },
  {
   "cell_type": "code",
   "execution_count": 13,
   "id": "ed150cac",
   "metadata": {},
   "outputs": [
    {
     "name": "stdout",
     "output_type": "stream",
     "text": [
      "Document 1:\n",
      "   - 타입: <class 'langchain_core.documents.base.Document'>\n",
      "   - page_content 타입: <class 'str'>\n",
      "   - metadata 타입: <class 'dict'>\n",
      "   - metadata 내용: {'source': 'C:\\\\develop\\\\github\\\\inflearn_LLM\\\\2. RAG\\\\jupyter\\\\data\\\\facebook_chat.json', 'seq_num': 1, 'title': 'User 1 and User 2 chat', 'thread_path': 'inbox/User 1 and User 2 chat', 'participants': ['User 1', 'User 2']}\n",
      "   - 내용 길이: 1548 문자\n",
      "   - 내용: {\"image\": {\"creation_timestamp\": 1675549016, \"uri\": \"image_of_the_chat.jpg\"}, \"is_still_participant\": true, \"joinable_mode\": {\"link\": \"\", \"mode\": 1}, \"magic_words\": [], \"messages\": [{\"content\": \"Bye!\", \"sender_name\": \"User 2\", \"timestamp_ms\": 1675597571851}, {\"content\": \"Oh no worries! Bye\", \"sender_name\": \"User 1\", \"timestamp_ms\": 1675597435669}, {\"content\": \"No Im sorry it was my mistake, the blue one is not for sale\", \"sender_name\": \"User 2\", \"timestamp_ms\": 1675596277579}, {\"content\": \"I thought you were selling the blue one!\", \"sender_name\": \"User 1\", \"timestamp_ms\": 1675595140251}, {\"content\": \"Im not interested in this bag. Im interested in the blue one!\", \"sender_name\": \"User 1\", \"timestamp_ms\": 1675595109305}, {\"content\": \"Here is $129\", \"sender_name\": \"User 2\", \"timestamp_ms\": 1675595068468}, {\"photos\": [{\"creation_timestamp\": 1675595059, \"uri\": \"url_of_some_picture.jpg\"}], \"sender_name\": \"User 2\", \"timestamp_ms\": 1675595060730}, {\"content\": \"Online is at least $100\", \"sender_name\": \"User 2\", \"timestamp_ms\": 1675595045152}, {\"content\": \"How much do you want?\", \"sender_name\": \"User 1\", \"timestamp_ms\": 1675594799696}, {\"content\": \"Goodmorning! $50 is too low.\", \"sender_name\": \"User 2\", \"timestamp_ms\": 1675577876645}, {\"content\": \"Hi! Im interested in your bag. Im offering $50. Let me know if you are interested. Thanks!\", \"sender_name\": \"User 1\", \"timestamp_ms\": 1675549022673}], \"participants\": [{\"name\": \"User 1\"}, {\"name\": \"User 2\"}], \"thread_path\": \"inbox/User 1 and User 2 chat\", \"title\": \"User 1 and User 2 chat\"}\n"
     ]
    }
   ],
   "source": [
    "for i, doc in enumerate(docs):\n",
    "    print(f\"Document {i+1}:\")\n",
    "    print(f\"   - 타입: {type(doc)}\")\n",
    "    print(f\"   - page_content 타입: {type(doc.page_content)}\")\n",
    "    print(f\"   - metadata 타입: {type(doc.metadata)}\")\n",
    "    print(f\"   - metadata 내용: {doc.metadata}\")\n",
    "    print(f\"   - 내용 길이: {len(doc.page_content)} 문자\")\n",
    "    print(f\"   - 내용: {doc.page_content}\")"
   ]
  },
  {
   "cell_type": "code",
   "execution_count": null,
   "id": "9448e99c",
   "metadata": {},
   "outputs": [],
   "source": []
  }
 ],
 "metadata": {
  "kernelspec": {
   "display_name": ".venv",
   "language": "python",
   "name": "python3"
  },
  "language_info": {
   "codemirror_mode": {
    "name": "ipython",
    "version": 3
   },
   "file_extension": ".py",
   "mimetype": "text/x-python",
   "name": "python",
   "nbconvert_exporter": "python",
   "pygments_lexer": "ipython3",
   "version": "3.13.2"
  }
 },
 "nbformat": 4,
 "nbformat_minor": 5
}
