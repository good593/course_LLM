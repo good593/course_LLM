{
 "cells": [
  {
   "cell_type": "markdown",
   "id": "dac2db99",
   "metadata": {},
   "source": [
    "# [CSVLoader](https://python.langchain.com/api_reference/community/document_loaders/langchain_community.document_loaders.csv_loader.CSVLoader.html)"
   ]
  },
  {
   "cell_type": "markdown",
   "id": "b461a112",
   "metadata": {},
   "source": [
    "## CSV file"
   ]
  },
  {
   "cell_type": "code",
   "execution_count": 1,
   "id": "df995173",
   "metadata": {},
   "outputs": [],
   "source": [
    "import pandas as pd"
   ]
  },
  {
   "cell_type": "code",
   "execution_count": 2,
   "id": "a1541b9a",
   "metadata": {},
   "outputs": [
    {
     "data": {
      "text/html": [
       "<div>\n",
       "<style scoped>\n",
       "    .dataframe tbody tr th:only-of-type {\n",
       "        vertical-align: middle;\n",
       "    }\n",
       "\n",
       "    .dataframe tbody tr th {\n",
       "        vertical-align: top;\n",
       "    }\n",
       "\n",
       "    .dataframe thead th {\n",
       "        text-align: right;\n",
       "    }\n",
       "</style>\n",
       "<table border=\"1\" class=\"dataframe\">\n",
       "  <thead>\n",
       "    <tr style=\"text-align: right;\">\n",
       "      <th></th>\n",
       "      <th>Date</th>\n",
       "      <th>Open</th>\n",
       "      <th>High</th>\n",
       "      <th>Low</th>\n",
       "      <th>Close</th>\n",
       "      <th>Volume</th>\n",
       "      <th>Change</th>\n",
       "    </tr>\n",
       "  </thead>\n",
       "  <tbody>\n",
       "    <tr>\n",
       "      <th>0</th>\n",
       "      <td>2025-01-02</td>\n",
       "      <td>52700</td>\n",
       "      <td>53600</td>\n",
       "      <td>52300</td>\n",
       "      <td>53400</td>\n",
       "      <td>16630538</td>\n",
       "      <td>0.003759</td>\n",
       "    </tr>\n",
       "    <tr>\n",
       "      <th>1</th>\n",
       "      <td>2025-01-03</td>\n",
       "      <td>52800</td>\n",
       "      <td>55100</td>\n",
       "      <td>52800</td>\n",
       "      <td>54400</td>\n",
       "      <td>19318046</td>\n",
       "      <td>0.018727</td>\n",
       "    </tr>\n",
       "    <tr>\n",
       "      <th>2</th>\n",
       "      <td>2025-01-06</td>\n",
       "      <td>54400</td>\n",
       "      <td>56200</td>\n",
       "      <td>54300</td>\n",
       "      <td>55900</td>\n",
       "      <td>19034284</td>\n",
       "      <td>0.027574</td>\n",
       "    </tr>\n",
       "    <tr>\n",
       "      <th>3</th>\n",
       "      <td>2025-01-07</td>\n",
       "      <td>56800</td>\n",
       "      <td>57300</td>\n",
       "      <td>55400</td>\n",
       "      <td>55400</td>\n",
       "      <td>17030235</td>\n",
       "      <td>-0.008945</td>\n",
       "    </tr>\n",
       "    <tr>\n",
       "      <th>4</th>\n",
       "      <td>2025-01-08</td>\n",
       "      <td>54800</td>\n",
       "      <td>57500</td>\n",
       "      <td>54700</td>\n",
       "      <td>57300</td>\n",
       "      <td>26593553</td>\n",
       "      <td>0.034296</td>\n",
       "    </tr>\n",
       "  </tbody>\n",
       "</table>\n",
       "</div>"
      ],
      "text/plain": [
       "         Date   Open   High    Low  Close    Volume    Change\n",
       "0  2025-01-02  52700  53600  52300  53400  16630538  0.003759\n",
       "1  2025-01-03  52800  55100  52800  54400  19318046  0.018727\n",
       "2  2025-01-06  54400  56200  54300  55900  19034284  0.027574\n",
       "3  2025-01-07  56800  57300  55400  55400  17030235 -0.008945\n",
       "4  2025-01-08  54800  57500  54700  57300  26593553  0.034296"
      ]
     },
     "execution_count": 2,
     "metadata": {},
     "output_type": "execute_result"
    }
   ],
   "source": [
    "file_path = \"./data/samsung_stock.csv\"\n",
    "\n",
    "df = pd.read_csv(file_path)\n",
    "\n",
    "df.head()"
   ]
  },
  {
   "cell_type": "markdown",
   "id": "4b53ca67",
   "metadata": {},
   "source": [
    "## Loader"
   ]
  },
  {
   "cell_type": "code",
   "execution_count": 9,
   "id": "802d3742",
   "metadata": {},
   "outputs": [],
   "source": [
    "from langchain_community.document_loaders import CSVLoader\n",
    "\n",
    "loader = CSVLoader(file_path=file_path, encoding='utf-8',\n",
    "    csv_args={\n",
    "    'delimiter': ','\n",
    "})"
   ]
  },
  {
   "cell_type": "code",
   "execution_count": 10,
   "id": "2af09ccc",
   "metadata": {},
   "outputs": [
    {
     "data": {
      "text/plain": [
       "129"
      ]
     },
     "execution_count": 10,
     "metadata": {},
     "output_type": "execute_result"
    }
   ],
   "source": [
    "docs = loader.load() \n",
    "\n",
    "len(docs)"
   ]
  },
  {
   "cell_type": "code",
   "execution_count": 18,
   "id": "5565ed65",
   "metadata": {},
   "outputs": [
    {
     "name": "stdout",
     "output_type": "stream",
     "text": [
      "Document 1:\n",
      "   - 타입: <class 'langchain_core.documents.base.Document'>\n",
      "   - page_content 타입: <class 'str'>\n",
      "   - metadata 타입: <class 'dict'>\n",
      "   - metadata 내용: {'source': './data/samsung_stock.csv', 'row': 0}\n",
      "   - 내용 길이: 110 문자\n",
      "   - 내용: \n",
      "Date: 2025-01-02\n",
      "Open: 52700\n",
      "High: 53600\n",
      "Low: 52300\n",
      "Close: 53400\n",
      "Volume: 16630538\n",
      "Change: 0.003759398496240518\n",
      "\n",
      "Document 2:\n",
      "   - 타입: <class 'langchain_core.documents.base.Document'>\n",
      "   - page_content 타입: <class 'str'>\n",
      "   - metadata 타입: <class 'dict'>\n",
      "   - metadata 내용: {'source': './data/samsung_stock.csv', 'row': 1}\n",
      "   - 내용 길이: 109 문자\n",
      "   - 내용: \n",
      "Date: 2025-01-03\n",
      "Open: 52800\n",
      "High: 55100\n",
      "Low: 52800\n",
      "Close: 54400\n",
      "Volume: 19318046\n",
      "Change: 0.01872659176029967\n",
      "\n"
     ]
    }
   ],
   "source": [
    "for i, doc in enumerate(docs[:2]):\n",
    "    print(f\"Document {i+1}:\")\n",
    "    print(f\"   - 타입: {type(doc)}\")\n",
    "    print(f\"   - page_content 타입: {type(doc.page_content)}\")\n",
    "    print(f\"   - metadata 타입: {type(doc.metadata)}\")\n",
    "    print(f\"   - metadata 내용: {doc.metadata}\")\n",
    "    print(f\"   - 내용 길이: {len(doc.page_content)} 문자\")\n",
    "    print(f\"   - 내용: \\n{doc.page_content}\")\n",
    "    print()"
   ]
  },
  {
   "cell_type": "code",
   "execution_count": null,
   "id": "6da2deef",
   "metadata": {},
   "outputs": [],
   "source": []
  }
 ],
 "metadata": {
  "kernelspec": {
   "display_name": ".venv",
   "language": "python",
   "name": "python3"
  },
  "language_info": {
   "codemirror_mode": {
    "name": "ipython",
    "version": 3
   },
   "file_extension": ".py",
   "mimetype": "text/x-python",
   "name": "python",
   "nbconvert_exporter": "python",
   "pygments_lexer": "ipython3",
   "version": "3.13.2"
  }
 },
 "nbformat": 4,
 "nbformat_minor": 5
}
