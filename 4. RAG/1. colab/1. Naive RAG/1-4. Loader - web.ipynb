{
 "cells": [
  {
   "cell_type": "markdown",
   "id": "583ad0cd",
   "metadata": {},
   "source": [
    "# [WebBaseLoader](https://python.langchain.com/docs/integrations/document_loaders/web_base/)"
   ]
  },
  {
   "cell_type": "code",
   "execution_count": 7,
   "id": "4f658dd4",
   "metadata": {},
   "outputs": [],
   "source": [
    "from langchain_community.document_loaders import WebBaseLoader"
   ]
  },
  {
   "cell_type": "markdown",
   "id": "ccf5064d",
   "metadata": {},
   "source": [
    "## Loader"
   ]
  },
  {
   "cell_type": "code",
   "execution_count": 1,
   "id": "df995173",
   "metadata": {},
   "outputs": [
    {
     "name": "stderr",
     "output_type": "stream",
     "text": [
      "USER_AGENT environment variable not set, consider setting it to identify your requests.\n"
     ]
    }
   ],
   "source": [
    "loader = WebBaseLoader(\"https://www.example.com/\")"
   ]
  },
  {
   "cell_type": "code",
   "execution_count": 3,
   "id": "52ce31e0",
   "metadata": {},
   "outputs": [
    {
     "data": {
      "text/plain": [
       "1"
      ]
     },
     "execution_count": 3,
     "metadata": {},
     "output_type": "execute_result"
    }
   ],
   "source": [
    "docs = loader.load()\n",
    "\n",
    "len(docs)"
   ]
  },
  {
   "cell_type": "code",
   "execution_count": 6,
   "id": "7db3f154",
   "metadata": {},
   "outputs": [
    {
     "data": {
      "text/plain": [
       "{'source': 'https://www.example.com/',\n",
       " 'title': 'Example Domain',\n",
       " 'language': 'No language found.'}"
      ]
     },
     "execution_count": 6,
     "metadata": {},
     "output_type": "execute_result"
    }
   ],
   "source": [
    "docs[0].metadata"
   ]
  },
  {
   "cell_type": "code",
   "execution_count": 5,
   "id": "6ef8de48",
   "metadata": {},
   "outputs": [
    {
     "name": "stdout",
     "output_type": "stream",
     "text": [
      "\n",
      "\n",
      "\n",
      "Example Domain\n",
      "\n",
      "\n",
      "\n",
      "\n",
      "\n",
      "\n",
      "\n",
      "Example Domain\n",
      "This domain is for use in illustrative examples in documents. You may use this\n",
      "    domain in literature without prior coordination or asking for permission.\n",
      "More information...\n",
      "\n",
      "\n",
      "\n",
      "\n"
     ]
    }
   ],
   "source": [
    "print(docs[0].page_content)"
   ]
  },
  {
   "cell_type": "markdown",
   "id": "321573ce",
   "metadata": {},
   "source": [
    "## Multiple Pages"
   ]
  },
  {
   "cell_type": "code",
   "execution_count": 29,
   "id": "a52a2cb0",
   "metadata": {},
   "outputs": [
    {
     "data": {
      "text/plain": [
       "2"
      ]
     },
     "execution_count": 29,
     "metadata": {},
     "output_type": "execute_result"
    }
   ],
   "source": [
    "from langchain_community.document_loaders import WebBaseLoader\n",
    "\n",
    "loader = WebBaseLoader(web_paths=[\"https://www.example.com/\", \"https://google.com\"])\n",
    "\n",
    "docs = loader.load()\n",
    "len(docs)"
   ]
  },
  {
   "cell_type": "code",
   "execution_count": 32,
   "id": "26083456",
   "metadata": {},
   "outputs": [
    {
     "name": "stdout",
     "output_type": "stream",
     "text": [
      "Document 1:\n",
      "   - 타입: <class 'langchain_core.documents.base.Document'>\n",
      "   - page_content 타입: <class 'str'>\n",
      "   - metadata 타입: <class 'dict'>\n",
      "   - metadata 내용: {'source': 'https://www.example.com/', 'title': 'Example Domain', 'language': 'No language found.'}\n",
      "   - 내용 길이: 220 문자\n",
      "\n",
      "Document 2:\n",
      "   - 타입: <class 'langchain_core.documents.base.Document'>\n",
      "   - page_content 타입: <class 'str'>\n",
      "   - metadata 타입: <class 'dict'>\n",
      "   - metadata 내용: {'source': 'https://google.com', 'title': 'Google', 'language': 'ko'}\n",
      "   - 내용 길이: 144 문자\n",
      "\n"
     ]
    }
   ],
   "source": [
    "for i, doc in enumerate(docs):\n",
    "    print(f\"Document {i+1}:\")\n",
    "    print(f\"   - 타입: {type(doc)}\")\n",
    "    print(f\"   - page_content 타입: {type(doc.page_content)}\")\n",
    "    print(f\"   - metadata 타입: {type(doc.metadata)}\")\n",
    "    print(f\"   - metadata 내용: {doc.metadata}\")\n",
    "    print(f\"   - 내용 길이: {len(doc.page_content)} 문자\")\n",
    "    print()"
   ]
  },
  {
   "cell_type": "markdown",
   "id": "1d926c4c",
   "metadata": {},
   "source": [
    "## Loader with bs4"
   ]
  },
  {
   "cell_type": "code",
   "execution_count": 21,
   "id": "19ecabac",
   "metadata": {},
   "outputs": [
    {
     "name": "stdout",
     "output_type": "stream",
     "text": [
      "페이지 제목: Example Domain\n",
      "단락 1: This domain is for use in illustrative examples in documents. You may use this\n",
      "    domain in literature without prior coordination or asking for permission.\n",
      "단락 2: More information...\n"
     ]
    }
   ],
   "source": [
    "# BS4를 사용한 특정 요소 추출 예제\n",
    "from bs4 import BeautifulSoup\n",
    "import requests\n",
    "\n",
    "# 1. 기본 BS4 예제 - 특정 태그만 추출\n",
    "url = \"https://www.example.com/\"\n",
    "response = requests.get(url)\n",
    "soup = BeautifulSoup(response.content, 'html.parser')\n",
    "\n",
    "# 제목만 추출\n",
    "title = soup.find('title').get_text()\n",
    "print(f\"페이지 제목: {title}\")\n",
    "\n",
    "# 모든 p 태그 텍스트 추출\n",
    "paragraphs = soup.find_all('p')\n",
    "for i, p in enumerate(paragraphs):\n",
    "    print(f\"단락 {i+1}: {p.get_text().strip()}\")\n"
   ]
  },
  {
   "cell_type": "code",
   "execution_count": 24,
   "id": "561df7be",
   "metadata": {},
   "outputs": [
    {
     "name": "stderr",
     "output_type": "stream",
     "text": [
      "c:\\develop\\github\\inflearn_LLM\\2. RAG\\jupyter\\.venv\\Lib\\site-packages\\urllib3\\connectionpool.py:1097: InsecureRequestWarning: Unverified HTTPS request is being made to host 'python.langchain.com'. Adding certificate verification is strongly advised. See: https://urllib3.readthedocs.io/en/latest/advanced-usage.html#tls-warnings\n",
      "  warnings.warn(\n"
     ]
    },
    {
     "data": {
      "text/plain": [
       "1"
      ]
     },
     "execution_count": 24,
     "metadata": {},
     "output_type": "execute_result"
    }
   ],
   "source": [
    "from langchain_community.document_loaders import WebBaseLoader\n",
    "from bs4 import BeautifulSoup, SoupStrainer\n",
    "\n",
    "# 특정 CSS 선택자로 요소 추출 (예: 뉴스 사이트의 기사 내용만)\n",
    "loader = WebBaseLoader(\n",
    "    \"https://python.langchain.com/docs/introduction/\",  # 예시 URL\n",
    "    bs_kwargs={\n",
    "        \"parse_only\": SoupStrainer(\n",
    "            ['div', 'a'], \n",
    "            attrs={\n",
    "                'class': ['menu__link', 'menu__link--active']\n",
    "            })\n",
    "    },\n",
    "    bs_get_text_kwargs={\n",
    "        \"separator\": \" \",\n",
    "        \"strip\": True\n",
    "    },\n",
    "    requests_kwargs={\n",
    "        \"timeout\": 10,\n",
    "        \"verify\": False # 인증서 검증 비활성화\n",
    "    }\n",
    ")\n",
    "\n",
    "docs = loader.load()\n",
    "\n",
    "len(docs)"
   ]
  },
  {
   "cell_type": "code",
   "execution_count": 25,
   "id": "9f2c8d60",
   "metadata": {},
   "outputs": [
    {
     "data": {
      "text/plain": [
       "Document(metadata={'source': 'https://python.langchain.com/docs/introduction/'}, page_content='Tutorials Build a Question Answering application over a Graph Database Tutorials Build a simple LLM application with chat models and prompt templates Build a Chatbot Build a Retrieval Augmented Generation (RAG) App: Part 2 Build an Extraction Chain Build an Agent Tagging Build a Retrieval Augmented Generation (RAG) App: Part 1 Build a semantic search engine Build a Question/Answering system over SQL data Summarize Text How-to guides How-to guides How to use tools in a chain How to use a vectorstore as a retriever How to add memory to chatbots How to use example selectors How to add a semantic layer over graph database How to invoke runnables in parallel How to stream chat model responses How to add default invocation args to a Runnable How to add retrieval to chatbots How to use few shot examples in chat models How to do tool/function calling How to install LangChain packages How to add examples to the prompt for query analysis How to use few shot examples How to run custom functions How to use output parsers to parse an LLM response into structured format How to handle cases where no queries are generated How to route between sub-chains How to return structured data from a model How to summarize text through parallelization How to summarize text through iterative refinement How to summarize text in a single LLM call How to use toolkits How to add ad-hoc tool calling capability to LLMs and Chat Models Build an Agent with AgentExecutor (Legacy) How to construct knowledge graphs How to partially format prompt templates How to handle multiple queries when doing query analysis How to use built-in tools and toolkits How to pass through arguments from one step to the next How to compose prompts together How to handle multiple retrievers when doing query analysis How to add values to a chain\\'s state How to construct filters for query analysis How to configure runtime chain internals How deal with high cardinality categoricals when doing query analysis Custom Document Loader How to use the MultiQueryRetriever How to add scores to retriever results Caching How to use callbacks in async environments How to attach callbacks to a runnable How to propagate callbacks  constructor How to dispatch custom callback events How to pass callbacks in at runtime How to split by character How to cache chat model responses How to handle rate limits How to init any model in one line How to track token usage in ChatModels How to add tools to chatbots How to split code How to do retrieval with contextual compression How to convert Runnables to Tools How to create custom callback handlers How to create a custom chat model class Custom Embeddings How to create a custom LLM class Custom Retriever How to create tools How to debug your LLM apps How to load CSVs How to load documents from a directory How to load HTML How to load JSON How to load Markdown How to load Microsoft Office files How to load PDFs How to load web pages How to create a dynamic (self-constructing) chain Text embedding models How to combine results from multiple retrievers How to select examples from a LangSmith dataset How to select examples by length How to select examples by maximal marginal relevance (MMR) How to select examples by n-gram overlap How to select examples by similarity How to use reference examples when doing extraction How to handle long text when doing extraction How to use prompting alone (no tool calling) to do extraction How to add fallbacks to a runnable How to filter messages Hybrid Search How to use the LangChain indexing API How to inspect runnables LangChain Expression Language Cheatsheet How to cache LLM responses How to track token usage for LLMs Run models locally How to get log probabilities How to reorder retrieved results to mitigate the \"lost in the middle\" effect How to split Markdown by Headers How to merge consecutive messages of the same type How to add message history How to migrate from legacy LangChain agents to LangGraph How to retrieve using multiple vectors per document How to pass multimodal data to models How to use multimodal prompts How to create a custom Output Parser How to use the output-fixing parser How to parse JSON output How to retry when a parsing error occurs How to parse text from message objects How to parse XML output How to parse YAML output How to use the Parent Document Retriever How to use LangChain with different Pydantic versions How to add chat history How to get a RAG application to add citations How to do per-user retrieval How to get your RAG application to return sources How to stream results from your RAG application How to split JSON data How to recursively split text by characters Response metadata How to pass runtime secrets to runnables How to do \"self-querying\" retrieval How to split text based on semantic similarity How to chain runnables How to save and load LangChain objects How to split text by tokens How to split HTML How to do question answering over CSVs How to deal with large databases when doing SQL question-answering How to better prompt when doing SQL question-answering How to do query validation as part of SQL question-answering How to stream runnables How to stream responses from an LLM How to use a time-weighted vector store retriever How to return artifacts from a tool How to use chat models to call tools How to disable parallel tool calling How to force models to call a tool How to access the RunnableConfig from a tool How to pass tool outputs to chat models How to pass run time values to tools How to stream events from a tool How to stream tool calls How to convert tools to OpenAI Functions How to handle tool errors How to use few-shot prompting with tool calling How to add a human-in-the-loop for tools How to bind model-specific tools How to trim messages How to create and query vector stores Conceptual guide Agents Architecture Async programming with langchain Callbacks Chat history Chat models Document loaders Embedding models Evaluation Example selectors Few-shot prompting Conceptual guide Key-value stores LangChain Expression Language (LCEL) Messages Multimodality Output parsers Prompt Templates Retrieval augmented generation (RAG) Retrieval Retrievers Runnable interface Streaming Structured outputs Testing String-in, string-out llms Text splitters Tokens Tool calling Tools Tracing Vector stores Why LangChain? Ecosystem Versions v0.3 Pydantic compatibility Migrating from v0.0 chains How to migrate from v0.0 chains Migrating from ConstitutionalChain Migrating from ConversationalChain Migrating from ConversationalRetrievalChain Migrating from LLMChain Migrating from LLMMathChain Migrating from LLMRouterChain Migrating from MapReduceDocumentsChain Migrating from MapRerankDocumentsChain Migrating from MultiPromptChain Migrating from RefineDocumentsChain Migrating from RetrievalQA Migrating from StuffDocumentsChain Upgrading to LangGraph memory How to migrate to LangGraph memory How to use BaseChatMessageHistory with LangGraph Migrating off ConversationBufferMemory or ConversationStringBufferMemory Migrating off ConversationBufferWindowMemory or ConversationTokenBufferMemory Migrating off ConversationSummaryMemory or ConversationSummaryBufferMemory A Long-Term Memory Agent Release policy Security Policy')"
      ]
     },
     "execution_count": 25,
     "metadata": {},
     "output_type": "execute_result"
    }
   ],
   "source": [
    "docs[0]"
   ]
  },
  {
   "cell_type": "code",
   "execution_count": null,
   "id": "c2ed0409",
   "metadata": {},
   "outputs": [],
   "source": []
  }
 ],
 "metadata": {
  "kernelspec": {
   "display_name": ".venv",
   "language": "python",
   "name": "python3"
  },
  "language_info": {
   "codemirror_mode": {
    "name": "ipython",
    "version": 3
   },
   "file_extension": ".py",
   "mimetype": "text/x-python",
   "name": "python",
   "nbconvert_exporter": "python",
   "pygments_lexer": "ipython3",
   "version": "3.13.2"
  }
 },
 "nbformat": 4,
 "nbformat_minor": 5
}
