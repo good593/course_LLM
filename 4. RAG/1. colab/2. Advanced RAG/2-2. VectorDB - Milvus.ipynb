{
 "cells": [
  {
   "cell_type": "markdown",
   "id": "4492802f",
   "metadata": {},
   "source": [
    "# Milvus 벡터 데이터베이스\n"
   ]
  },
  {
   "cell_type": "markdown",
   "id": "8ca7a5f9",
   "metadata": {},
   "source": [
    "## 1. Milvus란?\n",
    "\n",
    "Milvus는 오픈소스 벡터 데이터베이스로, 대규모 벡터 검색과 머신러닝 애플리케이션을 위한 고성능 데이터 저장소입니다.\n",
    "\n",
    "### 주요 특징\n",
    "- **고성능**: 밀리초 단위의 벡터 검색 성능\n",
    "- **확장성**: 수십억 개의 벡터를 처리할 수 있는 수평적 확장\n",
    "- **다양한 인덱스**: IVF, HNSW, ANNOY 등 다양한 벡터 인덱스 지원\n",
    "- **클라우드 네이티브**: Kubernetes 환경에서 완벽하게 동작\n",
    "- **다양한 API**: RESTful API, Python SDK, Java SDK 등 제공\n",
    "\n",
    "### RAG에서의 활용\n",
    "- 문서 임베딩 벡터 저장\n",
    "- 의미 기반 유사 문서 검색\n",
    "- 하이브리드 검색 (벡터 + 키워드)\n",
    "- 멀티모달 검색 지원\n"
   ]
  },
  {
   "cell_type": "markdown",
   "id": "ffc12477",
   "metadata": {},
   "source": [
    "## 2. Milvus 설치 및 설정\n",
    "\n",
    "### Docker를 이용한 설치 (권장)\n",
    "\n",
    "```bash\n",
    "# Milvus standalone 버전 실행\n",
    "docker run -d --name milvus-standalone \\\n",
    "  -p 19530:19530 \\\n",
    "  -p 9091:9091 \\\n",
    "  -v $(pwd)/volumes/milvus:/var/lib/milvus \\\n",
    "  milvusdb/milvus:latest \\\n",
    "  milvus run standalone\n",
    "```\n",
    "\n",
    "### Python 패키지 설치\n",
    "\n",
    "```bash\n",
    "pip install pymilvus\n",
    "pip install langchain-milvus\n",
    "```\n"
   ]
  },
  {
   "cell_type": "markdown",
   "id": "7ec7cf1d",
   "metadata": {},
   "source": [
    "## 3. 기본 Milvus 사용법\n",
    "\n",
    "### 3.1 연결 설정\n"
   ]
  },
  {
   "cell_type": "code",
   "execution_count": null,
   "id": "dd1844b7",
   "metadata": {},
   "outputs": [
    {
     "name": "stdout",
     "output_type": "stream",
     "text": [
      "Milvus 연결 성공!\n"
     ]
    }
   ],
   "source": [
    "from pymilvus import connections, Collection, CollectionSchema, FieldSchema, DataType\n",
    "import numpy as np\n",
    "\n",
    "# 인증을 사용한 Milvus 접속\n",
    "connections.connect(\n",
    "    alias=\"milvus_dev\",           # 연결 이름, 여러 Milvus 서버를 사용할 때 구분 가능\n",
    "    host=\"localhost\",          # Milvus 서버 주소 (Docker에서 localhost)\n",
    "    port=\"19530\",              # Milvus gRPC 포트\n",
    "    user=\"root\",               # 인증 활성화 시 Milvus 관리자 계정\n",
    "    password=\"mysecurepassword\" # 인증 활성화 시 Milvus 비밀번호\n",
    ")\n",
    "\n",
    "print(\"Milvus 연결 성공!\")\n"
   ]
  },
  {
   "cell_type": "markdown",
   "id": "7fded188",
   "metadata": {},
   "source": [
    "### 3.2 컬렉션 생성\n",
    "> connections을 통해 Milvus 연결 후 컬렉션 생성 가능 "
   ]
  },
  {
   "cell_type": "code",
   "execution_count": null,
   "id": "940aaed5",
   "metadata": {},
   "outputs": [],
   "source": [
    "# 컬렉션 스키마 정의\n",
    "def create_collection():\n",
    "    # 필드 정의\n",
    "    fields = [\n",
    "        FieldSchema(name=\"id\", dtype=DataType.INT64, is_primary=True, auto_id=True),\n",
    "        FieldSchema(name=\"text\", dtype=DataType.VARCHAR, max_length=1000),\n",
    "        FieldSchema(name=\"embedding\", dtype=DataType.FLOAT_VECTOR, dim=768)\n",
    "    ]\n",
    "    \n",
    "    # 스키마 생성\n",
    "    schema = CollectionSchema(fields, \"문서 임베딩을 위한 컬렉션\")\n",
    "    \n",
    "    # 컬렉션 생성\n",
    "    collection_name = \"document_embeddings\"\n",
    "    collection = Collection(name=collection_name # 컬렉션 이름\n",
    "                            , schema=schema # 스키마\n",
    "                            , using=\"milvus_dev\" # 위에서 정의한 connections의 alias\n",
    "    )\n",
    "    \n",
    "    return collection\n"
   ]
  },
  {
   "cell_type": "code",
   "execution_count": 3,
   "id": "0ff3f456",
   "metadata": {},
   "outputs": [
    {
     "name": "stdout",
     "output_type": "stream",
     "text": [
      "컬렉션 'document_embeddings' 생성 완료\n"
     ]
    }
   ],
   "source": [
    "# 컬렉션 생성\n",
    "collection = create_collection()\n",
    "print(f\"컬렉션 '{collection.name}' 생성 완료\")\n"
   ]
  },
  {
   "cell_type": "markdown",
   "id": "131733a7",
   "metadata": {},
   "source": [
    "### 3.3 인덱스 생성\n"
   ]
  },
  {
   "cell_type": "code",
   "execution_count": 4,
   "id": "8d4beb1b",
   "metadata": {},
   "outputs": [],
   "source": [
    "# 벡터 인덱스 생성\n",
    "def create_index(collection):\n",
    "    # IVF_FLAT 인덱스 생성 (정확한 검색을 위한 기본 인덱스)\n",
    "    index_params = {\n",
    "        \"metric_type\": \"L2\",  # 유클리드 거리\n",
    "        \"index_type\": \"IVF_FLAT\",\n",
    "        \"params\": {\"nlist\": 1024}\n",
    "    }\n",
    "    \n",
    "    # 임베딩 필드에 인덱스 생성\n",
    "    collection.create_index(\"embedding\", index_params)\n",
    "    print(\"인덱스 생성 완료\")\n",
    "    "
   ]
  },
  {
   "cell_type": "code",
   "execution_count": 5,
   "id": "f1d16c52",
   "metadata": {},
   "outputs": [
    {
     "name": "stdout",
     "output_type": "stream",
     "text": [
      "인덱스 생성 완료\n"
     ]
    }
   ],
   "source": [
    "# 인덱스 생성\n",
    "create_index(collection)\n"
   ]
  },
  {
   "cell_type": "markdown",
   "id": "0a2452f6",
   "metadata": {},
   "source": [
    "### 3.4 데이터 삽입\n"
   ]
  },
  {
   "cell_type": "code",
   "execution_count": 6,
   "id": "fbd6858b",
   "metadata": {},
   "outputs": [],
   "source": [
    "# 샘플 데이터 생성 및 삽입\n",
    "def insert_data(collection):\n",
    "    # 샘플 텍스트 데이터\n",
    "    texts = [\n",
    "        \"인공지능은 컴퓨터 과학의 한 분야입니다.\",\n",
    "        \"머신러닝은 데이터로부터 패턴을 학습합니다.\",\n",
    "        \"딥러닝은 신경망을 사용한 머신러닝입니다.\",\n",
    "        \"자연어처리는 컴퓨터가 인간의 언어를 이해하는 기술입니다.\"\n",
    "    ]\n",
    "    \n",
    "    # 샘플 임베딩 벡터 생성 (실제로는 임베딩 모델 사용)\n",
    "    embeddings = [np.random.random(768).tolist() for _ in range(len(texts))]\n",
    "    \n",
    "    # 데이터 준비\n",
    "    data = [\n",
    "        texts,\n",
    "        embeddings\n",
    "    ]\n",
    "    \n",
    "    # 컬렉션에 데이터 삽입\n",
    "    collection.insert(data)\n",
    "    collection.flush()  # 디스크에 저장\n",
    "    \n",
    "    print(f\"{len(texts)}개 문서 삽입 완료\")\n",
    "    "
   ]
  },
  {
   "cell_type": "code",
   "execution_count": 7,
   "id": "bb054ee1",
   "metadata": {},
   "outputs": [
    {
     "name": "stdout",
     "output_type": "stream",
     "text": [
      "4개 문서 삽입 완료\n"
     ]
    }
   ],
   "source": [
    "# 데이터 삽입\n",
    "insert_data(collection)\n"
   ]
  },
  {
   "cell_type": "markdown",
   "id": "c8fc08ef",
   "metadata": {},
   "source": [
    "### 3.5 벡터 검색\n"
   ]
  },
  {
   "cell_type": "code",
   "execution_count": 8,
   "id": "f03b13dc",
   "metadata": {},
   "outputs": [],
   "source": [
    "# 벡터 검색 수행\n",
    "def search_vectors(collection, query_vector, top_k=3):\n",
    "    # 컬렉션 로드\n",
    "    collection.load()\n",
    "    \n",
    "    # 검색 파라미터\n",
    "    search_params = {\n",
    "        \"metric_type\": \"L2\",\n",
    "        \"params\": {\"nprobe\": 10}\n",
    "    }\n",
    "    \n",
    "    # 벡터 검색 실행\n",
    "    results = collection.search(\n",
    "        data=[query_vector],\n",
    "        anns_field=\"embedding\",\n",
    "        param=search_params,\n",
    "        limit=top_k,\n",
    "        output_fields=[\"text\"]\n",
    "    )\n",
    "    \n",
    "    return results\n"
   ]
  },
  {
   "cell_type": "code",
   "execution_count": 10,
   "id": "500c67b0",
   "metadata": {},
   "outputs": [
    {
     "data": {
      "text/plain": [
       "[0.8848741272221452,\n",
       " 0.07935004281140279,\n",
       " 0.9490842900193432,\n",
       " 0.3780033731644853,\n",
       " 0.021833429180943886]"
      ]
     },
     "execution_count": 10,
     "metadata": {},
     "output_type": "execute_result"
    }
   ],
   "source": [
    "# 검색 쿼리 벡터 생성\n",
    "query_vector = np.random.random(768).tolist()\n",
    "query_vector[:5]"
   ]
  },
  {
   "cell_type": "code",
   "execution_count": 11,
   "id": "9827d0aa",
   "metadata": {},
   "outputs": [
    {
     "name": "stdout",
     "output_type": "stream",
     "text": [
      "검색 결과:\n",
      "1. 거리: 129.9787\n",
      "   텍스트: 자연어처리는 컴퓨터가 인간의 언어를 이해하는 기술입니다.\n",
      "2. 거리: 130.4242\n",
      "   텍스트: 머신러닝은 데이터로부터 패턴을 학습합니다.\n",
      "3. 거리: 130.5151\n",
      "   텍스트: 인공지능은 컴퓨터 과학의 한 분야입니다.\n"
     ]
    }
   ],
   "source": [
    "# 검색 수행\n",
    "results = search_vectors(collection, query_vector, top_k=3)\n",
    "\n",
    "# 결과 출력\n",
    "print(\"검색 결과:\")\n",
    "for i, result in enumerate(results[0]):\n",
    "    print(f\"{i+1}. 거리: {result.distance:.4f}\")\n",
    "    print(f\"   텍스트: {result.entity.get('text')}\")\n"
   ]
  },
  {
   "cell_type": "markdown",
   "id": "056d294e",
   "metadata": {},
   "source": [
    "## 4. LangChain과 Milvus 연동\n"
   ]
  },
  {
   "cell_type": "markdown",
   "id": "687b00ec",
   "metadata": {},
   "source": [
    "## OpenAI Key 등록\n",
    "- [OpenAI Key 발급](https://platform.openai.com/api-keys)"
   ]
  },
  {
   "cell_type": "code",
   "execution_count": null,
   "id": "20301d97",
   "metadata": {},
   "outputs": [],
   "source": [
    "import os\n",
    "\n",
    "os.environ['OPENAI_API_KEY'] = 'sk-proj-yourkeyhere'\n"
   ]
  },
  {
   "cell_type": "markdown",
   "id": "19f2a37f",
   "metadata": {},
   "source": [
    "### 4.1 LangChain Milvus VectorStore 설정\n"
   ]
  },
  {
   "cell_type": "code",
   "execution_count": 18,
   "id": "96199639",
   "metadata": {},
   "outputs": [],
   "source": [
    "from langchain_milvus import Milvus\n",
    "from langchain_openai import OpenAIEmbeddings\n",
    "from langchain.text_splitter import RecursiveCharacterTextSplitter\n",
    "from langchain.schema import Document"
   ]
  },
  {
   "cell_type": "code",
   "execution_count": 24,
   "id": "b3741059",
   "metadata": {},
   "outputs": [],
   "source": [
    "# OpenAI 임베딩 모델 설정\n",
    "embeddings = OpenAIEmbeddings(\n",
    "    model=\"text-embedding-3-small\"\n",
    ")\n"
   ]
  },
  {
   "cell_type": "code",
   "execution_count": 25,
   "id": "2422a3bd",
   "metadata": {},
   "outputs": [
    {
     "name": "stdout",
     "output_type": "stream",
     "text": [
      "LangChain Milvus VectorStore 설정 완료\n"
     ]
    }
   ],
   "source": [
    "# Milvus VectorStore 생성\n",
    "vectorstore = Milvus(\n",
    "    embedding_function=embeddings,\n",
    "    collection_name=\"rag_documents\",\n",
    "    connection_args={\n",
    "        \"host\": \"localhost\",\n",
    "        \"port\": \"19530\"\n",
    "    }\n",
    ")\n",
    "\n",
    "print(\"LangChain Milvus VectorStore 설정 완료\")\n"
   ]
  },
  {
   "cell_type": "markdown",
   "id": "79d5e4ba",
   "metadata": {},
   "source": [
    "### 4.2 문서 저장 및 검색\n"
   ]
  },
  {
   "cell_type": "code",
   "execution_count": 26,
   "id": "067a7e22",
   "metadata": {},
   "outputs": [
    {
     "name": "stdout",
     "output_type": "stream",
     "text": [
      "3개 문서가 벡터스토어에 저장되었습니다.\n"
     ]
    }
   ],
   "source": [
    "# 샘플 문서 생성\n",
    "documents = [\n",
    "    Document(\n",
    "        page_content=\"인공지능(AI)은 인간의 지능을 모방하여 학습, 추론, 문제해결을 수행하는 기술입니다.\",\n",
    "        metadata={\"source\": \"ai_intro.txt\", \"topic\": \"AI\"}\n",
    "    ),\n",
    "    Document(\n",
    "        page_content=\"머신러닝은 데이터로부터 패턴을 학습하여 예측이나 분류를 수행하는 AI의 한 분야입니다.\",\n",
    "        metadata={\"source\": \"ml_intro.txt\", \"topic\": \"ML\"}\n",
    "    ),\n",
    "    Document(\n",
    "        page_content=\"딥러닝은 인공신경망을 사용하여 복잡한 패턴을 학습하는 머신러닝의 한 분야입니다.\",\n",
    "        metadata={\"source\": \"dl_intro.txt\", \"topic\": \"DL\"}\n",
    "    )\n",
    "]\n",
    "\n",
    "# 문서를 벡터스토어에 추가\n",
    "vectorstore.add_documents(documents)\n",
    "print(f\"{len(documents)}개 문서가 벡터스토어에 저장되었습니다.\")\n"
   ]
  },
  {
   "cell_type": "code",
   "execution_count": 27,
   "id": "a4e3462b",
   "metadata": {},
   "outputs": [
    {
     "name": "stdout",
     "output_type": "stream",
     "text": [
      "쿼리: 인공신경망에 대해 알려주세요\n",
      "\n",
      "검색 결과:\n",
      "1. 인공지능(AI)은 인간의 지능을 모방하여 학습, 추론, 문제해결을 수행하는 기술입니다.\n",
      "   메타데이터: {'pk': 461116581730065540, 'source': 'ai_intro.txt', 'topic': 'AI'}\n",
      "2. 딥러닝은 인공신경망을 사용하여 복잡한 패턴을 학습하는 머신러닝의 한 분야입니다.\n",
      "   메타데이터: {'pk': 461116581730065542, 'source': 'dl_intro.txt', 'topic': 'DL'}\n"
     ]
    }
   ],
   "source": [
    "# 유사 문서 검색\n",
    "query = \"인공신경망에 대해 알려주세요\"\n",
    "results = vectorstore.similarity_search(query, k=2)\n",
    "\n",
    "print(f\"쿼리: {query}\")\n",
    "print(\"\\n검색 결과:\")\n",
    "for i, doc in enumerate(results):\n",
    "    print(f\"{i+1}. {doc.page_content}\")\n",
    "    print(f\"   메타데이터: {doc.metadata}\")\n"
   ]
  },
  {
   "cell_type": "markdown",
   "id": "7d16e1e0",
   "metadata": {},
   "source": [
    "### 4.3 RAG 체인 구성\n"
   ]
  },
  {
   "cell_type": "code",
   "execution_count": 28,
   "id": "26a55a8c",
   "metadata": {},
   "outputs": [],
   "source": [
    "from langchain.chains import RetrievalQA\n",
    "from langchain_openai import ChatOpenAI\n",
    "\n",
    "# LLM 설정\n",
    "llm = ChatOpenAI(\n",
    "    model=\"gpt-5-nano\"\n",
    ")\n"
   ]
  },
  {
   "cell_type": "code",
   "execution_count": 29,
   "id": "46a30f2c",
   "metadata": {},
   "outputs": [],
   "source": [
    "# RAG 체인 구성\n",
    "qa_chain = RetrievalQA.from_chain_type(\n",
    "    llm=llm,\n",
    "    chain_type=\"stuff\",\n",
    "    retriever=vectorstore.as_retriever(search_kwargs={\"k\": 2})\n",
    ")\n"
   ]
  },
  {
   "cell_type": "code",
   "execution_count": 33,
   "id": "00fe3c0b",
   "metadata": {},
   "outputs": [
    {
     "name": "stdout",
     "output_type": "stream",
     "text": [
      "질문: 머신러닝과 딥러닝의 차이점은 무엇인가요?\n",
      "답변: 다음과 같이 차이를 정리할 수 있어요.\n",
      "\n",
      "- 정의와 관계\n",
      "  - 머신러닝: 데이터로부터 패턴을 학습해 예측/분류를 수행하는 AI의 한 분야.\n",
      "  - 딥러닝: 머신러닝의 하위 분야로, 다층 인공신경망을 사용해 데이터에서 특징을 자동으로 학습하고 표현을 점점 더 깊게 학습하는 방식.\n",
      "\n",
      "- 특징 추출 방식\n",
      "  - 전통적인 머신러닝: 특징 공학(feature engineering)을 사람이 직접 설계하고 선택하는 경우가 많음.\n",
      "  - 딥러닝: 다층 신경망이 자동으로 특징을 학습(표현 학습)하기 때문에 초기 특징 설계 의존도가 낮음.\n",
      "\n",
      "- 데이터와 계산 자원\n",
      "  - 머신러닝: 상대적으로 적은 데이터로도 잘 동작하는 알고리즘이 많고 CPU도 충분한 경우가 많음.\n",
      "  - 딥러닝: 대규모 데이터와 강력한 하드웨어(GPU/TPU)가 필요해 학습이 상대적으로 자원 집약적임.\n",
      "\n",
      "- 모델 구조와 예시\n",
      "  - 머신러닝 알고리즘의 예: 선형 회귀, 로지스틱 회귀, 결정 트리, 랜덤 포레스트, SVM, k-최근접 이웃 등.\n",
      "  - 딥러닝 모델의 예: 다층 CNN, RNN/LSTM, 트랜스포머 등처럼 깊이가 큰 뉴럴 네트워크.\n",
      "\n",
      "- 적용 분야\n",
      "  - 머신러닝: 구조화된 데이터(tabular data) 예측이나 간단한 패턴 인식에 많이 사용.\n",
      "  - 딥러닝: 이미지/비디오 인식, 음성 인식, 자연어 처리 등 비정형 데이터에 탁월한 성능을 보임.\n",
      "\n",
      "- 해석성\n",
      "  - 머신러닝의 전통 모델들(예: 선형 회귀, 의사결정트리)은 비교적 해석이 쉬움.\n",
      "  - 딥러닝은 모델이 크고 복잡해 해석이 어려운 경향이 있음(일부 방법은 해석 가능성 연구가 진행 중).\n",
      "\n",
      "- 언제 무엇을 선택할까\n",
      "  - 충분한 데이터와 고성능 자원이 있고 비정형 데이터에 최적의 성능이 필요하면 딥러닝을 고려.\n",
      "  - 데이터가 비교적 적고 해석이 중요하며, 구조화된 데이터에 대해 빠르고 간단한 모델이 필요하면 전통적인 머신러닝 알고리즘을 먼저 시도.\n",
      "\n",
      "요약하면, 딥러닝은 머신러닝의 한 분야로, 다층 신경망을 통해 자동으로 특징을 학습하고 비정형 데이터에서 뛰어난 성능을 보이지만, 더 많은 데이터와 계산 자원이 필요합니다. 머신러닝은 더 넓은 범위의 알고리즘을 포함하며, 데이터 규모나 요구사항에 따라 더 가볍고 해석 가능한 모델이 적합한 경우가 많습니다.\n"
     ]
    }
   ],
   "source": [
    "# 질문 답변 실행\n",
    "question = \"머신러닝과 딥러닝의 차이점은 무엇인가요?\"\n",
    "answer = qa_chain.invoke(question)\n",
    "\n",
    "print(f\"질문: {answer['query']}\")\n",
    "print(f\"답변: {answer['result']}\")\n"
   ]
  },
  {
   "cell_type": "markdown",
   "id": "8fc930f0",
   "metadata": {},
   "source": [
    "## 5. 고급 기능 및 최적화\n",
    "\n",
    "### 5.1 다양한 인덱스 타입 비교\n"
   ]
  },
  {
   "cell_type": "code",
   "execution_count": 34,
   "id": "93287339",
   "metadata": {},
   "outputs": [],
   "source": [
    "# HNSW 인덱스 (빠른 검색, 높은 정확도)\n",
    "hnsw_params = {\n",
    "    \"metric_type\": \"L2\",\n",
    "    \"index_type\": \"HNSW\",\n",
    "    \"params\": {\"M\": 16, \"efConstruction\": 200}\n",
    "}"
   ]
  },
  {
   "cell_type": "code",
   "execution_count": 35,
   "id": "2368fafc",
   "metadata": {},
   "outputs": [],
   "source": [
    "# IVF_SQ8 인덱스 (메모리 효율적, 양호한 성능)\n",
    "ivf_sq8_params = {\n",
    "    \"metric_type\": \"L2\",\n",
    "    \"index_type\": \"IVF_SQ8\",\n",
    "    \"params\": {\"nlist\": 1024}\n",
    "}"
   ]
  },
  {
   "cell_type": "code",
   "execution_count": 36,
   "id": "2c0dca88",
   "metadata": {},
   "outputs": [],
   "source": [
    "# ANNOY 인덱스 (빠른 근사 검색, 낮은 메모리 사용)\n",
    "annoy_params = {\n",
    "    \"metric_type\": \"L2\",\n",
    "    \"index_type\": \"ANNOY\",\n",
    "    \"params\": {\"n_trees\": 100}\n",
    "}"
   ]
  },
  {
   "cell_type": "markdown",
   "id": "79a65870",
   "metadata": {},
   "source": [
    "### 5.2 하이브리드 검색 (벡터 + 키워드)\n"
   ]
  },
  {
   "cell_type": "code",
   "execution_count": 37,
   "id": "45d30f84",
   "metadata": {},
   "outputs": [],
   "source": [
    "# 하이브리드 검색 구현\n",
    "def hybrid_search(collection, query_vector, keyword_filter, top_k=5):\n",
    "    # 벡터 검색\n",
    "    vector_results = collection.search(\n",
    "        data=[query_vector], # 벡터 데이터\n",
    "        anns_field=\"embedding\", # 임베딩 필드\n",
    "        param={\"metric_type\": \"L2\", \"params\": {\"nprobe\": 10}}, # 검색 파라미터\n",
    "        limit=top_k, # 검색 결과 수\n",
    "        output_fields=[\"text\", \"id\"] # 출력 필드\n",
    "    )\n",
    "    \n",
    "    # 키워드 필터링 (실제로는 더 복잡한 필터링 로직 사용)\n",
    "    filtered_results = []\n",
    "    for result in vector_results[0]: \n",
    "        if keyword_filter.lower() in result.entity.get('text', '').lower():\n",
    "            filtered_results.append(result)\n",
    "    \n",
    "    return filtered_results\n"
   ]
  },
  {
   "cell_type": "code",
   "execution_count": 38,
   "id": "3564ba17",
   "metadata": {},
   "outputs": [
    {
     "name": "stdout",
     "output_type": "stream",
     "text": [
      "하이브리드 검색 결과 (키워드: '인공지능'):\n",
      "1. 인공지능은 컴퓨터 과학의 한 분야입니다.\n",
      "   거리: 137.4678\n"
     ]
    }
   ],
   "source": [
    "# 하이브리드 검색 예제\n",
    "query_vector = np.random.random(768).tolist()\n",
    "keyword = \"인공지능\"\n",
    "\n",
    "hybrid_results = hybrid_search(collection, query_vector, keyword, top_k=3)\n",
    "\n",
    "print(f\"하이브리드 검색 결과 (키워드: '{keyword}'):\")\n",
    "for i, result in enumerate(hybrid_results):\n",
    "    print(f\"{i+1}. {result.entity.get('text')}\")\n",
    "    print(f\"   거리: {result.distance:.4f}\")\n"
   ]
  },
  {
   "cell_type": "markdown",
   "id": "5112616c",
   "metadata": {},
   "source": [
    "### 5.3 성능 모니터링 및 최적화\n"
   ]
  },
  {
   "cell_type": "code",
   "execution_count": 39,
   "id": "0a701bff",
   "metadata": {},
   "outputs": [],
   "source": [
    "import time\n",
    "\n",
    "# 성능 측정 함수\n",
    "def measure_search_performance(collection, query_vector, iterations=100):\n",
    "    collection.load()\n",
    "    \n",
    "    start_time = time.time()\n",
    "    \n",
    "    for _ in range(iterations):\n",
    "        results = collection.search(\n",
    "            data=[query_vector],\n",
    "            anns_field=\"embedding\",\n",
    "            param={\"metric_type\": \"L2\", \"params\": {\"nprobe\": 10}},\n",
    "            limit=5\n",
    "        )\n",
    "    \n",
    "    end_time = time.time()\n",
    "    avg_time = (end_time - start_time) / iterations\n",
    "    \n",
    "    print(f\"평균 검색 시간: {avg_time*1000:.2f}ms\")\n",
    "    print(f\"초당 검색 횟수: {1/avg_time:.2f} QPS\")\n",
    "    \n",
    "    return avg_time\n"
   ]
  },
  {
   "cell_type": "code",
   "execution_count": 40,
   "id": "847e23db",
   "metadata": {},
   "outputs": [
    {
     "name": "stdout",
     "output_type": "stream",
     "text": [
      "평균 검색 시간: 1.89ms\n",
      "초당 검색 횟수: 529.53 QPS\n"
     ]
    },
    {
     "data": {
      "text/plain": [
       "0.0018884563446044922"
      ]
     },
     "execution_count": 40,
     "metadata": {},
     "output_type": "execute_result"
    }
   ],
   "source": [
    "# 성능 측정\n",
    "query_vector = np.random.random(768).tolist()\n",
    "measure_search_performance(collection, query_vector, iterations=50)\n"
   ]
  },
  {
   "cell_type": "markdown",
   "id": "821d8641",
   "metadata": {},
   "source": [
    "## 6. 정리 및 모범 사례\n",
    "\n",
    "### 6.1 Milvus 사용 시 주의사항\n",
    "\n",
    "1. **인덱스 선택**: 데이터 크기와 검색 정확도 요구사항에 따라 적절한 인덱스 선택\n",
    "2. **메모리 관리**: 대용량 데이터 처리 시 메모리 사용량 모니터링\n",
    "3. **컬렉션 설계**: 스키마를 신중하게 설계하여 확장성 고려\n",
    "4. **백업 전략**: 정기적인 데이터 백업 및 복구 계획 수립\n",
    "\n",
    "### 6.2 RAG 시스템에서의 활용 팁\n",
    "\n",
    "1. **청크 크기 최적화**: 문서 분할 시 적절한 청크 크기 설정\n",
    "2. **임베딩 모델 선택**: 도메인에 맞는 임베딩 모델 사용\n",
    "3. **하이브리드 검색**: 벡터 검색과 키워드 검색의 조합 활용\n",
    "4. **캐싱 전략**: 자주 검색되는 쿼리 결과 캐싱\n",
    "\n",
    "### 6.3 성능 최적화 방법\n",
    "\n",
    "1. **인덱스 튜닝**: nlist, nprobe 등 파라미터 조정\n",
    "2. **배치 처리**: 대량 데이터 삽입 시 배치 단위로 처리\n",
    "3. **컬렉션 분할**: 도메인별로 컬렉션 분리\n",
    "4. **모니터링**: 지속적인 성능 모니터링 및 튜닝\n"
   ]
  },
  {
   "cell_type": "code",
   "execution_count": null,
   "id": "39c433fd",
   "metadata": {},
   "outputs": [],
   "source": []
  }
 ],
 "metadata": {
  "kernelspec": {
   "display_name": ".venv",
   "language": "python",
   "name": "python3"
  },
  "language_info": {
   "codemirror_mode": {
    "name": "ipython",
    "version": 3
   },
   "file_extension": ".py",
   "mimetype": "text/x-python",
   "name": "python",
   "nbconvert_exporter": "python",
   "pygments_lexer": "ipython3",
   "version": "3.13.2"
  }
 },
 "nbformat": 4,
 "nbformat_minor": 5
}
