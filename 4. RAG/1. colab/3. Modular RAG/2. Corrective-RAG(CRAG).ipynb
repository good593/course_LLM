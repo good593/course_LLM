{
 "cells": [
  {
   "cell_type": "markdown",
   "id": "8364184d",
   "metadata": {},
   "source": [
    "# LangGraph를 이용한 Corrective RAG\n"
   ]
  },
  {
   "cell_type": "markdown",
   "id": "69a624d3",
   "metadata": {},
   "source": [
    "## Vanilla RAG의 구조\n",
    "- Query 입력 → Retriever가 문서 검색 → LLM이 문서+질문을 기반으로 답변 생성\n",
    "- 매우 직관적이고 간단한 파이프라인이라 초기에 많이 쓰였음."
   ]
  },
  {
   "cell_type": "markdown",
   "id": "6f3ea585",
   "metadata": {},
   "source": [
    "### Vanilla RAG의 단점"
   ]
  },
  {
   "cell_type": "markdown",
   "id": "81c976fe",
   "metadata": {},
   "source": [
    "1. 검색 오류 전파 (Garbage In → Garbage Out)\n",
    "    > Retriever가 관련 없는 문서를 가져오면, → LLM이 그것을 사실처럼 써버림 → 잘못된 답변(hallucination) 발생"
   ]
  },
  {
   "cell_type": "markdown",
   "id": "dae24566",
   "metadata": {},
   "source": [
    "2. 관련 없는 문서 포함 → 답변 품질 저하\n",
    "    - Retrieval에서 top-k 문서를 무조건 넘기기 때문에\n",
    "    - 질문과 무관한 문서도 context에 들어감\n",
    "    - LLM이 혼란을 느끼거나 엉뚱한 출처를 인용할 수 있음"
   ]
  },
  {
   "cell_type": "markdown",
   "id": "6848cb22",
   "metadata": {},
   "source": [
    "3. Retriever 신뢰성 부족\n",
    "    - 벡터 검색(semantic search)은 항상 정확하지 않음\n",
    "    - 오타, 다의어, 추상적 개념 → 검색 실패 가능"
   ]
  },
  {
   "cell_type": "markdown",
   "id": "35e1190c",
   "metadata": {},
   "source": [
    "4. 비효율성\n",
    "    - Retriever가 항상 문서를 가져오도록 설계되어 있음\n",
    "    - 질문이 아주 단순한 경우에도 불필요하게 retrieval이 발생 → 비용 증가"
   ]
  },
  {
   "cell_type": "markdown",
   "id": "1d25480f",
   "metadata": {},
   "source": [
    "5. 출처 신뢰성 문제\n",
    "    - LLM은 retrieval 결과를 무조건 신뢰하는 경향이 있어\n",
    "    - 출처가 부정확하거나 잘못된 정보를 포함해도 검증 없이 사용"
   ]
  },
  {
   "cell_type": "markdown",
   "id": "eb2f8e31",
   "metadata": {},
   "source": [
    "## Corrective RAG (CRAG)\n",
    "핵심 아이디어: 잘못된 retrieval 결과(irrelevant docs)를 그대로 쓰지 않고, LLM이 retrieval quality를 판단하고 수정한다."
   ]
  },
  {
   "cell_type": "markdown",
   "id": "4bcf44c0",
   "metadata": {},
   "source": [
    "### 구조\n",
    "1. Retriever가 문서를 가져옴\n",
    "2. LLM(or 별도 classifier)이 해당 문서가 질문과 관련 있는지 판단 (irrelevant이면 버림)\n",
    "3. 필요시 다시 검색하거나, LLM이 자체 knowledge 기반으로 보완"
   ]
  },
  {
   "cell_type": "markdown",
   "id": "19fc77a2",
   "metadata": {},
   "source": [
    "### 장단점\n",
    "- 장점\n",
    "    - 잘못된 검색(garbage in → garbage out) 문제를 줄임\n",
    "    - 쓸데없는 문서를 줄여 hallucination 위험 감소\n",
    "- 단점\n",
    "    - 분류 단계를 거쳐서 latency 증가 가능\n",
    "    - retriever와 LLM 사이의 \"판단 기준\" 튜닝 필요- "
   ]
  },
  {
   "cell_type": "markdown",
   "id": "ca454cfa",
   "metadata": {},
   "source": [
    "## 환경 설정 및 라이브러리 준비\n",
    "\n",
    "LangGraph와 Chroma DB를 활용한 Corrective RAG를 구현하기 위한 환경을 설정하겠습니다.\n"
   ]
  },
  {
   "cell_type": "code",
   "execution_count": 1,
   "id": "d0d06769",
   "metadata": {},
   "outputs": [],
   "source": [
    "# %pip install langchain==0.3.26 langchain-community==0.3.27 langchain-openai==0.3.8 langgraph==0.2.61 chromadb==1.1.0 tavily-python\n"
   ]
  },
  {
   "cell_type": "code",
   "execution_count": 2,
   "id": "9fee5050",
   "metadata": {},
   "outputs": [],
   "source": [
    "import warnings\n",
    "warnings.filterwarnings(\"ignore\")"
   ]
  },
  {
   "cell_type": "markdown",
   "id": "7b9c8f75",
   "metadata": {},
   "source": [
    "### API 키 설정\n",
    "- [OpenAI API 키](https://platform.openai.com/api-keys)\n",
    "- [Tavily API 키](https://tavily.com/) - 웹 검색용"
   ]
  },
  {
   "cell_type": "code",
   "execution_count": null,
   "id": "f23ad1c4",
   "metadata": {},
   "outputs": [
    {
     "name": "stdout",
     "output_type": "stream",
     "text": [
      "OpenAI API 키가 설정되었습니다. (GPT 모델 사용)\n",
      "Tavily API 키가 설정되었습니다. (웹 검색 사용)\n"
     ]
    }
   ],
   "source": [
    "import os\n",
    "\n",
    "# API 키 설정\n",
    "os.environ[\"OPENAI_API_KEY\"] = \"sk-your-openai-api-key\"\n",
    "\n",
    "# Tavily API 키 설정 (웹 검색용)\n",
    "# https://tavily.com/ 에서 무료 API 키를 받을 수 있습니다.\n",
    "os.environ[\"TAVILY_API_KEY\"] = \"tvly-dev-your-tavily-api-key\"\n",
    "\n",
    "# API 키 확인\n",
    "openai_key = os.getenv(\"OPENAI_API_KEY\")\n",
    "tavily_key = os.getenv(\"TAVILY_API_KEY\")\n",
    "\n",
    "if openai_key:\n",
    "    print(\"OpenAI API 키가 설정되었습니다. (GPT 모델 사용)\")\n",
    "else:\n",
    "    print(\"OpenAI API 키가 없습니다.\")\n",
    "\n",
    "if tavily_key:\n",
    "    print(\"Tavily API 키가 설정되었습니다. (웹 검색 사용)\")\n",
    "else:\n",
    "    print(\"Tavily API 키가 설정되지 않았습니다. 웹 검색 기능이 제한될 수 있습니다.\")\n",
    "    print(\"   https://tavily.com/ 에서 무료 API 키를 받아 설정해주세요.\")"
   ]
  },
  {
   "cell_type": "markdown",
   "id": "fc0dd817",
   "metadata": {},
   "source": [
    "## Vector DB 구현"
   ]
  },
  {
   "cell_type": "markdown",
   "id": "cfc3e986",
   "metadata": {},
   "source": [
    "### Loader"
   ]
  },
  {
   "cell_type": "code",
   "execution_count": 4,
   "id": "116ea1d3",
   "metadata": {},
   "outputs": [
    {
     "data": {
      "text/plain": [
       "1"
      ]
     },
     "execution_count": 4,
     "metadata": {},
     "output_type": "execute_result"
    }
   ],
   "source": [
    "from langchain_community.document_loaders import TextLoader\n",
    "\n",
    "DATA_PATH = \"./data/\"\n",
    "loader = TextLoader(DATA_PATH+\"rag-keywords.txt\")\n",
    "\n",
    "docs = loader.load()\n",
    "len(docs)"
   ]
  },
  {
   "cell_type": "markdown",
   "id": "d17376fd",
   "metadata": {},
   "source": [
    "### Splitter"
   ]
  },
  {
   "cell_type": "code",
   "execution_count": 5,
   "id": "603fb26e",
   "metadata": {},
   "outputs": [
    {
     "data": {
      "text/plain": [
       "11"
      ]
     },
     "execution_count": 5,
     "metadata": {},
     "output_type": "execute_result"
    }
   ],
   "source": [
    "from langchain.text_splitter import RecursiveCharacterTextSplitter\n",
    "\n",
    "text_splitter = RecursiveCharacterTextSplitter(\n",
    "    chunk_size=600, chunk_overlap=60, length_function=len)\n",
    "\n",
    "split_doc1 = text_splitter.split_documents(docs)\n",
    "len(split_doc1)"
   ]
  },
  {
   "cell_type": "markdown",
   "id": "9da2d684",
   "metadata": {},
   "source": [
    "### Embeddings"
   ]
  },
  {
   "cell_type": "code",
   "execution_count": 6,
   "id": "e06a0376",
   "metadata": {},
   "outputs": [],
   "source": [
    "from langchain_openai import OpenAIEmbeddings\n",
    "\n",
    "embeddings = OpenAIEmbeddings(model=\"text-embedding-3-small\")"
   ]
  },
  {
   "cell_type": "markdown",
   "id": "7ff461ef",
   "metadata": {},
   "source": [
    "### Vector DB"
   ]
  },
  {
   "cell_type": "code",
   "execution_count": 7,
   "id": "bf072869",
   "metadata": {},
   "outputs": [
    {
     "name": "stdout",
     "output_type": "stream",
     "text": [
      "파일이 Chroma VectorStore에 저장되었습니다.\n"
     ]
    }
   ],
   "source": [
    "from langchain_community.vectorstores import Chroma\n",
    "\n",
    "vectorstore = Chroma.from_documents(\n",
    "    documents=split_doc1, # 문서 리스트\n",
    "    embedding=embeddings, # 임베딩 함수\n",
    "    collection_name=\"rag_keywords\", # 컬렉션 이름\n",
    "    persist_directory=\"./chroma_rag_keywords\" # 영구 저장 경로\n",
    ")\n",
    "\n",
    "print(\"파일이 Chroma VectorStore에 저장되었습니다.\")"
   ]
  },
  {
   "cell_type": "markdown",
   "id": "c0aa3402",
   "metadata": {},
   "source": [
    "## Corrective RAG 워크플로우 노드 구현"
   ]
  },
  {
   "cell_type": "markdown",
   "id": "d4f140cc",
   "metadata": {},
   "source": [
    "### LangGraph 상태 정의"
   ]
  },
  {
   "cell_type": "code",
   "execution_count": 8,
   "id": "9d9bf4de",
   "metadata": {},
   "outputs": [],
   "source": [
    "from typing_extensions import TypedDict, Annotated\n",
    "from typing import List, Dict, Any\n",
    "from langchain.schema import Document\n",
    "from langgraph.graph.message import add_messages\n",
    "\n",
    "class GraphState(TypedDict):\n",
    "    \"\"\"\n",
    "    LangGraph에서 노드 간에 전달되는 상태를 정의합니다.\n",
    "    각 노드는 이 상태를 읽고 수정할 수 있습니다.\n",
    "    \"\"\"\n",
    "    # 사용자 입력\n",
    "    question: str\n",
    "    question_of_llm: str # LLM을 이용한 질문 재작성\n",
    "    \n",
    "    # 검색 관련\n",
    "    documents: List[Document]\n",
    "    search_strategy: str  # \"vector\", \"web\"\n",
    "    sources: List[Dict[str, Any]]  # 출처 정보를 명확하게 관리\n",
    "    \n",
    "    # 평가 관련\n",
    "    evaluation_result: str  # \"yes\", \"no\"\n",
    "    evaluation_score: float\n",
    "    evaluation_detail: str\n",
    "    \n",
    "    # 답변 관련\n",
    "    answer: str\n",
    "    generation_strategy: str\n",
    "    \n",
    "    # 메타데이터\n",
    "    messages: Annotated[list, add_messages]\n",
    "\n"
   ]
  },
  {
   "cell_type": "markdown",
   "id": "df7c8b44",
   "metadata": {},
   "source": [
    "### 노드 1: 벡터 검색"
   ]
  },
  {
   "cell_type": "code",
   "execution_count": 9,
   "id": "bb4e532a",
   "metadata": {},
   "outputs": [],
   "source": [
    "def vector_search_node(state: GraphState) -> GraphState:\n",
    "    \"\"\"\n",
    "    벡터 데이터베이스에서 관련 문서를 검색합니다.\n",
    "    \"\"\"\n",
    "    print(f\"벡터 검색 노드 실행: '{state['question']}'\")\n",
    "    \n",
    "    # Chroma DB에서 유사 문서 검색\n",
    "    documents = vectorstore.similarity_search(state[\"question\"], k=5)\n",
    "    \n",
    "    # 출처 정보 수집\n",
    "    sources = []\n",
    "    for i, doc in enumerate(documents):\n",
    "        source_info = {\n",
    "            \"type\": \"vector_db\",\n",
    "            \"source\": doc.metadata.get(\"source\", f\"문서_{i+1}\"),\n",
    "            \"rank\": i + 1,\n",
    "            \"content_preview\": doc.page_content[:100] + \"...\" if len(doc.page_content) > 100 else doc.page_content,\n",
    "            \"metadata\": doc.metadata\n",
    "        }\n",
    "        sources.append(source_info)\n",
    "    \n",
    "    # 상태 업데이트\n",
    "    state[\"documents\"] = documents\n",
    "    state[\"search_strategy\"] = \"vector\"\n",
    "    state[\"sources\"] = sources\n",
    "    state[\"messages\"].append(f\"벡터 검색 완료: {len(documents)}개 문서 발견\")\n",
    "    \n",
    "    return state\n"
   ]
  },
  {
   "cell_type": "markdown",
   "id": "adf848a5",
   "metadata": {},
   "source": [
    "### 노드 2: 검색 품질 평가"
   ]
  },
  {
   "cell_type": "code",
   "execution_count": 10,
   "id": "d3d436de",
   "metadata": {},
   "outputs": [],
   "source": [
    "import re\n",
    "import json\n",
    "from langchain_openai import ChatOpenAI\n",
    "from langchain.prompts import (\n",
    "    ChatPromptTemplate,\n",
    "    SystemMessagePromptTemplate,\n",
    "    HumanMessagePromptTemplate\n",
    ")\n",
    "\n",
    "# LLM 초기화\n",
    "def get_llm():\n",
    "    return ChatOpenAI(\n",
    "        model=\"gpt-5-nano\"\n",
    "    )\n",
    "\n",
    "# JSON 안전 파싱\n",
    "def parse_llm_json(raw_output: str):\n",
    "    try:\n",
    "        json_match = re.search(r\"\\{[\\s\\S]*\\}\", raw_output)\n",
    "        if not json_match:\n",
    "            raise ValueError(\"JSON 객체를 찾을 수 없음\")\n",
    "\n",
    "        json_str = json_match.group(0)\n",
    "        return json.loads(json_str)\n",
    "    except Exception as e:\n",
    "        raise ValueError(f\"LLM JSON 파싱 실패: {e}\\n원본 응답: {raw_output}\")\n",
    "\n",
    "# 프롬프트 템플릿\n",
    "def get_prompt_template_of_evaluation():\n",
    "    system_template = \"\"\"\n",
    "        너는 검색 품질 평가를 수행하는 AI 심사위원입니다.\n",
    "        검색된 문서와 질문을 읽고 관련성을 평가하세요.\n",
    "\n",
    "        **중요 규칙**\n",
    "        1. 반드시 아래 JSON 형식으로만 출력하세요.\n",
    "        2. JSON 외의 다른 설명, 문장, 마크다운(````json`) 등은 출력하지 마세요.\n",
    "        3. JSON은 반드시 중괄호 `{{}}` 로 감싸야 합니다.\n",
    "\n",
    "        출력 예시:\n",
    "        {{\n",
    "            \"evaluation_score\": 0.75,\n",
    "            \"evaluation_result\": \"yes\",\n",
    "            \"evaluation_detail\": \"문서들이 질문과 매우 밀접하게 관련되어 있습니다.\"\n",
    "        }}\n",
    "    \"\"\"\n",
    "\n",
    "\n",
    "    human_template = \"\"\"\n",
    "    [질문]\n",
    "    {question}\n",
    "\n",
    "    [검색된 문서]\n",
    "    {context}\n",
    "    \"\"\"\n",
    "\n",
    "    return ChatPromptTemplate.from_messages([\n",
    "        SystemMessagePromptTemplate.from_template(system_template),\n",
    "        HumanMessagePromptTemplate.from_template(human_template),\n",
    "    ])\n",
    "\n",
    "# 평가 노드\n",
    "def evaluate_search_quality_node(state: dict) -> dict:\n",
    "    print(\"LLM 기반 검색 품질 평가 노드 실행\")\n",
    "\n",
    "    question = state.get(\"question\", \"\")\n",
    "    documents = state.get(\"documents\", [])\n",
    "\n",
    "    if not isinstance(documents, list):\n",
    "        raise TypeError(f\"'documents'는 리스트여야 합니다. 현재 타입: {type(documents)}\")\n",
    "\n",
    "    # 문서가 없으면 no로 바로 처리\n",
    "    if not documents:\n",
    "        state[\"evaluation_result\"] = \"no\"\n",
    "        state[\"evaluation_score\"] = 0.0\n",
    "        state[\"evaluation_detail\"] = \"검색된 문서가 없습니다.\"\n",
    "        state.setdefault(\"messages\", []).append(\"평가 결과: 문서 없음 (no)\")\n",
    "        return state\n",
    "\n",
    "    # 문서 내용 결합\n",
    "    context_text = \"\\n\\n\".join(\n",
    "        [f\"[문서 {i+1}]\\n{doc.page_content}\" for i, doc in enumerate(documents)]\n",
    "    )\n",
    "\n",
    "    # 프롬프트 생성\n",
    "    prompt = get_prompt_template_of_evaluation().format_messages(\n",
    "        question=question,\n",
    "        context=context_text\n",
    "    )\n",
    "\n",
    "    # LLM 호출\n",
    "    response = get_llm().invoke(prompt)\n",
    "\n",
    "    # content 안전 접근\n",
    "    raw_output = getattr(response, \"content\", str(response)).strip()\n",
    "\n",
    "    # JSON 파싱\n",
    "    try:\n",
    "        result_json = parse_llm_json(raw_output)\n",
    "        evaluation_score = result_json.get(\"evaluation_score\", 0.0)\n",
    "        evaluation_result = result_json.get(\"evaluation_result\", \"no\")\n",
    "        evaluation_detail = result_json.get(\"evaluation_detail\", \"세부 평가 내용 없음\")\n",
    "    except Exception as e:\n",
    "        evaluation_score = 0.0\n",
    "        evaluation_result = \"no\"\n",
    "        evaluation_detail = str(e)\n",
    "\n",
    "    # 상태 업데이트\n",
    "    state[\"evaluation_score\"] = evaluation_score\n",
    "    state[\"evaluation_result\"] = evaluation_result\n",
    "    state[\"evaluation_detail\"] = evaluation_detail\n",
    "    state.setdefault(\"messages\", []).append(\n",
    "        f\"평가 결과: {evaluation_result} (점수: {evaluation_score:.2f})\"\n",
    "    )\n",
    "\n",
    "    return state\n"
   ]
  },
  {
   "cell_type": "markdown",
   "id": "e11f386f",
   "metadata": {},
   "source": [
    "### 노드 3: 질문 재작성"
   ]
  },
  {
   "cell_type": "code",
   "execution_count": 11,
   "id": "d0e00617",
   "metadata": {},
   "outputs": [],
   "source": [
    "import json\n",
    "from langchain_openai import ChatOpenAI\n",
    "from langchain.prompts import ChatPromptTemplate, SystemMessagePromptTemplate, HumanMessagePromptTemplate\n",
    "from langchain.schema import Document\n",
    "\n",
    "# LLM 초기화\n",
    "def get_llm():\n",
    "    return ChatOpenAI(\n",
    "        model=\"gpt-5-nano\"\n",
    "    )\n",
    "\n",
    "def get_prompt_template_for_rewriting():\n",
    "    # 프롬프트 템플릿 정의\n",
    "    system_template = \"\"\"\n",
    "        너는 질문을 재작성을 수행하는 AI 도우미입니다.\n",
    "        질문에 더 명확하고 구체적인 표현을 사용하여 재작성하세요.\n",
    "        가능한 한 질문의 의도를 유지하면서도, 더 이해하기 쉽게 만드세요.\n",
    "        재작성된 질문은 원래 질문과 동일한 의미를 가져야 합니다.\n",
    "        재작성된 질문은 간결하고 명확해야 합니다.\n",
    "        재작성된 질문은 불필요한 단어를 포함하지 않아야 합니다.\n",
    "    \"\"\"\n",
    "\n",
    "    human_template = \"\"\"\n",
    "        [질문]\n",
    "        {question}\n",
    "    \"\"\"\n",
    "\n",
    "    return ChatPromptTemplate.from_messages([\n",
    "        SystemMessagePromptTemplate.from_template(system_template),\n",
    "        HumanMessagePromptTemplate.from_template(human_template),\n",
    "    ])\n",
    "\n",
    "def rewrite_question_node(state: dict) -> dict:\n",
    "    print(\"LLM 기반 문서 재작성 노드 실행\")\n",
    "\n",
    "    question = state.get(\"question\", \"\")\n",
    "\n",
    "    # LLM 프롬프트 생성\n",
    "    prompt = get_prompt_template_for_rewriting().format_messages(\n",
    "        question=question\n",
    "    )\n",
    "\n",
    "    # LLM 호출\n",
    "    response = get_llm().invoke(prompt)\n",
    "\n",
    "    # 상태 업데이트\n",
    "    state[\"question_of_llm\"] = response.content.strip()\n",
    "    state[\"search_strategy\"] = \"rewrite\"\n",
    "    state[\"messages\"].append(f\"재작성된 질문: {state['question_of_llm']}\")\n",
    "\n",
    "    return state\n",
    "\n"
   ]
  },
  {
   "cell_type": "markdown",
   "id": "73d15ce6",
   "metadata": {},
   "source": [
    "### 노드 4: 웹 검색"
   ]
  },
  {
   "cell_type": "code",
   "execution_count": 12,
   "id": "d5a4b77d",
   "metadata": {},
   "outputs": [],
   "source": [
    "from langchain_community.tools.tavily_search import TavilySearchResults\n",
    "import json\n",
    "\n",
    "def web_search_node(state: GraphState) -> GraphState:\n",
    "    \"\"\"\n",
    "    웹에서 추가 정보를 검색합니다. (Tavily Search 사용)\n",
    "    \"\"\"\n",
    "    print(\"웹 검색 노드 실행 (Tavily Search)\")\n",
    "    \n",
    "    search_query = state[\"question_of_llm\"] if state.get(\"question_of_llm\") else state[\"question\"]\n",
    "    \n",
    "    # Tavily Search 초기화\n",
    "    web_search = TavilySearchResults(\n",
    "        max_results=5,\n",
    "        search_depth=\"basic\",  # \"basic\" 또는 \"advanced\"\n",
    "        include_answer=False,\n",
    "        include_raw_content=False,\n",
    "        include_images=False,\n",
    "\t\tinclude_domains=[\n",
    "\t\t\t\"https://www.weatheri.co.kr/\", # 날씨 \n",
    "\t\t\t\"https://kr.investing.com/equities/south-korea\", # 주식\n",
    "\t\t\t\"https://www.github.com/\" # 소스코드\n",
    "\t\t]\n",
    "    )\n",
    "\n",
    "    try:\n",
    "        # 웹 검색 실행\n",
    "        search_results = web_search.run(search_query)\n",
    "        \n",
    "        # 검색 결과를 Document 형태로 변환\n",
    "        web_docs = []\n",
    "        sources = []\n",
    "        \n",
    "        # 검색 결과가 리스트인지 확인\n",
    "        if not isinstance(search_results, list):\n",
    "            search_results = []\n",
    "            \n",
    "        for i, result in enumerate(search_results):\n",
    "            # 결과가 딕셔너리인지 확인\n",
    "            if not isinstance(result, dict):\n",
    "                continue\n",
    "                \n",
    "            # Tavily 결과 구조에 맞게 필드 추출\n",
    "            title = result.get('title', f'웹 검색 결과 {i+1}')\n",
    "            content = result.get('content', '내용 정보 없음')\n",
    "            url = result.get('url', f'링크_{i+1}')\n",
    "            score = result.get('score', 0.0)  # Tavily의 관련성 점수\n",
    "\n",
    "            if score < 0.1:  # 너무 낮은 점수는 무시\n",
    "                continue\n",
    "            \n",
    "            doc = Document(\n",
    "                page_content=f\"\"\"\n",
    "                    [제목] \n",
    "                    {title.strip()}\n",
    "\n",
    "                    [내용] \n",
    "                    {content.strip()}\n",
    "                \"\"\",\n",
    "                metadata={\n",
    "                    \"source\": url,\n",
    "                    \"search_query\": search_query,\n",
    "                    \"rank\": i + 1,\n",
    "                    \"type\": \"web_result\",\n",
    "                    \"score\": score\n",
    "                }\n",
    "            )\n",
    "            web_docs.append(doc)\n",
    "            \n",
    "            # 출처 정보 수집\n",
    "            source_info = {\n",
    "                \"type\": \"web_search\",\n",
    "                \"source\": url,\n",
    "                \"title\": title.strip(),\n",
    "                \"rank\": i + 1,\n",
    "                \"search_query\": search_query,\n",
    "                \"content_preview\": content.strip()[:100] + \"...\" if len(content.strip()) > 100 else content.strip(),\n",
    "                \"score\": score,\n",
    "                \"metadata\": {\n",
    "                    \"search_query\": search_query,\n",
    "                    \"rank\": i + 1,\n",
    "                    \"type\": \"web_result\",\n",
    "                    \"score\": score\n",
    "                }\n",
    "            }\n",
    "            sources.append(source_info)\n",
    "        \n",
    "        # 상태 업데이트\n",
    "        state[\"documents\"] = web_docs\n",
    "        state[\"search_strategy\"] = \"web\"\n",
    "        state[\"sources\"] = sources\n",
    "        state[\"messages\"].append(f\"Tavily 웹 검색 완료: {len(web_docs)}개\")\n",
    "        \n",
    "        if len(web_docs) == 0:\n",
    "            print(\"웹 검색 결과가 없습니다.\")\n",
    "            state[\"messages\"].append(\"웹 검색 결과가 없습니다.\")\n",
    "            state[\"sources\"] = []\n",
    "            state[\"search_strategy\"] = \"web_failed\"\n",
    "        \n",
    "    except Exception as e:\n",
    "        print(f\"Tavily 웹 검색 오류: {e}\")\n",
    "        # 오류 발생 시 빈 문서와 출처로 설정\n",
    "        state[\"documents\"] = []\n",
    "        state[\"sources\"] = []\n",
    "        state[\"search_strategy\"] = \"web_failed\"\n",
    "        state[\"messages\"].append(f\"Tavily 웹 검색 오류: {e}\")\n",
    "    \n",
    "    return state\n"
   ]
  },
  {
   "cell_type": "markdown",
   "id": "a3a18758",
   "metadata": {},
   "source": [
    "### 노드 5: 답변 생성"
   ]
  },
  {
   "cell_type": "code",
   "execution_count": 13,
   "id": "22be9bbd",
   "metadata": {},
   "outputs": [],
   "source": [
    "from langchain_openai import ChatOpenAI\n",
    "from langchain.prompts import ChatPromptTemplate, SystemMessagePromptTemplate, HumanMessagePromptTemplate\n",
    "\n",
    "# LLM 초기화\n",
    "def get_llm():\n",
    "    return ChatOpenAI(\n",
    "        model=\"gpt-5-nano\"\n",
    "    )\n",
    "\n",
    "def get_prompt_template_of_generation():\n",
    "\n",
    "    # 프롬프트 템플릿 정의\n",
    "    system_template = \"\"\"\n",
    "        너는 검색된 문서를 기반으로 답변을 작성하는 AI 어시스턴트입니다.\n",
    "        문서에 없는 정보는 추측하지 말고, 반드시 제공된 문서 내용만을 사용하여 답변하세요.\n",
    "        답변은 간결하고 이해하기 쉽게 작성하세요.\n",
    "    \"\"\"\n",
    "\n",
    "    human_template = \"\"\"\n",
    "        [질문]\n",
    "        {question}\n",
    "\n",
    "        [검색된 문서]\n",
    "        {context}\n",
    "\n",
    "        [출력 형식]\n",
    "        1. 질문에 대한 핵심 답변\n",
    "        2. 필요한 경우 관련된 세부 정보\n",
    "    \"\"\"\n",
    "\n",
    "    return ChatPromptTemplate.from_messages([\n",
    "        SystemMessagePromptTemplate.from_template(system_template),\n",
    "        HumanMessagePromptTemplate.from_template(human_template),\n",
    "    ])\n",
    "\n",
    "def generate_answer_node(state: dict) -> dict:\n",
    "    \"\"\"\n",
    "    검색된 문서를 기반으로 LLM을 사용하여 최종 답변을 생성합니다.\n",
    "    \"\"\"\n",
    "    print(\"LLM 기반 답변 생성 노드 실행\")\n",
    "\n",
    "    question = state.get(\"question\", \"\")\n",
    "    documents = state.get(\"documents\", [])\n",
    "    sources = state.get(\"sources\", [])\n",
    "    search_strategy = state.get(\"search_strategy\", \"vector\")\n",
    "\n",
    "    # 검색 실패 조건 확인\n",
    "    evaluation_result = state.get(\"evaluation_result\", \"\")\n",
    "    \n",
    "    search_failed = (\n",
    "        not documents or  # 문서가 없음\n",
    "        (search_strategy == \"web_failed\") or  # 웹 검색 실패\n",
    "        (search_strategy == \"web\" and not sources) or  # 웹 검색 결과 없음\n",
    "        (search_strategy == \"rewrite\" and not documents) or  # 질문 재작성 후 웹 검색으로 가야 하는데 문서가 없음\n",
    "        (evaluation_result == \"no\" and search_strategy in [\"rewrite\", \"web_failed\"])  # 벡터 검색 평가 실패 후 웹 검색도 실패\n",
    "    )\n",
    "\n",
    "    # 모든 검색이 실패한 경우 - 알 수 없다고 답변하고 출처 생략\n",
    "    if search_failed:\n",
    "        answer = f\"'{question}'에 대한 답변:\\n\\n죄송합니다. 해당 질문에 대한 정보를 찾을 수 없어 답변드릴 수 없습니다.\"\n",
    "        state[\"answer\"] = answer\n",
    "        state[\"generation_strategy\"] = \"no_information\"\n",
    "        state[\"sources\"] = []\n",
    "        state.setdefault(\"messages\", []).append(\"답변 생성: 검색 실패로 정보 없음\")\n",
    "        return state\n",
    "\n",
    "    # 검색 성공한 경우 - 문서 기반 답변 생성 및 출처 표시\n",
    "    # 상위 3개 문서만 사용\n",
    "    if len(documents) > 3:\n",
    "        documents = documents[:3]\n",
    "        sources = sources[:3]  # 출처 정보도 동일하게 제한\n",
    "\n",
    "    context_text = \"\\n\\n\".join(\n",
    "        [f\"[문서 {i+1}]\\n{doc.page_content}\" for i, doc in enumerate(documents)]\n",
    "    )\n",
    "\n",
    "    # 프롬프트에 변수 주입\n",
    "    prompt = get_prompt_template_of_generation().format_messages(\n",
    "        question=question,\n",
    "        context=context_text\n",
    "    )\n",
    "\n",
    "    # LLM 호출\n",
    "    response = get_llm().invoke(prompt)\n",
    "    llm_answer = response.content.strip()\n",
    "\n",
    "    # 검색 전략 설명\n",
    "    strategy_info = {\n",
    "        \"vector\": \"벡터 데이터베이스 검색\",\n",
    "        \"web\": \"웹 검색 결합\"\n",
    "    }\n",
    "\n",
    "    # GraphState의 출처 정보를 활용하여 상세한 출처 표시 (검색 성공 시 반드시 표시)\n",
    "    source_details = []\n",
    "    for source in sources:\n",
    "        if source[\"type\"] == \"vector_db\":\n",
    "            source_details.append(f\"• 벡터DB: {source['source']} (순위: {source['rank']})\")\n",
    "        elif source[\"type\"] == \"web_search\":\n",
    "            score_info = f\" (점수: {source.get('score', 0):.2f})\" if source.get('score') else \"\"\n",
    "            source_details.append(f\"• 웹검색: {source['title']} - {source['source']} (순위: {source['rank']}){score_info}\")\n",
    "    \n",
    "    # 최종 답변 조합 (검색 성공 시 반드시 출처 포함)\n",
    "    final_answer_parts = [\n",
    "        f\"'{question}'에 대한 답변:\\n\",\n",
    "        llm_answer,\n",
    "        f\"\\n검색 전략: {strategy_info.get(search_strategy, search_strategy)}\"\n",
    "    ]\n",
    "    \n",
    "    # 검색 성공 시 반드시 출처 정보 표시\n",
    "    if source_details:\n",
    "        final_answer_parts.append(f\"출처 정보:\")\n",
    "        final_answer_parts.extend(source_details)\n",
    "    else:\n",
    "        # 문서는 있지만 출처 정보가 없는 예외적인 경우\n",
    "        final_answer_parts.append(f\"출처 정보: 출처 정보를 확인할 수 없습니다.\")\n",
    "\n",
    "    final_answer = \"\\n\".join(final_answer_parts)\n",
    "\n",
    "    # 상태 업데이트\n",
    "    state[\"answer\"] = final_answer\n",
    "    state[\"generation_strategy\"] = search_strategy\n",
    "    state.setdefault(\"messages\", []).append(f\"답변 생성 완료 (LLM 사용, {len(documents)}개 문서 기반)\")\n",
    "\n",
    "    return state\n"
   ]
  },
  {
   "cell_type": "markdown",
   "id": "3918a398",
   "metadata": {},
   "source": [
    "### 조건부 라우팅 함수들"
   ]
  },
  {
   "cell_type": "code",
   "execution_count": 14,
   "id": "99f77c83",
   "metadata": {},
   "outputs": [],
   "source": [
    "def decide_search_strategy(state: GraphState) -> str:\n",
    "    \"\"\"\n",
    "    평가 결과에 따라 다음 노드를 결정합니다.\n",
    "    \"\"\"\n",
    "    evaluation_result = state[\"evaluation_result\"]\n",
    "    \n",
    "    print(f\"라우팅 결정: {evaluation_result}\")\n",
    "    \n",
    "    if evaluation_result == \"yes\":\n",
    "        return \"generate_answer\"\n",
    "    else:\n",
    "        return \"rewrite_question\"\n",
    "\n"
   ]
  },
  {
   "cell_type": "markdown",
   "id": "cceb36e4",
   "metadata": {},
   "source": [
    "## LangGraph 워크플로우 구성\n",
    "\n",
    "이제 정의한 노드들을 연결하여 완전한 LangGraph 워크플로우를 구성해보겠습니다.\n"
   ]
  },
  {
   "cell_type": "code",
   "execution_count": 15,
   "id": "fe393cdc",
   "metadata": {},
   "outputs": [],
   "source": [
    "from langgraph.graph import StateGraph, END, START\n",
    "from langgraph.checkpoint.memory import MemorySaver\n",
    "\n",
    "# LangGraph 워크플로우 생성\n",
    "def create_corrective_rag_graph():\n",
    "    \"\"\"\n",
    "    Corrective RAG를 위한 LangGraph 워크플로우를 생성합니다.\n",
    "    \"\"\"\n",
    "    # StateGraph 인스턴스 생성\n",
    "    workflow = StateGraph(GraphState)\n",
    "    \n",
    "    # 노드 추가\n",
    "    workflow.add_node(\"vector_search\", vector_search_node)\n",
    "    workflow.add_node(\"evaluate_quality\", evaluate_search_quality_node)\n",
    "    workflow.add_node(\"rewrite_question\", rewrite_question_node)\n",
    "    workflow.add_node(\"web_search\", web_search_node)\n",
    "    workflow.add_node(\"generate_answer\", generate_answer_node)\n",
    "    \n",
    "    # 시작점 설정: 벡터 검색부터 시작\n",
    "    workflow.add_edge(START, \"vector_search\")\n",
    "    \n",
    "    # 벡터 검색 → 품질 평가\n",
    "    workflow.add_edge(\"vector_search\", \"evaluate_quality\")\n",
    "    \n",
    "    # 품질 평가 → 조건부 라우팅\n",
    "    workflow.add_conditional_edges(\n",
    "        \"evaluate_quality\",\n",
    "        decide_search_strategy,\n",
    "        {\n",
    "            \"generate_answer\": \"generate_answer\",\n",
    "            \"rewrite_question\": \"rewrite_question\"\n",
    "        }\n",
    "    )\n",
    "\n",
    "    # 질문 재작성 → 웹 검색\n",
    "    workflow.add_edge(\"rewrite_question\", \"web_search\")\n",
    "    \n",
    "    # 웹 검색 → 답변 생성\n",
    "    workflow.add_edge(\"web_search\", \"generate_answer\")\n",
    "    \n",
    "    # 답변 생성 → 종료\n",
    "    workflow.add_edge(\"generate_answer\", END)\n",
    "    \n",
    "    # 메모리 설정 (선택사항 - 대화 기록 저장용)\n",
    "    memory = MemorySaver()\n",
    "    \n",
    "    # 그래프 컴파일\n",
    "    app = workflow.compile(checkpointer=memory)\n",
    "    \n",
    "    print(\"LangGraph Corrective RAG 워크플로우가 생성되었습니다!\")\n",
    "    return app\n"
   ]
  },
  {
   "cell_type": "code",
   "execution_count": 16,
   "id": "6001d67f",
   "metadata": {},
   "outputs": [
    {
     "name": "stdout",
     "output_type": "stream",
     "text": [
      "LangGraph Corrective RAG 워크플로우가 생성되었습니다!\n"
     ]
    }
   ],
   "source": [
    "# 워크플로우 재생성 (검색 실패 로직 수정)\n",
    "corrective_rag_app = create_corrective_rag_graph()\n"
   ]
  },
  {
   "cell_type": "markdown",
   "id": "3b495bc4",
   "metadata": {},
   "source": [
    "### Corrective RAG 그래프"
   ]
  },
  {
   "cell_type": "markdown",
   "id": "520ca91c",
   "metadata": {},
   "source": [
    "```\n",
    "                    시작\n",
    "                     |\n",
    "                     v\n",
    "                    vector_search\n",
    "                    (벡터 데이터베이스에서 관련 문서를 검색)\n",
    "                     |\n",
    "                     v\n",
    "                    evaluate_quality\n",
    "                    (LLM 기반 검색 품질 평가)\n",
    "                     |\n",
    "                     v\n",
    "         +-----------+-----------+\n",
    "         |                       |\n",
    "         v                       |\n",
    "  rewrite_question               | \n",
    "  (LLM 기반 문서 재작성)         |\n",
    "         |                       |\n",
    "         v                       |\n",
    "  web_search                     |    \n",
    "  (웹에서 추가 정보를 검색)      |\n",
    "         |                       |\n",
    "         +-----+-----+-----------+\n",
    "                     |\n",
    "                     v\n",
    "                    generate_answer\n",
    "                    (검색된 문서를 기반으로 LLM을 사용하여 최종 답변을 생성)\n",
    "                     |\n",
    "                     v\n",
    "                    종료\n",
    "```"
   ]
  },
  {
   "cell_type": "code",
   "execution_count": 17,
   "id": "93b19d8a",
   "metadata": {},
   "outputs": [
    {
     "data": {
      "image/png": "[encoded data removed]",
      "text/plain": [
       "<IPython.core.display.Image object>"
      ]
     },
     "metadata": {},
     "output_type": "display_data"
    }
   ],
   "source": [
    "from IPython.display import Image, display\n",
    "\n",
    "try:\n",
    "    \n",
    "    display(\n",
    "        Image(\n",
    "            corrective_rag_app.get_graph().draw_mermaid_png()\n",
    "        )\n",
    "    )\n",
    "except Exception as e:\n",
    "    print(f\"그래프 표시 오류: {e}\")\n"
   ]
  },
  {
   "cell_type": "markdown",
   "id": "b77a7e87",
   "metadata": {},
   "source": [
    "## 실습 예제 및 테스트\n",
    "\n",
    "이제 완성된 LangGraph Corrective RAG 시스템을 다양한 질문으로 테스트해보겠습니다.\n"
   ]
  },
  {
   "cell_type": "code",
   "execution_count": 18,
   "id": "8d232327",
   "metadata": {},
   "outputs": [],
   "source": [
    "# 편리한 실행 함수\n",
    "def run_corrective_rag(question: str, thread_id: str = \"demo_thread\") -> Dict[str, Any]:\n",
    "    print(f\"Corrective RAG 실행 시작\")\n",
    "    print(f\"질문: {question}\")\n",
    "    print(\"=\" * 60)\n",
    "    \n",
    "    # 초기 상태 설정\n",
    "    initial_state = {\n",
    "        \"question\": question,\n",
    "        \"question_of_llm\": \"\",\n",
    "        \"documents\": [],\n",
    "        \"search_strategy\": \"\",\n",
    "        \"sources\": [],  # 출처 정보 초기화\n",
    "        \"evaluation_result\": \"\",\n",
    "        \"evaluation_score\": 0.0,\n",
    "        \"evaluation_detail\": \"\",\n",
    "        \"answer\": \"\",\n",
    "        \"generation_strategy\": \"\",\n",
    "        \"messages\": []\n",
    "    }\n",
    "    \n",
    "    # 워크플로우 실행\n",
    "    config = {\"configurable\": {\"thread_id\": thread_id}}\n",
    "    \n",
    "    try:\n",
    "        # 스트리밍 방식으로 실행 과정 확인\n",
    "        final_state = None\n",
    "        for step in corrective_rag_app.stream(initial_state, config):\n",
    "            # 각 단계의 실행 상황을 실시간으로 볼 수 있습니다\n",
    "            step_info = list(step.keys())[0] if step else \"unknown\"\n",
    "            print(f\"현재 실행 중: {step_info}\")\n",
    "            final_state = list(step.values())[0] if step else final_state\n",
    "        \n",
    "        print(\"워크플로우 실행 완료!\")\n",
    "        print(\"=\" * 60)\n",
    "        \n",
    "        return final_state\n",
    "        \n",
    "    except Exception as e:\n",
    "        print(f\"실행 중 오류 발생: {e}\")\n",
    "        return {\"error\": str(e), \"question\": question}"
   ]
  },
  {
   "cell_type": "code",
   "execution_count": 19,
   "id": "bdefc243",
   "metadata": {},
   "outputs": [],
   "source": [
    "# 결과 출력 함수\n",
    "def display_results(result: Dict[str, Any]):\n",
    "    \"\"\"\n",
    "    실행 결과를 보기 좋게 출력합니다.\n",
    "    \"\"\"\n",
    "    if \"error\" in result:\n",
    "        print(f\"오류: {result['error']}\")\n",
    "        return\n",
    "    \n",
    "    print(f\"실행 결과 요약:\")\n",
    "    print(\"=\" * 40)\n",
    "    print(f\"질문: {result.get('question', 'N/A')}\")\n",
    "    print(f\"평가 결과: {result.get('evaluation_result', 'N/A')} (점수: {result.get('evaluation_score', 0):.2f})\")\n",
    "    print(f\"검색 전략: {result.get('search_strategy', 'N/A')}\")\n",
    "    print(f\"사용된 문서 수: {len(result.get('documents', []))}\")\n",
    "    print(f\"출처 수: {len(result.get('sources', []))}\")\n",
    "    \n",
    "    print(f\"최종 답변:\")\n",
    "    print(\"-\" * 30)\n",
    "    print(result.get('answer', '답변을 생성할 수 없습니다.'))\n",
    "    \n",
    "    print(f\"실행 로그:\")\n",
    "    print(\"-\" * 20)\n",
    "    for i, message in enumerate(result.get('messages', []), 1):\n",
    "        print(f\"{i}. {message}\")\n"
   ]
  },
  {
   "cell_type": "markdown",
   "id": "83336f6c",
   "metadata": {},
   "source": [
    "### 실습 예제 1: 높은 관련성 질문 (직접 답변 생성)"
   ]
  },
  {
   "cell_type": "code",
   "execution_count": 20,
   "id": "e3abb60f",
   "metadata": {},
   "outputs": [
    {
     "name": "stdout",
     "output_type": "stream",
     "text": [
      "예상 경로: 벡터 검색 → 평가(yes) → 답변 생성\n",
      "Corrective RAG 실행 시작\n",
      "질문: 임베딩이란 무엇인가요?\n",
      "============================================================\n",
      "벡터 검색 노드 실행: '임베딩이란 무엇인가요?'\n",
      "현재 실행 중: vector_search\n",
      "LLM 기반 검색 품질 평가 노드 실행\n",
      "라우팅 결정: yes\n",
      "현재 실행 중: evaluate_quality\n",
      "LLM 기반 답변 생성 노드 실행\n",
      "현재 실행 중: generate_answer\n",
      "워크플로우 실행 완료!\n",
      "============================================================\n",
      "실행 결과 요약:\n",
      "========================================\n",
      "질문: 임베딩이란 무엇인가요?\n",
      "평가 결과: yes (점수: 0.92)\n",
      "검색 전략: vector\n",
      "사용된 문서 수: 5\n",
      "출처 수: 5\n",
      "최종 답변:\n",
      "------------------------------\n",
      "'임베딩이란 무엇인가요?'에 대한 답변:\n",
      "\n",
      "1. 핵심 답변\n",
      "- 임베딩은 텍스트 데이터(예: 단어나 문장)를 저차원의 연속적인 벡터로 변환하는 과정으로, 이를 통해 컴퓨터가 텍스트를 이해하고 처리할 수 있게 합니다. 예시: \"사과\"를 [0.65, -0.23, 0.17] 같은 벡터로 표현합니다.\n",
      "\n",
      "2. 필요한 경우 관련된 세부 정보\n",
      "- 연관 키워드: 자연어 처리, 벡터화, 딥러닝\n",
      "\n",
      "검색 전략: 벡터 데이터베이스 검색\n",
      "출처 정보:\n",
      "• 벡터DB: ./data/rag-keywords.txt (순위: 1)\n",
      "• 벡터DB: ./data/rag-keywords.txt (순위: 2)\n",
      "• 벡터DB: ./data/rag-keywords.txt (순위: 3)\n",
      "실행 로그:\n",
      "--------------------\n",
      "1. content='벡터 검색 완료: 5개 문서 발견' additional_kwargs={} response_metadata={} id='fcbf37b7-190c-450e-b3e7-8c6f51d576ff'\n",
      "2. content='벡터 검색 완료: 5개 문서 발견' additional_kwargs={} response_metadata={} id='5cd9baff-1f28-4f30-983f-e3128faed061'\n",
      "3. content='평가 결과: yes (점수: 0.92)' additional_kwargs={} response_metadata={} id='873f1584-910e-40df-a3a9-aa482dc92352'\n",
      "4. content='평가 결과: yes (점수: 0.92)' additional_kwargs={} response_metadata={} id='72d15480-858c-4482-911f-226f7dde0794'\n",
      "5. 답변 생성 완료 (LLM 사용, 3개 문서 기반)\n"
     ]
    }
   ],
   "source": [
    "print(\"예상 경로: 벡터 검색 → 평가(yes) → 답변 생성\")\n",
    "\n",
    "result1 = run_corrective_rag(\"임베딩이란 무엇인가요?\")\n",
    "display_results(result1)\n"
   ]
  },
  {
   "cell_type": "markdown",
   "id": "6480fecc",
   "metadata": {},
   "source": [
    "### 실습 예제 2: 낮은 관련성 질문 (웹 검색 후 답변 생성)"
   ]
  },
  {
   "cell_type": "code",
   "execution_count": 21,
   "id": "5e080d3c",
   "metadata": {},
   "outputs": [
    {
     "name": "stdout",
     "output_type": "stream",
     "text": [
      "수정된 웹 검색 기능 테스트\n",
      "예상 경로: 벡터 검색 → 평가(no) → 질문 재작성 → 웹 검색 → 답변 생성\n",
      "Corrective RAG 실행 시작\n",
      "질문: 삼성전자 주가 어때?\n",
      "============================================================\n",
      "벡터 검색 노드 실행: '삼성전자 주가 어때?'\n",
      "현재 실행 중: vector_search\n",
      "LLM 기반 검색 품질 평가 노드 실행\n",
      "라우팅 결정: no\n",
      "현재 실행 중: evaluate_quality\n",
      "LLM 기반 문서 재작성 노드 실행\n",
      "현재 실행 중: rewrite_question\n",
      "웹 검색 노드 실행 (Tavily Search)\n"
     ]
    },
    {
     "name": "stderr",
     "output_type": "stream",
     "text": [
      "/var/folders/tv/05qbcb8954z9x1yvqv_kr2t80000gn/T/ipykernel_46637/58809085.py:13: LangChainDeprecationWarning: The class `TavilySearchResults` was deprecated in LangChain 0.3.25 and will be removed in 1.0. An updated version of the class exists in the :class:`~langchain-tavily package and should be used instead. To use it run `pip install -U :class:`~langchain-tavily` and import as `from :class:`~langchain_tavily import TavilySearch``.\n",
      "  web_search = TavilySearchResults(\n"
     ]
    },
    {
     "name": "stdout",
     "output_type": "stream",
     "text": [
      "현재 실행 중: web_search\n",
      "LLM 기반 답변 생성 노드 실행\n",
      "현재 실행 중: generate_answer\n",
      "워크플로우 실행 완료!\n",
      "============================================================\n",
      "실행 결과 요약:\n",
      "========================================\n",
      "질문: 삼성전자 주가 어때?\n",
      "평가 결과: no (점수: 0.05)\n",
      "검색 전략: web\n",
      "사용된 문서 수: 2\n",
      "출처 수: 2\n",
      "최종 답변:\n",
      "------------------------------\n",
      "'삼성전자 주가 어때?'에 대한 답변:\n",
      "\n",
      "1. 핵심 답변\n",
      "- 제공된 문서에는 삼성전자 주가의 현재 가격 정보가 포함되어 있지 않아 답변해 드릴 수 없습니다.\n",
      "\n",
      "2. 필요한 경우 관련된 세부 정보\n",
      "- 문서 1: 삼성전자의 목표주가를 묻는 예시가 있지만 구체적인 수치나 최신 가격은 제시되지 않습니다.\n",
      "- 문서 2: 시장가 주문의 동작 원리 등 주식 거래에 대한 일반 설명이 담겨 있지만 주가 정보는 포함되어 있지 않습니다.\n",
      "\n",
      "검색 전략: 웹 검색 결합\n",
      "출처 정보:\n",
      "• 웹검색: hngyb/Finance-QA: 금융어: 한국어 사전 학습 언어 모델 ... - https://github.com/hngyb/Finance-QA (순위: 1) (점수: 0.34)\n",
      "• 웹검색: 주식 공부 - https://gist.github.com/Curookie/acad8f83e8c456986808c9eb08c9036d (순위: 2) (점수: 0.15)\n",
      "실행 로그:\n",
      "--------------------\n",
      "1. content='벡터 검색 완료: 5개 문서 발견' additional_kwargs={} response_metadata={} id='fcbf37b7-190c-450e-b3e7-8c6f51d576ff'\n",
      "2. content='벡터 검색 완료: 5개 문서 발견' additional_kwargs={} response_metadata={} id='5cd9baff-1f28-4f30-983f-e3128faed061'\n",
      "3. content='평가 결과: yes (점수: 0.92)' additional_kwargs={} response_metadata={} id='873f1584-910e-40df-a3a9-aa482dc92352'\n",
      "4. content='평가 결과: yes (점수: 0.92)' additional_kwargs={} response_metadata={} id='72d15480-858c-4482-911f-226f7dde0794'\n",
      "5. content='답변 생성 완료 (LLM 사용, 3개 문서 기반)' additional_kwargs={} response_metadata={} id='0c86e279-f006-4543-a95b-653b4d0a880e'\n",
      "6. content='답변 생성 완료 (LLM 사용, 3개 문서 기반)' additional_kwargs={} response_metadata={} id='2c416271-dde4-4f94-8458-ec71d44a7a77'\n",
      "7. content='벡터 검색 완료: 5개 문서 발견' additional_kwargs={} response_metadata={} id='7bf05304-fb2d-4b83-b87b-243da253435e'\n",
      "8. content='벡터 검색 완료: 5개 문서 발견' additional_kwargs={} response_metadata={} id='e38982e1-a337-45aa-b1bd-ba84535b4618'\n",
      "9. content='평가 결과: no (점수: 0.05)' additional_kwargs={} response_metadata={} id='cdf93ea4-caeb-490f-8e91-c85dd4c8d3b4'\n",
      "10. content='평가 결과: no (점수: 0.05)' additional_kwargs={} response_metadata={} id='9b0fd25b-7088-4811-a4d1-d8591718edfa'\n",
      "11. content='재작성된 질문: 삼성전자 주가가 현재 얼마인가요?' additional_kwargs={} response_metadata={} id='6570f3d2-c479-46bb-8697-5934d30e5f7a'\n",
      "12. content='재작성된 질문: 삼성전자 주가가 현재 얼마인가요?' additional_kwargs={} response_metadata={} id='17803f55-bb2d-42b8-900b-6ce5164b5526'\n",
      "13. content='Tavily 웹 검색 완료: 2개' additional_kwargs={} response_metadata={} id='1d2aa5e6-7c2a-4b1f-b899-97514a97692b'\n",
      "14. content='Tavily 웹 검색 완료: 2개' additional_kwargs={} response_metadata={} id='df6ef2f0-64b2-4c31-940d-10b4806ba6cb'\n",
      "15. 답변 생성 완료 (LLM 사용, 2개 문서 기반)\n"
     ]
    }
   ],
   "source": [
    "### 웹 검색 출처 테스트\n",
    "\n",
    "print(\"수정된 웹 검색 기능 테스트\")\n",
    "print(\"예상 경로: 벡터 검색 → 평가(no) → 질문 재작성 → 웹 검색 → 답변 생성\")\n",
    "\n",
    "result_web_test = run_corrective_rag(\"삼성전자 주가 어때?\")\n",
    "display_results(result_web_test)\n"
   ]
  },
  {
   "cell_type": "markdown",
   "id": "baeb841b",
   "metadata": {},
   "source": [
    "### 실습 예제 3: 검색 실패 시 처리 테스트 "
   ]
  },
  {
   "cell_type": "code",
   "execution_count": 22,
   "id": "379a5543",
   "metadata": {},
   "outputs": [
    {
     "name": "stdout",
     "output_type": "stream",
     "text": [
      "검색 실패 시 '알 수 없다' 답변 및 출처 생략 테스트\n",
      "예상: 벡터 검색 → 평가(no) → 질문 재작성 → 웹 검색 실패 → '알 수 없다' 답변 (출처 없음)\n",
      "Corrective RAG 실행 시작\n",
      "질문: 화성에서 살고 있는 외계인의 일상생활\n",
      "============================================================\n",
      "벡터 검색 노드 실행: '화성에서 살고 있는 외계인의 일상생활'\n",
      "현재 실행 중: vector_search\n",
      "LLM 기반 검색 품질 평가 노드 실행\n",
      "라우팅 결정: no\n",
      "현재 실행 중: evaluate_quality\n",
      "LLM 기반 문서 재작성 노드 실행\n",
      "현재 실행 중: rewrite_question\n",
      "웹 검색 노드 실행 (Tavily Search)\n",
      "웹 검색 결과가 없습니다.\n",
      "현재 실행 중: web_search\n",
      "LLM 기반 답변 생성 노드 실행\n",
      "현재 실행 중: generate_answer\n",
      "워크플로우 실행 완료!\n",
      "============================================================\n",
      "실행 결과 요약:\n",
      "========================================\n",
      "질문: 화성에서 살고 있는 외계인의 일상생활\n",
      "평가 결과: no (점수: 0.00)\n",
      "검색 전략: web_failed\n",
      "사용된 문서 수: 0\n",
      "출처 수: 0\n",
      "최종 답변:\n",
      "------------------------------\n",
      "'화성에서 살고 있는 외계인의 일상생활'에 대한 답변:\n",
      "\n",
      "죄송합니다. 해당 질문에 대한 정보를 찾을 수 없어 답변드릴 수 없습니다.\n",
      "실행 로그:\n",
      "--------------------\n",
      "1. content='벡터 검색 완료: 5개 문서 발견' additional_kwargs={} response_metadata={} id='fcbf37b7-190c-450e-b3e7-8c6f51d576ff'\n",
      "2. content='벡터 검색 완료: 5개 문서 발견' additional_kwargs={} response_metadata={} id='5cd9baff-1f28-4f30-983f-e3128faed061'\n",
      "3. content='평가 결과: yes (점수: 0.92)' additional_kwargs={} response_metadata={} id='873f1584-910e-40df-a3a9-aa482dc92352'\n",
      "4. content='평가 결과: yes (점수: 0.92)' additional_kwargs={} response_metadata={} id='72d15480-858c-4482-911f-226f7dde0794'\n",
      "5. content='답변 생성 완료 (LLM 사용, 3개 문서 기반)' additional_kwargs={} response_metadata={} id='0c86e279-f006-4543-a95b-653b4d0a880e'\n",
      "6. content='답변 생성 완료 (LLM 사용, 3개 문서 기반)' additional_kwargs={} response_metadata={} id='2c416271-dde4-4f94-8458-ec71d44a7a77'\n",
      "7. content='벡터 검색 완료: 5개 문서 발견' additional_kwargs={} response_metadata={} id='7bf05304-fb2d-4b83-b87b-243da253435e'\n",
      "8. content='벡터 검색 완료: 5개 문서 발견' additional_kwargs={} response_metadata={} id='e38982e1-a337-45aa-b1bd-ba84535b4618'\n",
      "9. content='평가 결과: no (점수: 0.05)' additional_kwargs={} response_metadata={} id='cdf93ea4-caeb-490f-8e91-c85dd4c8d3b4'\n",
      "10. content='평가 결과: no (점수: 0.05)' additional_kwargs={} response_metadata={} id='9b0fd25b-7088-4811-a4d1-d8591718edfa'\n",
      "11. content='재작성된 질문: 삼성전자 주가가 현재 얼마인가요?' additional_kwargs={} response_metadata={} id='6570f3d2-c479-46bb-8697-5934d30e5f7a'\n",
      "12. content='재작성된 질문: 삼성전자 주가가 현재 얼마인가요?' additional_kwargs={} response_metadata={} id='17803f55-bb2d-42b8-900b-6ce5164b5526'\n",
      "13. content='Tavily 웹 검색 완료: 2개' additional_kwargs={} response_metadata={} id='1d2aa5e6-7c2a-4b1f-b899-97514a97692b'\n",
      "14. content='Tavily 웹 검색 완료: 2개' additional_kwargs={} response_metadata={} id='df6ef2f0-64b2-4c31-940d-10b4806ba6cb'\n",
      "15. content='답변 생성 완료 (LLM 사용, 2개 문서 기반)' additional_kwargs={} response_metadata={} id='4c188044-cb19-4ace-a50f-ada00e5f1d04'\n",
      "16. content='답변 생성 완료 (LLM 사용, 2개 문서 기반)' additional_kwargs={} response_metadata={} id='6b3ed7fb-7914-46a2-9e5b-71af40a6103f'\n",
      "17. content='벡터 검색 완료: 5개 문서 발견' additional_kwargs={} response_metadata={} id='cfeb3a86-b2a8-4a72-8c6a-abe4920e9c67'\n",
      "18. content='벡터 검색 완료: 5개 문서 발견' additional_kwargs={} response_metadata={} id='3d428d59-35f7-43b4-ab8f-46c8c00dfe28'\n",
      "19. content='평가 결과: no (점수: 0.00)' additional_kwargs={} response_metadata={} id='d5a91e22-73f4-423a-b7b2-c0fff65a8333'\n",
      "20. content='평가 결과: no (점수: 0.00)' additional_kwargs={} response_metadata={} id='e960b194-a2c6-4455-8468-14ca509a258b'\n",
      "21. content='재작성된 질문: 화성에 거주하는 외계인의 일상은 어떤가요?' additional_kwargs={} response_metadata={} id='58e5e61b-ea8e-4429-bc2a-cf3d5112860b'\n",
      "22. content='재작성된 질문: 화성에 거주하는 외계인의 일상은 어떤가요?' additional_kwargs={} response_metadata={} id='2957067d-86d8-4ad5-adec-5389f2858553'\n",
      "23. content='Tavily 웹 검색 완료: 0개' additional_kwargs={} response_metadata={} id='df987baa-99f1-4480-b930-4a7b198a6d4f'\n",
      "24. content='웹 검색 결과가 없습니다.' additional_kwargs={} response_metadata={} id='7d66b8b9-4bb3-4f67-84fe-1caeec7a794e'\n",
      "25. content='Tavily 웹 검색 완료: 0개' additional_kwargs={} response_metadata={} id='529273ff-697d-4508-b819-0318ad32cd1c'\n",
      "26. content='웹 검색 결과가 없습니다.' additional_kwargs={} response_metadata={} id='f1caf835-058d-4bce-8ca3-f54153bd4241'\n",
      "27. 답변 생성: 검색 실패로 정보 없음\n"
     ]
    }
   ],
   "source": [
    "### 검색 실패 시 처리 테스트 (수정된 로직)\n",
    "\n",
    "print(\"검색 실패 시 '알 수 없다' 답변 및 출처 생략 테스트\")\n",
    "print(\"예상: 벡터 검색 → 평가(no) → 질문 재작성 → 웹 검색 실패 → '알 수 없다' 답변 (출처 없음)\")\n",
    "\n",
    "result_fail_test_fixed = run_corrective_rag(\"화성에서 살고 있는 외계인의 일상생활\")\n",
    "display_results(result_fail_test_fixed)\n"
   ]
  }
 ],
 "metadata": {
  "kernelspec": {
   "display_name": ".venv",
   "language": "python",
   "name": "python3"
  },
  "language_info": {
   "codemirror_mode": {
    "name": "ipython",
    "version": 3
   },
   "file_extension": ".py",
   "mimetype": "text/x-python",
   "name": "python",
   "nbconvert_exporter": "python",
   "pygments_lexer": "ipython3",
   "version": "3.13.2"
  }
 },
 "nbformat": 4,
 "nbformat_minor": 5
}
