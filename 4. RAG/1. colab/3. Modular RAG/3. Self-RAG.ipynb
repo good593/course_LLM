{
 "cells": [
  {
   "cell_type": "markdown",
   "id": "abb68e23",
   "metadata": {},
   "source": [
    "# LangGraph를 이용한 Self-RAG (Self-Reflective Retrieval-Augmented Generation)\n",
    "\n",
    "## 1. Self-RAG 개요\n",
    "- Self-RAG는 기존 RAG 시스템에 **자체 평가(Self-Reflection)** 메커니즘을 추가한 고급 RAG 시스템입니다. \n",
    "    - 이 시스템은 검색의 필요성을 판단하고, 검색된 문서의 관련성을 평가하며, 생성된 답변의 품질을 자체적으로 검증합니다.\n",
    "- Self-RAG는 기존 RAG 시스템의 한계를 극복하고, 더욱 지능적이고 신뢰할 수 있는 질의응답 시스템을 구현할 수 있게 해줍니다. \n",
    "\n",
    "### 1.1 기존 RAG vs Self-RAG\n",
    "\n",
    "| 구분 | 기존 RAG | Self-RAG |\n",
    "|------|----------|----------|\n",
    "| 검색 | 항상 검색 수행 | 필요시에만 검색 |\n",
    "| 평가 | 없음 | 검색 결과 관련성 평가 |\n",
    "| 생성 | 단순 생성 | 자체 평가 후 생성 |\n",
    "| 품질 관리 | 없음 | 답변 품질 자체 검증 |\n",
    "| 출처 표시 | 선택적 | 필수적 |\n",
    "\n",
    "### 1.2 Corrective RAG vs Self-RAG\n",
    "| 구분 | Corrective RAG | Self RAG |\n",
    "|------|----------------|----------|\n",
    "| **초점** | 검색된 문서 품질 교정 | 생성된 답변 자체 검증 |\n",
    "| **개입 시점** | 문서 검색 후, 답변 생성 전 | 답변 생성 후 |\n",
    "| **평가 대상** | 검색 문서의 관련성 | 생성된 답변의 정확성 |\n",
    "| **교정 방법** | 문서 재검색, 재작성 | 답변 재생성, 수정 |\n",
    "\n",
    "### 1.2 Self-RAG의 핵심 구성 요소\n",
    "\n",
    "1. **Retrieve Token**: 검색이 필요한지 판단\n",
    "2. **Relevance Token**: 검색된 문서의 관련성 평가  \n",
    "3. **Support Token**: 답변이 검색 결과로 뒷받침되는지 평가\n",
    "4. **Utility Token**: 최종 답변의 유용성 평가\n",
    "\n",
    "### 1.3 Self-RAG 워크플로우\n",
    "\n",
    "```\n",
    "질문 입력 → 검색 필요성 판단 → 문서 검색 → 관련성 평가 → 답변 생성 → 품질 검증 → 최종 답변\n",
    "```"
   ]
  },
  {
   "cell_type": "markdown",
   "id": "a06c388e",
   "metadata": {},
   "source": [
    "## 2. 환경 설정 및 라이브러리 설치\n",
    "\n",
    "먼저 필요한 라이브러리들을 설치하고 환경을 설정합니다.\n"
   ]
  },
  {
   "cell_type": "code",
   "execution_count": 1,
   "id": "2bb64ef3",
   "metadata": {},
   "outputs": [
    {
     "name": "stdout",
     "output_type": "stream",
     "text": [
      "라이브러리 임포트 완료!\n"
     ]
    }
   ],
   "source": [
    "# 필요한 라이브러리 임포트\n",
    "import os\n",
    "from typing import List, Dict, Any, Optional, TypedDict\n",
    "from dotenv import load_dotenv\n",
    "\n",
    "# LangChain 관련\n",
    "from langchain_openai import ChatOpenAI, OpenAIEmbeddings\n",
    "from langchain_core.documents import Document\n",
    "from langchain_core.prompts import ChatPromptTemplate\n",
    "from langchain_core.output_parsers import StrOutputParser\n",
    "from langchain.text_splitter import RecursiveCharacterTextSplitter\n",
    "\n",
    "# ChromaDB\n",
    "import chromadb\n",
    "from chromadb.config import Settings\n",
    "\n",
    "# LangGraph\n",
    "from langgraph.graph import StateGraph, END\n",
    "from langgraph.checkpoint.sqlite import SqliteSaver\n",
    "\n",
    "# 기타\n",
    "import pandas as pd\n",
    "from tqdm import tqdm\n",
    "\n",
    "# 환경 변수 로드\n",
    "load_dotenv()\n",
    "\n",
    "print(\"라이브러리 임포트 완료!\")\n"
   ]
  },
  {
   "cell_type": "markdown",
   "id": "3cc234a4",
   "metadata": {},
   "source": [
    "### API 키 설정\n",
    "- [OpenAI API 키](https://platform.openai.com/api-keys)"
   ]
  },
  {
   "cell_type": "code",
   "execution_count": null,
   "id": "19a9208b",
   "metadata": {},
   "outputs": [
    {
     "name": "stdout",
     "output_type": "stream",
     "text": [
      "OpenAI API 키가 설정되었습니다. (GPT 모델 사용)\n"
     ]
    }
   ],
   "source": [
    "import os\n",
    "\n",
    "# API 키 설정\n",
    "os.environ[\"OPENAI_API_KEY\"] = \"sk-proj-examplekey1234567890\"\n",
    "\n",
    "# API 키 확인\n",
    "openai_key = os.getenv(\"OPENAI_API_KEY\")\n",
    "\n",
    "if openai_key:\n",
    "    print(\"OpenAI API 키가 설정되었습니다. (GPT 모델 사용)\")\n",
    "else:\n",
    "    print(\"OpenAI API 키가 없습니다.\")"
   ]
  },
  {
   "cell_type": "markdown",
   "id": "6a183508",
   "metadata": {},
   "source": [
    "## 3. LangGraph State 정의\n",
    "\n",
    "Self-RAG 시스템의 상태를 관리하기 위한 State 클래스를 정의합니다.\n"
   ]
  },
  {
   "cell_type": "code",
   "execution_count": 3,
   "id": "8e245c23",
   "metadata": {},
   "outputs": [
    {
     "name": "stdout",
     "output_type": "stream",
     "text": [
      "SelfRAGState 클래스 정의 완료!\n"
     ]
    }
   ],
   "source": [
    "class SelfRAGState(TypedDict):\n",
    "    \"\"\"Self-RAG 시스템의 상태를 정의하는 클래스\"\"\"\n",
    "    \n",
    "    # 입력 정보\n",
    "    question: str  # 사용자 질문\n",
    "    \n",
    "    # 검색 관련\n",
    "    need_retrieval: bool  # 검색 필요 여부\n",
    "    retrieved_docs: List[Document]  # 검색된 문서들\n",
    "    relevant_docs: List[Document]  # 관련성이 있는 문서들\n",
    "    \n",
    "    # 답변 생성 관련\n",
    "    answer: str  # 생성된 답변\n",
    "    sources: List[str]  # 출처 정보\n",
    "    \n",
    "    # 평가 관련\n",
    "    relevance_score: float  # 관련성 점수\n",
    "    support_score: float  # 지지도 점수\n",
    "    utility_score: float  # 유용성 점수\n",
    "    \n",
    "    # 최종 결과\n",
    "    final_answer: str  # 최종 답변 (출처 포함)\n",
    "    confidence: str  # 신뢰도 (\"high\", \"medium\", \"low\", \"unknown\")\n",
    "\n",
    "print(\"SelfRAGState 클래스 정의 완료!\")\n"
   ]
  },
  {
   "cell_type": "markdown",
   "id": "ff509d98",
   "metadata": {},
   "source": [
    "## 4. ChromaDB 벡터스토어 설정 및 데이터 로딩\n",
    "\n",
    "ChromaDB를 설정하고 data 폴더의 파일을 로딩하는 함수들을 구현합니다.\n"
   ]
  },
  {
   "cell_type": "markdown",
   "id": "4b75cb68",
   "metadata": {},
   "source": [
    "### ChromaDB 벡터스토어를 설정하는 함수"
   ]
  },
  {
   "cell_type": "code",
   "execution_count": null,
   "id": "185db202",
   "metadata": {},
   "outputs": [],
   "source": [
    "def setup_vectorstore():\n",
    "    \"\"\"ChromaDB 벡터스토어를 설정하는 함수\"\"\"\n",
    "    \n",
    "    # ChromaDB 클라이언트 생성\n",
    "    client = chromadb.PersistentClient(path=\"./chroma_db\")\n",
    "    \n",
    "    # 컬렉션 생성 또는 가져오기\n",
    "    try:\n",
    "        collection = client.get_collection(\"rag_keywords\")\n",
    "        print(\"기존 컬렉션을 불러왔습니다.\")\n",
    "    except:\n",
    "        collection = client.create_collection(\"rag_keywords\")\n",
    "        print(\"새 컬렉션을 생성했습니다.\")\n",
    "    \n",
    "    return client, collection"
   ]
  },
  {
   "cell_type": "markdown",
   "id": "295ebd70",
   "metadata": {},
   "source": [
    "### 데이터 파일을 로드하고 처리하는 함수"
   ]
  },
  {
   "cell_type": "code",
   "execution_count": null,
   "id": "ad377c31",
   "metadata": {},
   "outputs": [],
   "source": [
    "def load_and_process_data(file_path: str = \"./data/rag-keywords.txt\"):\n",
    "    \"\"\"데이터 파일을 로드하고 처리하는 함수\"\"\"\n",
    "    \n",
    "    documents = []\n",
    "    \n",
    "    try:\n",
    "        with open(file_path, 'r', encoding='utf-8') as file:\n",
    "            content = file.read()\n",
    "        \n",
    "        # 각 키워드별로 분리\n",
    "        sections = content.split('\\n\\n')\n",
    "        \n",
    "        for section in sections:\n",
    "            if section.strip():\n",
    "                lines = section.strip().split('\\n')\n",
    "                if len(lines) >= 2:\n",
    "                    keyword = lines[0].strip()\n",
    "                    definition = '\\n'.join(lines[1:]).strip()\n",
    "                    \n",
    "                    # Document 객체 생성\n",
    "                    doc = Document(\n",
    "                        page_content=f\"키워드: {keyword}\\n{definition}\",\n",
    "                        metadata={\n",
    "                            \"keyword\": keyword,\n",
    "                            \"source\": file_path,\n",
    "                            \"type\": \"definition\"\n",
    "                        }\n",
    "                    )\n",
    "                    documents.append(doc)\n",
    "        \n",
    "        print(f\"총 {len(documents)}개의 문서를 로드했습니다.\")\n",
    "        return documents\n",
    "        \n",
    "    except FileNotFoundError:\n",
    "        print(f\"파일을 찾을 수 없습니다: {file_path}\")\n",
    "        return []\n",
    "    except Exception as e:\n",
    "        print(f\"데이터 로딩 중 오류 발생: {e}\")\n",
    "        return []"
   ]
  },
  {
   "cell_type": "markdown",
   "id": "4285b8ab",
   "metadata": {},
   "source": [
    "### 문서들을 임베딩하여 벡터스토어에 저장하는 함수"
   ]
  },
  {
   "cell_type": "code",
   "execution_count": null,
   "id": "4eb9299b",
   "metadata": {},
   "outputs": [],
   "source": [
    "def create_embeddings_and_store(documents: List[Document], collection):\n",
    "    \"\"\"문서들을 임베딩하여 벡터스토어에 저장하는 함수\"\"\"\n",
    "    \n",
    "    if not documents:\n",
    "        print(\"저장할 문서가 없습니다.\")\n",
    "        return\n",
    "    \n",
    "    # OpenAI 임베딩 모델 초기화\n",
    "    embeddings = OpenAIEmbeddings(model=\"text-embedding-3-small\")\n",
    "    \n",
    "    # 기존 데이터 확인\n",
    "    existing_count = collection.count()\n",
    "    if existing_count > 0:\n",
    "        print(f\"이미 {existing_count}개의 문서가 저장되어 있습니다.\")\n",
    "        return\n",
    "    \n",
    "    print(\"문서들을 임베딩하고 저장하는 중...\")\n",
    "    \n",
    "    # 배치 처리를 위한 준비\n",
    "    batch_size = 10\n",
    "    \n",
    "    for i in tqdm(range(0, len(documents), batch_size)):\n",
    "        batch_docs = documents[i:i+batch_size]\n",
    "        \n",
    "        # 텍스트와 메타데이터 추출\n",
    "        texts = [doc.page_content for doc in batch_docs]\n",
    "        metadatas = [doc.metadata for doc in batch_docs]\n",
    "        ids = [f\"doc_{i+j}\" for j in range(len(batch_docs))]\n",
    "        \n",
    "        # 임베딩 생성\n",
    "        embeddings_vectors = embeddings.embed_documents(texts)\n",
    "        \n",
    "        # ChromaDB에 저장\n",
    "        collection.add(\n",
    "            embeddings=embeddings_vectors,\n",
    "            documents=texts,\n",
    "            metadatas=metadatas,\n",
    "            ids=ids\n",
    "        )\n",
    "    \n",
    "    print(f\"총 {len(documents)}개의 문서가 벡터스토어에 저장되었습니다.\")"
   ]
  },
  {
   "cell_type": "markdown",
   "id": "7b86f32e",
   "metadata": {},
   "source": [
    "### 벡터스토어 설정 및 데이터 로딩 실행"
   ]
  },
  {
   "cell_type": "code",
   "execution_count": null,
   "id": "ca40f74e",
   "metadata": {},
   "outputs": [
    {
     "name": "stdout",
     "output_type": "stream",
     "text": [
      "기존 컬렉션을 불러왔습니다.\n",
      "총 30개의 문서를 로드했습니다.\n",
      "이미 30개의 문서가 저장되어 있습니다.\n"
     ]
    }
   ],
   "source": [
    "client, collection = setup_vectorstore()\n",
    "documents = load_and_process_data()\n",
    "create_embeddings_and_store(documents, collection)\n"
   ]
  },
  {
   "cell_type": "markdown",
   "id": "a4768dae",
   "metadata": {},
   "source": [
    "## 5. Self-RAG 핵심 함수들 구현\n",
    "\n",
    "Self-RAG의 각 단계를 처리하는 함수들을 구현합니다.\n"
   ]
  },
  {
   "cell_type": "markdown",
   "id": "9048ca2f",
   "metadata": {},
   "source": [
    "### LLM 모델 초기화"
   ]
  },
  {
   "cell_type": "code",
   "execution_count": null,
   "id": "13b4ca20",
   "metadata": {},
   "outputs": [],
   "source": [
    "\n",
    "llm = ChatOpenAI(model=\"gpt-4o-mini\", temperature=0)\n"
   ]
  },
  {
   "cell_type": "markdown",
   "id": "f88eb27f",
   "metadata": {},
   "source": [
    "### Embedding Model 초기화 "
   ]
  },
  {
   "cell_type": "code",
   "execution_count": null,
   "id": "4b34b07a",
   "metadata": {},
   "outputs": [],
   "source": [
    "\n",
    "embeddings = OpenAIEmbeddings(model=\"text-embedding-3-small\")\n"
   ]
  },
  {
   "cell_type": "markdown",
   "id": "bf20573f",
   "metadata": {},
   "source": [
    "### 검색이 필요한지 판단하는 함수"
   ]
  },
  {
   "cell_type": "code",
   "execution_count": null,
   "id": "1d25d42d",
   "metadata": {},
   "outputs": [],
   "source": [
    "def decide_retrieval(state: SelfRAGState) -> SelfRAGState:\n",
    "    \"\"\"검색이 필요한지 판단하는 함수\"\"\"\n",
    "    \n",
    "    question = state[\"question\"]\n",
    "    \n",
    "    # 검색 필요성 판단 프롬프트\n",
    "    retrieval_prompt = ChatPromptTemplate.from_messages([\n",
    "        (\"system\", \n",
    "        \"\"\"\n",
    "        당신은 질문을 분석하여 외부 지식이 필요한지 판단하는 전문가입니다.\n",
    "\n",
    "            다음 기준으로 판단하세요:\n",
    "            - 일반적인 인사말이나 간단한 질문: 검색 불필요\n",
    "            - 특정 기술, 개념, 정의에 대한 질문: 검색 필요\n",
    "            - 복잡한 설명이나 전문 지식이 필요한 질문: 검색 필요\n",
    "\n",
    "        'YES' 또는 'NO'로만 답변하세요.\"\"\"),\n",
    "        (\"human\", \"질문: {question}\")\n",
    "    ])\n",
    "    \n",
    "    chain = retrieval_prompt | llm | StrOutputParser()\n",
    "    result = chain.invoke({\"question\": question})\n",
    "    \n",
    "    need_retrieval = result.strip().upper() == \"YES\"\n",
    "    \n",
    "    print(f\"검색 필요성 판단: {'필요' if need_retrieval else '불필요'}\")\n",
    "    \n",
    "    return {\n",
    "        **state,\n",
    "        \"need_retrieval\": need_retrieval\n",
    "    }\n"
   ]
  },
  {
   "cell_type": "markdown",
   "id": "9014e7ed",
   "metadata": {},
   "source": [
    "### 문서를 검색하는 함수"
   ]
  },
  {
   "cell_type": "code",
   "execution_count": null,
   "id": "59815956",
   "metadata": {},
   "outputs": [],
   "source": [
    "def retrieve_documents(state: SelfRAGState) -> SelfRAGState:\n",
    "    \"\"\"문서를 검색하는 함수\"\"\"\n",
    "    \n",
    "    if not state[\"need_retrieval\"]:\n",
    "        print(\"검색이 필요하지 않아 건너뜁니다.\")\n",
    "        return {\n",
    "            **state,\n",
    "            \"retrieved_docs\": []\n",
    "        }\n",
    "    \n",
    "    question = state[\"question\"]\n",
    "    \n",
    "    # 질문을 임베딩으로 변환\n",
    "    query_embedding = embeddings.embed_query(question)\n",
    "    \n",
    "    # ChromaDB에서 유사한 문서 검색\n",
    "    results = collection.query(\n",
    "        query_embeddings=[query_embedding],\n",
    "        n_results=5,\n",
    "        include=[\"documents\", \"metadatas\", \"distances\"]\n",
    "    )\n",
    "    \n",
    "    # Document 객체로 변환\n",
    "    retrieved_docs = []\n",
    "    if results[\"documents\"] and results[\"documents\"][0]:\n",
    "        for i, (doc, metadata) in enumerate(zip(results[\"documents\"][0], results[\"metadatas\"][0])):\n",
    "            retrieved_docs.append(Document(\n",
    "                page_content=doc,\n",
    "                metadata={\n",
    "                    **metadata,\n",
    "                    \"similarity_score\": 1 - results[\"distances\"][0][i]  # 거리를 유사도로 변환\n",
    "                }\n",
    "            ))\n",
    "    \n",
    "    print(f\"{len(retrieved_docs)}개의 문서를 검색했습니다.\")\n",
    "    \n",
    "    return {\n",
    "        **state,\n",
    "        \"retrieved_docs\": retrieved_docs\n",
    "    }"
   ]
  },
  {
   "cell_type": "markdown",
   "id": "187dd491",
   "metadata": {},
   "source": [
    "### 검색된 문서의 관련성을 평가하는 함수"
   ]
  },
  {
   "cell_type": "code",
   "execution_count": null,
   "id": "94777943",
   "metadata": {},
   "outputs": [
    {
     "name": "stdout",
     "output_type": "stream",
     "text": [
      "Self-RAG 핵심 함수들 구현 완료!\n"
     ]
    }
   ],
   "source": [
    "def evaluate_relevance(state: SelfRAGState) -> SelfRAGState:\n",
    "    \"\"\"검색된 문서의 관련성을 평가하는 함수\"\"\"\n",
    "    \n",
    "    retrieved_docs = state[\"retrieved_docs\"]\n",
    "    \n",
    "    if not retrieved_docs:\n",
    "        print(\"검색된 문서가 없어 관련성 평가를 건너뜁니다.\")\n",
    "        return {\n",
    "            **state,\n",
    "            \"relevant_docs\": [],\n",
    "            \"relevance_score\": 0.0\n",
    "        }\n",
    "    \n",
    "    question = state[\"question\"]\n",
    "    relevant_docs = []\n",
    "    relevance_scores = []\n",
    "    \n",
    "    # 관련성 평가 프롬프트\n",
    "    relevance_prompt = ChatPromptTemplate.from_messages([\n",
    "        (\"system\", \n",
    "        \"\"\"\n",
    "        당신은 문서의 관련성을 평가하는 전문가입니다.\n",
    "\n",
    "        주어진 질문과 문서가 얼마나 관련이 있는지 평가하세요.\n",
    "        - 매우 관련있음: 5점\n",
    "        - 관련있음: 4점  \n",
    "        - 보통: 3점\n",
    "        - 약간 관련있음: 2점\n",
    "        - 관련없음: 1점\n",
    "\n",
    "        점수만 숫자로 답변하세요 (1-5).\"\"\"),\n",
    "        (\"human\", \"질문: {question}\\n\\n문서: {document}\")\n",
    "    ])\n",
    "    \n",
    "    chain = relevance_prompt | llm | StrOutputParser()\n",
    "    \n",
    "    for doc in retrieved_docs:\n",
    "        try:\n",
    "            score_str = chain.invoke({\n",
    "                \"question\": question,\n",
    "                \"document\": doc.page_content\n",
    "            })\n",
    "            score = float(score_str.strip())\n",
    "            \n",
    "            if score >= 3.0:  # 3점 이상만 관련 문서로 간주\n",
    "                relevant_docs.append(doc)\n",
    "                relevance_scores.append(score)\n",
    "                \n",
    "        except ValueError:\n",
    "            print(f\"점수 파싱 오류: {score_str}\")\n",
    "            continue\n",
    "    \n",
    "    avg_relevance = sum(relevance_scores) / len(relevance_scores) if relevance_scores else 0.0\n",
    "    \n",
    "    print(f\"{len(relevant_docs)}개의 관련 문서를 선별했습니다. (평균 관련성: {avg_relevance:.2f})\")\n",
    "    \n",
    "    return {\n",
    "        **state,\n",
    "        \"relevant_docs\": relevant_docs,\n",
    "        \"relevance_score\": avg_relevance\n",
    "    }"
   ]
  },
  {
   "cell_type": "markdown",
   "id": "9a2f8f58",
   "metadata": {},
   "source": [
    "### 답변을 생성하고 출처를 표시하는 함수"
   ]
  },
  {
   "cell_type": "code",
   "execution_count": null,
   "id": "04d10c5f",
   "metadata": {},
   "outputs": [],
   "source": [
    "def __generate_answer_of_no_relevant_docs(state: SelfRAGState) -> SelfRAGState:\n",
    "    # 관련 문서가 없는 경우\n",
    "    print(\"관련 문서가 없어 일반적인 답변을 생성합니다.\")\n",
    "    \n",
    "    general_prompt = ChatPromptTemplate.from_messages([\n",
    "        (\"system\", \n",
    "        \"\"\"\n",
    "        당신은 도움이 되는 AI 어시스턴트입니다.\n",
    "\n",
    "        주어진 질문에 대해 다음 규칙을 따르세요:\n",
    "        1. 일반적인 인사말이나 간단한 대화는 친근하게 답변하세요.\n",
    "        2. 전문적인 기술 용어나 복잡한 개념에 대한 질문이라면 \"죄송하지만 해당 질문에 대한 정확한 정보를 제공할 수 없습니다\"라고 답변하세요.\n",
    "        3. 확실하지 않은 내용은 추측하지 마세요.\"\"\"),\n",
    "        (\"human\", \"질문: {question}\")\n",
    "    ])\n",
    "    \n",
    "    chain = general_prompt | llm | StrOutputParser()\n",
    "    answer = chain.invoke({\"question\": state[\"question\"]})\n",
    "    \n",
    "    return {\n",
    "        **state,\n",
    "        \"answer\": answer,\n",
    "        \"sources\": [],\n",
    "        \"confidence\": \"low\"\n",
    "    }"
   ]
  },
  {
   "cell_type": "code",
   "execution_count": null,
   "id": "12eaa838",
   "metadata": {},
   "outputs": [],
   "source": [
    "def __generate_answer_of_relevant_docs(state: SelfRAGState) -> SelfRAGState:\n",
    "    question = state[\"question\"]\n",
    "    relevant_docs = state[\"relevant_docs\"]\n",
    "    \n",
    "    # 관련 문서가 있는 경우\n",
    "    context = \"\\n\\n\".join([\n",
    "        f\"문서 {i+1}: {doc.page_content}\" \n",
    "        for i, doc in enumerate(relevant_docs)\n",
    "    ])\n",
    "    \n",
    "    # 답변 생성 프롬프트\n",
    "    answer_prompt = ChatPromptTemplate.from_messages([\n",
    "        (\"system\", \n",
    "        \"\"\"\n",
    "        당신은 주어진 문서를 바탕으로 정확한 답변을 제공하는 전문가입니다.\n",
    "\n",
    "        다음 규칙을 따르세요:\n",
    "        1. 주어진 문서의 내용만을 바탕으로 답변하세요\n",
    "        2. 문서에 없는 내용은 추측하지 마세요\n",
    "        3. 답변은 명확하고 구체적으로 작성하세요\n",
    "        4. 한국어로 답변하세요\"\"\"),\n",
    "        (\"human\", \n",
    "        \"\"\"\n",
    "        질문: {question}\n",
    "\n",
    "        참고 문서:\n",
    "        {context}\n",
    "\n",
    "        위 문서를 바탕으로 질문에 답변해주세요.\"\"\")\n",
    "    ])\n",
    "    \n",
    "    chain = answer_prompt | llm | StrOutputParser()\n",
    "    answer = chain.invoke({\n",
    "        \"question\": question,\n",
    "        \"context\": context\n",
    "    })\n",
    "    \n",
    "    # 출처 정보 생성 (파일명으로 표시)\n",
    "    sources = []\n",
    "    for doc in relevant_docs:\n",
    "        source_path = doc.metadata.get(\"source\", \"알 수 없음\")\n",
    "        # 파일 경로에서 파일명만 추출\n",
    "        filename = source_path.split(\"/\")[-1] if \"/\" in source_path else source_path\n",
    "        sources.append(f\"파일: {filename}\")\n",
    "    \n",
    "    print(f\"답변 생성 완료. 출처: {len(sources)}개\")\n",
    "    \n",
    "    return {\n",
    "        **state,\n",
    "        \"answer\": answer,\n",
    "        \"sources\": sources,\n",
    "        \"confidence\": \"high\" if len(relevant_docs) >= 2 else \"medium\"\n",
    "    }"
   ]
  },
  {
   "cell_type": "code",
   "execution_count": null,
   "id": "5f8cf50b",
   "metadata": {},
   "outputs": [],
   "source": [
    "def generate_answer(state: SelfRAGState) -> SelfRAGState:\n",
    "    \"\"\"답변을 생성하고 출처를 표시하는 함수\"\"\"\n",
    "    \n",
    "    if not state[\"relevant_docs\"]:\n",
    "        return __generate_answer_of_no_relevant_docs(state)\n",
    "    \n",
    "    return __generate_answer_of_relevant_docs(state)"
   ]
  },
  {
   "cell_type": "markdown",
   "id": "05b66707",
   "metadata": {},
   "source": [
    "### 답변이 검색 결과로 뒷받침되는지 평가하는 함수"
   ]
  },
  {
   "cell_type": "code",
   "execution_count": null,
   "id": "9a29a8ae",
   "metadata": {},
   "outputs": [],
   "source": [
    "def evaluate_support(state: SelfRAGState) -> SelfRAGState:\n",
    "    \"\"\"답변이 검색 결과로 뒷받침되는지 평가하는 함수\"\"\"\n",
    "    \n",
    "    answer = state[\"answer\"]\n",
    "    relevant_docs = state[\"relevant_docs\"]\n",
    "    \n",
    "    if not relevant_docs:\n",
    "        return {\n",
    "            **state,\n",
    "            \"support_score\": 0.0\n",
    "        }\n",
    "    \n",
    "    context = \"\\n\".join([doc.page_content for doc in relevant_docs])\n",
    "    \n",
    "    # 지지도 평가 프롬프트\n",
    "    support_prompt = ChatPromptTemplate.from_messages([\n",
    "        (\"system\", \n",
    "        \"\"\"\n",
    "        당신은 답변이 주어진 문서로 얼마나 뒷받침되는지 평가하는 전문가입니다.\n",
    "\n",
    "        다음 기준으로 평가하세요:\n",
    "        - 완전히 뒷받침됨: 5점\n",
    "        - 대부분 뒷받침됨: 4점\n",
    "        - 부분적으로 뒷받침됨: 3점\n",
    "        - 약간 뒷받침됨: 2점\n",
    "        - 뒷받침되지 않음: 1점\n",
    "\n",
    "        점수만 숫자로 답변하세요 (1-5).\"\"\"),\n",
    "        (\"human\", \"답변: {answer}\\n\\n참고 문서: {context}\")\n",
    "    ])\n",
    "    \n",
    "    chain = support_prompt | llm | StrOutputParser()\n",
    "    \n",
    "    try:\n",
    "        score_str = chain.invoke({\n",
    "            \"answer\": answer,\n",
    "            \"context\": context\n",
    "        })\n",
    "        support_score = float(score_str.strip())\n",
    "    except ValueError:\n",
    "        support_score = 3.0  # 기본값\n",
    "    \n",
    "    print(f\"지지도 평가: {support_score}/5\")\n",
    "    \n",
    "    return {\n",
    "        **state,\n",
    "        \"support_score\": support_score\n",
    "    }"
   ]
  },
  {
   "cell_type": "markdown",
   "id": "807e6016",
   "metadata": {},
   "source": [
    "### 최종 답변을 생성하는 함수 (출처 포함)"
   ]
  },
  {
   "cell_type": "code",
   "execution_count": null,
   "id": "18050c6c",
   "metadata": {},
   "outputs": [
    {
     "name": "stdout",
     "output_type": "stream",
     "text": [
      "답변 생성 및 출처 표시 함수들 구현 완료!\n"
     ]
    }
   ],
   "source": [
    "def create_final_answer(state: SelfRAGState) -> SelfRAGState:\n",
    "    \"\"\"최종 답변을 생성하는 함수 (출처 포함)\"\"\"\n",
    "    \n",
    "    answer = state[\"answer\"]\n",
    "    sources = state[\"sources\"]\n",
    "    confidence = state[\"confidence\"]\n",
    "    \n",
    "    # 신뢰도가 낮거나 출처가 없는 경우\n",
    "    if confidence == \"low\" or not sources:\n",
    "        if \"정확한 정보를 제공할 수 없습니다\" in answer or \"모르겠습니다\" in answer:\n",
    "            final_answer = \"죄송하지만 해당 질문에 대한 정확한 정보를 제공할 수 없습니다.\"\n",
    "        else:\n",
    "            final_answer = answer\n",
    "        \n",
    "        return {\n",
    "            **state,\n",
    "            \"final_answer\": final_answer,\n",
    "            \"confidence\": \"unknown\"\n",
    "        }\n",
    "    \n",
    "    # 출처가 있는 경우 출처 정보 추가\n",
    "    final_answer = answer + \"\\n\\n**출처:**\\n\"\n",
    "    for i, source in enumerate(sources, 1):\n",
    "        final_answer += f\"{i}. {source}\\n\"\n",
    "    \n",
    "    print(\"최종 답변 생성 완료\")\n",
    "    \n",
    "    return {\n",
    "        **state,\n",
    "        \"final_answer\": final_answer\n",
    "    }\n"
   ]
  },
  {
   "cell_type": "markdown",
   "id": "458008c4",
   "metadata": {},
   "source": [
    "## 6. LangGraph 워크플로우 구성\n",
    "\n",
    "Self-RAG 시스템의 전체 워크플로우를 LangGraph로 구성합니다.\n"
   ]
  },
  {
   "cell_type": "markdown",
   "id": "aba1eeae",
   "metadata": {},
   "source": [
    "### 검색 필요성에 따라 다음 단계를 결정하는 조건부 함수"
   ]
  },
  {
   "cell_type": "code",
   "execution_count": null,
   "id": "a5539af2",
   "metadata": {},
   "outputs": [],
   "source": [
    "def should_retrieve(state: SelfRAGState) -> str:\n",
    "    \"\"\"검색 필요성에 따라 다음 단계를 결정하는 조건부 함수\"\"\"\n",
    "    if state[\"need_retrieval\"]:\n",
    "        return \"retrieve\"\n",
    "    else:\n",
    "        return \"generate\""
   ]
  },
  {
   "cell_type": "markdown",
   "id": "8191c148",
   "metadata": {},
   "source": [
    "### Self-RAG 워크플로우를 생성하는 함수"
   ]
  },
  {
   "cell_type": "code",
   "execution_count": null,
   "id": "5ae16b0e",
   "metadata": {},
   "outputs": [],
   "source": [
    "def create_self_rag_workflow():\n",
    "    \"\"\"Self-RAG 워크플로우를 생성하는 함수\"\"\"\n",
    "    \n",
    "    # StateGraph 생성\n",
    "    workflow = StateGraph(SelfRAGState)\n",
    "    \n",
    "    # 노드 추가\n",
    "    workflow.add_node(\"decide_retrieval\", decide_retrieval)\n",
    "    workflow.add_node(\"retrieve\", retrieve_documents)\n",
    "    workflow.add_node(\"evaluate_relevance\", evaluate_relevance)\n",
    "    workflow.add_node(\"generate\", generate_answer)\n",
    "    workflow.add_node(\"evaluate_support\", evaluate_support)\n",
    "    workflow.add_node(\"create_final\", create_final_answer)\n",
    "    \n",
    "    # 엣지 추가\n",
    "    workflow.set_entry_point(\"decide_retrieval\")\n",
    "    \n",
    "    # 조건부 엣지: 검색 필요성에 따라 분기\n",
    "    workflow.add_conditional_edges(\n",
    "        \"decide_retrieval\",\n",
    "        should_retrieve,\n",
    "        {\n",
    "            \"retrieve\": \"retrieve\",\n",
    "            \"generate\": \"generate\"\n",
    "        }\n",
    "    )\n",
    "    \n",
    "    # 검색 경로\n",
    "    workflow.add_edge(\"retrieve\", \"evaluate_relevance\")\n",
    "    workflow.add_edge(\"evaluate_relevance\", \"generate\")\n",
    "    \n",
    "    # 공통 경로\n",
    "    workflow.add_edge(\"generate\", \"evaluate_support\")\n",
    "    workflow.add_edge(\"evaluate_support\", \"create_final\")\n",
    "    workflow.add_edge(\"create_final\", END)\n",
    "    \n",
    "    # 워크플로우 컴파일\n",
    "    app = workflow.compile()\n",
    "    \n",
    "    return app"
   ]
  },
  {
   "cell_type": "code",
   "execution_count": null,
   "id": "3647b7cb",
   "metadata": {},
   "outputs": [
    {
     "name": "stdout",
     "output_type": "stream",
     "text": [
      "Self-RAG 워크플로우 생성 완료!\n"
     ]
    }
   ],
   "source": [
    "# Self-RAG 워크플로우 생성\n",
    "self_rag_app = create_self_rag_workflow()\n",
    "\n",
    "print(\"Self-RAG 워크플로우 생성 완료!\")\n"
   ]
  },
  {
   "cell_type": "markdown",
   "id": "1530f2db",
   "metadata": {},
   "source": [
    "### Self RAG 그래프"
   ]
  },
  {
   "cell_type": "markdown",
   "id": "d96fb51f",
   "metadata": {},
   "source": [
    "```\n",
    "                    시작\n",
    "                     |\n",
    "                     v\n",
    "                    decide_retrieval\n",
    "                    (검색이 필요한지 판단)\n",
    "                     |\n",
    "                     v\n",
    "         +-----------+-----------+\n",
    "         |                       |\n",
    "         v                       |\n",
    "  retrieve                       | \n",
    "  (문서를 검색)                  |\n",
    "         |                       |\n",
    "         v                       |\n",
    "  evaluate_relevance             |    \n",
    "  (검색된 문서의 관련성을 평가)  |\n",
    "         |                       |\n",
    "         +-----+-----+-----------+\n",
    "                     |\n",
    "                     v\n",
    "                    generate\n",
    "                    (답변을 생성하고 출처를 표시)\n",
    "                     |\n",
    "                     v\n",
    "                    evaluate_support\n",
    "                    (답변이 검색 결과로 뒷받침되는지 평가)\n",
    "                     |\n",
    "                     v\n",
    "                    create_final\n",
    "                    (최종 답변을 생성)\n",
    "                     |\n",
    "                     v\n",
    "                    종료\n",
    "```"
   ]
  },
  {
   "cell_type": "code",
   "execution_count": 18,
   "id": "4e84cb12",
   "metadata": {},
   "outputs": [
    {
     "data": {
      "image/png": "[encoded data removed]",
      "text/plain": [
       "<IPython.core.display.Image object>"
      ]
     },
     "metadata": {},
     "output_type": "display_data"
    }
   ],
   "source": [
    "from IPython.display import Image, display\n",
    "\n",
    "try:\n",
    "    \n",
    "    display(\n",
    "        Image(\n",
    "            self_rag_app.get_graph().draw_mermaid_png()\n",
    "        )\n",
    "    )\n",
    "except Exception as e:\n",
    "    print(f\"그래프 표시 오류: {e}\")\n"
   ]
  },
  {
   "cell_type": "markdown",
   "id": "5270caa0",
   "metadata": {},
   "source": [
    "## 7. Self-RAG 시스템 실행 함수\n",
    "\n",
    "사용자가 쉽게 사용할 수 있는 실행 함수를 만듭니다.\n"
   ]
  },
  {
   "cell_type": "markdown",
   "id": "1731fde5",
   "metadata": {},
   "source": [
    "### Self-RAG 시스템을 실행하는 메인 함수"
   ]
  },
  {
   "cell_type": "code",
   "execution_count": 8,
   "id": "90f6408a",
   "metadata": {},
   "outputs": [
    {
     "name": "stdout",
     "output_type": "stream",
     "text": [
      "Self-RAG 실행 함수 구현 완료!\n"
     ]
    }
   ],
   "source": [
    "def run_self_rag(question: str, verbose: bool = True):\n",
    "    \"\"\"Self-RAG 시스템을 실행하는 메인 함수\"\"\"\n",
    "    \n",
    "    print(f\"질문: {question}\")\n",
    "    print(\"=\" * 50)\n",
    "    \n",
    "    # 초기 상태 설정\n",
    "    initial_state = {\n",
    "        \"question\": question,\n",
    "        \"need_retrieval\": False,\n",
    "        \"retrieved_docs\": [],\n",
    "        \"relevant_docs\": [],\n",
    "        \"answer\": \"\",\n",
    "        \"sources\": [],\n",
    "        \"relevance_score\": 0.0,\n",
    "        \"support_score\": 0.0,\n",
    "        \"utility_score\": 0.0,\n",
    "        \"final_answer\": \"\",\n",
    "        \"confidence\": \"unknown\"\n",
    "    }\n",
    "    \n",
    "    # Self-RAG 워크플로우 실행\n",
    "    try:\n",
    "        result = self_rag_app.invoke(initial_state)\n",
    "        \n",
    "        if verbose:\n",
    "            print(\"\\n=== Self-RAG 실행 결과 ===\")\n",
    "            print(f\"검색 필요성: {'필요' if result['need_retrieval'] else '불필요'}\")\n",
    "            print(f\"검색된 문서 수: {len(result['retrieved_docs'])}\")\n",
    "            print(f\"관련 문서 수: {len(result['relevant_docs'])}\")\n",
    "            print(f\"관련성 점수: {result['relevance_score']:.2f}\")\n",
    "            print(f\"지지도 점수: {result['support_score']:.2f}\")\n",
    "            print(f\"신뢰도: {result['confidence']}\")\n",
    "            print(f\"출처 수: {len(result['sources'])}\")\n",
    "            print(\"\\n=== 최종 답변 ===\")\n",
    "        \n",
    "        print(result[\"final_answer\"])\n",
    "        \n",
    "        return result\n",
    "        \n",
    "    except Exception as e:\n",
    "        error_message = f\"Self-RAG 실행 중 오류가 발생했습니다: {str(e)}\"\n",
    "        print(error_message)\n",
    "        return {\"final_answer\": \"죄송하지만 시스템 오류로 인해 답변을 제공할 수 없습니다.\"}\n",
    "\n",
    "print(\"Self-RAG 실행 함수 구현 완료!\")\n"
   ]
  },
  {
   "cell_type": "markdown",
   "id": "e5039214",
   "metadata": {},
   "source": [
    "## 8. 테스트 예제\n",
    "\n",
    "다양한 질문으로 Self-RAG 시스템을 테스트해봅니다.\n"
   ]
  },
  {
   "cell_type": "markdown",
   "id": "07b645f1",
   "metadata": {},
   "source": [
    "### 테스트 1: 기술 용어에 대한 질문 (검색 필요)"
   ]
  },
  {
   "cell_type": "code",
   "execution_count": 17,
   "id": "385a6a7c",
   "metadata": {},
   "outputs": [
    {
     "name": "stdout",
     "output_type": "stream",
     "text": [
      "테스트 1: 기술 용어 질문\n",
      "질문: Transformer가 무엇인가요?\n",
      "==================================================\n",
      "검색 필요성 판단: 필요\n",
      "5개의 문서를 검색했습니다.\n",
      "1개의 관련 문서를 선별했습니다. (평균 관련성: 5.00)\n",
      "답변 생성 완료. 출처: 1개\n",
      "지지도 평가: 5.0/5\n",
      "최종 답변 생성 완료\n",
      "\n",
      "=== Self-RAG 실행 결과 ===\n",
      "검색 필요성: 필요\n",
      "검색된 문서 수: 5\n",
      "관련 문서 수: 1\n",
      "관련성 점수: 5.00\n",
      "지지도 점수: 5.00\n",
      "신뢰도: medium\n",
      "출처 수: 1\n",
      "\n",
      "=== 최종 답변 ===\n",
      "트랜스포머(Transformer)는 자연어 처리에서 사용되는 딥러닝 모델의 한 유형으로, 주로 번역, 요약, 텍스트 생성 등에 활용됩니다. 이 모델은 Attention 메커니즘을 기반으로 하며, 예를 들어 구글 번역기는 트랜스포머 모델을 사용하여 다양한 언어 간의 번역을 수행합니다.\n",
      "\n",
      "**출처:**\n",
      "1. 파일: rag-keywords.txt\n",
      "\n",
      "\n",
      "================================================================================\n",
      "\n"
     ]
    }
   ],
   "source": [
    "# 테스트 1: 기술 용어에 대한 질문 (검색 필요)\n",
    "print(\"테스트 1: 기술 용어 질문\")\n",
    "result1 = run_self_rag(\"Transformer가 무엇인가요?\")\n",
    "print(\"\\n\" + \"=\"*80 + \"\\n\")\n"
   ]
  },
  {
   "cell_type": "markdown",
   "id": "b0bed982",
   "metadata": {},
   "source": [
    "### 테스트 2: 일반적인 인사말 (검색 불필요)"
   ]
  },
  {
   "cell_type": "code",
   "execution_count": 16,
   "id": "c602e77c",
   "metadata": {},
   "outputs": [
    {
     "name": "stdout",
     "output_type": "stream",
     "text": [
      "테스트 2: 일반적인 인사말\n",
      "질문: 안녕하세요!\n",
      "==================================================\n",
      "검색 필요성 판단: 불필요\n",
      "관련 문서가 없어 일반적인 답변을 생성합니다.\n",
      "\n",
      "=== Self-RAG 실행 결과 ===\n",
      "검색 필요성: 불필요\n",
      "검색된 문서 수: 0\n",
      "관련 문서 수: 0\n",
      "관련성 점수: 0.00\n",
      "지지도 점수: 0.00\n",
      "신뢰도: unknown\n",
      "출처 수: 0\n",
      "\n",
      "=== 최종 답변 ===\n",
      "안녕하세요! 어떻게 도와드릴까요?\n",
      "\n",
      "================================================================================\n",
      "\n"
     ]
    }
   ],
   "source": [
    "# 테스트 2: 일반적인 인사말 (검색 불필요)\n",
    "print(\"테스트 2: 일반적인 인사말\")\n",
    "result2 = run_self_rag(\"안녕하세요!\")\n",
    "print(\"\\n\" + \"=\"*80 + \"\\n\")\n"
   ]
  },
  {
   "cell_type": "markdown",
   "id": "1033bb7a",
   "metadata": {},
   "source": [
    "### 테스트 3: 데이터베이스에 없는 내용 (모른다고 답변)"
   ]
  },
  {
   "cell_type": "code",
   "execution_count": 15,
   "id": "f01ac509",
   "metadata": {},
   "outputs": [
    {
     "name": "stdout",
     "output_type": "stream",
     "text": [
      "테스트 3: 알 수 없는 질문\n",
      "질문: 양자컴퓨터의 작동 원리는 무엇인가요?\n",
      "==================================================\n",
      "검색 필요성 판단: 필요\n",
      "5개의 문서를 검색했습니다.\n",
      "0개의 관련 문서를 선별했습니다. (평균 관련성: 0.00)\n",
      "관련 문서가 없어 일반적인 답변을 생성합니다.\n",
      "\n",
      "=== Self-RAG 실행 결과 ===\n",
      "검색 필요성: 필요\n",
      "검색된 문서 수: 5\n",
      "관련 문서 수: 0\n",
      "관련성 점수: 0.00\n",
      "지지도 점수: 0.00\n",
      "신뢰도: unknown\n",
      "출처 수: 0\n",
      "\n",
      "=== 최종 답변 ===\n",
      "죄송하지만 해당 질문에 대한 정확한 정보를 제공할 수 없습니다.\n",
      "\n",
      "================================================================================\n",
      "\n"
     ]
    }
   ],
   "source": [
    "# 테스트 3: 데이터베이스에 없는 내용 (모른다고 답변)\n",
    "print(\"테스트 3: 알 수 없는 질문\")\n",
    "result3 = run_self_rag(\"양자컴퓨터의 작동 원리는 무엇인가요?\")\n",
    "print(\"\\n\" + \"=\"*80 + \"\\n\")\n"
   ]
  },
  {
   "cell_type": "markdown",
   "id": "55fe2c70",
   "metadata": {},
   "source": [
    "### 테스트 4: 복합적인 기술 질문 (검색 필요, 출처 표시)"
   ]
  },
  {
   "cell_type": "code",
   "execution_count": 14,
   "id": "deb18536",
   "metadata": {},
   "outputs": [
    {
     "name": "stdout",
     "output_type": "stream",
     "text": [
      "테스트 4: 복합적인 기술 질문\n",
      "질문: 임베딩과 벡터스토어의 관계는 무엇인가요?\n",
      "==================================================\n",
      "검색 필요성 판단: 필요\n",
      "5개의 문서를 검색했습니다.\n",
      "2개의 관련 문서를 선별했습니다. (평균 관련성: 4.50)\n",
      "답변 생성 완료. 출처: 2개\n",
      "지지도 평가: 5.0/5\n",
      "최종 답변 생성 완료\n",
      "\n",
      "=== Self-RAG 실행 결과 ===\n",
      "검색 필요성: 필요\n",
      "검색된 문서 수: 5\n",
      "관련 문서 수: 2\n",
      "관련성 점수: 4.50\n",
      "지지도 점수: 5.00\n",
      "신뢰도: high\n",
      "출처 수: 2\n",
      "\n",
      "=== 최종 답변 ===\n",
      "임베딩과 벡터스토어의 관계는 임베딩이 텍스트 데이터를 저차원의 연속적인 벡터로 변환하는 과정이라는 점에서 시작됩니다. 이 과정에서 생성된 벡터는 벡터스토어에 저장됩니다. 벡터스토어는 이러한 벡터 형식으로 변환된 데이터를 저장하는 시스템으로, 검색, 분류 및 데이터 분석 작업에 활용됩니다. 따라서 임베딩은 벡터스토어에 저장될 데이터를 생성하는 역할을 하며, 벡터스토어는 이러한 임베딩된 데이터를 효율적으로 관리하고 접근할 수 있게 해줍니다.\n",
      "\n",
      "**출처:**\n",
      "1. 파일: rag-keywords.txt\n",
      "2. 파일: rag-keywords.txt\n",
      "\n",
      "\n",
      "================================================================================\n",
      "\n"
     ]
    }
   ],
   "source": [
    "# 테스트 4: 복합적인 기술 질문 (검색 필요, 출처 표시)\n",
    "print(\"테스트 4: 복합적인 기술 질문\")\n",
    "result4 = run_self_rag(\"임베딩과 벡터스토어의 관계는 무엇인가요?\")\n",
    "print(\"\\n\" + \"=\"*80 + \"\\n\")\n"
   ]
  },
  {
   "cell_type": "markdown",
   "id": "485e185c",
   "metadata": {},
   "source": []
  }
 ],
 "metadata": {
  "kernelspec": {
   "display_name": ".venv",
   "language": "python",
   "name": "python3"
  },
  "language_info": {
   "codemirror_mode": {
    "name": "ipython",
    "version": 3
   },
   "file_extension": ".py",
   "mimetype": "text/x-python",
   "name": "python",
   "nbconvert_exporter": "python",
   "pygments_lexer": "ipython3",
   "version": "3.13.2"
  }
 },
 "nbformat": 4,
 "nbformat_minor": 5
}
